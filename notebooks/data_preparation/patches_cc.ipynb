{
 "cells": [
  {
   "cell_type": "code",
   "execution_count": 1,
   "id": "e342a4d8",
   "metadata": {},
   "outputs": [],
   "source": [
    "import sys\n",
    "import os\n",
    "\n",
    "# Add the root of the project to the path\n",
    "sys.path.append(os.path.abspath(\"D:\\\\burtm\\\\Visual_studio_code\\\\PD_related_projects\"))"
   ]
  },
  {
   "cell_type": "code",
   "execution_count": 2,
   "id": "251c0063",
   "metadata": {},
   "outputs": [],
   "source": [
    "import pandas as pd\n",
    "from utils.image_processing import process_row\n",
    "\n",
    "source_path=\"D:\\\\burtm\\\\Visual_studio_code\\\\PD_related_projects\"\n",
    "train_df = pd.read_csv(f\"{source_path}\\\\outputs\\\\preprocessed_data\\\\train_df_w_image_paths.csv\")"
   ]
  },
  {
   "cell_type": "code",
   "execution_count": 3,
   "id": "7e86e004",
   "metadata": {},
   "outputs": [
    {
     "data": {
      "text/html": [
       "<div>\n",
       "<style scoped>\n",
       "    .dataframe tbody tr th:only-of-type {\n",
       "        vertical-align: middle;\n",
       "    }\n",
       "\n",
       "    .dataframe tbody tr th {\n",
       "        vertical-align: top;\n",
       "    }\n",
       "\n",
       "    .dataframe thead th {\n",
       "        text-align: right;\n",
       "    }\n",
       "</style>\n",
       "<table border=\"1\" class=\"dataframe\">\n",
       "  <thead>\n",
       "    <tr style=\"text-align: right;\">\n",
       "      <th></th>\n",
       "      <th>writer</th>\n",
       "      <th>same_text</th>\n",
       "      <th>isEng</th>\n",
       "      <th>train</th>\n",
       "      <th>file_name</th>\n",
       "      <th>male</th>\n",
       "      <th>x</th>\n",
       "      <th>y</th>\n",
       "      <th>x2</th>\n",
       "      <th>y2</th>\n",
       "      <th>n_cc</th>\n",
       "    </tr>\n",
       "  </thead>\n",
       "  <tbody>\n",
       "    <tr>\n",
       "      <th>0</th>\n",
       "      <td>1</td>\n",
       "      <td>0</td>\n",
       "      <td>0</td>\n",
       "      <td>1</td>\n",
       "      <td>D:\\download\\PD project\\datasets\\ICDAR 2013 - G...</td>\n",
       "      <td>0</td>\n",
       "      <td>0</td>\n",
       "      <td>493</td>\n",
       "      <td>493</td>\n",
       "      <td>986</td>\n",
       "      <td>111</td>\n",
       "    </tr>\n",
       "    <tr>\n",
       "      <th>0</th>\n",
       "      <td>1</td>\n",
       "      <td>0</td>\n",
       "      <td>0</td>\n",
       "      <td>1</td>\n",
       "      <td>D:\\download\\PD project\\datasets\\ICDAR 2013 - G...</td>\n",
       "      <td>0</td>\n",
       "      <td>493</td>\n",
       "      <td>493</td>\n",
       "      <td>986</td>\n",
       "      <td>986</td>\n",
       "      <td>96</td>\n",
       "    </tr>\n",
       "    <tr>\n",
       "      <th>0</th>\n",
       "      <td>1</td>\n",
       "      <td>0</td>\n",
       "      <td>0</td>\n",
       "      <td>1</td>\n",
       "      <td>D:\\download\\PD project\\datasets\\ICDAR 2013 - G...</td>\n",
       "      <td>0</td>\n",
       "      <td>986</td>\n",
       "      <td>493</td>\n",
       "      <td>1479</td>\n",
       "      <td>986</td>\n",
       "      <td>90</td>\n",
       "    </tr>\n",
       "    <tr>\n",
       "      <th>0</th>\n",
       "      <td>1</td>\n",
       "      <td>0</td>\n",
       "      <td>0</td>\n",
       "      <td>1</td>\n",
       "      <td>D:\\download\\PD project\\datasets\\ICDAR 2013 - G...</td>\n",
       "      <td>0</td>\n",
       "      <td>1479</td>\n",
       "      <td>493</td>\n",
       "      <td>1972</td>\n",
       "      <td>986</td>\n",
       "      <td>99</td>\n",
       "    </tr>\n",
       "    <tr>\n",
       "      <th>0</th>\n",
       "      <td>1</td>\n",
       "      <td>0</td>\n",
       "      <td>0</td>\n",
       "      <td>1</td>\n",
       "      <td>D:\\download\\PD project\\datasets\\ICDAR 2013 - G...</td>\n",
       "      <td>0</td>\n",
       "      <td>1972</td>\n",
       "      <td>493</td>\n",
       "      <td>2465</td>\n",
       "      <td>986</td>\n",
       "      <td>99</td>\n",
       "    </tr>\n",
       "  </tbody>\n",
       "</table>\n",
       "</div>"
      ],
      "text/plain": [
       "   writer  same_text  isEng  train  \\\n",
       "0       1          0      0      1   \n",
       "0       1          0      0      1   \n",
       "0       1          0      0      1   \n",
       "0       1          0      0      1   \n",
       "0       1          0      0      1   \n",
       "\n",
       "                                           file_name  male     x    y    x2  \\\n",
       "0  D:\\download\\PD project\\datasets\\ICDAR 2013 - G...     0     0  493   493   \n",
       "0  D:\\download\\PD project\\datasets\\ICDAR 2013 - G...     0   493  493   986   \n",
       "0  D:\\download\\PD project\\datasets\\ICDAR 2013 - G...     0   986  493  1479   \n",
       "0  D:\\download\\PD project\\datasets\\ICDAR 2013 - G...     0  1479  493  1972   \n",
       "0  D:\\download\\PD project\\datasets\\ICDAR 2013 - G...     0  1972  493  2465   \n",
       "\n",
       "    y2  n_cc  \n",
       "0  986   111  \n",
       "0  986    96  \n",
       "0  986    90  \n",
       "0  986    99  \n",
       "0  986    99  "
      ]
     },
     "execution_count": 3,
     "metadata": {},
     "output_type": "execute_result"
    }
   ],
   "source": [
    "train_df_expanded = pd.DataFrame(sum(train_df.apply(process_row, axis=1), []))\n",
    "\n",
    "train_df_expanded.head()"
   ]
  },
  {
   "cell_type": "code",
   "execution_count": 4,
   "id": "51e780d9",
   "metadata": {},
   "outputs": [],
   "source": [
    "#i select the m patches per writer that have the highest number of cc\n",
    "m=10\n",
    "train_df_expanded_sorted = train_df_expanded.sort_values(by='n_cc', ascending=False)\n",
    "train_df_expanded = train_df_expanded_sorted.groupby('writer').head(m)   # Select top m patches per writer\n",
    "#If a group (i.e., a specific 'writer') in the DataFrame has fewer than m rows, \n",
    "# the head(m) method will simply return all the rows available for that group. It does not raise an error or fill in additional rows"
   ]
  },
  {
   "cell_type": "code",
   "execution_count": 5,
   "id": "da9102a3",
   "metadata": {},
   "outputs": [
    {
     "data": {
      "text/plain": [
       "10.0"
      ]
     },
     "execution_count": 5,
     "metadata": {},
     "output_type": "execute_result"
    }
   ],
   "source": [
    "len(train_df_expanded)/282"
   ]
  },
  {
   "cell_type": "code",
   "execution_count": 6,
   "id": "80fc4d2d",
   "metadata": {},
   "outputs": [
    {
     "name": "stdout",
     "output_type": "stream",
     "text": [
      "File saved: D:\\burtm\\Visual_studio_code\\PD_related_projects\\outputs\\preprocessed_data\\train_df_patches_cc.csv\n"
     ]
    }
   ],
   "source": [
    "file_path=source_path+\"\\\\outputs\\\\preprocessed_data\\\\train_df_patches_cc.csv\"\n",
    "train_df_expanded.to_csv(file_path, index=False)\n",
    "print(f\"File saved: {file_path}\")"
   ]
  },
  {
   "cell_type": "code",
   "execution_count": null,
   "id": "ed717025",
   "metadata": {},
   "outputs": [],
   "source": []
  }
 ],
 "metadata": {
  "kernelspec": {
   "display_name": "GeneralPurposeML",
   "language": "python",
   "name": "python3"
  },
  "language_info": {
   "codemirror_mode": {
    "name": "ipython",
    "version": 3
   },
   "file_extension": ".py",
   "mimetype": "text/x-python",
   "name": "python",
   "nbconvert_exporter": "python",
   "pygments_lexer": "ipython3",
   "version": "3.10.16"
  }
 },
 "nbformat": 4,
 "nbformat_minor": 5
}
