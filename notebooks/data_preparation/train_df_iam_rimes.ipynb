{
 "cells": [
  {
   "cell_type": "markdown",
   "id": "43ce5454",
   "metadata": {},
   "source": [
    "This notebook takes the icdar training data and generates a csv file with writer,same_text,isEng,train,file_name,male columns (file_name is the absolute path)"
   ]
  },
  {
   "cell_type": "code",
   "execution_count": 26,
   "id": "e8d69799",
   "metadata": {},
   "outputs": [],
   "source": [
    "#imports\n",
    "import matplotlib.pyplot as plt\n",
    "import os\n",
    "import pandas as pd\n",
    "import numpy as np\n",
    "import joblib\n",
    "from datetime import datetime\n",
    "import random\n",
    "import sys\n",
    "source_path = os.path.abspath(os.path.join(os.getcwd(), '..', '..'))\n",
    "sys.path.append(source_path)"
   ]
  },
  {
   "cell_type": "code",
   "execution_count": 27,
   "id": "a0102914",
   "metadata": {},
   "outputs": [],
   "source": [
    "# Set the random seed for reproducibility\n",
    "seed=42\n",
    "np.random.seed(seed)"
   ]
  },
  {
   "cell_type": "code",
   "execution_count": 28,
   "id": "ff9dca57",
   "metadata": {},
   "outputs": [],
   "source": [
    "iam_data_PATH=\"C:\\\\Users\\\\andre\\\\PhD\\\\Datasets\\\\iam offline\\\\forms\"\n",
    "rimes_data_PATH=\"C:\\\\Users\\\\andre\\\\PhD\\\\Datasets\\\\rimes\\\\images_blocs_de_texte\\\\images_blocs_de_texte\""
   ]
  },
  {
   "cell_type": "code",
   "execution_count": 29,
   "id": "dcf8673d",
   "metadata": {},
   "outputs": [],
   "source": [
    "# Iterate over all files in the iam_data_PATH directory, including subfolders\n",
    "iam_file_names = []\n",
    "for root, dirs, files in os.walk(iam_data_PATH):\n",
    "    for file in files:\n",
    "        file_path = os.path.join(root, file)\n",
    "        iam_file_names.append(file_path)"
   ]
  },
  {
   "cell_type": "code",
   "execution_count": 30,
   "id": "fe591311",
   "metadata": {},
   "outputs": [],
   "source": [
    "iam_df = pd.DataFrame({'file_name':iam_file_names,'source':'iam'})"
   ]
  },
  {
   "cell_type": "code",
   "execution_count": 31,
   "id": "5ef78d48",
   "metadata": {},
   "outputs": [],
   "source": [
    "rimes_file_names = []\n",
    "for root, dirs, files in os.walk(rimes_data_PATH):\n",
    "    for file in files:\n",
    "        if file.endswith('.png') or file.endswith('.jpg'):\n",
    "            file_path = os.path.join(root, file)\n",
    "            rimes_file_names.append(file_path)"
   ]
  },
  {
   "cell_type": "code",
   "execution_count": 32,
   "id": "cb5f2353",
   "metadata": {},
   "outputs": [],
   "source": [
    "rimes_df = pd.DataFrame({'file_name':rimes_file_names,'source':'rimes'})"
   ]
  },
  {
   "cell_type": "code",
   "execution_count": 33,
   "id": "2b1c8713",
   "metadata": {},
   "outputs": [
    {
     "name": "stdout",
     "output_type": "stream",
     "text": [
      "                                           file_name source\n",
      "0  C:\\Users\\andre\\PhD\\Datasets\\iam offline\\forms\\...    iam\n",
      "1  C:\\Users\\andre\\PhD\\Datasets\\iam offline\\forms\\...    iam\n",
      "2  C:\\Users\\andre\\PhD\\Datasets\\iam offline\\forms\\...    iam\n",
      "3  C:\\Users\\andre\\PhD\\Datasets\\iam offline\\forms\\...    iam\n",
      "4  C:\\Users\\andre\\PhD\\Datasets\\iam offline\\forms\\...    iam\n",
      "Total rows: 7139\n"
     ]
    }
   ],
   "source": [
    "combined_df = pd.concat([iam_df, rimes_df], ignore_index=True)\n",
    "print(combined_df.head())\n",
    "print(f\"Total rows: {len(combined_df)}\")"
   ]
  },
  {
   "cell_type": "code",
   "execution_count": 34,
   "id": "b418559b",
   "metadata": {},
   "outputs": [
    {
     "name": "stdout",
     "output_type": "stream",
     "text": [
      "Dataframe saved to c:\\Users\\andre\\VsCode\\PD related projects\\gender_detection\\outputs\\preprocessed_data\\train_df_iam_rimes_20250613_174929.csv\n"
     ]
    }
   ],
   "source": [
    "from datetime import datetime\n",
    "\n",
    "timestamp = datetime.now().strftime(\"%Y%m%d_%H%M%S\")\n",
    "output_dir = os.path.join(source_path, \"outputs\", \"preprocessed_data\")\n",
    "os.makedirs(output_dir, exist_ok=True)  # Create the directory if it doesn't exist\n",
    "\n",
    "output_file = os.path.join(output_dir, f\"train_df_iam_rimes_{timestamp}.csv\")\n",
    "combined_df.to_csv(output_file, index=False)\n",
    "\n",
    "print(f\"Dataframe saved to {output_file}\")"
   ]
  },
  {
   "cell_type": "code",
   "execution_count": 35,
   "id": "165d85c3",
   "metadata": {},
   "outputs": [
    {
     "name": "stdout",
     "output_type": "stream",
     "text": [
      "Log file path: c:\\Users\\andre\\VsCode\\PD related projects\\gender_detection\\outputs\\preprocessed_data\\file_metadata_log.json\n",
      "Output file path: c:\\Users\\andre\\VsCode\\PD related projects\\gender_detection\\outputs\\preprocessed_data\\train_df_iam_rimes_20250613_174929.csv\n",
      "train_df_iam_rimes_20250613_174929.csv\n",
      "Updated log for train_df_iam_rimes_20250613_174929.csv\n"
     ]
    }
   ],
   "source": [
    "# Example usage:\n",
    "LOG_FILE = output_dir+\"\\\\file_metadata_log.json\"\n",
    "print(f\"Log file path: {LOG_FILE}\")\n",
    "print(f\"Output file path: {output_file}\")\n",
    "file_IO.add_or_update_file(\n",
    "    output_file, LOG_FILE,\n",
    "    custom_metadata={\n",
    "        #\"seed\": seed,\n",
    "        \"source_file\": 'loaded from iam and rimes datasets',\n",
    "        \"description\": '''\n",
    "        this df keeps the filenames of all the files in the iam and rimes datasets and their source.''' \n",
    "    }\n",
    ")"
   ]
  },
  {
   "cell_type": "code",
   "execution_count": 36,
   "id": "7061a44d",
   "metadata": {},
   "outputs": [
    {
     "name": "stdout",
     "output_type": "stream",
     "text": [
      "Metadata for train_df_iam_rimes_20250613_174929.csv:\n",
      "full_path: c:\\Users\\andre\\VsCode\\PD related projects\\gender_detection\\outputs\\preprocessed_data\\train_df_iam_rimes_20250613_174929.csv\n",
      "size_bytes: 682352\n",
      "created: 2025-06-13T17:49:29.901850\n",
      "modified: 2025-06-13T17:49:29.918119\n",
      "accessed: 2025-06-13T17:49:29.918119\n",
      "source_file: loaded from iam and rimes datasets\n",
      "description: \n",
      "        this df keeps the filenames of all the files in the iam and rimes datasets and their source.\n"
     ]
    }
   ],
   "source": [
    "file_IO.read_metadata(\n",
    "    output_file,\n",
    "    log_path=LOG_FILE\n",
    ")"
   ]
  },
  {
   "cell_type": "markdown",
   "id": "ba6e04e2",
   "metadata": {},
   "source": [
    "# easy access"
   ]
  },
  {
   "cell_type": "code",
   "execution_count": 21,
   "id": "d7a84e14",
   "metadata": {},
   "outputs": [],
   "source": [
    "def reload_modules():\n",
    "    import importlib\n",
    "    import utils.image_processing as image_processing\n",
    "    import utils.file_IO as file_IO\n",
    "    import utils.visualization as visualization\n",
    "    import utils.tests as tests\n",
    "\n",
    "    importlib.reload(file_IO)\n",
    "    importlib.reload(image_processing)\n",
    "    importlib.reload(visualization)\n",
    "    importlib.reload(tests)\n",
    "\n",
    "    return image_processing, file_IO, visualization, tests\n",
    "image_processing, file_IO, visualization, tests = reload_modules()"
   ]
  }
 ],
 "metadata": {
  "kernelspec": {
   "display_name": "GeneralPurposeML",
   "language": "python",
   "name": "python3"
  },
  "language_info": {
   "codemirror_mode": {
    "name": "ipython",
    "version": 3
   },
   "file_extension": ".py",
   "mimetype": "text/x-python",
   "name": "python",
   "nbconvert_exporter": "python",
   "pygments_lexer": "ipython3",
   "version": "3.10.16"
  }
 },
 "nbformat": 4,
 "nbformat_minor": 5
}
