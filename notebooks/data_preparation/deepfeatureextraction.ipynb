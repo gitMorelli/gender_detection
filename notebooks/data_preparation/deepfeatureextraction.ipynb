{
 "cells": [
  {
   "cell_type": "code",
   "execution_count": 48,
   "id": "1123c1b3",
   "metadata": {},
   "outputs": [],
   "source": [
    "import sys\n",
    "import os\n",
    "import torch\n",
    "import torch.nn as nn\n",
    "import torch.optim as optim\n",
    "from datetime import datetime\n",
    "from transformers import TrOCRProcessor, VisionEncoderDecoderModel\n",
    "from PIL import Image\n",
    "import pandas as pd\n",
    "import matplotlib.pyplot as plt\n",
    "\n",
    "sys.path.append(os.path.abspath(\"D:\\\\burtm\\\\Visual_studio_code\\\\PD_related_projects\"))"
   ]
  },
  {
   "cell_type": "code",
   "execution_count": 49,
   "id": "ef851347",
   "metadata": {},
   "outputs": [],
   "source": [
    "N_max=282\n",
    "patches=True\n",
    "input_filename='icdar_train_df_patches_20250515_164130.csv'\n",
    "huggingface=False\n",
    "pooling=False # if true in transformer mdoels use pooling, if false only the cls token\n",
    "custom_transform=True\n",
    "transform_mode='padding'\n",
    "save_h5=False\n",
    "selected_model = 'crnn_vgg16_bn'\n",
    "truncation = 'remove head'"
   ]
  },
  {
   "cell_type": "code",
   "execution_count": 55,
   "id": "9a2add41",
   "metadata": {},
   "outputs": [],
   "source": [
    "transform = u_transforms.get_transform(selected_model, use_patches=patches, custom=custom_transform, mode=transform_mode)\n",
    "model = model_utils.get_model(name=selected_model, mode='truncated', pretrained=True, truncation=truncation)"
   ]
  },
  {
   "cell_type": "code",
   "execution_count": 56,
   "id": "a3b85963",
   "metadata": {},
   "outputs": [
    {
     "name": "stdout",
     "output_type": "stream",
     "text": [
      "Device is:  cuda\n"
     ]
    }
   ],
   "source": [
    "# Define loss function and optimizer\n",
    "device = torch.device(\"cuda\" if torch.cuda.is_available() else \"cpu\")\n",
    "print(\"Device is: \",device)\n",
    "model = model.to(device)"
   ]
  },
  {
   "cell_type": "code",
   "execution_count": 57,
   "id": "342c1500",
   "metadata": {},
   "outputs": [],
   "source": [
    "source_path=\"D:\\\\burtm\\\\Visual_studio_code\\\\PD_related_projects\"\n",
    "train_df = pd.read_csv(f\"{source_path}\\\\outputs\\\\preprocessed_data\\\\{input_filename}\")"
   ]
  },
  {
   "cell_type": "code",
   "execution_count": 58,
   "id": "89e74c80",
   "metadata": {},
   "outputs": [
    {
     "data": {
      "image/png": "[encoded data removed]",
      "text/plain": [
       "<Figure size 640x480 with 1 Axes>"
      ]
     },
     "metadata": {},
     "output_type": "display_data"
    }
   ],
   "source": [
    "visualization.show_preprocessed_from_csv(train_df,transform,hugging=huggingface,index=0,patches=patches)"
   ]
  },
  {
   "cell_type": "code",
   "execution_count": null,
   "id": "b3f0567a",
   "metadata": {},
   "outputs": [
    {
     "data": {
      "text/plain": [
       "'import numpy as np\\nindex=0\\n# Select an image row from train_df\\nsample_row = train_df.iloc[index]\\nimage_file = sample_row[\\'file_name\\']\\nimage = Image.open(image_file).convert(\"RGB\")\\n\\n# If using patches, crop the patch, else use the whole image\\nif patches:\\n    x1, y1, x2, y2 = sample_row[\\'x\\'], sample_row[\\'y\\'], sample_row[\\'x2\\'], sample_row[\\'y2\\']\\n    patch = image.crop((x1, y1, x2, y2))\\nelse:\\n    patch = image.copy()\\n\\npatch=np.array(patch)\\npatch_list=[patch]\\nfrom doctr.models.preprocessor import PreProcessor\\ntransform=PreProcessor(\\n        (32, 128),\\n        batch_size=1,\\n        mean=(0.798, 0.785, 0.772),\\n        std=(0.264, 0.2749, 0.287),\\n        #preserve_aspect_ratio=True,\\n        #symmetric_pad=True,\\n    )\\npatch=transform(patch_list)\\npatch = patch[0].squeeze(0)\\nimg_np = patch.permute(1, 2, 0).cpu().numpy()\\nimg_np = (img_np - img_np.min()) / (img_np.max() - img_np.min())\\n\\nplt.imshow(img_np)\\nplt.title(\"Preprocessed Image\")\\nplt.axis(\\'off\\')\\nplt.show()'"
      ]
     },
     "execution_count": 24,
     "metadata": {},
     "output_type": "execute_result"
    }
   ],
   "source": [
    "'''\n",
    "dctocr test\n",
    "\n",
    "import numpy as np\n",
    "index=0\n",
    "# Select an image row from train_df\n",
    "sample_row = train_df.iloc[index]\n",
    "image_file = sample_row['file_name']\n",
    "image = Image.open(image_file).convert(\"RGB\")\n",
    "\n",
    "# If using patches, crop the patch, else use the whole image\n",
    "if patches:\n",
    "    x1, y1, x2, y2 = sample_row['x'], sample_row['y'], sample_row['x2'], sample_row['y2']\n",
    "    patch = image.crop((x1, y1, x2, y2))\n",
    "else:\n",
    "    patch = image.copy()\n",
    "\n",
    "patch=np.array(patch)\n",
    "patch_list=[patch]\n",
    "from doctr.models.preprocessor import PreProcessor\n",
    "transform=PreProcessor(\n",
    "        (32, 128),\n",
    "        batch_size=1,\n",
    "        mean=(0.798, 0.785, 0.772),\n",
    "        std=(0.264, 0.2749, 0.287),\n",
    "        #preserve_aspect_ratio=True,\n",
    "        #symmetric_pad=True,\n",
    "    )\n",
    "patch=transform(patch_list)\n",
    "patch = patch[0].squeeze(0)\n",
    "img_np = patch.permute(1, 2, 0).cpu().numpy()\n",
    "img_np = (img_np - img_np.min()) / (img_np.max() - img_np.min())\n",
    "\n",
    "plt.imshow(img_np)\n",
    "plt.title(\"Preprocessed Image\")\n",
    "plt.axis('off')\n",
    "plt.show()'''\n"
   ]
  },
  {
   "cell_type": "code",
   "execution_count": 59,
   "id": "0bd7fc73",
   "metadata": {},
   "outputs": [],
   "source": [
    "i=0\n",
    "output=compute_output(model, device, transform, train_df.iloc[i], huggingface, patches)"
   ]
  },
  {
   "cell_type": "code",
   "execution_count": 60,
   "id": "747a4420",
   "metadata": {},
   "outputs": [
    {
     "name": "stdout",
     "output_type": "stream",
     "text": [
      "Output shape:  torch.Size([1, 512])\n"
     ]
    }
   ],
   "source": [
    "print(\"Output shape: \", output.shape)"
   ]
  },
  {
   "cell_type": "code",
   "execution_count": 61,
   "id": "445a707d",
   "metadata": {},
   "outputs": [
    {
     "name": "stdout",
     "output_type": "stream",
     "text": [
      "Processed 0 images, out of 5640\n",
      "Processed 100 images, out of 5640\n",
      "Processed 200 images, out of 5640\n",
      "Processed 300 images, out of 5640\n",
      "Processed 400 images, out of 5640\n",
      "Processed 500 images, out of 5640\n",
      "Processed 600 images, out of 5640\n",
      "Processed 700 images, out of 5640\n",
      "Processed 800 images, out of 5640\n",
      "Processed 900 images, out of 5640\n",
      "Processed 1000 images, out of 5640\n",
      "Processed 1100 images, out of 5640\n",
      "Processed 1200 images, out of 5640\n",
      "Processed 1300 images, out of 5640\n",
      "Processed 1400 images, out of 5640\n",
      "Processed 1500 images, out of 5640\n",
      "Processed 1600 images, out of 5640\n",
      "Processed 1700 images, out of 5640\n",
      "Processed 1800 images, out of 5640\n",
      "Processed 1900 images, out of 5640\n",
      "Processed 2000 images, out of 5640\n",
      "Processed 2100 images, out of 5640\n",
      "Processed 2200 images, out of 5640\n",
      "Processed 2300 images, out of 5640\n",
      "Processed 2400 images, out of 5640\n",
      "Processed 2500 images, out of 5640\n",
      "Processed 2600 images, out of 5640\n",
      "Processed 2700 images, out of 5640\n",
      "Processed 2800 images, out of 5640\n",
      "Processed 2900 images, out of 5640\n",
      "Processed 3000 images, out of 5640\n",
      "Processed 3100 images, out of 5640\n",
      "Processed 3200 images, out of 5640\n",
      "Processed 3300 images, out of 5640\n",
      "Processed 3400 images, out of 5640\n",
      "Processed 3500 images, out of 5640\n",
      "Processed 3600 images, out of 5640\n",
      "Processed 3700 images, out of 5640\n",
      "Processed 3800 images, out of 5640\n",
      "Processed 3900 images, out of 5640\n",
      "Processed 4000 images, out of 5640\n",
      "Processed 4100 images, out of 5640\n",
      "Processed 4200 images, out of 5640\n",
      "Processed 4300 images, out of 5640\n",
      "Processed 4400 images, out of 5640\n",
      "Processed 4500 images, out of 5640\n",
      "Processed 4600 images, out of 5640\n",
      "Processed 4700 images, out of 5640\n",
      "Processed 4800 images, out of 5640\n",
      "Processed 4900 images, out of 5640\n",
      "Processed 5000 images, out of 5640\n",
      "Processed 5100 images, out of 5640\n",
      "Processed 5200 images, out of 5640\n",
      "Processed 5300 images, out of 5640\n",
      "Processed 5400 images, out of 5640\n",
      "Processed 5500 images, out of 5640\n",
      "Processed 5600 images, out of 5640\n"
     ]
    }
   ],
   "source": [
    "model.eval()\n",
    "\n",
    "if save_h5:\n",
    "    import h5py\n",
    "    import numpy as np\n",
    "    import shutil\n",
    "    icdar_path=\"D:\\\\download\\\\PD project\\\\datasets\\\\ICDAR 2013 - Gender Identification Competition Dataset\\\\\"\n",
    "    # Define the directory and file paths\n",
    "    h5_directory_name = \"extracted_representations_full\"\n",
    "    h5_save_path=icdar_path+h5_directory_name\n",
    "    # Open the file in append mode\n",
    "    from datetime import datetime\n",
    "    timestamp = datetime.now().strftime(\"%Y%m%d_%H%M%S\")\n",
    "    h5_file_name = h5_save_path+f\"\\\\representations_{selected_model}_{truncation}_{timestamp}.h5\"\n",
    "    with h5py.File(h5_file_name, \"a\") as f:\n",
    "        model.eval()\n",
    "        for index,t in train_df.iterrows():\n",
    "            if huggingface:\n",
    "                output = compute_output(model, device, transform, t, huggingface, patches)\n",
    "            else:\n",
    "                output = compute_output(model, device, transform, t, huggingface, patches)\n",
    "            #print(output)\n",
    "            # Convert index to string key (e.g., \"0001\")\n",
    "            key = f\"{index:06d}\"\n",
    "            # Store with compression (optional)\n",
    "            rep_np = output.squeeze(0).detach().cpu().numpy()\n",
    "            f.create_dataset(key, data=rep_np, compression=\"gzip\")\n",
    "            if index % 100 == 0:\n",
    "                print(f\"Processed {index} images, out of {len(train_df)}\")\n",
    "    #close the file\n",
    "    f.close()\n",
    "# Initialize a dictionary to store new feature columns\n",
    "else:\n",
    "    new_features = {}\n",
    "\n",
    "    for index,t in train_df.iterrows():\n",
    "        if huggingface:\n",
    "            if pooling:\n",
    "                print(\"Pooling is not implemented yet\")\n",
    "                break\n",
    "            else:\n",
    "                output = compute_output(model, device, transform, t, huggingface, patches)[:,0,:]\n",
    "        else:\n",
    "            output = compute_output(model, device, transform, t, huggingface, patches)\n",
    "        for i, value in enumerate(output.squeeze().tolist()):\n",
    "            column_name = f\"f{i+1}\"\n",
    "            if column_name not in new_features:\n",
    "                new_features[column_name] = []\n",
    "            new_features[column_name].append(value)\n",
    "        if index % 100 == 0:\n",
    "            print(f\"Processed {index} images, out of {len(train_df)}\")\n",
    "\n",
    "        \n",
    "    # Add the new features to the DataFrame in one operation\n",
    "    new_features_df = pd.DataFrame(new_features)\n",
    "    train_df = pd.concat([train_df.reset_index(drop=True), new_features_df], axis=1)"
   ]
  },
  {
   "cell_type": "code",
   "execution_count": 62,
   "id": "e4c38b86",
   "metadata": {},
   "outputs": [
    {
     "data": {
      "text/html": [
       "<div>\n",
       "<style scoped>\n",
       "    .dataframe tbody tr th:only-of-type {\n",
       "        vertical-align: middle;\n",
       "    }\n",
       "\n",
       "    .dataframe tbody tr th {\n",
       "        vertical-align: top;\n",
       "    }\n",
       "\n",
       "    .dataframe thead th {\n",
       "        text-align: right;\n",
       "    }\n",
       "</style>\n",
       "<table border=\"1\" class=\"dataframe\">\n",
       "  <thead>\n",
       "    <tr style=\"text-align: right;\">\n",
       "      <th></th>\n",
       "      <th>writer</th>\n",
       "      <th>isEng</th>\n",
       "      <th>same_text</th>\n",
       "      <th>file_name</th>\n",
       "      <th>male</th>\n",
       "      <th>train</th>\n",
       "      <th>index</th>\n",
       "      <th>x</th>\n",
       "      <th>y</th>\n",
       "      <th>x2</th>\n",
       "      <th>...</th>\n",
       "      <th>f503</th>\n",
       "      <th>f504</th>\n",
       "      <th>f505</th>\n",
       "      <th>f506</th>\n",
       "      <th>f507</th>\n",
       "      <th>f508</th>\n",
       "      <th>f509</th>\n",
       "      <th>f510</th>\n",
       "      <th>f511</th>\n",
       "      <th>f512</th>\n",
       "    </tr>\n",
       "  </thead>\n",
       "  <tbody>\n",
       "    <tr>\n",
       "      <th>0</th>\n",
       "      <td>1</td>\n",
       "      <td>0</td>\n",
       "      <td>0</td>\n",
       "      <td>D:\\download\\PD project\\datasets\\ICDAR 2013 - G...</td>\n",
       "      <td>0</td>\n",
       "      <td>1</td>\n",
       "      <td>0</td>\n",
       "      <td>0</td>\n",
       "      <td>493</td>\n",
       "      <td>493</td>\n",
       "      <td>...</td>\n",
       "      <td>0.0</td>\n",
       "      <td>0.0</td>\n",
       "      <td>0.171300</td>\n",
       "      <td>0.0</td>\n",
       "      <td>0.005154</td>\n",
       "      <td>0.0</td>\n",
       "      <td>2.539873</td>\n",
       "      <td>0.160685</td>\n",
       "      <td>0.000729</td>\n",
       "      <td>0.000343</td>\n",
       "    </tr>\n",
       "    <tr>\n",
       "      <th>1</th>\n",
       "      <td>1</td>\n",
       "      <td>0</td>\n",
       "      <td>0</td>\n",
       "      <td>D:\\download\\PD project\\datasets\\ICDAR 2013 - G...</td>\n",
       "      <td>0</td>\n",
       "      <td>1</td>\n",
       "      <td>1</td>\n",
       "      <td>493</td>\n",
       "      <td>493</td>\n",
       "      <td>986</td>\n",
       "      <td>...</td>\n",
       "      <td>0.0</td>\n",
       "      <td>0.0</td>\n",
       "      <td>0.277823</td>\n",
       "      <td>0.0</td>\n",
       "      <td>0.009819</td>\n",
       "      <td>0.0</td>\n",
       "      <td>2.518765</td>\n",
       "      <td>0.151740</td>\n",
       "      <td>0.000764</td>\n",
       "      <td>0.000835</td>\n",
       "    </tr>\n",
       "    <tr>\n",
       "      <th>2</th>\n",
       "      <td>1</td>\n",
       "      <td>0</td>\n",
       "      <td>0</td>\n",
       "      <td>D:\\download\\PD project\\datasets\\ICDAR 2013 - G...</td>\n",
       "      <td>0</td>\n",
       "      <td>1</td>\n",
       "      <td>2</td>\n",
       "      <td>1479</td>\n",
       "      <td>493</td>\n",
       "      <td>1972</td>\n",
       "      <td>...</td>\n",
       "      <td>0.0</td>\n",
       "      <td>0.0</td>\n",
       "      <td>0.231340</td>\n",
       "      <td>0.0</td>\n",
       "      <td>0.030080</td>\n",
       "      <td>0.0</td>\n",
       "      <td>2.716730</td>\n",
       "      <td>0.163569</td>\n",
       "      <td>0.000000</td>\n",
       "      <td>0.001213</td>\n",
       "    </tr>\n",
       "    <tr>\n",
       "      <th>3</th>\n",
       "      <td>1</td>\n",
       "      <td>0</td>\n",
       "      <td>0</td>\n",
       "      <td>D:\\download\\PD project\\datasets\\ICDAR 2013 - G...</td>\n",
       "      <td>0</td>\n",
       "      <td>1</td>\n",
       "      <td>3</td>\n",
       "      <td>986</td>\n",
       "      <td>493</td>\n",
       "      <td>1479</td>\n",
       "      <td>...</td>\n",
       "      <td>0.0</td>\n",
       "      <td>0.0</td>\n",
       "      <td>0.196669</td>\n",
       "      <td>0.0</td>\n",
       "      <td>0.005942</td>\n",
       "      <td>0.0</td>\n",
       "      <td>2.575615</td>\n",
       "      <td>0.183626</td>\n",
       "      <td>0.001086</td>\n",
       "      <td>0.000950</td>\n",
       "    </tr>\n",
       "    <tr>\n",
       "      <th>4</th>\n",
       "      <td>1</td>\n",
       "      <td>0</td>\n",
       "      <td>0</td>\n",
       "      <td>D:\\download\\PD project\\datasets\\ICDAR 2013 - G...</td>\n",
       "      <td>0</td>\n",
       "      <td>1</td>\n",
       "      <td>4</td>\n",
       "      <td>1972</td>\n",
       "      <td>493</td>\n",
       "      <td>2465</td>\n",
       "      <td>...</td>\n",
       "      <td>0.0</td>\n",
       "      <td>0.0</td>\n",
       "      <td>0.191164</td>\n",
       "      <td>0.0</td>\n",
       "      <td>0.003046</td>\n",
       "      <td>0.0</td>\n",
       "      <td>2.492923</td>\n",
       "      <td>0.086766</td>\n",
       "      <td>0.000000</td>\n",
       "      <td>0.000961</td>\n",
       "    </tr>\n",
       "  </tbody>\n",
       "</table>\n",
       "<p>5 rows × 524 columns</p>\n",
       "</div>"
      ],
      "text/plain": [
       "   writer  isEng  same_text  \\\n",
       "0       1      0          0   \n",
       "1       1      0          0   \n",
       "2       1      0          0   \n",
       "3       1      0          0   \n",
       "4       1      0          0   \n",
       "\n",
       "                                           file_name  male  train  index  \\\n",
       "0  D:\\download\\PD project\\datasets\\ICDAR 2013 - G...     0      1      0   \n",
       "1  D:\\download\\PD project\\datasets\\ICDAR 2013 - G...     0      1      1   \n",
       "2  D:\\download\\PD project\\datasets\\ICDAR 2013 - G...     0      1      2   \n",
       "3  D:\\download\\PD project\\datasets\\ICDAR 2013 - G...     0      1      3   \n",
       "4  D:\\download\\PD project\\datasets\\ICDAR 2013 - G...     0      1      4   \n",
       "\n",
       "      x    y    x2  ...  f503  f504      f505  f506      f507  f508      f509  \\\n",
       "0     0  493   493  ...   0.0   0.0  0.171300   0.0  0.005154   0.0  2.539873   \n",
       "1   493  493   986  ...   0.0   0.0  0.277823   0.0  0.009819   0.0  2.518765   \n",
       "2  1479  493  1972  ...   0.0   0.0  0.231340   0.0  0.030080   0.0  2.716730   \n",
       "3   986  493  1479  ...   0.0   0.0  0.196669   0.0  0.005942   0.0  2.575615   \n",
       "4  1972  493  2465  ...   0.0   0.0  0.191164   0.0  0.003046   0.0  2.492923   \n",
       "\n",
       "       f510      f511      f512  \n",
       "0  0.160685  0.000729  0.000343  \n",
       "1  0.151740  0.000764  0.000835  \n",
       "2  0.163569  0.000000  0.001213  \n",
       "3  0.183626  0.001086  0.000950  \n",
       "4  0.086766  0.000000  0.000961  \n",
       "\n",
       "[5 rows x 524 columns]"
      ]
     },
     "execution_count": 62,
     "metadata": {},
     "output_type": "execute_result"
    }
   ],
   "source": [
    "train_df.head()"
   ]
  },
  {
   "cell_type": "code",
   "execution_count": null,
   "id": "11439c71",
   "metadata": {},
   "outputs": [
    {
     "name": "stdout",
     "output_type": "stream",
     "text": [
      "Processed 0 images, out of 5640\n"
     ]
    },
    {
     "name": "stderr",
     "output_type": "stream",
     "text": [
      "\n",
      "KeyboardInterrupt\n",
      "\n"
     ]
    }
   ],
   "source": [
    "'''from utils.dataframes import CustomImageDataset, CustomPatchDataset\n",
    "from torch.utils.data import Dataset,DataLoader, random_split\n",
    "source_path=\"D:\\\\burtm\\\\Visual_studio_code\\\\PD_related_projects\"\n",
    "train_df = pd.read_csv(f\"{source_path}\\\\outputs\\\\preprocessed_data\\\\{input_filename}\")\n",
    "model.eval()\n",
    "dataset = CustomPatchDataset(train_df[train_df['writer']<=N_max] ,\n",
    "                                        label_column='male', transform=transform, huggingface=huggingface)\n",
    "dataloader = DataLoader(dataset, batch_size=batch_size, shuffle=False)\n",
    "new_features = {}\n",
    "\n",
    "for idx, batch in enumerate(dataloader):\n",
    "    patch = batch['image'].to(device)\n",
    "    output = model(pixel_values=patch)\n",
    "    cls_token_output = output.last_hidden_state[:, 0, :]  # Extract the CLS token\n",
    "    for i, value in enumerate(cls_token_output.squeeze().tolist()):\n",
    "        column_name = f\"f{i+1}\"\n",
    "        if column_name not in new_features:\n",
    "            new_features[column_name] = []\n",
    "        new_features[column_name].append(value)\n",
    "    if idx % 100 == 0:\n",
    "        print(f\"Processed {idx * batch_size} images, out of {len(dataset)}\")\n",
    "\n",
    "# Convert the dictionary to a DataFrame\n",
    "new_features_df = pd.DataFrame(new_features)'''"
   ]
  },
  {
   "cell_type": "code",
   "execution_count": 63,
   "id": "4647abe1",
   "metadata": {},
   "outputs": [
    {
     "name": "stdout",
     "output_type": "stream",
     "text": [
      "Dataframe saved to D:\\burtm\\Visual_studio_code\\PD_related_projects\\outputs\\preprocessed_data\\icdar_EXTRACTED_train_df_crnn_vgg16_bn_20250520_165111.csv\n"
     ]
    }
   ],
   "source": [
    "if not(save_h5):\n",
    "    from datetime import datetime\n",
    "\n",
    "    timestamp = datetime.now().strftime(\"%Y%m%d_%H%M%S\")\n",
    "    output_dir = os.path.join(source_path, \"outputs\", \"preprocessed_data\")\n",
    "    os.makedirs(output_dir, exist_ok=True)  # Create the directory if it doesn't exist\n",
    "\n",
    "    output_file = os.path.join(output_dir, f\"icdar_EXTRACTED_train_df_{selected_model}_{timestamp}.csv\")\n",
    "    train_df.to_csv(output_file, index=False)\n",
    "\n",
    "    print(f\"Dataframe saved to {output_file}\")"
   ]
  },
  {
   "cell_type": "code",
   "execution_count": 64,
   "id": "b2060fc4",
   "metadata": {},
   "outputs": [],
   "source": [
    "source_path=\"D:\\\\burtm\\\\Visual_studio_code\\\\PD_related_projects\"\n",
    "output_dir = os.path.join(source_path, \"outputs\", \"preprocessed_data\")\n",
    "if save_h5:\n",
    "    output_file = h5_file_name\n",
    "else:\n",
    "    output_file = os.path.join(output_dir, f\"icdar_EXTRACTED_train_df_{selected_model}_{timestamp}.csv\")"
   ]
  },
  {
   "cell_type": "code",
   "execution_count": 65,
   "id": "f03398c7",
   "metadata": {},
   "outputs": [
    {
     "name": "stdout",
     "output_type": "stream",
     "text": [
      "Log file path: D:\\burtm\\Visual_studio_code\\PD_related_projects\\outputs\\preprocessed_data\\file_metadata_log.json\n",
      "Output file path: D:\\burtm\\Visual_studio_code\\PD_related_projects\\outputs\\preprocessed_data\\icdar_EXTRACTED_train_df_crnn_vgg16_bn_20250520_165111.csv\n",
      "Updated log for icdar_EXTRACTED_train_df_crnn_vgg16_bn_20250520_165111.csv\n"
     ]
    }
   ],
   "source": [
    "# Example usage:\n",
    "LOG_FILE = output_dir+\"\\\\file_metadata_log.json\"\n",
    "print(f\"Log file path: {LOG_FILE}\")\n",
    "print(f\"Output file path: {output_file}\")\n",
    "file_IO.add_or_update_file(\n",
    "    output_file, LOG_FILE,\n",
    "    custom_metadata={\n",
    "        #\"seed\": seed,\n",
    "        \"source_file\": input_filename,\n",
    "        \"model\": selected_model,\n",
    "        \"pooling\": pooling,\n",
    "        \"custom transform\": custom_transform,\n",
    "        \"save_h5\": save_h5,\n",
    "        \"truncation\": truncation,\n",
    "        \"transform_mode\": transform_mode,\n",
    "        \"description\": '''\n",
    "        I am performing inference with a crnn model pretrained for handwriting recognition on the patches dataset the output is \n",
    "        a pooling of the concatenation of the output series\n",
    "        I am resizing the images to H/3 x W and then resizing to 32x128 with padding''' \n",
    "    }\n",
    ")"
   ]
  },
  {
   "cell_type": "code",
   "execution_count": 66,
   "id": "dd009b32",
   "metadata": {},
   "outputs": [
    {
     "name": "stdout",
     "output_type": "stream",
     "text": [
      "Metadata for icdar_EXTRACTED_train_df_crnn_vgg16_bn_20250520_165111.csv:\n",
      "full_path: D:\\burtm\\Visual_studio_code\\PD_related_projects\\outputs\\preprocessed_data\\icdar_EXTRACTED_train_df_crnn_vgg16_bn_20250520_165111.csv\n",
      "size_bytes: 42963375\n",
      "created: 2025-05-20T16:51:11.102723\n",
      "modified: 2025-05-20T16:51:15.302572\n",
      "accessed: 2025-05-20T16:51:15.302572\n",
      "source_file: icdar_train_df_patches_20250515_164130.csv\n",
      "model: crnn_vgg16_bn\n",
      "pooling: False\n",
      "custom transform: True\n",
      "save_h5: False\n",
      "truncation: remove head\n",
      "transform_mode: padding\n",
      "description: \n",
      "        I am performing inference with a crnn model pretrained for handwriting recognition on the patches dataset the output is \n",
      "        a pooling of the concatenation of the output series\n",
      "        I am resizing the images to H/3 x W and then resizing to 32x128 with padding\n"
     ]
    }
   ],
   "source": [
    "file_IO.read_metadata(\n",
    "    output_file,\n",
    "    log_path=LOG_FILE\n",
    ")"
   ]
  },
  {
   "cell_type": "code",
   "execution_count": 15,
   "id": "dd41e5e6",
   "metadata": {},
   "outputs": [
    {
     "name": "stdout",
     "output_type": "stream",
     "text": [
      "File saved: D:\\burtm\\Visual_studio_code\\PD_related_projects\\outputs\\preprocessed_data\\icdar_EXTRACTED_trocr_stage_1_10blocks_20250509_153553.csv\n"
     ]
    }
   ],
   "source": [
    "timestamp = datetime.now().strftime(\"%Y%m%d_%H%M%S\")\n",
    "file_path=source_path+f\"\\\\outputs\\\\preprocessed_data\\\\icdar_EXTRACTED_trocr_stage_1_10blocks_{timestamp}.csv\"\n",
    "train_df.to_csv(file_path, index=False)\n",
    "print(f\"File saved: {file_path}\")"
   ]
  },
  {
   "cell_type": "code",
   "execution_count": null,
   "id": "1d14cff7",
   "metadata": {},
   "outputs": [],
   "source": []
  },
  {
   "cell_type": "markdown",
   "id": "7b2dfb57",
   "metadata": {},
   "source": [
    "# easy access"
   ]
  },
  {
   "cell_type": "code",
   "execution_count": 52,
   "id": "82e39392",
   "metadata": {},
   "outputs": [],
   "source": [
    "def reload_modules():\n",
    "    import importlib\n",
    "    import utils.data_loading as data_loading\n",
    "    import utils.visualization as visualization\n",
    "    import utils.dataframes as dataframes\n",
    "    import utils.utils_transforms as u_transforms\n",
    "    import utils.training_utils as training_utils\n",
    "    import utils.model_utils as model_utils\n",
    "    import utils.file_IO as file_IO\n",
    "    \n",
    "    importlib.reload(file_IO)\n",
    "    importlib.reload(data_loading)\n",
    "    importlib.reload(visualization)\n",
    "    importlib.reload(dataframes)\n",
    "    importlib.reload(u_transforms)\n",
    "    importlib.reload(model_utils)\n",
    "    importlib.reload(training_utils)\n",
    "\n",
    "    return data_loading, visualization, dataframes, u_transforms, training_utils, model_utils, file_IO\n",
    "data_loading, visualization, dataframes, u_transforms, training_utils, model_utils, file_IO = reload_modules()"
   ]
  },
  {
   "cell_type": "code",
   "execution_count": 53,
   "id": "807c5007",
   "metadata": {},
   "outputs": [],
   "source": [
    "def compute_output(model, device, transform, t, huggingface, patches):\n",
    "    image_file = t['file_name']\n",
    "    image = Image.open(image_file).convert(\"RGB\")\n",
    "    if patches:\n",
    "        x1 = t['x']\n",
    "        y1 = t['y']\n",
    "        x2 = t['x2']\n",
    "        y2 = t['y2']\n",
    "        patch = image.crop((x1, y1, x2, y2))\n",
    "    else:\n",
    "        patch = image.copy()\n",
    "    if huggingface:\n",
    "        # the transform is actually an huggingface processor in this case\n",
    "        inputs = transform(images=patch, return_tensors=\"pt\")\n",
    "        # Remove batch dimension from inputs\n",
    "        patch = inputs['pixel_values'].squeeze()\n",
    "    else:\n",
    "        patch = transform(patch)\n",
    "    patch = patch.to(device)\n",
    "    output = model(patch.unsqueeze(0))\n",
    "    return output"
   ]
  },
  {
   "cell_type": "code",
   "execution_count": 54,
   "id": "dfdbc167",
   "metadata": {},
   "outputs": [],
   "source": [
    "def show_image(transform, t, huggingface, patches):\n",
    "    image_file = t['file_name']\n",
    "    image = Image.open(image_file).convert(\"RGB\")\n",
    "    if patches:\n",
    "        x1 = t['x']\n",
    "        y1 = t['y']\n",
    "        x2 = t['x2']\n",
    "        y2 = t['y2']\n",
    "        patch = image.crop((x1, y1, x2, y2))\n",
    "    else:\n",
    "        patch = image.copy()\n",
    "\n",
    "    # Show original image/patch\n",
    "    plt.figure(figsize=(8, 4))\n",
    "    plt.subplot(1, 2, 1)\n",
    "    plt.imshow(patch)\n",
    "    plt.title(\"Original\")\n",
    "    plt.axis('off')\n",
    "\n",
    "    if huggingface:\n",
    "        inputs = transform(images=patch, return_tensors=\"pt\")\n",
    "        transformed_patch = inputs['pixel_values'].squeeze()\n",
    "        # Convert tensor to numpy for visualization\n",
    "    else:\n",
    "        transformed_patch = transform(patch)\n",
    "    \n",
    "    img_np = transformed_patch.permute(1, 2, 0).cpu().numpy()\n",
    "    # Normalize if needed\n",
    "    img_np = (img_np - img_np.min()) / (img_np.max() - img_np.min())\n",
    "\n",
    "    plt.subplot(1, 2, 2)\n",
    "    plt.imshow(img_np)\n",
    "    plt.title(\"Transformed\")\n",
    "    plt.axis('off')\n",
    "    plt.show()"
   ]
  },
  {
   "cell_type": "markdown",
   "id": "57a5cbb5",
   "metadata": {},
   "source": [
    "# save to h5"
   ]
  },
  {
   "cell_type": "code",
   "execution_count": null,
   "id": "d73c0287",
   "metadata": {},
   "outputs": [],
   "source": [
    "with h5py.File(save_path+\"\\\\representations.h5\", \"r\") as f:\n",
    "    rep_42 = f[\"000042\"][:]  # Load representation for index 42\n",
    "print(rep_42)"
   ]
  }
 ],
 "metadata": {
  "kernelspec": {
   "display_name": "GeneralPurposeML",
   "language": "python",
   "name": "python3"
  },
  "language_info": {
   "codemirror_mode": {
    "name": "ipython",
    "version": 3
   },
   "file_extension": ".py",
   "mimetype": "text/x-python",
   "name": "python",
   "nbconvert_exporter": "python",
   "pygments_lexer": "ipython3",
   "version": "3.10.16"
  }
 },
 "nbformat": 4,
 "nbformat_minor": 5
}
