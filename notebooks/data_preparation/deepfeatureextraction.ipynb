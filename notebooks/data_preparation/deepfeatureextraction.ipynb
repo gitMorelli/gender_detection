{
 "cells": [
  {
   "cell_type": "code",
   "execution_count": 2,
   "id": "1123c1b3",
   "metadata": {},
   "outputs": [],
   "source": [
    "import sys\n",
    "import os\n",
    "os.environ[\"KMP_DUPLICATE_LIB_OK\"] = \"TRUE\"\n",
    "import torch\n",
    "import torch.nn as nn\n",
    "import torch.optim as optim\n",
    "from datetime import datetime\n",
    "from PIL import Image\n",
    "import pandas as pd\n",
    "import matplotlib.pyplot as plt\n",
    "\n",
    "\n",
    "source_path = os.path.abspath(os.path.join(os.getcwd(), '..', '..'))\n",
    "sys.path.append(source_path)"
   ]
  },
  {
   "cell_type": "code",
   "execution_count": 41,
   "id": "ef851347",
   "metadata": {},
   "outputs": [],
   "source": [
    "N_max=282\n",
    "patches=True\n",
    "input_filename='icdar_train_df_body_20250523_181312.csv'\n",
    "huggingface=True\n",
    "pooling=False # if true in transformer mdoels use pooling, if false only the cls token\n",
    "custom_transform=False\n",
    "transform_mode='resize'\n",
    "save_h5=False\n",
    "selected_model = 'clip-vit-large-patch14'\n",
    "truncation = 'remove head'\n",
    "running = 'new-laptop'\n",
    "saved = 'old-laptop'"
   ]
  },
  {
   "cell_type": "code",
   "execution_count": 42,
   "id": "9a2add41",
   "metadata": {},
   "outputs": [],
   "source": [
    "transform = u_transforms.get_transform(selected_model, use_patches=patches, custom=custom_transform, mode=transform_mode)\n",
    "model = model_utils.get_model(name=selected_model, mode='truncated', pretrained=True, truncation=truncation)"
   ]
  },
  {
   "cell_type": "code",
   "execution_count": 46,
   "id": "a3b85963",
   "metadata": {},
   "outputs": [
    {
     "name": "stdout",
     "output_type": "stream",
     "text": [
      "Device is:  cuda\n"
     ]
    }
   ],
   "source": [
    "# Define loss function and optimizer\n",
    "device = torch.device(\"cuda\" if torch.cuda.is_available() else \"cpu\")\n",
    "print(\"Device is: \",device)\n",
    "model = model.to(device)"
   ]
  },
  {
   "cell_type": "code",
   "execution_count": 43,
   "id": "342c1500",
   "metadata": {},
   "outputs": [],
   "source": [
    "train_df = pd.read_csv(f\"{source_path}\\\\outputs\\\\preprocessed_data\\\\{input_filename}\")\n",
    "train_df=file_IO.change_filename_from_to(train_df, fr=saved, to=running)"
   ]
  },
  {
   "cell_type": "code",
   "execution_count": 28,
   "id": "f982df9f",
   "metadata": {},
   "outputs": [
    {
     "data": {
      "text/html": [
       "<div>\n",
       "<style scoped>\n",
       "    .dataframe tbody tr th:only-of-type {\n",
       "        vertical-align: middle;\n",
       "    }\n",
       "\n",
       "    .dataframe tbody tr th {\n",
       "        vertical-align: top;\n",
       "    }\n",
       "\n",
       "    .dataframe thead th {\n",
       "        text-align: right;\n",
       "    }\n",
       "</style>\n",
       "<table border=\"1\" class=\"dataframe\">\n",
       "  <thead>\n",
       "    <tr style=\"text-align: right;\">\n",
       "      <th></th>\n",
       "      <th>writer</th>\n",
       "      <th>isEng</th>\n",
       "      <th>same_text</th>\n",
       "      <th>file_name</th>\n",
       "      <th>male</th>\n",
       "      <th>train</th>\n",
       "      <th>index</th>\n",
       "      <th>x</th>\n",
       "      <th>y</th>\n",
       "      <th>x2</th>\n",
       "      <th>y2</th>\n",
       "      <th>n_cc</th>\n",
       "      <th>black_ratio</th>\n",
       "    </tr>\n",
       "  </thead>\n",
       "  <tbody>\n",
       "    <tr>\n",
       "      <th>0</th>\n",
       "      <td>1</td>\n",
       "      <td>0</td>\n",
       "      <td>0</td>\n",
       "      <td>C:\\Users\\andre\\PhD\\Datasets\\ICDAR 2013 - Gende...</td>\n",
       "      <td>0</td>\n",
       "      <td>1</td>\n",
       "      <td>0</td>\n",
       "      <td>1722</td>\n",
       "      <td>984</td>\n",
       "      <td>1968</td>\n",
       "      <td>1230</td>\n",
       "      <td>32</td>\n",
       "      <td>0.134890</td>\n",
       "    </tr>\n",
       "    <tr>\n",
       "      <th>1</th>\n",
       "      <td>1</td>\n",
       "      <td>0</td>\n",
       "      <td>0</td>\n",
       "      <td>C:\\Users\\andre\\PhD\\Datasets\\ICDAR 2013 - Gende...</td>\n",
       "      <td>0</td>\n",
       "      <td>1</td>\n",
       "      <td>1</td>\n",
       "      <td>0</td>\n",
       "      <td>738</td>\n",
       "      <td>246</td>\n",
       "      <td>984</td>\n",
       "      <td>26</td>\n",
       "      <td>0.054349</td>\n",
       "    </tr>\n",
       "    <tr>\n",
       "      <th>2</th>\n",
       "      <td>1</td>\n",
       "      <td>0</td>\n",
       "      <td>0</td>\n",
       "      <td>C:\\Users\\andre\\PhD\\Datasets\\ICDAR 2013 - Gende...</td>\n",
       "      <td>0</td>\n",
       "      <td>1</td>\n",
       "      <td>2</td>\n",
       "      <td>984</td>\n",
       "      <td>738</td>\n",
       "      <td>1230</td>\n",
       "      <td>984</td>\n",
       "      <td>27</td>\n",
       "      <td>0.071138</td>\n",
       "    </tr>\n",
       "    <tr>\n",
       "      <th>3</th>\n",
       "      <td>1</td>\n",
       "      <td>0</td>\n",
       "      <td>0</td>\n",
       "      <td>C:\\Users\\andre\\PhD\\Datasets\\ICDAR 2013 - Gende...</td>\n",
       "      <td>0</td>\n",
       "      <td>1</td>\n",
       "      <td>3</td>\n",
       "      <td>738</td>\n",
       "      <td>738</td>\n",
       "      <td>984</td>\n",
       "      <td>984</td>\n",
       "      <td>23</td>\n",
       "      <td>0.064710</td>\n",
       "    </tr>\n",
       "    <tr>\n",
       "      <th>4</th>\n",
       "      <td>1</td>\n",
       "      <td>0</td>\n",
       "      <td>0</td>\n",
       "      <td>C:\\Users\\andre\\PhD\\Datasets\\ICDAR 2013 - Gende...</td>\n",
       "      <td>0</td>\n",
       "      <td>1</td>\n",
       "      <td>4</td>\n",
       "      <td>984</td>\n",
       "      <td>984</td>\n",
       "      <td>1230</td>\n",
       "      <td>1230</td>\n",
       "      <td>37</td>\n",
       "      <td>0.052350</td>\n",
       "    </tr>\n",
       "  </tbody>\n",
       "</table>\n",
       "</div>"
      ],
      "text/plain": [
       "   writer  isEng  same_text  \\\n",
       "0       1      0          0   \n",
       "1       1      0          0   \n",
       "2       1      0          0   \n",
       "3       1      0          0   \n",
       "4       1      0          0   \n",
       "\n",
       "                                           file_name  male  train  index  \\\n",
       "0  C:\\Users\\andre\\PhD\\Datasets\\ICDAR 2013 - Gende...     0      1      0   \n",
       "1  C:\\Users\\andre\\PhD\\Datasets\\ICDAR 2013 - Gende...     0      1      1   \n",
       "2  C:\\Users\\andre\\PhD\\Datasets\\ICDAR 2013 - Gende...     0      1      2   \n",
       "3  C:\\Users\\andre\\PhD\\Datasets\\ICDAR 2013 - Gende...     0      1      3   \n",
       "4  C:\\Users\\andre\\PhD\\Datasets\\ICDAR 2013 - Gende...     0      1      4   \n",
       "\n",
       "      x    y    x2    y2  n_cc  black_ratio  \n",
       "0  1722  984  1968  1230    32     0.134890  \n",
       "1     0  738   246   984    26     0.054349  \n",
       "2   984  738  1230   984    27     0.071138  \n",
       "3   738  738   984   984    23     0.064710  \n",
       "4   984  984  1230  1230    37     0.052350  "
      ]
     },
     "execution_count": 28,
     "metadata": {},
     "output_type": "execute_result"
    }
   ],
   "source": [
    "train_df.head()"
   ]
  },
  {
   "cell_type": "code",
   "execution_count": 44,
   "id": "89e74c80",
   "metadata": {},
   "outputs": [
    {
     "data": {
      "image/png": "[encoded data removed]",
      "text/plain": [
       "<Figure size 640x480 with 1 Axes>"
      ]
     },
     "metadata": {},
     "output_type": "display_data"
    }
   ],
   "source": [
    "visualization.show_preprocessed_from_csv(train_df,transform,hugging=huggingface,index=0,patches=patches)"
   ]
  },
  {
   "cell_type": "code",
   "execution_count": null,
   "id": "b3f0567a",
   "metadata": {},
   "outputs": [
    {
     "data": {
      "text/plain": [
       "'import numpy as np\\nindex=0\\n# Select an image row from train_df\\nsample_row = train_df.iloc[index]\\nimage_file = sample_row[\\'file_name\\']\\nimage = Image.open(image_file).convert(\"RGB\")\\n\\n# If using patches, crop the patch, else use the whole image\\nif patches:\\n    x1, y1, x2, y2 = sample_row[\\'x\\'], sample_row[\\'y\\'], sample_row[\\'x2\\'], sample_row[\\'y2\\']\\n    patch = image.crop((x1, y1, x2, y2))\\nelse:\\n    patch = image.copy()\\n\\npatch=np.array(patch)\\npatch_list=[patch]\\nfrom doctr.models.preprocessor import PreProcessor\\ntransform=PreProcessor(\\n        (32, 128),\\n        batch_size=1,\\n        mean=(0.798, 0.785, 0.772),\\n        std=(0.264, 0.2749, 0.287),\\n        #preserve_aspect_ratio=True,\\n        #symmetric_pad=True,\\n    )\\npatch=transform(patch_list)\\npatch = patch[0].squeeze(0)\\nimg_np = patch.permute(1, 2, 0).cpu().numpy()\\nimg_np = (img_np - img_np.min()) / (img_np.max() - img_np.min())\\n\\nplt.imshow(img_np)\\nplt.title(\"Preprocessed Image\")\\nplt.axis(\\'off\\')\\nplt.show()'"
      ]
     },
     "execution_count": 24,
     "metadata": {},
     "output_type": "execute_result"
    }
   ],
   "source": [
    "'''\n",
    "dctocr test\n",
    "\n",
    "import numpy as np\n",
    "index=0\n",
    "# Select an image row from train_df\n",
    "sample_row = train_df.iloc[index]\n",
    "image_file = sample_row['file_name']\n",
    "image = Image.open(image_file).convert(\"RGB\")\n",
    "\n",
    "# If using patches, crop the patch, else use the whole image\n",
    "if patches:\n",
    "    x1, y1, x2, y2 = sample_row['x'], sample_row['y'], sample_row['x2'], sample_row['y2']\n",
    "    patch = image.crop((x1, y1, x2, y2))\n",
    "else:\n",
    "    patch = image.copy()\n",
    "\n",
    "patch=np.array(patch)\n",
    "patch_list=[patch]\n",
    "from doctr.models.preprocessor import PreProcessor\n",
    "transform=PreProcessor(\n",
    "        (32, 128),\n",
    "        batch_size=1,\n",
    "        mean=(0.798, 0.785, 0.772),\n",
    "        std=(0.264, 0.2749, 0.287),\n",
    "        #preserve_aspect_ratio=True,\n",
    "        #symmetric_pad=True,\n",
    "    )\n",
    "patch=transform(patch_list)\n",
    "patch = patch[0].squeeze(0)\n",
    "img_np = patch.permute(1, 2, 0).cpu().numpy()\n",
    "img_np = (img_np - img_np.min()) / (img_np.max() - img_np.min())\n",
    "\n",
    "plt.imshow(img_np)\n",
    "plt.title(\"Preprocessed Image\")\n",
    "plt.axis('off')\n",
    "plt.show()'''\n"
   ]
  },
  {
   "cell_type": "code",
   "execution_count": 47,
   "id": "0bd7fc73",
   "metadata": {},
   "outputs": [],
   "source": [
    "i=0\n",
    "output=compute_output(model, device, transform, train_df.iloc[i], huggingface, patches)"
   ]
  },
  {
   "cell_type": "code",
   "execution_count": 48,
   "id": "747a4420",
   "metadata": {},
   "outputs": [
    {
     "name": "stdout",
     "output_type": "stream",
     "text": [
      "Output shape:  torch.Size([1, 768])\n"
     ]
    }
   ],
   "source": [
    "print(\"Output shape: \", output.shape)"
   ]
  },
  {
   "cell_type": "code",
   "execution_count": 49,
   "id": "445a707d",
   "metadata": {},
   "outputs": [
    {
     "name": "stdout",
     "output_type": "stream",
     "text": [
      "Processed 0 images, out of 1128\n",
      "Processed 100 images, out of 1128\n",
      "Processed 200 images, out of 1128\n",
      "Processed 300 images, out of 1128\n",
      "Processed 400 images, out of 1128\n",
      "Processed 500 images, out of 1128\n",
      "Processed 600 images, out of 1128\n",
      "Processed 700 images, out of 1128\n",
      "Processed 800 images, out of 1128\n",
      "Processed 900 images, out of 1128\n",
      "Processed 1000 images, out of 1128\n",
      "Processed 1100 images, out of 1128\n"
     ]
    }
   ],
   "source": [
    "model.eval()\n",
    "\n",
    "if save_h5:\n",
    "    import h5py\n",
    "    import numpy as np\n",
    "    import shutil\n",
    "    icdar_path=train_df['file_name'][0]\n",
    "    icdar_path = icdar_path[:icdar_path.lower().find(\"unzipped\")].rsplit(\"\\\\\", 1)[0] + \"\\\\\"\n",
    "    # Define the directory and file paths\n",
    "    h5_directory_name = \"extracted_representations_full\"\n",
    "    h5_save_path=icdar_path+h5_directory_name\n",
    "    # Open the file in append mode\n",
    "    from datetime import datetime\n",
    "    timestamp = datetime.now().strftime(\"%Y%m%d_%H%M%S\")\n",
    "    h5_file_name = h5_save_path+f\"\\\\representations_{selected_model}_{truncation}_{timestamp}.h5\"\n",
    "    with h5py.File(h5_file_name, \"a\") as f:\n",
    "        model.eval()\n",
    "        for index,t in train_df.iterrows():\n",
    "            if huggingface:\n",
    "                output = compute_output(model, device, transform, t, huggingface, patches)\n",
    "            else:\n",
    "                output = compute_output(model, device, transform, t, huggingface, patches)\n",
    "            #print(output)\n",
    "            # Convert index to string key (e.g., \"0001\")\n",
    "            key = f\"{index:06d}\"\n",
    "            # Store with compression (optional)\n",
    "            rep_np = output.squeeze(0).detach().cpu().numpy()\n",
    "            f.create_dataset(key, data=rep_np, compression=\"gzip\")\n",
    "            if index % 100 == 0:\n",
    "                print(f\"Processed {index} images, out of {len(train_df)}\")\n",
    "    #close the file\n",
    "    f.close()\n",
    "# Initialize a dictionary to store new feature columns\n",
    "else:\n",
    "    new_features = {}\n",
    "\n",
    "    for index,t in train_df.iterrows():\n",
    "        if huggingface:\n",
    "            if pooling:\n",
    "                print(\"Pooling is not implemented yet\")\n",
    "                break\n",
    "            else:\n",
    "                output = compute_output(model, device, transform, t, huggingface, patches)#[:,0,:]\n",
    "        else:\n",
    "            output = compute_output(model, device, transform, t, huggingface, patches)\n",
    "        for i, value in enumerate(output.squeeze().tolist()):\n",
    "            column_name = f\"f{i+1}\"\n",
    "            if column_name not in new_features:\n",
    "                new_features[column_name] = []\n",
    "            new_features[column_name].append(value)\n",
    "        if index % 100 == 0:\n",
    "            print(f\"Processed {index} images, out of {len(train_df)}\")\n",
    "\n",
    "        \n",
    "    # Add the new features to the DataFrame in one operation\n",
    "    new_features_df = pd.DataFrame(new_features)\n",
    "    train_df = pd.concat([train_df.reset_index(drop=True), new_features_df], axis=1)"
   ]
  },
  {
   "cell_type": "code",
   "execution_count": 33,
   "id": "e4c38b86",
   "metadata": {},
   "outputs": [
    {
     "data": {
      "text/html": [
       "<div>\n",
       "<style scoped>\n",
       "    .dataframe tbody tr th:only-of-type {\n",
       "        vertical-align: middle;\n",
       "    }\n",
       "\n",
       "    .dataframe tbody tr th {\n",
       "        vertical-align: top;\n",
       "    }\n",
       "\n",
       "    .dataframe thead th {\n",
       "        text-align: right;\n",
       "    }\n",
       "</style>\n",
       "<table border=\"1\" class=\"dataframe\">\n",
       "  <thead>\n",
       "    <tr style=\"text-align: right;\">\n",
       "      <th></th>\n",
       "      <th>writer</th>\n",
       "      <th>isEng</th>\n",
       "      <th>same_text</th>\n",
       "      <th>file_name</th>\n",
       "      <th>male</th>\n",
       "      <th>train</th>\n",
       "      <th>index</th>\n",
       "      <th>x</th>\n",
       "      <th>y</th>\n",
       "      <th>x2</th>\n",
       "      <th>...</th>\n",
       "      <th>f759</th>\n",
       "      <th>f760</th>\n",
       "      <th>f761</th>\n",
       "      <th>f762</th>\n",
       "      <th>f763</th>\n",
       "      <th>f764</th>\n",
       "      <th>f765</th>\n",
       "      <th>f766</th>\n",
       "      <th>f767</th>\n",
       "      <th>f768</th>\n",
       "    </tr>\n",
       "  </thead>\n",
       "  <tbody>\n",
       "    <tr>\n",
       "      <th>0</th>\n",
       "      <td>1</td>\n",
       "      <td>0</td>\n",
       "      <td>0</td>\n",
       "      <td>C:\\Users\\andre\\PhD\\Datasets\\ICDAR 2013 - Gende...</td>\n",
       "      <td>0</td>\n",
       "      <td>1</td>\n",
       "      <td>0</td>\n",
       "      <td>1722</td>\n",
       "      <td>984</td>\n",
       "      <td>1968</td>\n",
       "      <td>...</td>\n",
       "      <td>-0.052318</td>\n",
       "      <td>-0.063661</td>\n",
       "      <td>-0.004135</td>\n",
       "      <td>0.008908</td>\n",
       "      <td>-0.031945</td>\n",
       "      <td>0.025556</td>\n",
       "      <td>-0.018130</td>\n",
       "      <td>0.020174</td>\n",
       "      <td>-0.004420</td>\n",
       "      <td>-0.005928</td>\n",
       "    </tr>\n",
       "    <tr>\n",
       "      <th>1</th>\n",
       "      <td>1</td>\n",
       "      <td>0</td>\n",
       "      <td>0</td>\n",
       "      <td>C:\\Users\\andre\\PhD\\Datasets\\ICDAR 2013 - Gende...</td>\n",
       "      <td>0</td>\n",
       "      <td>1</td>\n",
       "      <td>1</td>\n",
       "      <td>0</td>\n",
       "      <td>738</td>\n",
       "      <td>246</td>\n",
       "      <td>...</td>\n",
       "      <td>-0.012897</td>\n",
       "      <td>-0.004616</td>\n",
       "      <td>0.003937</td>\n",
       "      <td>-0.042356</td>\n",
       "      <td>0.000854</td>\n",
       "      <td>0.041460</td>\n",
       "      <td>0.003057</td>\n",
       "      <td>-0.012621</td>\n",
       "      <td>-0.001287</td>\n",
       "      <td>0.009919</td>\n",
       "    </tr>\n",
       "    <tr>\n",
       "      <th>2</th>\n",
       "      <td>1</td>\n",
       "      <td>0</td>\n",
       "      <td>0</td>\n",
       "      <td>C:\\Users\\andre\\PhD\\Datasets\\ICDAR 2013 - Gende...</td>\n",
       "      <td>0</td>\n",
       "      <td>1</td>\n",
       "      <td>2</td>\n",
       "      <td>984</td>\n",
       "      <td>738</td>\n",
       "      <td>1230</td>\n",
       "      <td>...</td>\n",
       "      <td>-0.018095</td>\n",
       "      <td>-0.034838</td>\n",
       "      <td>-0.001432</td>\n",
       "      <td>-0.020447</td>\n",
       "      <td>0.013743</td>\n",
       "      <td>0.024077</td>\n",
       "      <td>0.004268</td>\n",
       "      <td>-0.015490</td>\n",
       "      <td>-0.008820</td>\n",
       "      <td>0.015622</td>\n",
       "    </tr>\n",
       "    <tr>\n",
       "      <th>3</th>\n",
       "      <td>1</td>\n",
       "      <td>0</td>\n",
       "      <td>0</td>\n",
       "      <td>C:\\Users\\andre\\PhD\\Datasets\\ICDAR 2013 - Gende...</td>\n",
       "      <td>0</td>\n",
       "      <td>1</td>\n",
       "      <td>3</td>\n",
       "      <td>738</td>\n",
       "      <td>738</td>\n",
       "      <td>984</td>\n",
       "      <td>...</td>\n",
       "      <td>-0.019488</td>\n",
       "      <td>-0.022704</td>\n",
       "      <td>0.004028</td>\n",
       "      <td>-0.028899</td>\n",
       "      <td>0.007229</td>\n",
       "      <td>0.021967</td>\n",
       "      <td>0.013759</td>\n",
       "      <td>-0.008569</td>\n",
       "      <td>0.013988</td>\n",
       "      <td>0.009749</td>\n",
       "    </tr>\n",
       "    <tr>\n",
       "      <th>4</th>\n",
       "      <td>1</td>\n",
       "      <td>0</td>\n",
       "      <td>0</td>\n",
       "      <td>C:\\Users\\andre\\PhD\\Datasets\\ICDAR 2013 - Gende...</td>\n",
       "      <td>0</td>\n",
       "      <td>1</td>\n",
       "      <td>4</td>\n",
       "      <td>984</td>\n",
       "      <td>984</td>\n",
       "      <td>1230</td>\n",
       "      <td>...</td>\n",
       "      <td>-0.017542</td>\n",
       "      <td>0.001478</td>\n",
       "      <td>-0.005546</td>\n",
       "      <td>-0.020741</td>\n",
       "      <td>0.016088</td>\n",
       "      <td>0.030617</td>\n",
       "      <td>0.021538</td>\n",
       "      <td>-0.016008</td>\n",
       "      <td>-0.013821</td>\n",
       "      <td>0.031378</td>\n",
       "    </tr>\n",
       "  </tbody>\n",
       "</table>\n",
       "<p>5 rows × 781 columns</p>\n",
       "</div>"
      ],
      "text/plain": [
       "   writer  isEng  same_text  \\\n",
       "0       1      0          0   \n",
       "1       1      0          0   \n",
       "2       1      0          0   \n",
       "3       1      0          0   \n",
       "4       1      0          0   \n",
       "\n",
       "                                           file_name  male  train  index  \\\n",
       "0  C:\\Users\\andre\\PhD\\Datasets\\ICDAR 2013 - Gende...     0      1      0   \n",
       "1  C:\\Users\\andre\\PhD\\Datasets\\ICDAR 2013 - Gende...     0      1      1   \n",
       "2  C:\\Users\\andre\\PhD\\Datasets\\ICDAR 2013 - Gende...     0      1      2   \n",
       "3  C:\\Users\\andre\\PhD\\Datasets\\ICDAR 2013 - Gende...     0      1      3   \n",
       "4  C:\\Users\\andre\\PhD\\Datasets\\ICDAR 2013 - Gende...     0      1      4   \n",
       "\n",
       "      x    y    x2  ...      f759      f760      f761      f762      f763  \\\n",
       "0  1722  984  1968  ... -0.052318 -0.063661 -0.004135  0.008908 -0.031945   \n",
       "1     0  738   246  ... -0.012897 -0.004616  0.003937 -0.042356  0.000854   \n",
       "2   984  738  1230  ... -0.018095 -0.034838 -0.001432 -0.020447  0.013743   \n",
       "3   738  738   984  ... -0.019488 -0.022704  0.004028 -0.028899  0.007229   \n",
       "4   984  984  1230  ... -0.017542  0.001478 -0.005546 -0.020741  0.016088   \n",
       "\n",
       "       f764      f765      f766      f767      f768  \n",
       "0  0.025556 -0.018130  0.020174 -0.004420 -0.005928  \n",
       "1  0.041460  0.003057 -0.012621 -0.001287  0.009919  \n",
       "2  0.024077  0.004268 -0.015490 -0.008820  0.015622  \n",
       "3  0.021967  0.013759 -0.008569  0.013988  0.009749  \n",
       "4  0.030617  0.021538 -0.016008 -0.013821  0.031378  \n",
       "\n",
       "[5 rows x 781 columns]"
      ]
     },
     "execution_count": 33,
     "metadata": {},
     "output_type": "execute_result"
    }
   ],
   "source": [
    "train_df.head()"
   ]
  },
  {
   "cell_type": "code",
   "execution_count": null,
   "id": "11439c71",
   "metadata": {},
   "outputs": [
    {
     "name": "stdout",
     "output_type": "stream",
     "text": [
      "Processed 0 images, out of 5640\n"
     ]
    },
    {
     "name": "stderr",
     "output_type": "stream",
     "text": [
      "\n",
      "KeyboardInterrupt\n",
      "\n"
     ]
    }
   ],
   "source": [
    "'''from utils.dataframes import CustomImageDataset, CustomPatchDataset\n",
    "from torch.utils.data import Dataset,DataLoader, random_split\n",
    "source_path=\"D:\\\\burtm\\\\Visual_studio_code\\\\PD_related_projects\"\n",
    "train_df = pd.read_csv(f\"{source_path}\\\\outputs\\\\preprocessed_data\\\\{input_filename}\")\n",
    "model.eval()\n",
    "dataset = CustomPatchDataset(train_df[train_df['writer']<=N_max] ,\n",
    "                                        label_column='male', transform=transform, huggingface=huggingface)\n",
    "dataloader = DataLoader(dataset, batch_size=batch_size, shuffle=False)\n",
    "new_features = {}\n",
    "\n",
    "for idx, batch in enumerate(dataloader):\n",
    "    patch = batch['image'].to(device)\n",
    "    output = model(pixel_values=patch)\n",
    "    cls_token_output = output.last_hidden_state[:, 0, :]  # Extract the CLS token\n",
    "    for i, value in enumerate(cls_token_output.squeeze().tolist()):\n",
    "        column_name = f\"f{i+1}\"\n",
    "        if column_name not in new_features:\n",
    "            new_features[column_name] = []\n",
    "        new_features[column_name].append(value)\n",
    "    if idx % 100 == 0:\n",
    "        print(f\"Processed {idx * batch_size} images, out of {len(dataset)}\")\n",
    "\n",
    "# Convert the dictionary to a DataFrame\n",
    "new_features_df = pd.DataFrame(new_features)'''"
   ]
  },
  {
   "cell_type": "code",
   "execution_count": 50,
   "id": "b2060fc4",
   "metadata": {},
   "outputs": [
    {
     "name": "stdout",
     "output_type": "stream",
     "text": [
      "Dataframe saved to c:\\Users\\andre\\VsCode\\PD related projects\\gender_detection\\outputs\\preprocessed_data\\icdar_EXTRACTED_train_df_clip-vit-large-patch14_20250605_133231.csv\n"
     ]
    }
   ],
   "source": [
    "#source_path=\"D:\\\\burtm\\\\Visual_studio_code\\\\PD_related_projects\"\n",
    "output_dir = os.path.join(source_path, \"outputs\", \"preprocessed_data\")\n",
    "if save_h5:\n",
    "    output_file = h5_file_name\n",
    "else:\n",
    "    from datetime import datetime\n",
    "    timestamp = datetime.now().strftime(\"%Y%m%d_%H%M%S\")\n",
    "    output_file = os.path.join(output_dir, f\"icdar_EXTRACTED_train_df_{selected_model}_{timestamp}.csv\")\n",
    "    train_df.to_csv(output_file, index=False)\n",
    "    print(f\"Dataframe saved to {output_file}\")"
   ]
  },
  {
   "cell_type": "code",
   "execution_count": 51,
   "id": "f03398c7",
   "metadata": {},
   "outputs": [
    {
     "name": "stdout",
     "output_type": "stream",
     "text": [
      "Log file path: c:\\Users\\andre\\VsCode\\PD related projects\\gender_detection\\outputs\\preprocessed_data\\file_metadata_log.json\n",
      "Output file path: c:\\Users\\andre\\VsCode\\PD related projects\\gender_detection\\outputs\\preprocessed_data\\icdar_EXTRACTED_train_df_clip-vit-large-patch14_20250605_133231.csv\n",
      "icdar_EXTRACTED_train_df_clip-vit-large-patch14_20250605_133231.csv\n",
      "Updated log for icdar_EXTRACTED_train_df_clip-vit-large-patch14_20250605_133231.csv\n"
     ]
    }
   ],
   "source": [
    "# Example usage:\n",
    "LOG_FILE = output_dir+\"\\\\file_metadata_log.json\"\n",
    "print(f\"Log file path: {LOG_FILE}\")\n",
    "print(f\"Output file path: {output_file}\")\n",
    "file_IO.add_or_update_file(\n",
    "    output_file, LOG_FILE,\n",
    "    custom_metadata={\n",
    "        #\"seed\": seed,\n",
    "        \"source_file\": input_filename,\n",
    "        \"model\": selected_model,\n",
    "        \"pooling\": pooling,\n",
    "        \"custom transform\": custom_transform,\n",
    "        \"save_h5\": save_h5,\n",
    "        \"truncation\": truncation,\n",
    "        \"transform_mode\": transform_mode,\n",
    "        \"description\": '''\n",
    "        testing the vitstr model with the sentence level dataset''' \n",
    "    }\n",
    ")"
   ]
  },
  {
   "cell_type": "code",
   "execution_count": 23,
   "id": "dd009b32",
   "metadata": {},
   "outputs": [
    {
     "name": "stdout",
     "output_type": "stream",
     "text": [
      "Metadata for icdar_EXTRACTED_train_df_clip-vit-large-patch14_20250604_184639.csv:\n",
      "full_path: c:\\Users\\andre\\VsCode\\PD related projects\\gender_detection\\outputs\\preprocessed_data\\icdar_EXTRACTED_train_df_clip-vit-large-patch14_20250604_184639.csv\n",
      "size_bytes: 167662734\n",
      "created: 2025-06-04T18:46:39.954553\n",
      "modified: 2025-06-04T18:46:47.887677\n",
      "accessed: 2025-06-04T18:46:47.887677\n",
      "source_file: icdar_train_df_words_sentences_20250522_230307.csv\n",
      "model: clip-vit-large-patch14\n",
      "pooling: False\n",
      "custom transform: False\n",
      "save_h5: False\n",
      "truncation: remove head\n",
      "transform_mode: resize\n",
      "description: \n",
      "        testing the vitstr model with the sentence level dataset\n"
     ]
    }
   ],
   "source": [
    "file_IO.read_metadata(\n",
    "    output_file,\n",
    "    log_path=LOG_FILE\n",
    ")"
   ]
  },
  {
   "cell_type": "code",
   "execution_count": 15,
   "id": "dd41e5e6",
   "metadata": {},
   "outputs": [
    {
     "name": "stdout",
     "output_type": "stream",
     "text": [
      "File saved: D:\\burtm\\Visual_studio_code\\PD_related_projects\\outputs\\preprocessed_data\\icdar_EXTRACTED_trocr_stage_1_10blocks_20250509_153553.csv\n"
     ]
    }
   ],
   "source": [
    "timestamp = datetime.now().strftime(\"%Y%m%d_%H%M%S\")\n",
    "file_path=source_path+f\"\\\\outputs\\\\preprocessed_data\\\\icdar_EXTRACTED_trocr_stage_1_10blocks_{timestamp}.csv\"\n",
    "train_df.to_csv(file_path, index=False)\n",
    "print(f\"File saved: {file_path}\")"
   ]
  },
  {
   "cell_type": "code",
   "execution_count": null,
   "id": "1d14cff7",
   "metadata": {},
   "outputs": [],
   "source": []
  },
  {
   "cell_type": "markdown",
   "id": "7b2dfb57",
   "metadata": {},
   "source": [
    "# easy access"
   ]
  },
  {
   "cell_type": "code",
   "execution_count": 17,
   "id": "82e39392",
   "metadata": {},
   "outputs": [],
   "source": [
    "def reload_modules():\n",
    "    import importlib\n",
    "    import utils.data_loading as data_loading\n",
    "    import utils.visualization as visualization\n",
    "    import utils.dataframes as dataframes\n",
    "    import utils.utils_transforms as u_transforms\n",
    "    import utils.training_utils as training_utils\n",
    "    import utils.model_utils as model_utils\n",
    "    import utils.file_IO as file_IO\n",
    "    \n",
    "    importlib.reload(file_IO)\n",
    "    importlib.reload(data_loading)\n",
    "    importlib.reload(visualization)\n",
    "    importlib.reload(dataframes)\n",
    "    importlib.reload(u_transforms)\n",
    "    importlib.reload(model_utils)\n",
    "    importlib.reload(training_utils)\n",
    "\n",
    "    return data_loading, visualization, dataframes, u_transforms, training_utils, model_utils, file_IO\n",
    "data_loading, visualization, dataframes, u_transforms, training_utils, model_utils, file_IO = reload_modules()"
   ]
  },
  {
   "cell_type": "code",
   "execution_count": 18,
   "id": "807c5007",
   "metadata": {},
   "outputs": [],
   "source": [
    "def compute_output(model, device, transform, t, huggingface, patches):\n",
    "    image_file = t['file_name']\n",
    "    image = Image.open(image_file).convert(\"RGB\")\n",
    "    if patches:\n",
    "        x1 = t['x']\n",
    "        y1 = t['y']\n",
    "        x2 = t['x2']\n",
    "        y2 = t['y2']\n",
    "        patch = image.crop((x1, y1, x2, y2))\n",
    "    else:\n",
    "        patch = image.copy()\n",
    "    if huggingface:\n",
    "        # the transform is actually an huggingface processor in this case\n",
    "        inputs = transform(images=patch, return_tensors=\"pt\")\n",
    "        # Remove batch dimension from inputs\n",
    "        patch = inputs['pixel_values'].squeeze()\n",
    "    else:\n",
    "        patch = transform(patch)\n",
    "    patch = patch.to(device)\n",
    "    output = model(patch.unsqueeze(0))\n",
    "    return output"
   ]
  },
  {
   "cell_type": "code",
   "execution_count": 19,
   "id": "dfdbc167",
   "metadata": {},
   "outputs": [],
   "source": [
    "def show_image(transform, t, huggingface, patches):\n",
    "    image_file = t['file_name']\n",
    "    image = Image.open(image_file).convert(\"RGB\")\n",
    "    if patches:\n",
    "        x1 = t['x']\n",
    "        y1 = t['y']\n",
    "        x2 = t['x2']\n",
    "        y2 = t['y2']\n",
    "        patch = image.crop((x1, y1, x2, y2))\n",
    "    else:\n",
    "        patch = image.copy()\n",
    "\n",
    "    # Show original image/patch\n",
    "    plt.figure(figsize=(8, 4))\n",
    "    plt.subplot(1, 2, 1)\n",
    "    plt.imshow(patch)\n",
    "    plt.title(\"Original\")\n",
    "    plt.axis('off')\n",
    "\n",
    "    if huggingface:\n",
    "        inputs = transform(images=patch, return_tensors=\"pt\")\n",
    "        transformed_patch = inputs['pixel_values'].squeeze()\n",
    "        # Convert tensor to numpy for visualization\n",
    "    else:\n",
    "        transformed_patch = transform(patch)\n",
    "    \n",
    "    img_np = transformed_patch.permute(1, 2, 0).cpu().numpy()\n",
    "    # Normalize if needed\n",
    "    img_np = (img_np - img_np.min()) / (img_np.max() - img_np.min())\n",
    "\n",
    "    plt.subplot(1, 2, 2)\n",
    "    plt.imshow(img_np)\n",
    "    plt.title(\"Transformed\")\n",
    "    plt.axis('off')\n",
    "    plt.show()"
   ]
  },
  {
   "cell_type": "markdown",
   "id": "57a5cbb5",
   "metadata": {},
   "source": [
    "# save to h5"
   ]
  },
  {
   "cell_type": "code",
   "execution_count": 14,
   "id": "d73c0287",
   "metadata": {},
   "outputs": [
    {
     "ename": "NameError",
     "evalue": "name 'h5py' is not defined",
     "output_type": "error",
     "traceback": [
      "\u001b[1;31m---------------------------------------------------------------------------\u001b[0m",
      "\u001b[1;31mNameError\u001b[0m                                 Traceback (most recent call last)",
      "Cell \u001b[1;32mIn[14], line 1\u001b[0m\n\u001b[1;32m----> 1\u001b[0m \u001b[38;5;28;01mwith\u001b[39;00m \u001b[43mh5py\u001b[49m\u001b[38;5;241m.\u001b[39mFile(save_path\u001b[38;5;241m+\u001b[39m\u001b[38;5;124m\"\u001b[39m\u001b[38;5;130;01m\\\\\u001b[39;00m\u001b[38;5;124mrepresentations.h5\u001b[39m\u001b[38;5;124m\"\u001b[39m, \u001b[38;5;124m\"\u001b[39m\u001b[38;5;124mr\u001b[39m\u001b[38;5;124m\"\u001b[39m) \u001b[38;5;28;01mas\u001b[39;00m f:\n\u001b[0;32m      2\u001b[0m     rep_42 \u001b[38;5;241m=\u001b[39m f[\u001b[38;5;124m\"\u001b[39m\u001b[38;5;124m000042\u001b[39m\u001b[38;5;124m\"\u001b[39m][:]  \u001b[38;5;66;03m# Load representation for index 42\u001b[39;00m\n\u001b[0;32m      3\u001b[0m \u001b[38;5;28mprint\u001b[39m(rep_42)\n",
      "\u001b[1;31mNameError\u001b[0m: name 'h5py' is not defined"
     ]
    }
   ],
   "source": [
    "with h5py.File(save_path+\"\\\\representations.h5\", \"r\") as f:\n",
    "    rep_42 = f[\"000042\"][:]  # Load representation for index 42\n",
    "print(rep_42)"
   ]
  }
 ],
 "metadata": {
  "kernelspec": {
   "display_name": "GeneralPurposeML",
   "language": "python",
   "name": "python3"
  },
  "language_info": {
   "codemirror_mode": {
    "name": "ipython",
    "version": 3
   },
   "file_extension": ".py",
   "mimetype": "text/x-python",
   "name": "python",
   "nbconvert_exporter": "python",
   "pygments_lexer": "ipython3",
   "version": "3.10.16"
  }
 },
 "nbformat": 4,
 "nbformat_minor": 5
}
