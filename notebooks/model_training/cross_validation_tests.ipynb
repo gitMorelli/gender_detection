{
 "cells": [
  {
   "cell_type": "code",
   "execution_count": 1,
   "id": "79eaafe6",
   "metadata": {},
   "outputs": [],
   "source": [
    "from sklearn.model_selection import GroupKFold\n",
    "from sklearn.ensemble import RandomForestClassifier\n",
    "from sklearn.datasets import make_classification\n",
    "import numpy as np\n"
   ]
  },
  {
   "cell_type": "code",
   "execution_count": 2,
   "id": "e031a90e",
   "metadata": {},
   "outputs": [],
   "source": [
    "# Sample dataset\n",
    "X, y = make_classification(n_samples=100, n_features=5, random_state=42)\n",
    "\n",
    "# Example writer groups (ensuring same writer isn't split across folds)\n",
    "writers = np.random.randint(0, 10, size=100)  # 10 unique writers\n",
    "\n",
    "# Define GroupKFold\n",
    "gkf = GroupKFold(n_splits=5)"
   ]
  },
  {
   "cell_type": "code",
   "execution_count": 5,
   "id": "1ac86772",
   "metadata": {},
   "outputs": [
    {
     "name": "stdout",
     "output_type": "stream",
     "text": [
      "[3 6 0 4 6 6 9 0 3 0 0 5 2 2 0 8 0 4 0 5 2 2 5 7 7 6 3 5 5 4 8 7 2 7 6 9 3\n",
      " 7 9 7 6 4 9 6 3 9 5 8 3 6 5 5 3 7 6 1 3 5 5 8 9 0 9 3 0 0 3 6 3 3 3 1 8 0\n",
      " 9 2 4 0 7 5 4 8 2 1 6 0 1 1 3 7 3 2 7 6 5 1 6 3 6 4]\n"
     ]
    }
   ],
   "source": [
    "print(writers)"
   ]
  },
  {
   "cell_type": "code",
   "execution_count": null,
   "id": "17c888a8",
   "metadata": {},
   "outputs": [
    {
     "name": "stdout",
     "output_type": "stream",
     "text": [
      "[ 1  2  3  4  5  6  7  9 10 11 12 13 14 15 16 17 18 19 20 21 22 23 24 25\n",
      " 27 28 29 30 31 32 33 34 35 37 38 39 40 41 42 43 45 46 47 49 50 51 53 54\n",
      " 57 58 59 60 61 62 64 65 67 72 73 74 75 76 77 78 79 80 81 82 84 85 89 91\n",
      " 92 93 94 96 98 99]\n",
      "[ 0  8 26 36 44 48 52 55 56 63 66 68 69 70 71 83 86 87 88 90 95 97]\n",
      "[6 0 4 6 6 9 0 0 0 5 2 2 0 8 0 4 0 5 2 2 5 7 7 6 5 5 4 8 7 2 7 6 9 7 9 7 6\n",
      " 4 9 6 9 5 8 6 5 5 7 6 5 5 8 9 0 9 0 0 6 8 0 9 2 4 0 7 5 4 8 2 6 0 7 2 7 6\n",
      " 5 6 6 4]\n",
      "[3 3 3 3 3 3 3 1 3 3 3 3 3 3 1 1 1 1 3 3 1 3]\n"
     ]
    }
   ],
   "source": [
    "# Splitting data\n",
    "for train_idx, val_idx in gkf.split(X, y, groups=writers):\n",
    "    X_train, X_val = X[train_idx], X[val_idx]\n",
    "    y_train, y_val = y[train_idx], y[val_idx]\n",
    "    print(train_idx)\n",
    "    print(val_idx)\n",
    "    print(writers[train_idx])\n",
    "    print(writers[val_idx])\n",
    "    break\n",
    "    model = RandomForestClassifier()\n",
    "    model.fit(X_train, y_train)\n",
    "    \n",
    "    print(\"Fold accuracy:\", model.score(X_val, y_val))"
   ]
  },
  {
   "cell_type": "code",
   "execution_count": 9,
   "id": "f4a3a928",
   "metadata": {},
   "outputs": [
    {
     "name": "stdout",
     "output_type": "stream",
     "text": [
      "Fold accuracy: 0.9090909090909091\n",
      "Fold accuracy: 1.0\n",
      "Fold accuracy: 1.0\n",
      "Fold accuracy: 0.9\n",
      "Fold accuracy: 0.8888888888888888\n"
     ]
    }
   ],
   "source": [
    "# Splitting data\n",
    "for train_idx, val_idx in gkf.split(X, y, groups=writers):\n",
    "    X_train, X_val = X[train_idx], X[val_idx]\n",
    "    y_train, y_val = y[train_idx], y[val_idx]\n",
    "    model = RandomForestClassifier()\n",
    "    model.fit(X_train, y_train)\n",
    "    \n",
    "    print(\"Fold accuracy:\", model.score(X_val, y_val))"
   ]
  },
  {
   "cell_type": "code",
   "execution_count": null,
   "id": "387de5a0",
   "metadata": {},
   "outputs": [],
   "source": []
  }
 ],
 "metadata": {
  "kernelspec": {
   "display_name": "GeneralPurposeML",
   "language": "python",
   "name": "python3"
  },
  "language_info": {
   "codemirror_mode": {
    "name": "ipython",
    "version": 3
   },
   "file_extension": ".py",
   "mimetype": "text/x-python",
   "name": "python",
   "nbconvert_exporter": "python",
   "pygments_lexer": "ipython3",
   "version": "3.10.16"
  }
 },
 "nbformat": 4,
 "nbformat_minor": 5
}
