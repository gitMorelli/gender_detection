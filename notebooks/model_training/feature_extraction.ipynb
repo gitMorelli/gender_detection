{
 "cells": [
  {
   "cell_type": "code",
   "execution_count": 53,
   "id": "fa895c53",
   "metadata": {},
   "outputs": [],
   "source": [
    "from xgboost import XGBClassifier\n",
    "import lightgbm as lgb\n",
    "from catboost import CatBoostClassifier\n",
    "\n",
    "import matplotlib.pyplot as plt\n",
    "import os\n",
    "import pandas as pd\n",
    "import numpy as np\n",
    "import joblib\n",
    "from datetime import datetime\n",
    "import sys\n",
    "\n",
    "from sklearn.ensemble import GradientBoostingClassifier\n",
    "from sklearn.pipeline import Pipeline\n",
    "from sklearn.preprocessing import StandardScaler\n",
    "from sklearn.ensemble import GradientBoostingClassifier\n",
    "from sklearn.metrics import accuracy_score\n",
    "\n",
    "input_file='D:\\\\burtm\\\\Visual_studio_code\\\\PD_related_projects\\\\outputs\\\\preprocessed_data\\\\icdar_train_df_KAGGLE_20250514_181737.csv'\n",
    "sys.path.append(os.path.abspath(\"D:\\\\burtm\\\\Visual_studio_code\\\\PD_related_projects\"))\n",
    "# Load the CSV file into a DataFrame\n",
    "train_FE = pd.read_csv(input_file)\n"
   ]
  },
  {
   "cell_type": "code",
   "execution_count": 54,
   "id": "9ed6c77c",
   "metadata": {},
   "outputs": [
    {
     "name": "stdout",
     "output_type": "stream",
     "text": [
      "Number of numeric columns: 7073\n",
      "Number of columns with missing values: 0\n"
     ]
    }
   ],
   "source": [
    "# Count numeric columns\n",
    "num_numeric_cols = train_FE.select_dtypes(include=['number']).shape[1]\n",
    "\n",
    "# Count columns with missing values\n",
    "num_missing_cols = train_FE.isnull().any().sum()\n",
    "\n",
    "# Display results\n",
    "print(f'Number of numeric columns: {num_numeric_cols}')\n",
    "print(f'Number of columns with missing values: {num_missing_cols}')"
   ]
  },
  {
   "cell_type": "code",
   "execution_count": 55,
   "id": "4ff077a5",
   "metadata": {},
   "outputs": [
    {
     "name": "stdout",
     "output_type": "stream",
     "text": [
      "Index(['writer', 'page_id', 'same_text', 'tortuosityHist10[0]',\n",
      "       'tortuosityHist10[1]', 'tortuosityHist10[2]', 'tortuosityHist10[3]',\n",
      "       'tortuosityHist10[4]', 'tortuosityHist10[5]', 'tortuosityHist10[6]',\n",
      "       ...\n",
      "       'directions_hist1a2a3a4a5a6a7a8a9a10_220[214]',\n",
      "       'directions_hist1a2a3a4a5a6a7a8a9a10_220[215]',\n",
      "       'directions_hist1a2a3a4a5a6a7a8a9a10_220[216]',\n",
      "       'directions_hist1a2a3a4a5a6a7a8a9a10_220[217]',\n",
      "       'directions_hist1a2a3a4a5a6a7a8a9a10_220[218]',\n",
      "       'directions_hist1a2a3a4a5a6a7a8a9a10_220[219]', 'isEng', 'train',\n",
      "       'male', 'index'],\n",
      "      dtype='object', length=7073)\n"
     ]
    }
   ],
   "source": [
    "print(train_FE.columns)"
   ]
  },
  {
   "cell_type": "code",
   "execution_count": 56,
   "id": "31b6ab22",
   "metadata": {},
   "outputs": [
    {
     "data": {
      "text/html": [
       "<div>\n",
       "<style scoped>\n",
       "    .dataframe tbody tr th:only-of-type {\n",
       "        vertical-align: middle;\n",
       "    }\n",
       "\n",
       "    .dataframe tbody tr th {\n",
       "        vertical-align: top;\n",
       "    }\n",
       "\n",
       "    .dataframe thead th {\n",
       "        text-align: right;\n",
       "    }\n",
       "</style>\n",
       "<table border=\"1\" class=\"dataframe\">\n",
       "  <thead>\n",
       "    <tr style=\"text-align: right;\">\n",
       "      <th></th>\n",
       "      <th>writer</th>\n",
       "      <th>page_id</th>\n",
       "      <th>same_text</th>\n",
       "      <th>tortuosityHist10[0]</th>\n",
       "      <th>tortuosityHist10[1]</th>\n",
       "      <th>tortuosityHist10[2]</th>\n",
       "      <th>tortuosityHist10[3]</th>\n",
       "      <th>tortuosityHist10[4]</th>\n",
       "      <th>tortuosityHist10[5]</th>\n",
       "      <th>tortuosityHist10[6]</th>\n",
       "      <th>...</th>\n",
       "      <th>directions_hist1a2a3a4a5a6a7a8a9a10_220[214]</th>\n",
       "      <th>directions_hist1a2a3a4a5a6a7a8a9a10_220[215]</th>\n",
       "      <th>directions_hist1a2a3a4a5a6a7a8a9a10_220[216]</th>\n",
       "      <th>directions_hist1a2a3a4a5a6a7a8a9a10_220[217]</th>\n",
       "      <th>directions_hist1a2a3a4a5a6a7a8a9a10_220[218]</th>\n",
       "      <th>directions_hist1a2a3a4a5a6a7a8a9a10_220[219]</th>\n",
       "      <th>isEng</th>\n",
       "      <th>train</th>\n",
       "      <th>male</th>\n",
       "      <th>index</th>\n",
       "    </tr>\n",
       "  </thead>\n",
       "  <tbody>\n",
       "    <tr>\n",
       "      <th>0</th>\n",
       "      <td>1</td>\n",
       "      <td>1</td>\n",
       "      <td>0</td>\n",
       "      <td>1.0</td>\n",
       "      <td>0.0</td>\n",
       "      <td>0.0</td>\n",
       "      <td>0.0</td>\n",
       "      <td>0.0</td>\n",
       "      <td>0.0</td>\n",
       "      <td>0.0</td>\n",
       "      <td>...</td>\n",
       "      <td>0.003014</td>\n",
       "      <td>0.003225</td>\n",
       "      <td>0.003572</td>\n",
       "      <td>0.003957</td>\n",
       "      <td>0.004232</td>\n",
       "      <td>0.004804</td>\n",
       "      <td>0</td>\n",
       "      <td>1</td>\n",
       "      <td>0</td>\n",
       "      <td>0</td>\n",
       "    </tr>\n",
       "    <tr>\n",
       "      <th>1</th>\n",
       "      <td>1</td>\n",
       "      <td>2</td>\n",
       "      <td>1</td>\n",
       "      <td>1.0</td>\n",
       "      <td>0.0</td>\n",
       "      <td>0.0</td>\n",
       "      <td>0.0</td>\n",
       "      <td>0.0</td>\n",
       "      <td>0.0</td>\n",
       "      <td>0.0</td>\n",
       "      <td>...</td>\n",
       "      <td>0.003246</td>\n",
       "      <td>0.003456</td>\n",
       "      <td>0.003709</td>\n",
       "      <td>0.003994</td>\n",
       "      <td>0.004308</td>\n",
       "      <td>0.004706</td>\n",
       "      <td>0</td>\n",
       "      <td>1</td>\n",
       "      <td>0</td>\n",
       "      <td>1</td>\n",
       "    </tr>\n",
       "    <tr>\n",
       "      <th>2</th>\n",
       "      <td>1</td>\n",
       "      <td>3</td>\n",
       "      <td>0</td>\n",
       "      <td>1.0</td>\n",
       "      <td>0.0</td>\n",
       "      <td>0.0</td>\n",
       "      <td>0.0</td>\n",
       "      <td>0.0</td>\n",
       "      <td>0.0</td>\n",
       "      <td>0.0</td>\n",
       "      <td>...</td>\n",
       "      <td>0.003438</td>\n",
       "      <td>0.003732</td>\n",
       "      <td>0.004100</td>\n",
       "      <td>0.004329</td>\n",
       "      <td>0.004687</td>\n",
       "      <td>0.004879</td>\n",
       "      <td>1</td>\n",
       "      <td>1</td>\n",
       "      <td>0</td>\n",
       "      <td>2</td>\n",
       "    </tr>\n",
       "    <tr>\n",
       "      <th>3</th>\n",
       "      <td>1</td>\n",
       "      <td>4</td>\n",
       "      <td>1</td>\n",
       "      <td>1.0</td>\n",
       "      <td>0.0</td>\n",
       "      <td>0.0</td>\n",
       "      <td>0.0</td>\n",
       "      <td>0.0</td>\n",
       "      <td>0.0</td>\n",
       "      <td>0.0</td>\n",
       "      <td>...</td>\n",
       "      <td>0.003788</td>\n",
       "      <td>0.004056</td>\n",
       "      <td>0.004285</td>\n",
       "      <td>0.004527</td>\n",
       "      <td>0.004843</td>\n",
       "      <td>0.005085</td>\n",
       "      <td>1</td>\n",
       "      <td>1</td>\n",
       "      <td>0</td>\n",
       "      <td>3</td>\n",
       "    </tr>\n",
       "    <tr>\n",
       "      <th>4</th>\n",
       "      <td>2</td>\n",
       "      <td>1</td>\n",
       "      <td>0</td>\n",
       "      <td>1.0</td>\n",
       "      <td>0.0</td>\n",
       "      <td>0.0</td>\n",
       "      <td>0.0</td>\n",
       "      <td>0.0</td>\n",
       "      <td>0.0</td>\n",
       "      <td>0.0</td>\n",
       "      <td>...</td>\n",
       "      <td>0.003425</td>\n",
       "      <td>0.003403</td>\n",
       "      <td>0.003450</td>\n",
       "      <td>0.003626</td>\n",
       "      <td>0.003977</td>\n",
       "      <td>0.004547</td>\n",
       "      <td>0</td>\n",
       "      <td>1</td>\n",
       "      <td>0</td>\n",
       "      <td>4</td>\n",
       "    </tr>\n",
       "  </tbody>\n",
       "</table>\n",
       "<p>5 rows × 7073 columns</p>\n",
       "</div>"
      ],
      "text/plain": [
       "   writer  page_id  same_text  tortuosityHist10[0]  tortuosityHist10[1]  \\\n",
       "0       1        1          0                  1.0                  0.0   \n",
       "1       1        2          1                  1.0                  0.0   \n",
       "2       1        3          0                  1.0                  0.0   \n",
       "3       1        4          1                  1.0                  0.0   \n",
       "4       2        1          0                  1.0                  0.0   \n",
       "\n",
       "   tortuosityHist10[2]  tortuosityHist10[3]  tortuosityHist10[4]  \\\n",
       "0                  0.0                  0.0                  0.0   \n",
       "1                  0.0                  0.0                  0.0   \n",
       "2                  0.0                  0.0                  0.0   \n",
       "3                  0.0                  0.0                  0.0   \n",
       "4                  0.0                  0.0                  0.0   \n",
       "\n",
       "   tortuosityHist10[5]  tortuosityHist10[6]  ...  \\\n",
       "0                  0.0                  0.0  ...   \n",
       "1                  0.0                  0.0  ...   \n",
       "2                  0.0                  0.0  ...   \n",
       "3                  0.0                  0.0  ...   \n",
       "4                  0.0                  0.0  ...   \n",
       "\n",
       "   directions_hist1a2a3a4a5a6a7a8a9a10_220[214]  \\\n",
       "0                                      0.003014   \n",
       "1                                      0.003246   \n",
       "2                                      0.003438   \n",
       "3                                      0.003788   \n",
       "4                                      0.003425   \n",
       "\n",
       "   directions_hist1a2a3a4a5a6a7a8a9a10_220[215]  \\\n",
       "0                                      0.003225   \n",
       "1                                      0.003456   \n",
       "2                                      0.003732   \n",
       "3                                      0.004056   \n",
       "4                                      0.003403   \n",
       "\n",
       "   directions_hist1a2a3a4a5a6a7a8a9a10_220[216]  \\\n",
       "0                                      0.003572   \n",
       "1                                      0.003709   \n",
       "2                                      0.004100   \n",
       "3                                      0.004285   \n",
       "4                                      0.003450   \n",
       "\n",
       "   directions_hist1a2a3a4a5a6a7a8a9a10_220[217]  \\\n",
       "0                                      0.003957   \n",
       "1                                      0.003994   \n",
       "2                                      0.004329   \n",
       "3                                      0.004527   \n",
       "4                                      0.003626   \n",
       "\n",
       "   directions_hist1a2a3a4a5a6a7a8a9a10_220[218]  \\\n",
       "0                                      0.004232   \n",
       "1                                      0.004308   \n",
       "2                                      0.004687   \n",
       "3                                      0.004843   \n",
       "4                                      0.003977   \n",
       "\n",
       "   directions_hist1a2a3a4a5a6a7a8a9a10_220[219]  isEng  train  male  index  \n",
       "0                                      0.004804      0      1     0      0  \n",
       "1                                      0.004706      0      1     0      1  \n",
       "2                                      0.004879      1      1     0      2  \n",
       "3                                      0.005085      1      1     0      3  \n",
       "4                                      0.004547      0      1     0      4  \n",
       "\n",
       "[5 rows x 7073 columns]"
      ]
     },
     "execution_count": 56,
     "metadata": {},
     "output_type": "execute_result"
    }
   ],
   "source": [
    "train_FE.head()"
   ]
  },
  {
   "cell_type": "code",
   "execution_count": 57,
   "id": "78875a1e",
   "metadata": {},
   "outputs": [],
   "source": [
    "#target_label='male'\n",
    "target_label='isEng'\n",
    "X_train = train_FE[train_FE['train']==1].drop(columns=['writer', 'same_text', 'train','page_id','isEng','train','index','male'])\n",
    "y_train = train_FE[train_FE['train']==1][target_label]\n",
    "X_val = train_FE[train_FE['train']==0].drop(columns=['writer', 'same_text', 'train','page_id','isEng','train','index','male'])\n",
    "y_val = train_FE[train_FE['train']==0][target_label]"
   ]
  },
  {
   "cell_type": "code",
   "execution_count": 58,
   "id": "cbb24f85",
   "metadata": {},
   "outputs": [],
   "source": [
    "# Define the model\n",
    "gbm_classifier = GradientBoostingClassifier(\n",
    "    n_estimators=100,  \n",
    "    learning_rate=0.1,  \n",
    "    max_depth=3,  \n",
    "    random_state=42\n",
    ")\n",
    "\n",
    "cat = CatBoostClassifier(iterations=100, learning_rate=0.1, depth=6, verbose=0, random_state=42)\n",
    "\n",
    "lgbm = lgb.LGBMClassifier(n_estimators=100, learning_rate=0.1, max_depth=-1, random_state=42)\n",
    "\n",
    "xgb = XGBClassifier(n_estimators=100, learning_rate=0.1, max_depth=3, random_state=42)\n",
    "\n",
    "feature_extraction_model = {'gbm': gbm_classifier, 'cat': cat, 'lgbm': lgbm, 'xgb': xgb}"
   ]
  },
  {
   "cell_type": "code",
   "execution_count": 59,
   "id": "6d2adb89",
   "metadata": {},
   "outputs": [],
   "source": [
    "selected_model = 'gbm'"
   ]
  },
  {
   "cell_type": "code",
   "execution_count": 60,
   "id": "5e31548f",
   "metadata": {},
   "outputs": [],
   "source": [
    "import time\n",
    "\n",
    "#feature_extraction_model = {'gbm': gbm_classifier, 'cat': cat, 'lgbm': lgbm, 'xgb': xgb}\n",
    "# Define the pipeline\n",
    "pipeline = Pipeline([\n",
    "    ('scaler', StandardScaler()),  # Normalize features\n",
    "    (selected_model, feature_extraction_model[selected_model])  # Train GBM classifier\n",
    "])"
   ]
  },
  {
   "cell_type": "code",
   "execution_count": 61,
   "id": "dccd92ff",
   "metadata": {},
   "outputs": [
    {
     "name": "stdout",
     "output_type": "stream",
     "text": [
      "Time taken to fit the model: 218.06 seconds\n"
     ]
    }
   ],
   "source": [
    "# Measure the start time\n",
    "start_time = time.time()\n",
    "\n",
    "# Fit the model on training data\n",
    "pipeline.fit(X_train, y_train)\n",
    "\n",
    "# Measure the end time\n",
    "end_time = time.time()\n",
    "\n",
    "# Calculate the time taken\n",
    "time_taken = end_time - start_time\n",
    "print(f\"Time taken to fit the model: {time_taken:.2f} seconds\")"
   ]
  },
  {
   "cell_type": "code",
   "execution_count": 62,
   "id": "50ebc12e",
   "metadata": {},
   "outputs": [
    {
     "name": "stdout",
     "output_type": "stream",
     "text": [
      "Validation Accuracy: 0.9741\n"
     ]
    }
   ],
   "source": [
    "# Predict on validation data\n",
    "y_pred = pipeline.predict(X_val)\n",
    "\n",
    "# Evaluate accuracy\n",
    "accuracy = accuracy_score(y_val, y_pred)\n",
    "print(f'Validation Accuracy: {accuracy:.4f}')"
   ]
  },
  {
   "cell_type": "code",
   "execution_count": 63,
   "id": "cae16cea",
   "metadata": {},
   "outputs": [
    {
     "name": "stdout",
     "output_type": "stream",
     "text": [
      "training Accuracy: 1.0000\n"
     ]
    }
   ],
   "source": [
    "# Predict on train data\n",
    "y_pred = pipeline.predict(X_train)\n",
    "\n",
    "# Evaluate accuracy\n",
    "training_accuracy = accuracy_score(y_train, y_pred)\n",
    "print(f'training Accuracy: {training_accuracy:.4f}')"
   ]
  },
  {
   "cell_type": "code",
   "execution_count": 64,
   "id": "b9deb3a2",
   "metadata": {},
   "outputs": [
    {
     "name": "stdout",
     "output_type": "stream",
     "text": [
      "Model saved to D:\\burtm\\Visual_studio_code\\PD_related_projects\\outputs\\models\\feature_extraction_model_isEng_gbm_val0-97_20250514_193002.joblib\n"
     ]
    }
   ],
   "source": [
    "source_path = \"D:\\\\burtm\\\\Visual_studio_code\\\\PD_related_projects\"\n",
    "timestamp = datetime.now().strftime(\"%Y%m%d_%H%M%S\")\n",
    "output_dir = os.path.join(source_path, \"outputs\", \"models\")\n",
    "os.makedirs(output_dir, exist_ok=True)  # Create the directory if it doesn't exist\n",
    "\n",
    "# Save the model\n",
    "model_filename = os.path.join(output_dir, f\"feature_extraction_model_{target_label}_{selected_model}_val{str(round(accuracy, 2)).replace('.', '-')}_{timestamp}.joblib\")\n",
    "joblib.dump(pipeline, model_filename)\n",
    "print(f\"Model saved to {model_filename}\")"
   ]
  },
  {
   "cell_type": "code",
   "execution_count": 65,
   "id": "d3335e1b",
   "metadata": {},
   "outputs": [
    {
     "name": "stdout",
     "output_type": "stream",
     "text": [
      "Log file path: D:\\burtm\\Visual_studio_code\\PD_related_projects\\outputs\\models\\file_metadata_log.json\n",
      "Output file path: D:\\burtm\\Visual_studio_code\\PD_related_projects\\outputs\\models\\feature_extraction_model_isEng_gbm_val0-97_20250514_193002.joblib\n",
      "Updated log for feature_extraction_model_isEng_gbm_val0-97_20250514_193002.joblib\n"
     ]
    }
   ],
   "source": [
    "# Example usage:\n",
    "LOG_FILE = output_dir+\"\\\\file_metadata_log.json\"\n",
    "print(f\"Log file path: {LOG_FILE}\")\n",
    "print(f\"Output file path: {model_filename}\")\n",
    "file_IO.add_or_update_file(\n",
    "    model_filename, LOG_FILE,\n",
    "    custom_metadata={\n",
    "        #\"seed\": seed,\n",
    "        \"trained on file\": os.path.basename(input_file),\n",
    "        \"model\": selected_model,\n",
    "        \"model_params\": feature_extraction_model[selected_model].get_params(),\n",
    "        \"training time\": time_taken,\n",
    "        \"accuracy train\": training_accuracy,\n",
    "        \"accuracy val\": accuracy,\n",
    "        \"problem type\": target_label,\n",
    "        \"description\": '''training information for the model''' \n",
    "    }\n",
    ")"
   ]
  },
  {
   "cell_type": "code",
   "execution_count": 66,
   "id": "d26dd36b",
   "metadata": {},
   "outputs": [
    {
     "name": "stdout",
     "output_type": "stream",
     "text": [
      "Metadata for feature_extraction_model_isEng_gbm_val0-97_20250514_193002.joblib:\n",
      "full_path: D:\\burtm\\Visual_studio_code\\PD_related_projects\\outputs\\models\\feature_extraction_model_isEng_gbm_val0-97_20250514_193002.joblib\n",
      "size_bytes: 626421\n",
      "created: 2025-05-14T19:30:02.242466\n",
      "modified: 2025-05-14T19:30:02.372957\n",
      "accessed: 2025-05-14T19:30:02.372957\n",
      "trained on file: icdar_train_df_KAGGLE_20250514_181737.csv\n",
      "model: gbm\n",
      "model_params: {'ccp_alpha': 0.0, 'criterion': 'friedman_mse', 'init': None, 'learning_rate': 0.1, 'loss': 'log_loss', 'max_depth': 3, 'max_features': None, 'max_leaf_nodes': None, 'min_impurity_decrease': 0.0, 'min_samples_leaf': 1, 'min_samples_split': 2, 'min_weight_fraction_leaf': 0.0, 'n_estimators': 100, 'n_iter_no_change': None, 'random_state': 42, 'subsample': 1.0, 'tol': 0.0001, 'validation_fraction': 0.1, 'verbose': 0, 'warm_start': False}\n",
      "training time: 218.05695796012878\n",
      "accuracy train: 1.0\n",
      "accuracy val: 0.9741379310344828\n",
      "problem type: isEng\n",
      "description: training information for the model\n"
     ]
    }
   ],
   "source": [
    "file_IO.read_metadata(\n",
    "    model_filename,\n",
    "    log_path=LOG_FILE\n",
    ")"
   ]
  },
  {
   "cell_type": "markdown",
   "id": "e7024107",
   "metadata": {},
   "source": [
    "# easy access"
   ]
  },
  {
   "cell_type": "code",
   "execution_count": 30,
   "id": "2eaf8afe",
   "metadata": {},
   "outputs": [],
   "source": [
    "def reload_modules():\n",
    "    import importlib\n",
    "    import utils.file_IO as file_IO\n",
    "    \n",
    "\n",
    "    importlib.reload(file_IO)\n",
    "\n",
    "    return file_IO\n",
    "\n",
    "file_IO = reload_modules()"
   ]
  }
 ],
 "metadata": {
  "kernelspec": {
   "display_name": "GeneralPurposeML",
   "language": "python",
   "name": "python3"
  },
  "language_info": {
   "codemirror_mode": {
    "name": "ipython",
    "version": 3
   },
   "file_extension": ".py",
   "mimetype": "text/x-python",
   "name": "python",
   "nbconvert_exporter": "python",
   "pygments_lexer": "ipython3",
   "version": "3.10.16"
  }
 },
 "nbformat": 4,
 "nbformat_minor": 5
}
