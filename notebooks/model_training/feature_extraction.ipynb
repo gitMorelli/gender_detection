{
 "cells": [
  {
   "cell_type": "code",
   "execution_count": 1,
   "id": "fa895c53",
   "metadata": {},
   "outputs": [],
   "source": [
    "from xgboost import XGBClassifier\n",
    "import lightgbm as lgb\n",
    "from catboost import CatBoostClassifier\n",
    "\n",
    "import matplotlib.pyplot as plt\n",
    "import os\n",
    "import pandas as pd\n",
    "import numpy as np\n",
    "import joblib\n",
    "from datetime import datetime\n",
    "import sys\n",
    "\n",
    "from sklearn.ensemble import GradientBoostingClassifier\n",
    "from sklearn.pipeline import Pipeline\n",
    "from sklearn.preprocessing import StandardScaler\n",
    "from sklearn.ensemble import GradientBoostingClassifier\n",
    "from sklearn.metrics import accuracy_score\n",
    "\n",
    "sys.path.append(os.path.abspath(\"D:\\\\burtm\\\\Visual_studio_code\\\\PD_related_projects\"))\n"
   ]
  },
  {
   "cell_type": "code",
   "execution_count": 35,
   "id": "1cab0fc9",
   "metadata": {},
   "outputs": [],
   "source": [
    "source_path = 'D:\\\\burtm\\\\Visual_studio_code\\\\PD_related_projects\\\\outputs\\\\preprocessed_data\\\\'\n",
    "#input_file='icdar_train_df_KAGGLE_20250514_181737.csv'\n",
    "input_file=source_path+'icdar_EXTRACTED_train_df_dresnet50_20250520_143808.csv'\n",
    "#icdar_EXTRACTED_train_df_crnn_vgg16_bn_20250520_165111.csv padding\n",
    "# icdar_EXTRACTED_train_df_crnn_vgg16_bn_20250520_161925.csv crop\n",
    "# icdar_EXTRACTED_train_df_crnn_vgg16_bn_20250520_153435.csv resizing \n",
    "#icdar_EXTRACTED_train_df_dresnet50_20250520_143808.csv \n",
    "train_FE = pd.read_csv(input_file)"
   ]
  },
  {
   "cell_type": "code",
   "execution_count": 3,
   "id": "62e3a9ab",
   "metadata": {},
   "outputs": [],
   "source": [
    "is_kaggle = False\n",
    "with_pca=False"
   ]
  },
  {
   "cell_type": "code",
   "execution_count": 4,
   "id": "9ed6c77c",
   "metadata": {},
   "outputs": [
    {
     "name": "stdout",
     "output_type": "stream",
     "text": [
      "Number of numeric columns: 523\n",
      "Number of columns with missing values: 0\n"
     ]
    }
   ],
   "source": [
    "# Count numeric columns\n",
    "num_numeric_cols = train_FE.select_dtypes(include=['number']).shape[1]\n",
    "\n",
    "# Count columns with missing values\n",
    "num_missing_cols = train_FE.isnull().any().sum()\n",
    "\n",
    "# Display results\n",
    "print(f'Number of numeric columns: {num_numeric_cols}')\n",
    "print(f'Number of columns with missing values: {num_missing_cols}')"
   ]
  },
  {
   "cell_type": "code",
   "execution_count": 10,
   "id": "31b6ab22",
   "metadata": {},
   "outputs": [
    {
     "data": {
      "text/html": [
       "<div>\n",
       "<style scoped>\n",
       "    .dataframe tbody tr th:only-of-type {\n",
       "        vertical-align: middle;\n",
       "    }\n",
       "\n",
       "    .dataframe tbody tr th {\n",
       "        vertical-align: top;\n",
       "    }\n",
       "\n",
       "    .dataframe thead th {\n",
       "        text-align: right;\n",
       "    }\n",
       "</style>\n",
       "<table border=\"1\" class=\"dataframe\">\n",
       "  <thead>\n",
       "    <tr style=\"text-align: right;\">\n",
       "      <th></th>\n",
       "      <th>writer</th>\n",
       "      <th>isEng</th>\n",
       "      <th>same_text</th>\n",
       "      <th>file_name</th>\n",
       "      <th>male</th>\n",
       "      <th>train</th>\n",
       "      <th>index</th>\n",
       "      <th>x</th>\n",
       "      <th>y</th>\n",
       "      <th>x2</th>\n",
       "      <th>...</th>\n",
       "      <th>f759</th>\n",
       "      <th>f760</th>\n",
       "      <th>f761</th>\n",
       "      <th>f762</th>\n",
       "      <th>f763</th>\n",
       "      <th>f764</th>\n",
       "      <th>f765</th>\n",
       "      <th>f766</th>\n",
       "      <th>f767</th>\n",
       "      <th>f768</th>\n",
       "    </tr>\n",
       "  </thead>\n",
       "  <tbody>\n",
       "    <tr>\n",
       "      <th>0</th>\n",
       "      <td>1</td>\n",
       "      <td>0</td>\n",
       "      <td>0</td>\n",
       "      <td>D:\\download\\PD project\\datasets\\ICDAR 2013 - G...</td>\n",
       "      <td>0</td>\n",
       "      <td>1</td>\n",
       "      <td>0</td>\n",
       "      <td>0</td>\n",
       "      <td>493</td>\n",
       "      <td>493</td>\n",
       "      <td>...</td>\n",
       "      <td>-0.157444</td>\n",
       "      <td>-0.071830</td>\n",
       "      <td>0.153469</td>\n",
       "      <td>-0.085469</td>\n",
       "      <td>-0.005282</td>\n",
       "      <td>-0.051098</td>\n",
       "      <td>0.051322</td>\n",
       "      <td>-0.049213</td>\n",
       "      <td>0.045018</td>\n",
       "      <td>-0.157976</td>\n",
       "    </tr>\n",
       "    <tr>\n",
       "      <th>1</th>\n",
       "      <td>1</td>\n",
       "      <td>0</td>\n",
       "      <td>0</td>\n",
       "      <td>D:\\download\\PD project\\datasets\\ICDAR 2013 - G...</td>\n",
       "      <td>0</td>\n",
       "      <td>1</td>\n",
       "      <td>1</td>\n",
       "      <td>493</td>\n",
       "      <td>493</td>\n",
       "      <td>986</td>\n",
       "      <td>...</td>\n",
       "      <td>-0.071231</td>\n",
       "      <td>-0.048658</td>\n",
       "      <td>0.237796</td>\n",
       "      <td>-0.149107</td>\n",
       "      <td>0.064615</td>\n",
       "      <td>-0.074437</td>\n",
       "      <td>0.204165</td>\n",
       "      <td>0.000632</td>\n",
       "      <td>-0.025162</td>\n",
       "      <td>-0.199461</td>\n",
       "    </tr>\n",
       "    <tr>\n",
       "      <th>2</th>\n",
       "      <td>1</td>\n",
       "      <td>0</td>\n",
       "      <td>0</td>\n",
       "      <td>D:\\download\\PD project\\datasets\\ICDAR 2013 - G...</td>\n",
       "      <td>0</td>\n",
       "      <td>1</td>\n",
       "      <td>2</td>\n",
       "      <td>1479</td>\n",
       "      <td>493</td>\n",
       "      <td>1972</td>\n",
       "      <td>...</td>\n",
       "      <td>-0.123792</td>\n",
       "      <td>-0.072135</td>\n",
       "      <td>0.173672</td>\n",
       "      <td>-0.139977</td>\n",
       "      <td>0.003667</td>\n",
       "      <td>-0.058085</td>\n",
       "      <td>0.085976</td>\n",
       "      <td>0.031146</td>\n",
       "      <td>-0.085116</td>\n",
       "      <td>-0.176518</td>\n",
       "    </tr>\n",
       "    <tr>\n",
       "      <th>3</th>\n",
       "      <td>1</td>\n",
       "      <td>0</td>\n",
       "      <td>0</td>\n",
       "      <td>D:\\download\\PD project\\datasets\\ICDAR 2013 - G...</td>\n",
       "      <td>0</td>\n",
       "      <td>1</td>\n",
       "      <td>3</td>\n",
       "      <td>986</td>\n",
       "      <td>493</td>\n",
       "      <td>1479</td>\n",
       "      <td>...</td>\n",
       "      <td>-0.169500</td>\n",
       "      <td>-0.034012</td>\n",
       "      <td>0.210294</td>\n",
       "      <td>-0.128820</td>\n",
       "      <td>-0.058314</td>\n",
       "      <td>-0.134394</td>\n",
       "      <td>0.076376</td>\n",
       "      <td>-0.011624</td>\n",
       "      <td>0.096393</td>\n",
       "      <td>-0.211085</td>\n",
       "    </tr>\n",
       "    <tr>\n",
       "      <th>4</th>\n",
       "      <td>1</td>\n",
       "      <td>0</td>\n",
       "      <td>0</td>\n",
       "      <td>D:\\download\\PD project\\datasets\\ICDAR 2013 - G...</td>\n",
       "      <td>0</td>\n",
       "      <td>1</td>\n",
       "      <td>4</td>\n",
       "      <td>1972</td>\n",
       "      <td>493</td>\n",
       "      <td>2465</td>\n",
       "      <td>...</td>\n",
       "      <td>-0.133709</td>\n",
       "      <td>-0.068476</td>\n",
       "      <td>0.155843</td>\n",
       "      <td>-0.123356</td>\n",
       "      <td>-0.037430</td>\n",
       "      <td>-0.114230</td>\n",
       "      <td>-0.004338</td>\n",
       "      <td>-0.086928</td>\n",
       "      <td>-0.083811</td>\n",
       "      <td>-0.154938</td>\n",
       "    </tr>\n",
       "  </tbody>\n",
       "</table>\n",
       "<p>5 rows × 780 columns</p>\n",
       "</div>"
      ],
      "text/plain": [
       "   writer  isEng  same_text  \\\n",
       "0       1      0          0   \n",
       "1       1      0          0   \n",
       "2       1      0          0   \n",
       "3       1      0          0   \n",
       "4       1      0          0   \n",
       "\n",
       "                                           file_name  male  train  index  \\\n",
       "0  D:\\download\\PD project\\datasets\\ICDAR 2013 - G...     0      1      0   \n",
       "1  D:\\download\\PD project\\datasets\\ICDAR 2013 - G...     0      1      1   \n",
       "2  D:\\download\\PD project\\datasets\\ICDAR 2013 - G...     0      1      2   \n",
       "3  D:\\download\\PD project\\datasets\\ICDAR 2013 - G...     0      1      3   \n",
       "4  D:\\download\\PD project\\datasets\\ICDAR 2013 - G...     0      1      4   \n",
       "\n",
       "      x    y    x2  ...      f759      f760      f761      f762      f763  \\\n",
       "0     0  493   493  ... -0.157444 -0.071830  0.153469 -0.085469 -0.005282   \n",
       "1   493  493   986  ... -0.071231 -0.048658  0.237796 -0.149107  0.064615   \n",
       "2  1479  493  1972  ... -0.123792 -0.072135  0.173672 -0.139977  0.003667   \n",
       "3   986  493  1479  ... -0.169500 -0.034012  0.210294 -0.128820 -0.058314   \n",
       "4  1972  493  2465  ... -0.133709 -0.068476  0.155843 -0.123356 -0.037430   \n",
       "\n",
       "       f764      f765      f766      f767      f768  \n",
       "0 -0.051098  0.051322 -0.049213  0.045018 -0.157976  \n",
       "1 -0.074437  0.204165  0.000632 -0.025162 -0.199461  \n",
       "2 -0.058085  0.085976  0.031146 -0.085116 -0.176518  \n",
       "3 -0.134394  0.076376 -0.011624  0.096393 -0.211085  \n",
       "4 -0.114230 -0.004338 -0.086928 -0.083811 -0.154938  \n",
       "\n",
       "[5 rows x 780 columns]"
      ]
     },
     "execution_count": 10,
     "metadata": {},
     "output_type": "execute_result"
    }
   ],
   "source": [
    "train_FE.head()"
   ]
  },
  {
   "cell_type": "code",
   "execution_count": 36,
   "id": "78875a1e",
   "metadata": {},
   "outputs": [
    {
     "name": "stdout",
     "output_type": "stream",
     "text": [
      "['writer', 'isEng', 'same_text', 'file_name', 'male', 'train', 'index', 'x', 'y', 'x2', 'y2', 'n_cc']\n"
     ]
    }
   ],
   "source": [
    "target_label='male'\n",
    "#target_label='isEng'\n",
    "if is_kaggle:\n",
    "    cols_to_drop = ['writer', 'same_text', 'train','page_id','isEng','train','index','male']\n",
    "else:\n",
    "    cols_to_drop = [c for c in train_FE.columns if not(c.startswith('f') and len(c) > 1 and c[1].isdigit())]\n",
    "    print(cols_to_drop)\n",
    "X_train = train_FE[train_FE['train']==1].drop(columns=cols_to_drop)\n",
    "y_train = train_FE[train_FE['train']==1][target_label]\n",
    "X_val = train_FE[train_FE['train']==0].drop(columns=cols_to_drop)\n",
    "y_val = train_FE[train_FE['train']==0][target_label]"
   ]
  },
  {
   "cell_type": "code",
   "execution_count": 37,
   "id": "cbb24f85",
   "metadata": {},
   "outputs": [],
   "source": [
    "# Define the model\n",
    "gbm_classifier = GradientBoostingClassifier(\n",
    "    n_estimators=100,  \n",
    "    learning_rate=0.1,  \n",
    "    max_depth=3,  \n",
    "    random_state=42\n",
    ")\n",
    "\n",
    "cat = CatBoostClassifier(iterations=100, learning_rate=0.1, depth=6, verbose=0, random_state=42)\n",
    "\n",
    "lgbm = lgb.LGBMClassifier(n_estimators=100, learning_rate=0.1, max_depth=-1, random_state=42)\n",
    "\n",
    "xgb = XGBClassifier(n_estimators=100, learning_rate=0.1, max_depth=3, random_state=42)\n",
    "\n",
    "feature_extraction_model = {'gbm': gbm_classifier, 'cat': cat, 'lgbm': lgbm, 'xgb': xgb}"
   ]
  },
  {
   "cell_type": "code",
   "execution_count": 7,
   "id": "6d2adb89",
   "metadata": {},
   "outputs": [],
   "source": [
    "selected_model = 'gbm'"
   ]
  },
  {
   "cell_type": "code",
   "execution_count": 38,
   "id": "5e31548f",
   "metadata": {},
   "outputs": [],
   "source": [
    "import time\n",
    "\n",
    "#feature_extraction_model = {'gbm': gbm_classifier, 'cat': cat, 'lgbm': lgbm, 'xgb': xgb}\n",
    "# Define the pipeline\n",
    "if with_pca:\n",
    "    from sklearn.decomposition import PCA\n",
    "    pca = PCA(n_components=384)  \n",
    "    pipeline = Pipeline([\n",
    "        ('scaler', StandardScaler()),  # Normalize features\n",
    "        ('pca', pca),  # Apply PCA\n",
    "        (selected_model, feature_extraction_model[selected_model])  # Train GBM classifier\n",
    "    ])\n",
    "else:    \n",
    "    pipeline = Pipeline([\n",
    "        ('scaler', StandardScaler()),  # Normalize features\n",
    "        (selected_model, feature_extraction_model[selected_model])  # Train GBM classifier\n",
    "    ])"
   ]
  },
  {
   "cell_type": "code",
   "execution_count": 39,
   "id": "dccd92ff",
   "metadata": {},
   "outputs": [
    {
     "name": "stdout",
     "output_type": "stream",
     "text": [
      "Time taken to fit the model: 674.21 seconds\n"
     ]
    }
   ],
   "source": [
    "# Measure the start time\n",
    "start_time = time.time()\n",
    "\n",
    "# Fit the model on training data\n",
    "pipeline.fit(X_train, y_train)\n",
    "\n",
    "# Measure the end time\n",
    "end_time = time.time()\n",
    "\n",
    "# Calculate the time taken\n",
    "time_taken = end_time - start_time\n",
    "print(f\"Time taken to fit the model: {time_taken:.2f} seconds\")"
   ]
  },
  {
   "cell_type": "code",
   "execution_count": 40,
   "id": "50ebc12e",
   "metadata": {},
   "outputs": [
    {
     "name": "stdout",
     "output_type": "stream",
     "text": [
      "Validation Accuracy: 0.6276\n"
     ]
    }
   ],
   "source": [
    "# Predict on validation data\n",
    "y_pred = pipeline.predict(X_val)\n",
    "\n",
    "# Evaluate accuracy\n",
    "accuracy = accuracy_score(y_val, y_pred)\n",
    "print(f'Validation Accuracy: {accuracy:.4f}')"
   ]
  },
  {
   "cell_type": "code",
   "execution_count": 41,
   "id": "cae16cea",
   "metadata": {},
   "outputs": [
    {
     "name": "stdout",
     "output_type": "stream",
     "text": [
      "training Accuracy: 0.8421\n"
     ]
    }
   ],
   "source": [
    "# Predict on train data\n",
    "y_pred = pipeline.predict(X_train)\n",
    "\n",
    "# Evaluate accuracy\n",
    "training_accuracy = accuracy_score(y_train, y_pred)\n",
    "print(f'training Accuracy: {training_accuracy:.4f}')"
   ]
  },
  {
   "cell_type": "code",
   "execution_count": 42,
   "id": "b9deb3a2",
   "metadata": {},
   "outputs": [
    {
     "name": "stdout",
     "output_type": "stream",
     "text": [
      "Model saved to D:\\burtm\\Visual_studio_code\\PD_related_projects\\outputs\\models\\deep_feature_extraction_model_male_gbm_val0-63_20250520_173200.joblib\n"
     ]
    }
   ],
   "source": [
    "source_path = \"D:\\\\burtm\\\\Visual_studio_code\\\\PD_related_projects\"\n",
    "timestamp = datetime.now().strftime(\"%Y%m%d_%H%M%S\")\n",
    "output_dir = os.path.join(source_path, \"outputs\", \"models\")\n",
    "os.makedirs(output_dir, exist_ok=True)  # Create the directory if it doesn't exist\n",
    "\n",
    "if is_kaggle:\n",
    "    tipo='kaggle'\n",
    "else:\n",
    "    tipo='deep'\n",
    "# Save the model\n",
    "model_filename = os.path.join(output_dir, f\"{tipo}_feature_extraction_model_{target_label}_{selected_model}_val{str(round(accuracy, 2)).replace('.', '-')}_{timestamp}.joblib\")\n",
    "joblib.dump(pipeline, model_filename)\n",
    "print(f\"Model saved to {model_filename}\")"
   ]
  },
  {
   "cell_type": "code",
   "execution_count": 43,
   "id": "d3335e1b",
   "metadata": {},
   "outputs": [
    {
     "name": "stdout",
     "output_type": "stream",
     "text": [
      "Log file path: D:\\burtm\\Visual_studio_code\\PD_related_projects\\outputs\\models\\file_metadata_log.json\n",
      "Output file path: D:\\burtm\\Visual_studio_code\\PD_related_projects\\outputs\\models\\deep_feature_extraction_model_male_gbm_val0-63_20250520_173200.joblib\n",
      "Updated log for deep_feature_extraction_model_male_gbm_val0-63_20250520_173200.joblib\n"
     ]
    }
   ],
   "source": [
    "# Example usage:\n",
    "LOG_FILE = output_dir+\"\\\\file_metadata_log.json\"\n",
    "print(f\"Log file path: {LOG_FILE}\")\n",
    "print(f\"Output file path: {model_filename}\")\n",
    "file_IO.add_or_update_file(\n",
    "    model_filename, LOG_FILE,\n",
    "    custom_metadata={\n",
    "        #\"seed\": seed,\n",
    "        \"trained on file\": os.path.basename(input_file),\n",
    "        \"model\": selected_model,\n",
    "        \"model_params\": feature_extraction_model[selected_model].get_params(),\n",
    "        \"training time\": time_taken,\n",
    "        \"accuracy train\": training_accuracy,\n",
    "        \"accuracy val\": accuracy,\n",
    "        \"problem type\": target_label,\n",
    "        \"input file\": input_file,\n",
    "        \"with PCA\": with_pca,\n",
    "        \"description\": '''I am testing a drnet50 model with a GBM classifier on the features extracted from the images.''' \n",
    "    }\n",
    ")"
   ]
  },
  {
   "cell_type": "code",
   "execution_count": 20,
   "id": "d26dd36b",
   "metadata": {},
   "outputs": [
    {
     "name": "stdout",
     "output_type": "stream",
     "text": [
      "Metadata for deep_feature_extraction_model_male_gbm_val0-67_20250517_160824.joblib:\n",
      "full_path: D:\\burtm\\Visual_studio_code\\PD_related_projects\\outputs\\models\\deep_feature_extraction_model_male_gbm_val0-67_20250517_160824.joblib\n",
      "size_bytes: 221717\n",
      "created: 2025-05-17T16:08:25.016231\n",
      "modified: 2025-05-17T16:08:25.364292\n",
      "accessed: 2025-05-17T16:08:25.364292\n",
      "trained on file: icdar_EXTRACTED_train_df_vit-base-patch16-224-in21k_20250517_151642.csv\n",
      "model: gbm\n",
      "model_params: {'ccp_alpha': 0.0, 'criterion': 'friedman_mse', 'init': None, 'learning_rate': 0.1, 'loss': 'log_loss', 'max_depth': 3, 'max_features': None, 'max_leaf_nodes': None, 'min_impurity_decrease': 0.0, 'min_samples_leaf': 1, 'min_samples_split': 2, 'min_weight_fraction_leaf': 0.0, 'n_estimators': 100, 'n_iter_no_change': None, 'random_state': 42, 'subsample': 1.0, 'tol': 0.0001, 'validation_fraction': 0.1, 'verbose': 0, 'warm_start': False}\n",
      "training time: 277.32010316848755\n",
      "accuracy train: 0.8478260869565217\n",
      "accuracy val: 0.6655172413793103\n",
      "problem type: male\n",
      "input file: D:\\burtm\\Visual_studio_code\\PD_related_projects\\outputs\\preprocessed_data\\icdar_EXTRACTED_train_df_vit-base-patch16-224-in21k_20250517_151642.csv\n",
      "description: training information for the model\n"
     ]
    }
   ],
   "source": [
    "file_IO.read_metadata(\n",
    "    model_filename,\n",
    "    log_path=LOG_FILE\n",
    ")"
   ]
  },
  {
   "cell_type": "markdown",
   "id": "e7024107",
   "metadata": {},
   "source": [
    "# easy access"
   ]
  },
  {
   "cell_type": "code",
   "execution_count": 14,
   "id": "2eaf8afe",
   "metadata": {},
   "outputs": [],
   "source": [
    "def reload_modules():\n",
    "    import importlib\n",
    "    import utils.file_IO as file_IO\n",
    "    \n",
    "\n",
    "    importlib.reload(file_IO)\n",
    "\n",
    "    return file_IO\n",
    "\n",
    "file_IO = reload_modules()"
   ]
  }
 ],
 "metadata": {
  "kernelspec": {
   "display_name": "GeneralPurposeML",
   "language": "python",
   "name": "python3"
  },
  "language_info": {
   "codemirror_mode": {
    "name": "ipython",
    "version": 3
   },
   "file_extension": ".py",
   "mimetype": "text/x-python",
   "name": "python",
   "nbconvert_exporter": "python",
   "pygments_lexer": "ipython3",
   "version": "3.10.16"
  }
 },
 "nbformat": 4,
 "nbformat_minor": 5
}
