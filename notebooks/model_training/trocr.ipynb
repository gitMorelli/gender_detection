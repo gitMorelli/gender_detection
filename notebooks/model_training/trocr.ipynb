{
 "cells": [
  {
   "cell_type": "code",
   "execution_count": 1,
   "id": "1123c1b3",
   "metadata": {},
   "outputs": [],
   "source": [
    "import sys\n",
    "import os\n",
    "import torch\n",
    "import torch.nn as nn\n",
    "import torch.optim as optim\n",
    "from datetime import datetime\n",
    "\n",
    "sys.path.append(os.path.abspath(\"D:\\\\burtm\\\\Visual_studio_code\\\\PD_related_projects\"))\n",
    "\n",
    "from utils.model_utils import get_model, get_trainable_layers\n",
    "from utils.data_loading import get_dataloaders\n",
    "from utils.utils_transforms import get_transform  \n",
    "from utils.training_utils import fine_tune_last_n_layers, train_model, get_criterion, get_optimizer, get_scheduler"
   ]
  },
  {
   "cell_type": "code",
   "execution_count": 2,
   "id": "981875c0",
   "metadata": {},
   "outputs": [
    {
     "name": "stderr",
     "output_type": "stream",
     "text": [
      "d:\\burtm\\Visual_studio_code\\conda_environments\\GeneralPurposeML\\lib\\site-packages\\tqdm\\auto.py:21: TqdmWarning: IProgress not found. Please update jupyter and ipywidgets. See https://ipywidgets.readthedocs.io/en/stable/user_install.html\n",
      "  from .autonotebook import tqdm as notebook_tqdm\n"
     ]
    }
   ],
   "source": [
    "import accelerate\n",
    "import peft\n",
    "import bitsandbytes"
   ]
  },
  {
   "cell_type": "code",
   "execution_count": 35,
   "id": "9a2add41",
   "metadata": {},
   "outputs": [],
   "source": [
    "from transformers import TrOCRProcessor, VisionEncoderDecoderModel, PreTrainedModel, PretrainedConfig\n",
    "from PIL import Image\n",
    "import requests\n",
    "\n",
    "# load image from the IAM database\n",
    "'''url = 'https://fki.tic.heia-fr.ch/static/img/a01-122-02-00.jpg'\n",
    "image = Image.open(requests.get(url, stream=True).raw).convert(\"RGB\")'''\n",
    "# Select one word image from the word_images list\n",
    "\n",
    "#processor = TrOCRProcessor.from_pretrained('microsoft/trocr-small-handwritten')\n",
    "#processor = TrOCRProcessor.from_pretrained('microsoft/trocr-small-handwritten',force_download=True) #force download clear the cache and redownload the model\n",
    "#processor = TrOCRProcessor.from_pretrained('microsoft/trocr-small-handwritten',use_fast=False)\n",
    "processor = TrOCRProcessor.from_pretrained('microsoft/trocr-small-stage1',use_fast=False)"
   ]
  },
  {
   "cell_type": "code",
   "execution_count": 36,
   "id": "eee23cc4",
   "metadata": {},
   "outputs": [
    {
     "name": "stderr",
     "output_type": "stream",
     "text": [
      "Config of the encoder: <class 'transformers.models.deit.modeling_deit.DeiTModel'> is overwritten by shared encoder config: DeiTConfig {\n",
      "  \"attention_probs_dropout_prob\": 0.0,\n",
      "  \"encoder_stride\": 16,\n",
      "  \"hidden_act\": \"gelu\",\n",
      "  \"hidden_dropout_prob\": 0.0,\n",
      "  \"hidden_size\": 384,\n",
      "  \"image_size\": 384,\n",
      "  \"initializer_range\": 0.02,\n",
      "  \"intermediate_size\": 1536,\n",
      "  \"layer_norm_eps\": 1e-12,\n",
      "  \"model_type\": \"deit\",\n",
      "  \"num_attention_heads\": 6,\n",
      "  \"num_channels\": 3,\n",
      "  \"num_hidden_layers\": 12,\n",
      "  \"patch_size\": 16,\n",
      "  \"qkv_bias\": true,\n",
      "  \"transformers_version\": \"4.48.2\"\n",
      "}\n",
      "\n",
      "Config of the decoder: <class 'transformers.models.trocr.modeling_trocr.TrOCRForCausalLM'> is overwritten by shared decoder config: TrOCRConfig {\n",
      "  \"activation_dropout\": 0.0,\n",
      "  \"activation_function\": \"relu\",\n",
      "  \"add_cross_attention\": true,\n",
      "  \"attention_dropout\": 0.0,\n",
      "  \"bos_token_id\": 0,\n",
      "  \"classifier_dropout\": 0.0,\n",
      "  \"cross_attention_hidden_size\": 384,\n",
      "  \"d_model\": 256,\n",
      "  \"decoder_attention_heads\": 8,\n",
      "  \"decoder_ffn_dim\": 1024,\n",
      "  \"decoder_layerdrop\": 0.0,\n",
      "  \"decoder_layers\": 6,\n",
      "  \"decoder_start_token_id\": 2,\n",
      "  \"dropout\": 0.1,\n",
      "  \"eos_token_id\": 2,\n",
      "  \"init_std\": 0.02,\n",
      "  \"is_decoder\": true,\n",
      "  \"layernorm_embedding\": true,\n",
      "  \"max_position_embeddings\": 512,\n",
      "  \"model_type\": \"trocr\",\n",
      "  \"pad_token_id\": 1,\n",
      "  \"scale_embedding\": true,\n",
      "  \"tie_word_embeddings\": false,\n",
      "  \"transformers_version\": \"4.48.2\",\n",
      "  \"use_cache\": false,\n",
      "  \"use_learned_position_embeddings\": true,\n",
      "  \"vocab_size\": 64044\n",
      "}\n",
      "\n",
      "Some weights of VisionEncoderDecoderModel were not initialized from the model checkpoint at microsoft/trocr-small-stage1 and are newly initialized: ['encoder.pooler.dense.bias', 'encoder.pooler.dense.weight']\n",
      "You should probably TRAIN this model on a down-stream task to be able to use it for predictions and inference.\n"
     ]
    }
   ],
   "source": [
    "#model = VisionEncoderDecoderModel.from_pretrained('microsoft/trocr-small-handwritten')\n",
    "model = VisionEncoderDecoderModel.from_pretrained('microsoft/trocr-small-stage1')"
   ]
  },
  {
   "cell_type": "code",
   "execution_count": 5,
   "id": "d244cdd7",
   "metadata": {},
   "outputs": [
    {
     "name": "stdout",
     "output_type": "stream",
     "text": [
      "VisionEncoderDecoderModel(\n",
      "  (encoder): DeiTModel(\n",
      "    (embeddings): DeiTEmbeddings(\n",
      "      (patch_embeddings): DeiTPatchEmbeddings(\n",
      "        (projection): Conv2d(3, 384, kernel_size=(16, 16), stride=(16, 16))\n",
      "      )\n",
      "      (dropout): Dropout(p=0.0, inplace=False)\n",
      "    )\n",
      "    (encoder): DeiTEncoder(\n",
      "      (layer): ModuleList(\n",
      "        (0-11): 12 x DeiTLayer(\n",
      "          (attention): DeiTSdpaAttention(\n",
      "            (attention): DeiTSdpaSelfAttention(\n",
      "              (query): Linear(in_features=384, out_features=384, bias=True)\n",
      "              (key): Linear(in_features=384, out_features=384, bias=True)\n",
      "              (value): Linear(in_features=384, out_features=384, bias=True)\n",
      "              (dropout): Dropout(p=0.0, inplace=False)\n",
      "            )\n",
      "            (output): DeiTSelfOutput(\n",
      "              (dense): Linear(in_features=384, out_features=384, bias=True)\n",
      "              (dropout): Dropout(p=0.0, inplace=False)\n",
      "            )\n",
      "          )\n",
      "          (intermediate): DeiTIntermediate(\n",
      "            (dense): Linear(in_features=384, out_features=1536, bias=True)\n",
      "            (intermediate_act_fn): GELUActivation()\n",
      "          )\n",
      "          (output): DeiTOutput(\n",
      "            (dense): Linear(in_features=1536, out_features=384, bias=True)\n",
      "            (dropout): Dropout(p=0.0, inplace=False)\n",
      "          )\n",
      "          (layernorm_before): LayerNorm((384,), eps=1e-12, elementwise_affine=True)\n",
      "          (layernorm_after): LayerNorm((384,), eps=1e-12, elementwise_affine=True)\n",
      "        )\n",
      "      )\n",
      "    )\n",
      "    (layernorm): LayerNorm((384,), eps=1e-12, elementwise_affine=True)\n",
      "    (pooler): DeiTPooler(\n",
      "      (dense): Linear(in_features=384, out_features=384, bias=True)\n",
      "      (activation): Tanh()\n",
      "    )\n",
      "  )\n",
      "  (decoder): TrOCRForCausalLM(\n",
      "    (model): TrOCRDecoderWrapper(\n",
      "      (decoder): TrOCRDecoder(\n",
      "        (embed_tokens): TrOCRScaledWordEmbedding(64044, 256, padding_idx=1)\n",
      "        (embed_positions): TrOCRLearnedPositionalEmbedding(514, 256)\n",
      "        (layernorm_embedding): LayerNorm((256,), eps=1e-05, elementwise_affine=True)\n",
      "        (layers): ModuleList(\n",
      "          (0-5): 6 x TrOCRDecoderLayer(\n",
      "            (self_attn): TrOCRAttention(\n",
      "              (k_proj): Linear(in_features=256, out_features=256, bias=True)\n",
      "              (v_proj): Linear(in_features=256, out_features=256, bias=True)\n",
      "              (q_proj): Linear(in_features=256, out_features=256, bias=True)\n",
      "              (out_proj): Linear(in_features=256, out_features=256, bias=True)\n",
      "            )\n",
      "            (activation_fn): ReLU()\n",
      "            (self_attn_layer_norm): LayerNorm((256,), eps=1e-05, elementwise_affine=True)\n",
      "            (encoder_attn): TrOCRAttention(\n",
      "              (k_proj): Linear(in_features=384, out_features=256, bias=True)\n",
      "              (v_proj): Linear(in_features=384, out_features=256, bias=True)\n",
      "              (q_proj): Linear(in_features=256, out_features=256, bias=True)\n",
      "              (out_proj): Linear(in_features=256, out_features=256, bias=True)\n",
      "            )\n",
      "            (encoder_attn_layer_norm): LayerNorm((256,), eps=1e-05, elementwise_affine=True)\n",
      "            (fc1): Linear(in_features=256, out_features=1024, bias=True)\n",
      "            (fc2): Linear(in_features=1024, out_features=256, bias=True)\n",
      "            (final_layer_norm): LayerNorm((256,), eps=1e-05, elementwise_affine=True)\n",
      "          )\n",
      "        )\n",
      "      )\n",
      "    )\n",
      "    (output_projection): Linear(in_features=256, out_features=64044, bias=False)\n",
      "  )\n",
      ")\n"
     ]
    }
   ],
   "source": [
    "print(model)"
   ]
  },
  {
   "cell_type": "code",
   "execution_count": 37,
   "id": "0550cc2e",
   "metadata": {},
   "outputs": [],
   "source": [
    "# Define the classifier model\n",
    "class Classifier(nn.Module):\n",
    "    def __init__(self, encoder, num_classes=2):\n",
    "        super(Classifier, self).__init__()\n",
    "        self.encoder = encoder\n",
    "        self.classification_head = nn.Linear(encoder.config.hidden_size, num_classes)\n",
    "\n",
    "    def forward(self, pixel_values):\n",
    "        outputs = self.encoder(pixel_values=pixel_values)\n",
    "        cls_token_output = outputs.last_hidden_state[:, 0, :]  # Extract the CLS token\n",
    "        logits = self.classification_head(cls_token_output)\n",
    "        return logits\n",
    "\n",
    "# Create the classifier model\n",
    "model = Classifier(model.encoder)\n"
   ]
  },
  {
   "cell_type": "code",
   "execution_count": 7,
   "id": "b5af7607",
   "metadata": {},
   "outputs": [],
   "source": [
    "#selected_model = \"trocr-handwriting-small\"\n",
    "selected_model = \"trocr-small-stage1\"\n",
    "selected_transform = \"Deit\"\n",
    "N_max=282\n",
    "use_patches=True\n",
    "pretrained=True\n",
    "depth=1\n",
    "num_epochs=10\n",
    "batch_size=32\n",
    "learning_rate=0.001\n",
    "input_filename=\"icdar_train_df_patches_cc.csv\"\n",
    "criterion_name=\"CrossEntropyLoss\"\n",
    "criterion = get_criterion(\"CrossEntropyLoss\")\n",
    "optimizer_name = \"Adam\"\n",
    "num_classes = 2  # Change this to match your dataset\n",
    "early_stopping=10\n",
    "scheduler_name = 'no_scheduling'#CosineAnnealingLR'\n",
    "checkpoint_path = \"D:\\\\burtm\\Visual_studio_code\\PD_related_projects\\checkpoints\\\\\"\n",
    "models_path = \"D:\\\\burtm\\Visual_studio_code\\PD_related_projects\\outputs\\models\\\\\""
   ]
  },
  {
   "cell_type": "code",
   "execution_count": 8,
   "id": "a097da02",
   "metadata": {},
   "outputs": [],
   "source": [
    "# Example training metadata\n",
    "training_metadata = {\n",
    "    \"type_of_approach\": \"finetuning the encoder (DEIT) of trocr models; parameter efficient fine tuning with adapters\",\n",
    "    \"type_of_approach_sigla\": \"DEIT-finetuning\",\n",
    "    \"model_name\": selected_model,\n",
    "    \"transform_name\": selected_transform,\n",
    "    \"epochs\": num_epochs,\n",
    "    \"batch_size\": batch_size,\n",
    "    \"learning_rate\": learning_rate,\n",
    "    \"optimizer\": optimizer_name,\n",
    "    \"pretrained\": pretrained,\n",
    "    \"depth\": depth,\n",
    "    \"use_patches\": use_patches,\n",
    "    \"input_filename\": input_filename,\n",
    "    \"num_classes\": num_classes,\n",
    "    \"criterion_name\": criterion_name,\n",
    "    \"early_stopping\": early_stopping,\n",
    "    \"N_max\": N_max,\n",
    "    \"scheduler_name\": scheduler_name,\n",
    "}"
   ]
  },
  {
   "cell_type": "code",
   "execution_count": null,
   "id": "2efed5b0",
   "metadata": {},
   "outputs": [],
   "source": []
  },
  {
   "cell_type": "markdown",
   "id": "3ae4555c",
   "metadata": {},
   "source": [
    "# LoRA"
   ]
  },
  {
   "cell_type": "code",
   "execution_count": 69,
   "id": "44bf8cb0",
   "metadata": {},
   "outputs": [],
   "source": [
    "class DeiTConfig(PretrainedConfig):\n",
    "    def __init__(self, **kwargs):\n",
    "        super().__init__(**kwargs)\n",
    "\n",
    "class DeiTWrapper(PreTrainedModel):\n",
    "    def __init__(self, config, base_model):\n",
    "        super().__init__(config)\n",
    "        self.base_model = base_model\n",
    "\n",
    "    def forward(self, x, labels=None):\n",
    "        logits = self.base_model(x)\n",
    "        if labels is not None:\n",
    "            loss = nn.CrossEntropyLoss()(logits, labels)\n",
    "            return {\"loss\": loss, \"logits\": logits}\n",
    "        return {\"logits\": logits}"
   ]
  },
  {
   "cell_type": "code",
   "execution_count": 70,
   "id": "6b46336d",
   "metadata": {},
   "outputs": [],
   "source": [
    "# Prepare model config\n",
    "config = DeiTConfig()\n",
    "\n",
    "# Wrap\n",
    "model = DeiTWrapper(config, model)"
   ]
  },
  {
   "cell_type": "code",
   "execution_count": 10,
   "id": "375fe438",
   "metadata": {},
   "outputs": [
    {
     "name": "stdout",
     "output_type": "stream",
     "text": [
      "['', 'encoder', 'encoder.embeddings', 'encoder.embeddings.patch_embeddings', 'encoder.embeddings.patch_embeddings.projection', 'encoder.embeddings.dropout', 'encoder.encoder', 'encoder.encoder.layer', 'encoder.encoder.layer.0', 'encoder.encoder.layer.0.attention', 'encoder.encoder.layer.0.attention.attention', 'encoder.encoder.layer.0.attention.attention.query', 'encoder.encoder.layer.0.attention.attention.key', 'encoder.encoder.layer.0.attention.attention.value', 'encoder.encoder.layer.0.attention.attention.dropout', 'encoder.encoder.layer.0.attention.output', 'encoder.encoder.layer.0.attention.output.dense', 'encoder.encoder.layer.0.attention.output.dropout', 'encoder.encoder.layer.0.intermediate', 'encoder.encoder.layer.0.intermediate.dense', 'encoder.encoder.layer.0.intermediate.intermediate_act_fn', 'encoder.encoder.layer.0.output', 'encoder.encoder.layer.0.output.dense', 'encoder.encoder.layer.0.output.dropout', 'encoder.encoder.layer.0.layernorm_before', 'encoder.encoder.layer.0.layernorm_after', 'encoder.encoder.layer.1', 'encoder.encoder.layer.1.attention', 'encoder.encoder.layer.1.attention.attention', 'encoder.encoder.layer.1.attention.attention.query', 'encoder.encoder.layer.1.attention.attention.key', 'encoder.encoder.layer.1.attention.attention.value', 'encoder.encoder.layer.1.attention.attention.dropout', 'encoder.encoder.layer.1.attention.output', 'encoder.encoder.layer.1.attention.output.dense', 'encoder.encoder.layer.1.attention.output.dropout', 'encoder.encoder.layer.1.intermediate', 'encoder.encoder.layer.1.intermediate.dense', 'encoder.encoder.layer.1.intermediate.intermediate_act_fn', 'encoder.encoder.layer.1.output', 'encoder.encoder.layer.1.output.dense', 'encoder.encoder.layer.1.output.dropout', 'encoder.encoder.layer.1.layernorm_before', 'encoder.encoder.layer.1.layernorm_after', 'encoder.encoder.layer.2', 'encoder.encoder.layer.2.attention', 'encoder.encoder.layer.2.attention.attention', 'encoder.encoder.layer.2.attention.attention.query', 'encoder.encoder.layer.2.attention.attention.key', 'encoder.encoder.layer.2.attention.attention.value', 'encoder.encoder.layer.2.attention.attention.dropout', 'encoder.encoder.layer.2.attention.output', 'encoder.encoder.layer.2.attention.output.dense', 'encoder.encoder.layer.2.attention.output.dropout', 'encoder.encoder.layer.2.intermediate', 'encoder.encoder.layer.2.intermediate.dense', 'encoder.encoder.layer.2.intermediate.intermediate_act_fn', 'encoder.encoder.layer.2.output', 'encoder.encoder.layer.2.output.dense', 'encoder.encoder.layer.2.output.dropout', 'encoder.encoder.layer.2.layernorm_before', 'encoder.encoder.layer.2.layernorm_after', 'encoder.encoder.layer.3', 'encoder.encoder.layer.3.attention', 'encoder.encoder.layer.3.attention.attention', 'encoder.encoder.layer.3.attention.attention.query', 'encoder.encoder.layer.3.attention.attention.key', 'encoder.encoder.layer.3.attention.attention.value', 'encoder.encoder.layer.3.attention.attention.dropout', 'encoder.encoder.layer.3.attention.output', 'encoder.encoder.layer.3.attention.output.dense', 'encoder.encoder.layer.3.attention.output.dropout', 'encoder.encoder.layer.3.intermediate', 'encoder.encoder.layer.3.intermediate.dense', 'encoder.encoder.layer.3.intermediate.intermediate_act_fn', 'encoder.encoder.layer.3.output', 'encoder.encoder.layer.3.output.dense', 'encoder.encoder.layer.3.output.dropout', 'encoder.encoder.layer.3.layernorm_before', 'encoder.encoder.layer.3.layernorm_after', 'encoder.encoder.layer.4', 'encoder.encoder.layer.4.attention', 'encoder.encoder.layer.4.attention.attention', 'encoder.encoder.layer.4.attention.attention.query', 'encoder.encoder.layer.4.attention.attention.key', 'encoder.encoder.layer.4.attention.attention.value', 'encoder.encoder.layer.4.attention.attention.dropout', 'encoder.encoder.layer.4.attention.output', 'encoder.encoder.layer.4.attention.output.dense', 'encoder.encoder.layer.4.attention.output.dropout', 'encoder.encoder.layer.4.intermediate', 'encoder.encoder.layer.4.intermediate.dense', 'encoder.encoder.layer.4.intermediate.intermediate_act_fn', 'encoder.encoder.layer.4.output', 'encoder.encoder.layer.4.output.dense', 'encoder.encoder.layer.4.output.dropout', 'encoder.encoder.layer.4.layernorm_before', 'encoder.encoder.layer.4.layernorm_after', 'encoder.encoder.layer.5', 'encoder.encoder.layer.5.attention', 'encoder.encoder.layer.5.attention.attention', 'encoder.encoder.layer.5.attention.attention.query', 'encoder.encoder.layer.5.attention.attention.key', 'encoder.encoder.layer.5.attention.attention.value', 'encoder.encoder.layer.5.attention.attention.dropout', 'encoder.encoder.layer.5.attention.output', 'encoder.encoder.layer.5.attention.output.dense', 'encoder.encoder.layer.5.attention.output.dropout', 'encoder.encoder.layer.5.intermediate', 'encoder.encoder.layer.5.intermediate.dense', 'encoder.encoder.layer.5.intermediate.intermediate_act_fn', 'encoder.encoder.layer.5.output', 'encoder.encoder.layer.5.output.dense', 'encoder.encoder.layer.5.output.dropout', 'encoder.encoder.layer.5.layernorm_before', 'encoder.encoder.layer.5.layernorm_after', 'encoder.encoder.layer.6', 'encoder.encoder.layer.6.attention', 'encoder.encoder.layer.6.attention.attention', 'encoder.encoder.layer.6.attention.attention.query', 'encoder.encoder.layer.6.attention.attention.key', 'encoder.encoder.layer.6.attention.attention.value', 'encoder.encoder.layer.6.attention.attention.dropout', 'encoder.encoder.layer.6.attention.output', 'encoder.encoder.layer.6.attention.output.dense', 'encoder.encoder.layer.6.attention.output.dropout', 'encoder.encoder.layer.6.intermediate', 'encoder.encoder.layer.6.intermediate.dense', 'encoder.encoder.layer.6.intermediate.intermediate_act_fn', 'encoder.encoder.layer.6.output', 'encoder.encoder.layer.6.output.dense', 'encoder.encoder.layer.6.output.dropout', 'encoder.encoder.layer.6.layernorm_before', 'encoder.encoder.layer.6.layernorm_after', 'encoder.encoder.layer.7', 'encoder.encoder.layer.7.attention', 'encoder.encoder.layer.7.attention.attention', 'encoder.encoder.layer.7.attention.attention.query', 'encoder.encoder.layer.7.attention.attention.key', 'encoder.encoder.layer.7.attention.attention.value', 'encoder.encoder.layer.7.attention.attention.dropout', 'encoder.encoder.layer.7.attention.output', 'encoder.encoder.layer.7.attention.output.dense', 'encoder.encoder.layer.7.attention.output.dropout', 'encoder.encoder.layer.7.intermediate', 'encoder.encoder.layer.7.intermediate.dense', 'encoder.encoder.layer.7.intermediate.intermediate_act_fn', 'encoder.encoder.layer.7.output', 'encoder.encoder.layer.7.output.dense', 'encoder.encoder.layer.7.output.dropout', 'encoder.encoder.layer.7.layernorm_before', 'encoder.encoder.layer.7.layernorm_after', 'encoder.encoder.layer.8', 'encoder.encoder.layer.8.attention', 'encoder.encoder.layer.8.attention.attention', 'encoder.encoder.layer.8.attention.attention.query', 'encoder.encoder.layer.8.attention.attention.key', 'encoder.encoder.layer.8.attention.attention.value', 'encoder.encoder.layer.8.attention.attention.dropout', 'encoder.encoder.layer.8.attention.output', 'encoder.encoder.layer.8.attention.output.dense', 'encoder.encoder.layer.8.attention.output.dropout', 'encoder.encoder.layer.8.intermediate', 'encoder.encoder.layer.8.intermediate.dense', 'encoder.encoder.layer.8.intermediate.intermediate_act_fn', 'encoder.encoder.layer.8.output', 'encoder.encoder.layer.8.output.dense', 'encoder.encoder.layer.8.output.dropout', 'encoder.encoder.layer.8.layernorm_before', 'encoder.encoder.layer.8.layernorm_after', 'encoder.encoder.layer.9', 'encoder.encoder.layer.9.attention', 'encoder.encoder.layer.9.attention.attention', 'encoder.encoder.layer.9.attention.attention.query', 'encoder.encoder.layer.9.attention.attention.key', 'encoder.encoder.layer.9.attention.attention.value', 'encoder.encoder.layer.9.attention.attention.dropout', 'encoder.encoder.layer.9.attention.output', 'encoder.encoder.layer.9.attention.output.dense', 'encoder.encoder.layer.9.attention.output.dropout', 'encoder.encoder.layer.9.intermediate', 'encoder.encoder.layer.9.intermediate.dense', 'encoder.encoder.layer.9.intermediate.intermediate_act_fn', 'encoder.encoder.layer.9.output', 'encoder.encoder.layer.9.output.dense', 'encoder.encoder.layer.9.output.dropout', 'encoder.encoder.layer.9.layernorm_before', 'encoder.encoder.layer.9.layernorm_after', 'encoder.encoder.layer.10', 'encoder.encoder.layer.10.attention', 'encoder.encoder.layer.10.attention.attention', 'encoder.encoder.layer.10.attention.attention.query', 'encoder.encoder.layer.10.attention.attention.key', 'encoder.encoder.layer.10.attention.attention.value', 'encoder.encoder.layer.10.attention.attention.dropout', 'encoder.encoder.layer.10.attention.output', 'encoder.encoder.layer.10.attention.output.dense', 'encoder.encoder.layer.10.attention.output.dropout', 'encoder.encoder.layer.10.intermediate', 'encoder.encoder.layer.10.intermediate.dense', 'encoder.encoder.layer.10.intermediate.intermediate_act_fn', 'encoder.encoder.layer.10.output', 'encoder.encoder.layer.10.output.dense', 'encoder.encoder.layer.10.output.dropout', 'encoder.encoder.layer.10.layernorm_before', 'encoder.encoder.layer.10.layernorm_after', 'encoder.encoder.layer.11', 'encoder.encoder.layer.11.attention', 'encoder.encoder.layer.11.attention.attention', 'encoder.encoder.layer.11.attention.attention.query', 'encoder.encoder.layer.11.attention.attention.key', 'encoder.encoder.layer.11.attention.attention.value', 'encoder.encoder.layer.11.attention.attention.dropout', 'encoder.encoder.layer.11.attention.output', 'encoder.encoder.layer.11.attention.output.dense', 'encoder.encoder.layer.11.attention.output.dropout', 'encoder.encoder.layer.11.intermediate', 'encoder.encoder.layer.11.intermediate.dense', 'encoder.encoder.layer.11.intermediate.intermediate_act_fn', 'encoder.encoder.layer.11.output', 'encoder.encoder.layer.11.output.dense', 'encoder.encoder.layer.11.output.dropout', 'encoder.encoder.layer.11.layernorm_before', 'encoder.encoder.layer.11.layernorm_after', 'encoder.layernorm', 'encoder.pooler', 'encoder.pooler.dense', 'encoder.pooler.activation', 'classification_head']\n"
     ]
    }
   ],
   "source": [
    "print([name for name, _ in model.named_modules()])"
   ]
  },
  {
   "cell_type": "code",
   "execution_count": 102,
   "id": "555527c8",
   "metadata": {},
   "outputs": [],
   "source": [
    "from peft import get_peft_model, LoraConfig, TaskType\n",
    "\n",
    "# Define LoRA config\n",
    "lora_config = LoraConfig(\n",
    "    #task_type=TaskType.FEATURE_EXTRACTION, #.SEQ_CLS, #FEATURE_EXTRACTION,  # use SEQ_CLS for classification #TOKEN_CLS\n",
    "    #task_type=TaskType.CAUSAL_LM,  # <-- prevents input_ids expectation,\n",
    "    r=8,  # rank of LoRA\n",
    "    lora_alpha=32,\n",
    "    lora_dropout=0.1,\n",
    "    bias=\"none\",\n",
    "    target_modules=[\"query\", \"value\"]\n",
    ")\n",
    "\n",
    "# This step requires adapting your model to integrate with PEFT\n",
    "# Wrap the attention layers manually or use HuggingFace `transformers` if possible\n",
    "model = get_peft_model(model, lora_config)"
   ]
  },
  {
   "cell_type": "code",
   "execution_count": 103,
   "id": "fb2f8d81",
   "metadata": {},
   "outputs": [
    {
     "name": "stdout",
     "output_type": "stream",
     "text": [
      "PeftModel(\n",
      "  (base_model): LoraModel(\n",
      "    (model): Classifier(\n",
      "      (encoder): DeiTModel(\n",
      "        (embeddings): DeiTEmbeddings(\n",
      "          (patch_embeddings): DeiTPatchEmbeddings(\n",
      "            (projection): Conv2d(3, 384, kernel_size=(16, 16), stride=(16, 16))\n",
      "          )\n",
      "          (dropout): Dropout(p=0.0, inplace=False)\n",
      "        )\n",
      "        (encoder): DeiTEncoder(\n",
      "          (layer): ModuleList(\n",
      "            (0-11): 12 x DeiTLayer(\n",
      "              (attention): DeiTSdpaAttention(\n",
      "                (attention): DeiTSdpaSelfAttention(\n",
      "                  (query): lora.Linear(\n",
      "                    (base_layer): Linear(in_features=384, out_features=384, bias=True)\n",
      "                    (lora_dropout): ModuleDict(\n",
      "                      (default): Dropout(p=0.1, inplace=False)\n",
      "                    )\n",
      "                    (lora_A): ModuleDict(\n",
      "                      (default): Linear(in_features=384, out_features=8, bias=False)\n",
      "                    )\n",
      "                    (lora_B): ModuleDict(\n",
      "                      (default): Linear(in_features=8, out_features=384, bias=False)\n",
      "                    )\n",
      "                    (lora_embedding_A): ParameterDict()\n",
      "                    (lora_embedding_B): ParameterDict()\n",
      "                    (lora_magnitude_vector): ModuleDict()\n",
      "                  )\n",
      "                  (key): Linear(in_features=384, out_features=384, bias=True)\n",
      "                  (value): lora.Linear(\n",
      "                    (base_layer): Linear(in_features=384, out_features=384, bias=True)\n",
      "                    (lora_dropout): ModuleDict(\n",
      "                      (default): Dropout(p=0.1, inplace=False)\n",
      "                    )\n",
      "                    (lora_A): ModuleDict(\n",
      "                      (default): Linear(in_features=384, out_features=8, bias=False)\n",
      "                    )\n",
      "                    (lora_B): ModuleDict(\n",
      "                      (default): Linear(in_features=8, out_features=384, bias=False)\n",
      "                    )\n",
      "                    (lora_embedding_A): ParameterDict()\n",
      "                    (lora_embedding_B): ParameterDict()\n",
      "                    (lora_magnitude_vector): ModuleDict()\n",
      "                  )\n",
      "                  (dropout): Dropout(p=0.0, inplace=False)\n",
      "                )\n",
      "                (output): DeiTSelfOutput(\n",
      "                  (dense): Linear(in_features=384, out_features=384, bias=True)\n",
      "                  (dropout): Dropout(p=0.0, inplace=False)\n",
      "                )\n",
      "              )\n",
      "              (intermediate): DeiTIntermediate(\n",
      "                (dense): Linear(in_features=384, out_features=1536, bias=True)\n",
      "                (intermediate_act_fn): GELUActivation()\n",
      "              )\n",
      "              (output): DeiTOutput(\n",
      "                (dense): Linear(in_features=1536, out_features=384, bias=True)\n",
      "                (dropout): Dropout(p=0.0, inplace=False)\n",
      "              )\n",
      "              (layernorm_before): LayerNorm((384,), eps=1e-12, elementwise_affine=True)\n",
      "              (layernorm_after): LayerNorm((384,), eps=1e-12, elementwise_affine=True)\n",
      "            )\n",
      "          )\n",
      "        )\n",
      "        (layernorm): LayerNorm((384,), eps=1e-12, elementwise_affine=True)\n",
      "        (pooler): DeiTPooler(\n",
      "          (dense): Linear(in_features=384, out_features=384, bias=True)\n",
      "          (activation): Tanh()\n",
      "        )\n",
      "      )\n",
      "      (classification_head): Linear(in_features=384, out_features=2, bias=True)\n",
      "    )\n",
      "  )\n",
      ")\n"
     ]
    }
   ],
   "source": [
    "print(model)"
   ]
  },
  {
   "cell_type": "code",
   "execution_count": 95,
   "id": "9270cfaf",
   "metadata": {},
   "outputs": [],
   "source": [
    "model = Classifier(model)"
   ]
  },
  {
   "cell_type": "code",
   "execution_count": 43,
   "id": "4b4755f6",
   "metadata": {},
   "outputs": [
    {
     "name": "stdout",
     "output_type": "stream",
     "text": [
      "Classifier(\n",
      "  (encoder): PeftModelForFeatureExtraction(\n",
      "    (base_model): LoraModel(\n",
      "      (model): DeiTModel(\n",
      "        (embeddings): DeiTEmbeddings(\n",
      "          (patch_embeddings): DeiTPatchEmbeddings(\n",
      "            (projection): Conv2d(3, 384, kernel_size=(16, 16), stride=(16, 16))\n",
      "          )\n",
      "          (dropout): Dropout(p=0.0, inplace=False)\n",
      "        )\n",
      "        (encoder): DeiTEncoder(\n",
      "          (layer): ModuleList(\n",
      "            (0-11): 12 x DeiTLayer(\n",
      "              (attention): DeiTSdpaAttention(\n",
      "                (attention): DeiTSdpaSelfAttention(\n",
      "                  (query): lora.Linear(\n",
      "                    (base_layer): Linear(in_features=384, out_features=384, bias=True)\n",
      "                    (lora_dropout): ModuleDict(\n",
      "                      (default): Dropout(p=0.1, inplace=False)\n",
      "                    )\n",
      "                    (lora_A): ModuleDict(\n",
      "                      (default): Linear(in_features=384, out_features=8, bias=False)\n",
      "                    )\n",
      "                    (lora_B): ModuleDict(\n",
      "                      (default): Linear(in_features=8, out_features=384, bias=False)\n",
      "                    )\n",
      "                    (lora_embedding_A): ParameterDict()\n",
      "                    (lora_embedding_B): ParameterDict()\n",
      "                    (lora_magnitude_vector): ModuleDict()\n",
      "                  )\n",
      "                  (key): Linear(in_features=384, out_features=384, bias=True)\n",
      "                  (value): lora.Linear(\n",
      "                    (base_layer): Linear(in_features=384, out_features=384, bias=True)\n",
      "                    (lora_dropout): ModuleDict(\n",
      "                      (default): Dropout(p=0.1, inplace=False)\n",
      "                    )\n",
      "                    (lora_A): ModuleDict(\n",
      "                      (default): Linear(in_features=384, out_features=8, bias=False)\n",
      "                    )\n",
      "                    (lora_B): ModuleDict(\n",
      "                      (default): Linear(in_features=8, out_features=384, bias=False)\n",
      "                    )\n",
      "                    (lora_embedding_A): ParameterDict()\n",
      "                    (lora_embedding_B): ParameterDict()\n",
      "                    (lora_magnitude_vector): ModuleDict()\n",
      "                  )\n",
      "                  (dropout): Dropout(p=0.0, inplace=False)\n",
      "                )\n",
      "                (output): DeiTSelfOutput(\n",
      "                  (dense): Linear(in_features=384, out_features=384, bias=True)\n",
      "                  (dropout): Dropout(p=0.0, inplace=False)\n",
      "                )\n",
      "              )\n",
      "              (intermediate): DeiTIntermediate(\n",
      "                (dense): Linear(in_features=384, out_features=1536, bias=True)\n",
      "                (intermediate_act_fn): GELUActivation()\n",
      "              )\n",
      "              (output): DeiTOutput(\n",
      "                (dense): Linear(in_features=1536, out_features=384, bias=True)\n",
      "                (dropout): Dropout(p=0.0, inplace=False)\n",
      "              )\n",
      "              (layernorm_before): LayerNorm((384,), eps=1e-12, elementwise_affine=True)\n",
      "              (layernorm_after): LayerNorm((384,), eps=1e-12, elementwise_affine=True)\n",
      "            )\n",
      "          )\n",
      "        )\n",
      "        (layernorm): LayerNorm((384,), eps=1e-12, elementwise_affine=True)\n",
      "        (pooler): DeiTPooler(\n",
      "          (dense): Linear(in_features=384, out_features=384, bias=True)\n",
      "          (activation): Tanh()\n",
      "        )\n",
      "      )\n",
      "    )\n",
      "  )\n",
      "  (classification_head): Linear(in_features=384, out_features=2, bias=True)\n",
      ")\n"
     ]
    }
   ],
   "source": [
    "print(model)"
   ]
  },
  {
   "cell_type": "code",
   "execution_count": 104,
   "id": "4efafce0",
   "metadata": {},
   "outputs": [],
   "source": [
    "for name, param in model.named_parameters():\n",
    "    if not any(sub in name for sub in [\"lora\", \"classification_head\"]):\n",
    "        param.requires_grad = False\n",
    "    else:\n",
    "        param.requires_grad = True"
   ]
  },
  {
   "cell_type": "code",
   "execution_count": 105,
   "id": "eaef4620",
   "metadata": {},
   "outputs": [
    {
     "name": "stdout",
     "output_type": "stream",
     "text": [
      "base_model.model.encoder.encoder.layer.0.attention.attention.query.lora_A.default.weight: torch.Size([8, 384])\n",
      "base_model.model.encoder.encoder.layer.0.attention.attention.query.lora_B.default.weight: torch.Size([384, 8])\n",
      "base_model.model.encoder.encoder.layer.0.attention.attention.value.lora_A.default.weight: torch.Size([8, 384])\n",
      "base_model.model.encoder.encoder.layer.0.attention.attention.value.lora_B.default.weight: torch.Size([384, 8])\n",
      "base_model.model.encoder.encoder.layer.1.attention.attention.query.lora_A.default.weight: torch.Size([8, 384])\n",
      "base_model.model.encoder.encoder.layer.1.attention.attention.query.lora_B.default.weight: torch.Size([384, 8])\n",
      "base_model.model.encoder.encoder.layer.1.attention.attention.value.lora_A.default.weight: torch.Size([8, 384])\n",
      "base_model.model.encoder.encoder.layer.1.attention.attention.value.lora_B.default.weight: torch.Size([384, 8])\n",
      "base_model.model.encoder.encoder.layer.2.attention.attention.query.lora_A.default.weight: torch.Size([8, 384])\n",
      "base_model.model.encoder.encoder.layer.2.attention.attention.query.lora_B.default.weight: torch.Size([384, 8])\n",
      "base_model.model.encoder.encoder.layer.2.attention.attention.value.lora_A.default.weight: torch.Size([8, 384])\n",
      "base_model.model.encoder.encoder.layer.2.attention.attention.value.lora_B.default.weight: torch.Size([384, 8])\n",
      "base_model.model.encoder.encoder.layer.3.attention.attention.query.lora_A.default.weight: torch.Size([8, 384])\n",
      "base_model.model.encoder.encoder.layer.3.attention.attention.query.lora_B.default.weight: torch.Size([384, 8])\n",
      "base_model.model.encoder.encoder.layer.3.attention.attention.value.lora_A.default.weight: torch.Size([8, 384])\n",
      "base_model.model.encoder.encoder.layer.3.attention.attention.value.lora_B.default.weight: torch.Size([384, 8])\n",
      "base_model.model.encoder.encoder.layer.4.attention.attention.query.lora_A.default.weight: torch.Size([8, 384])\n",
      "base_model.model.encoder.encoder.layer.4.attention.attention.query.lora_B.default.weight: torch.Size([384, 8])\n",
      "base_model.model.encoder.encoder.layer.4.attention.attention.value.lora_A.default.weight: torch.Size([8, 384])\n",
      "base_model.model.encoder.encoder.layer.4.attention.attention.value.lora_B.default.weight: torch.Size([384, 8])\n",
      "base_model.model.encoder.encoder.layer.5.attention.attention.query.lora_A.default.weight: torch.Size([8, 384])\n",
      "base_model.model.encoder.encoder.layer.5.attention.attention.query.lora_B.default.weight: torch.Size([384, 8])\n",
      "base_model.model.encoder.encoder.layer.5.attention.attention.value.lora_A.default.weight: torch.Size([8, 384])\n",
      "base_model.model.encoder.encoder.layer.5.attention.attention.value.lora_B.default.weight: torch.Size([384, 8])\n",
      "base_model.model.encoder.encoder.layer.6.attention.attention.query.lora_A.default.weight: torch.Size([8, 384])\n",
      "base_model.model.encoder.encoder.layer.6.attention.attention.query.lora_B.default.weight: torch.Size([384, 8])\n",
      "base_model.model.encoder.encoder.layer.6.attention.attention.value.lora_A.default.weight: torch.Size([8, 384])\n",
      "base_model.model.encoder.encoder.layer.6.attention.attention.value.lora_B.default.weight: torch.Size([384, 8])\n",
      "base_model.model.encoder.encoder.layer.7.attention.attention.query.lora_A.default.weight: torch.Size([8, 384])\n",
      "base_model.model.encoder.encoder.layer.7.attention.attention.query.lora_B.default.weight: torch.Size([384, 8])\n",
      "base_model.model.encoder.encoder.layer.7.attention.attention.value.lora_A.default.weight: torch.Size([8, 384])\n",
      "base_model.model.encoder.encoder.layer.7.attention.attention.value.lora_B.default.weight: torch.Size([384, 8])\n",
      "base_model.model.encoder.encoder.layer.8.attention.attention.query.lora_A.default.weight: torch.Size([8, 384])\n",
      "base_model.model.encoder.encoder.layer.8.attention.attention.query.lora_B.default.weight: torch.Size([384, 8])\n",
      "base_model.model.encoder.encoder.layer.8.attention.attention.value.lora_A.default.weight: torch.Size([8, 384])\n",
      "base_model.model.encoder.encoder.layer.8.attention.attention.value.lora_B.default.weight: torch.Size([384, 8])\n",
      "base_model.model.encoder.encoder.layer.9.attention.attention.query.lora_A.default.weight: torch.Size([8, 384])\n",
      "base_model.model.encoder.encoder.layer.9.attention.attention.query.lora_B.default.weight: torch.Size([384, 8])\n",
      "base_model.model.encoder.encoder.layer.9.attention.attention.value.lora_A.default.weight: torch.Size([8, 384])\n",
      "base_model.model.encoder.encoder.layer.9.attention.attention.value.lora_B.default.weight: torch.Size([384, 8])\n",
      "base_model.model.encoder.encoder.layer.10.attention.attention.query.lora_A.default.weight: torch.Size([8, 384])\n",
      "base_model.model.encoder.encoder.layer.10.attention.attention.query.lora_B.default.weight: torch.Size([384, 8])\n",
      "base_model.model.encoder.encoder.layer.10.attention.attention.value.lora_A.default.weight: torch.Size([8, 384])\n",
      "base_model.model.encoder.encoder.layer.10.attention.attention.value.lora_B.default.weight: torch.Size([384, 8])\n",
      "base_model.model.encoder.encoder.layer.11.attention.attention.query.lora_A.default.weight: torch.Size([8, 384])\n",
      "base_model.model.encoder.encoder.layer.11.attention.attention.query.lora_B.default.weight: torch.Size([384, 8])\n",
      "base_model.model.encoder.encoder.layer.11.attention.attention.value.lora_A.default.weight: torch.Size([8, 384])\n",
      "base_model.model.encoder.encoder.layer.11.attention.attention.value.lora_B.default.weight: torch.Size([384, 8])\n",
      "base_model.model.classification_head.weight: torch.Size([2, 384])\n",
      "base_model.model.classification_head.bias: torch.Size([2])\n"
     ]
    }
   ],
   "source": [
    "for name, param in model.named_parameters():\n",
    "    if param.requires_grad:\n",
    "        print(f\"{name}: {param.shape}\")"
   ]
  },
  {
   "cell_type": "code",
   "execution_count": 107,
   "id": "dad09008",
   "metadata": {},
   "outputs": [
    {
     "name": "stdout",
     "output_type": "stream",
     "text": [
      "trainable params: 148,226 || all params: 22,108,418 || trainable%: 0.6705\n"
     ]
    }
   ],
   "source": [
    "model.print_trainable_parameters()"
   ]
  },
  {
   "cell_type": "code",
   "execution_count": 108,
   "id": "6afdc500",
   "metadata": {},
   "outputs": [
    {
     "name": "stdout",
     "output_type": "stream",
     "text": [
      "loaded train_df from: D:\\burtm\\Visual_studio_code\\PD_related_projects\\outputs\\preprocessed_data\\icdar_train_df_patches_cc.csv\n"
     ]
    }
   ],
   "source": [
    "transform=processor\n",
    "train_dataloader,val_dataloader=data_loading.get_dataloaders(transform, \n",
    "                                                             batch_size=batch_size, N_max=N_max, \n",
    "                                                             file_name=input_filename, hugging=True)"
   ]
  },
  {
   "cell_type": "code",
   "execution_count": 109,
   "id": "52d3096a",
   "metadata": {},
   "outputs": [],
   "source": [
    "optimizer = training_utils.get_optimizer(model, optimizer_name, lr=learning_rate)\n",
    "scheduler = training_utils.get_scheduler(optimizer, scheduler_name, T_max=num_epochs)"
   ]
  },
  {
   "cell_type": "code",
   "execution_count": 110,
   "id": "2c3ef525",
   "metadata": {},
   "outputs": [
    {
     "name": "stdout",
     "output_type": "stream",
     "text": [
      "Device is:  cuda\n"
     ]
    }
   ],
   "source": [
    "# Define loss function and optimizer\n",
    "device = torch.device(\"cuda\" if torch.cuda.is_available() else \"cpu\")\n",
    "print(\"Device is: \",device)\n",
    "model = model.to(device)"
   ]
  },
  {
   "cell_type": "code",
   "execution_count": null,
   "id": "213b78da",
   "metadata": {},
   "outputs": [],
   "source": [
    "#Profile with torch.utils.bottleneck or torch.profiler to see slow layers"
   ]
  },
  {
   "cell_type": "code",
   "execution_count": 111,
   "id": "acb83ff0",
   "metadata": {},
   "outputs": [
    {
     "name": "stderr",
     "output_type": "stream",
     "text": [
      "Epoch 1/10: 100%|██████████| 80/80 [1:04:24<00:00, 48.31s/it]\n"
     ]
    },
    {
     "name": "stdout",
     "output_type": "stream",
     "text": [
      "Epoch 1, Train Loss: 0.6610, Train Acc: 0.5945\n",
      "Epoch 1, Val Loss: 1.0187, Val Acc: 0.4448\n",
      "Checkpoint saved: D:\\burtm\\Visual_studio_code\\PD_related_projects\\checkpoints\\best_checkpoint.pth\n"
     ]
    },
    {
     "name": "stderr",
     "output_type": "stream",
     "text": [
      "Epoch 2/10:   0%|          | 0/80 [00:51<?, ?it/s]\n"
     ]
    },
    {
     "ename": "KeyboardInterrupt",
     "evalue": "",
     "output_type": "error",
     "traceback": [
      "\u001b[1;31m---------------------------------------------------------------------------\u001b[0m",
      "\u001b[1;31mKeyboardInterrupt\u001b[0m                         Traceback (most recent call last)",
      "Cell \u001b[1;32mIn[111], line 2\u001b[0m\n\u001b[0;32m      1\u001b[0m start_time\u001b[38;5;241m=\u001b[39mdatetime\u001b[38;5;241m.\u001b[39mnow()\n\u001b[1;32m----> 2\u001b[0m model,train_losses,val_losses \u001b[38;5;241m=\u001b[39m \u001b[43mtraining_utils\u001b[49m\u001b[38;5;241;43m.\u001b[39;49m\u001b[43mtrain_model\u001b[49m\u001b[43m(\u001b[49m\u001b[43mmodel\u001b[49m\u001b[43m,\u001b[49m\u001b[43m \u001b[49m\u001b[43mtrain_dataloader\u001b[49m\u001b[43m,\u001b[49m\u001b[43m \u001b[49m\u001b[43mval_dataloader\u001b[49m\u001b[43m,\u001b[49m\u001b[43m \u001b[49m\u001b[43mcriterion\u001b[49m\u001b[43m,\u001b[49m\u001b[43m \u001b[49m\u001b[43moptimizer\u001b[49m\u001b[43m,\u001b[49m\u001b[43m \u001b[49m\u001b[43mdevice\u001b[49m\u001b[43m,\u001b[49m\u001b[43m \u001b[49m\n\u001b[0;32m      3\u001b[0m \u001b[43m                                            \u001b[49m\u001b[43mnum_epochs\u001b[49m\u001b[38;5;241;43m=\u001b[39;49m\u001b[43mnum_epochs\u001b[49m\u001b[43m,\u001b[49m\u001b[43m \u001b[49m\n\u001b[0;32m      4\u001b[0m \u001b[43m                                            \u001b[49m\u001b[43mcheckpoint_path\u001b[49m\u001b[38;5;241;43m=\u001b[39;49m\u001b[43mcheckpoint_path\u001b[49m\u001b[43m,\u001b[49m\n\u001b[0;32m      5\u001b[0m \u001b[43m                                            \u001b[49m\u001b[43mearly_stopping_patience\u001b[49m\u001b[38;5;241;43m=\u001b[39;49m\u001b[43mearly_stopping\u001b[49m\u001b[43m,\u001b[49m\u001b[43m \u001b[49m\u001b[43mscheduler\u001b[49m\u001b[38;5;241;43m=\u001b[39;49m\u001b[43mscheduler\u001b[49m\u001b[43m)\u001b[49m\n\u001b[0;32m      6\u001b[0m end_time\u001b[38;5;241m=\u001b[39mdatetime\u001b[38;5;241m.\u001b[39mnow()\n",
      "File \u001b[1;32mD:\\burtm\\Visual_studio_code\\PD_related_projects\\utils\\training_utils.py:30\u001b[0m, in \u001b[0;36mtrain_model\u001b[1;34m(model, train_loader, val_loader, criterion, optimizer, device, num_epochs, checkpoint_path, early_stopping_patience, scheduler)\u001b[0m\n\u001b[0;32m     27\u001b[0m loss\u001b[38;5;241m.\u001b[39mbackward()\n\u001b[0;32m     28\u001b[0m optimizer\u001b[38;5;241m.\u001b[39mstep()\n\u001b[1;32m---> 30\u001b[0m train_loss \u001b[38;5;241m+\u001b[39m\u001b[38;5;241m=\u001b[39m \u001b[43mloss\u001b[49m\u001b[38;5;241;43m.\u001b[39;49m\u001b[43mitem\u001b[49m\u001b[43m(\u001b[49m\u001b[43m)\u001b[49m\n\u001b[0;32m     31\u001b[0m _, preds \u001b[38;5;241m=\u001b[39m outputs\u001b[38;5;241m.\u001b[39mmax(\u001b[38;5;241m1\u001b[39m)\n\u001b[0;32m     32\u001b[0m correct \u001b[38;5;241m+\u001b[39m\u001b[38;5;241m=\u001b[39m preds\u001b[38;5;241m.\u001b[39meq(labels)\u001b[38;5;241m.\u001b[39msum()\u001b[38;5;241m.\u001b[39mitem()\n",
      "\u001b[1;31mKeyboardInterrupt\u001b[0m: "
     ]
    }
   ],
   "source": [
    "start_time=datetime.now()\n",
    "model,train_losses,val_losses = training_utils.train_model(model, train_dataloader, val_dataloader, criterion, optimizer, device, \n",
    "                                            num_epochs=num_epochs, \n",
    "                                            checkpoint_path=checkpoint_path,\n",
    "                                            early_stopping_patience=early_stopping, scheduler=scheduler)\n",
    "end_time=datetime.now()"
   ]
  },
  {
   "cell_type": "markdown",
   "id": "210cd5af",
   "metadata": {},
   "source": [
    "# adapters"
   ]
  },
  {
   "cell_type": "markdown",
   "id": "81f71bda",
   "metadata": {},
   "source": [
    "It takes 20mins per epoch (16 seconds per iteration) with the adapter_size=32 applied to every mlp layer. Accuracy turns out to be 0.5, like random guessing \n",
    "-> probably some mistake in adding the adapters?"
   ]
  },
  {
   "cell_type": "code",
   "execution_count": 9,
   "id": "4d347e87",
   "metadata": {},
   "outputs": [],
   "source": [
    "class Adapter(nn.Module):\n",
    "    def __init__(self, hidden_size, adapter_size=32):\n",
    "        super().__init__()\n",
    "        self.down_proj = nn.Linear(hidden_size, adapter_size)\n",
    "        self.activation = nn.ReLU()\n",
    "        self.up_proj = nn.Linear(adapter_size, hidden_size)\n",
    "\n",
    "    def forward(self, x):\n",
    "        return x + self.up_proj(self.activation(self.down_proj(x)))\n"
   ]
  },
  {
   "cell_type": "code",
   "execution_count": 11,
   "id": "09b209c4",
   "metadata": {},
   "outputs": [
    {
     "name": "stdout",
     "output_type": "stream",
     "text": [
      "Classifier(\n",
      "  (encoder): DeiTModel(\n",
      "    (embeddings): DeiTEmbeddings(\n",
      "      (patch_embeddings): DeiTPatchEmbeddings(\n",
      "        (projection): Conv2d(3, 384, kernel_size=(16, 16), stride=(16, 16))\n",
      "      )\n",
      "      (dropout): Dropout(p=0.0, inplace=False)\n",
      "    )\n",
      "    (encoder): DeiTEncoder(\n",
      "      (layer): ModuleList(\n",
      "        (0-11): 12 x DeiTLayer(\n",
      "          (attention): DeiTSdpaAttention(\n",
      "            (attention): DeiTSdpaSelfAttention(\n",
      "              (query): Linear(in_features=384, out_features=384, bias=True)\n",
      "              (key): Linear(in_features=384, out_features=384, bias=True)\n",
      "              (value): Linear(in_features=384, out_features=384, bias=True)\n",
      "              (dropout): Dropout(p=0.0, inplace=False)\n",
      "            )\n",
      "            (output): DeiTSelfOutput(\n",
      "              (dense): Linear(in_features=384, out_features=384, bias=True)\n",
      "              (dropout): Dropout(p=0.0, inplace=False)\n",
      "            )\n",
      "          )\n",
      "          (intermediate): DeiTIntermediate(\n",
      "            (dense): Linear(in_features=384, out_features=1536, bias=True)\n",
      "            (intermediate_act_fn): GELUActivation()\n",
      "          )\n",
      "          (output): DeiTOutput(\n",
      "            (dense): Linear(in_features=1536, out_features=384, bias=True)\n",
      "            (dropout): Dropout(p=0.0, inplace=False)\n",
      "          )\n",
      "          (layernorm_before): LayerNorm((384,), eps=1e-12, elementwise_affine=True)\n",
      "          (layernorm_after): LayerNorm((384,), eps=1e-12, elementwise_affine=True)\n",
      "        )\n",
      "      )\n",
      "    )\n",
      "    (layernorm): LayerNorm((384,), eps=1e-12, elementwise_affine=True)\n",
      "    (pooler): DeiTPooler(\n",
      "      (dense): Linear(in_features=384, out_features=384, bias=True)\n",
      "      (activation): Tanh()\n",
      "    )\n",
      "  )\n",
      "  (classification_head): Linear(in_features=384, out_features=2, bias=True)\n",
      ")\n"
     ]
    }
   ],
   "source": [
    "print(model)"
   ]
  },
  {
   "cell_type": "code",
   "execution_count": 28,
   "id": "a30ec553",
   "metadata": {},
   "outputs": [],
   "source": [
    "# Find transformer blocks\n",
    "#blocks = model.blocks  # For ViT/DeiT from timm\n",
    "blocks = model.encoder.encoder.layer  # For HuggingFace ViT/DeiT\n",
    "#hidden_size = model.embed_dim  # usually 768 for base models\n",
    "hidden_size = 384"
   ]
  },
  {
   "cell_type": "code",
   "execution_count": 29,
   "id": "6e70b451",
   "metadata": {},
   "outputs": [],
   "source": [
    "import types\n",
    "for i, block in enumerate(blocks):\n",
    "    adapter = Adapter(hidden_size)\n",
    "    block.adapter = adapter  # attach to the block so it's part of the model\n",
    "    \n",
    "    # Save original MLP forward\n",
    "    #original_mlp_forward = block.mlp.forward\n",
    "    original_mlp_forward = block.output.forward  #check if the position is right by comparing where mlp is in the timm model\n",
    "\n",
    "    # Redefine the mlp forward\n",
    "    def new_mlp_forward(self, hidden_states, input_tensor):\n",
    "        hidden_states = original_mlp_forward(hidden_states, input_tensor)\n",
    "        hidden_states = self.adapter(hidden_states)\n",
    "        return hidden_states\n",
    "\n",
    "    # Bind the new forward to the mlp\n",
    "    #block.mlp.forward = new_mlp_forward.__get__(block.mlp, block.mlp.__class__)\n",
    "    #block.output.forward = new_mlp_forward.__get__(block.output, block.output.__class__)\n",
    "    block.output.forward = types.MethodType(new_mlp_forward,block)"
   ]
  },
  {
   "cell_type": "code",
   "execution_count": 30,
   "id": "dbb29311",
   "metadata": {},
   "outputs": [
    {
     "name": "stdout",
     "output_type": "stream",
     "text": [
      "Classifier(\n",
      "  (encoder): DeiTModel(\n",
      "    (embeddings): DeiTEmbeddings(\n",
      "      (patch_embeddings): DeiTPatchEmbeddings(\n",
      "        (projection): Conv2d(3, 384, kernel_size=(16, 16), stride=(16, 16))\n",
      "      )\n",
      "      (dropout): Dropout(p=0.0, inplace=False)\n",
      "    )\n",
      "    (encoder): DeiTEncoder(\n",
      "      (layer): ModuleList(\n",
      "        (0-11): 12 x DeiTLayer(\n",
      "          (attention): DeiTSdpaAttention(\n",
      "            (attention): DeiTSdpaSelfAttention(\n",
      "              (query): Linear(in_features=384, out_features=384, bias=True)\n",
      "              (key): Linear(in_features=384, out_features=384, bias=True)\n",
      "              (value): Linear(in_features=384, out_features=384, bias=True)\n",
      "              (dropout): Dropout(p=0.0, inplace=False)\n",
      "            )\n",
      "            (output): DeiTSelfOutput(\n",
      "              (dense): Linear(in_features=384, out_features=384, bias=True)\n",
      "              (dropout): Dropout(p=0.0, inplace=False)\n",
      "            )\n",
      "          )\n",
      "          (intermediate): DeiTIntermediate(\n",
      "            (dense): Linear(in_features=384, out_features=1536, bias=True)\n",
      "            (intermediate_act_fn): GELUActivation()\n",
      "          )\n",
      "          (output): DeiTOutput(\n",
      "            (dense): Linear(in_features=1536, out_features=384, bias=True)\n",
      "            (dropout): Dropout(p=0.0, inplace=False)\n",
      "          )\n",
      "          (layernorm_before): LayerNorm((384,), eps=1e-12, elementwise_affine=True)\n",
      "          (layernorm_after): LayerNorm((384,), eps=1e-12, elementwise_affine=True)\n",
      "          (adapter): Adapter(\n",
      "            (down_proj): Linear(in_features=384, out_features=32, bias=True)\n",
      "            (activation): ReLU()\n",
      "            (up_proj): Linear(in_features=32, out_features=384, bias=True)\n",
      "          )\n",
      "        )\n",
      "      )\n",
      "    )\n",
      "    (layernorm): LayerNorm((384,), eps=1e-12, elementwise_affine=True)\n",
      "    (pooler): DeiTPooler(\n",
      "      (dense): Linear(in_features=384, out_features=384, bias=True)\n",
      "      (activation): Tanh()\n",
      "    )\n",
      "  )\n",
      "  (classification_head): Linear(in_features=384, out_features=2, bias=True)\n",
      ")\n"
     ]
    }
   ],
   "source": [
    "print(model)"
   ]
  },
  {
   "cell_type": "code",
   "execution_count": 31,
   "id": "62d991b1",
   "metadata": {},
   "outputs": [
    {
     "name": "stdout",
     "output_type": "stream",
     "text": [
      "encoder.encoder.layer.0.adapter.down_proj.weight: torch.Size([32, 384])\n",
      "encoder.encoder.layer.0.adapter.down_proj.bias: torch.Size([32])\n",
      "encoder.encoder.layer.0.adapter.up_proj.weight: torch.Size([384, 32])\n",
      "encoder.encoder.layer.0.adapter.up_proj.bias: torch.Size([384])\n",
      "encoder.encoder.layer.1.adapter.down_proj.weight: torch.Size([32, 384])\n",
      "encoder.encoder.layer.1.adapter.down_proj.bias: torch.Size([32])\n",
      "encoder.encoder.layer.1.adapter.up_proj.weight: torch.Size([384, 32])\n",
      "encoder.encoder.layer.1.adapter.up_proj.bias: torch.Size([384])\n",
      "encoder.encoder.layer.2.adapter.down_proj.weight: torch.Size([32, 384])\n",
      "encoder.encoder.layer.2.adapter.down_proj.bias: torch.Size([32])\n",
      "encoder.encoder.layer.2.adapter.up_proj.weight: torch.Size([384, 32])\n",
      "encoder.encoder.layer.2.adapter.up_proj.bias: torch.Size([384])\n",
      "encoder.encoder.layer.3.adapter.down_proj.weight: torch.Size([32, 384])\n",
      "encoder.encoder.layer.3.adapter.down_proj.bias: torch.Size([32])\n",
      "encoder.encoder.layer.3.adapter.up_proj.weight: torch.Size([384, 32])\n",
      "encoder.encoder.layer.3.adapter.up_proj.bias: torch.Size([384])\n",
      "encoder.encoder.layer.4.adapter.down_proj.weight: torch.Size([32, 384])\n",
      "encoder.encoder.layer.4.adapter.down_proj.bias: torch.Size([32])\n",
      "encoder.encoder.layer.4.adapter.up_proj.weight: torch.Size([384, 32])\n",
      "encoder.encoder.layer.4.adapter.up_proj.bias: torch.Size([384])\n",
      "encoder.encoder.layer.5.adapter.down_proj.weight: torch.Size([32, 384])\n",
      "encoder.encoder.layer.5.adapter.down_proj.bias: torch.Size([32])\n",
      "encoder.encoder.layer.5.adapter.up_proj.weight: torch.Size([384, 32])\n",
      "encoder.encoder.layer.5.adapter.up_proj.bias: torch.Size([384])\n",
      "encoder.encoder.layer.6.adapter.down_proj.weight: torch.Size([32, 384])\n",
      "encoder.encoder.layer.6.adapter.down_proj.bias: torch.Size([32])\n",
      "encoder.encoder.layer.6.adapter.up_proj.weight: torch.Size([384, 32])\n",
      "encoder.encoder.layer.6.adapter.up_proj.bias: torch.Size([384])\n",
      "encoder.encoder.layer.7.adapter.down_proj.weight: torch.Size([32, 384])\n",
      "encoder.encoder.layer.7.adapter.down_proj.bias: torch.Size([32])\n",
      "encoder.encoder.layer.7.adapter.up_proj.weight: torch.Size([384, 32])\n",
      "encoder.encoder.layer.7.adapter.up_proj.bias: torch.Size([384])\n",
      "encoder.encoder.layer.8.adapter.down_proj.weight: torch.Size([32, 384])\n",
      "encoder.encoder.layer.8.adapter.down_proj.bias: torch.Size([32])\n",
      "encoder.encoder.layer.8.adapter.up_proj.weight: torch.Size([384, 32])\n",
      "encoder.encoder.layer.8.adapter.up_proj.bias: torch.Size([384])\n",
      "encoder.encoder.layer.9.adapter.down_proj.weight: torch.Size([32, 384])\n",
      "encoder.encoder.layer.9.adapter.down_proj.bias: torch.Size([32])\n",
      "encoder.encoder.layer.9.adapter.up_proj.weight: torch.Size([384, 32])\n",
      "encoder.encoder.layer.9.adapter.up_proj.bias: torch.Size([384])\n",
      "encoder.encoder.layer.10.adapter.down_proj.weight: torch.Size([32, 384])\n",
      "encoder.encoder.layer.10.adapter.down_proj.bias: torch.Size([32])\n",
      "encoder.encoder.layer.10.adapter.up_proj.weight: torch.Size([384, 32])\n",
      "encoder.encoder.layer.10.adapter.up_proj.bias: torch.Size([384])\n",
      "encoder.encoder.layer.11.adapter.down_proj.weight: torch.Size([32, 384])\n",
      "encoder.encoder.layer.11.adapter.down_proj.bias: torch.Size([32])\n",
      "encoder.encoder.layer.11.adapter.up_proj.weight: torch.Size([384, 32])\n",
      "encoder.encoder.layer.11.adapter.up_proj.bias: torch.Size([384])\n",
      "classification_head.weight: torch.Size([2, 384])\n",
      "classification_head.bias: torch.Size([2])\n"
     ]
    }
   ],
   "source": [
    "for param in model.parameters():\n",
    "    param.requires_grad = False\n",
    "\n",
    "for name, param in model.named_parameters():\n",
    "    if any(sub in name for sub in [\"classification_head\"]):\n",
    "        param.requires_grad = True\n",
    "\n",
    "for block in blocks:\n",
    "    for param in block.adapter.parameters():\n",
    "        param.requires_grad = True\n",
    "\n",
    "for name, param in model.named_parameters():\n",
    "    if param.requires_grad:\n",
    "        print(f\"{name}: {param.shape}\")\n"
   ]
  },
  {
   "cell_type": "code",
   "execution_count": 18,
   "id": "97e8fbd0",
   "metadata": {},
   "outputs": [
    {
     "name": "stdout",
     "output_type": "stream",
     "text": [
      "Total number of trainable parameters: 300674\n"
     ]
    }
   ],
   "source": [
    "trainable_params = sum(p.numel() for p in model.parameters() if p.requires_grad)\n",
    "print(f\"Total number of trainable parameters: {trainable_params}\")"
   ]
  },
  {
   "cell_type": "code",
   "execution_count": 19,
   "id": "b47a6c28",
   "metadata": {},
   "outputs": [
    {
     "ename": "RuntimeError",
     "evalue": "The size of tensor a (198) must match the size of tensor b (578) at non-singleton dimension 1",
     "output_type": "error",
     "traceback": [
      "\u001b[1;31m---------------------------------------------------------------------------\u001b[0m",
      "\u001b[1;31mRuntimeError\u001b[0m                              Traceback (most recent call last)",
      "Cell \u001b[1;32mIn[19], line 2\u001b[0m\n\u001b[0;32m      1\u001b[0m \u001b[38;5;66;03m#verify that works\u001b[39;00m\n\u001b[1;32m----> 2\u001b[0m out \u001b[38;5;241m=\u001b[39m \u001b[43mmodel\u001b[49m\u001b[43m(\u001b[49m\u001b[43mtorch\u001b[49m\u001b[38;5;241;43m.\u001b[39;49m\u001b[43mrandn\u001b[49m\u001b[43m(\u001b[49m\u001b[38;5;241;43m1\u001b[39;49m\u001b[43m,\u001b[49m\u001b[43m \u001b[49m\u001b[38;5;241;43m3\u001b[39;49m\u001b[43m,\u001b[49m\u001b[43m \u001b[49m\u001b[38;5;241;43m224\u001b[39;49m\u001b[43m,\u001b[49m\u001b[43m \u001b[49m\u001b[38;5;241;43m224\u001b[39;49m\u001b[43m)\u001b[49m\u001b[43m)\u001b[49m  \u001b[38;5;66;03m# dummy input\u001b[39;00m\n\u001b[0;32m      3\u001b[0m loss \u001b[38;5;241m=\u001b[39m out\u001b[38;5;241m.\u001b[39mmean()\n\u001b[0;32m      4\u001b[0m loss\u001b[38;5;241m.\u001b[39mbackward()\n",
      "File \u001b[1;32md:\\burtm\\Visual_studio_code\\conda_environments\\GeneralPurposeML\\lib\\site-packages\\torch\\nn\\modules\\module.py:1739\u001b[0m, in \u001b[0;36mModule._wrapped_call_impl\u001b[1;34m(self, *args, **kwargs)\u001b[0m\n\u001b[0;32m   1737\u001b[0m     \u001b[38;5;28;01mreturn\u001b[39;00m \u001b[38;5;28mself\u001b[39m\u001b[38;5;241m.\u001b[39m_compiled_call_impl(\u001b[38;5;241m*\u001b[39margs, \u001b[38;5;241m*\u001b[39m\u001b[38;5;241m*\u001b[39mkwargs)  \u001b[38;5;66;03m# type: ignore[misc]\u001b[39;00m\n\u001b[0;32m   1738\u001b[0m \u001b[38;5;28;01melse\u001b[39;00m:\n\u001b[1;32m-> 1739\u001b[0m     \u001b[38;5;28;01mreturn\u001b[39;00m \u001b[38;5;28mself\u001b[39m\u001b[38;5;241m.\u001b[39m_call_impl(\u001b[38;5;241m*\u001b[39margs, \u001b[38;5;241m*\u001b[39m\u001b[38;5;241m*\u001b[39mkwargs)\n",
      "File \u001b[1;32md:\\burtm\\Visual_studio_code\\conda_environments\\GeneralPurposeML\\lib\\site-packages\\torch\\nn\\modules\\module.py:1750\u001b[0m, in \u001b[0;36mModule._call_impl\u001b[1;34m(self, *args, **kwargs)\u001b[0m\n\u001b[0;32m   1745\u001b[0m \u001b[38;5;66;03m# If we don't have any hooks, we want to skip the rest of the logic in\u001b[39;00m\n\u001b[0;32m   1746\u001b[0m \u001b[38;5;66;03m# this function, and just call forward.\u001b[39;00m\n\u001b[0;32m   1747\u001b[0m \u001b[38;5;28;01mif\u001b[39;00m \u001b[38;5;129;01mnot\u001b[39;00m (\u001b[38;5;28mself\u001b[39m\u001b[38;5;241m.\u001b[39m_backward_hooks \u001b[38;5;129;01mor\u001b[39;00m \u001b[38;5;28mself\u001b[39m\u001b[38;5;241m.\u001b[39m_backward_pre_hooks \u001b[38;5;129;01mor\u001b[39;00m \u001b[38;5;28mself\u001b[39m\u001b[38;5;241m.\u001b[39m_forward_hooks \u001b[38;5;129;01mor\u001b[39;00m \u001b[38;5;28mself\u001b[39m\u001b[38;5;241m.\u001b[39m_forward_pre_hooks\n\u001b[0;32m   1748\u001b[0m         \u001b[38;5;129;01mor\u001b[39;00m _global_backward_pre_hooks \u001b[38;5;129;01mor\u001b[39;00m _global_backward_hooks\n\u001b[0;32m   1749\u001b[0m         \u001b[38;5;129;01mor\u001b[39;00m _global_forward_hooks \u001b[38;5;129;01mor\u001b[39;00m _global_forward_pre_hooks):\n\u001b[1;32m-> 1750\u001b[0m     \u001b[38;5;28;01mreturn\u001b[39;00m forward_call(\u001b[38;5;241m*\u001b[39margs, \u001b[38;5;241m*\u001b[39m\u001b[38;5;241m*\u001b[39mkwargs)\n\u001b[0;32m   1752\u001b[0m result \u001b[38;5;241m=\u001b[39m \u001b[38;5;28;01mNone\u001b[39;00m\n\u001b[0;32m   1753\u001b[0m called_always_called_hooks \u001b[38;5;241m=\u001b[39m \u001b[38;5;28mset\u001b[39m()\n",
      "Cell \u001b[1;32mIn[6], line 9\u001b[0m, in \u001b[0;36mClassifier.forward\u001b[1;34m(self, pixel_values)\u001b[0m\n\u001b[0;32m      8\u001b[0m \u001b[38;5;28;01mdef\u001b[39;00m\u001b[38;5;250m \u001b[39m\u001b[38;5;21mforward\u001b[39m(\u001b[38;5;28mself\u001b[39m, pixel_values):\n\u001b[1;32m----> 9\u001b[0m     outputs \u001b[38;5;241m=\u001b[39m \u001b[38;5;28;43mself\u001b[39;49m\u001b[38;5;241;43m.\u001b[39;49m\u001b[43mencoder\u001b[49m\u001b[43m(\u001b[49m\u001b[43mpixel_values\u001b[49m\u001b[38;5;241;43m=\u001b[39;49m\u001b[43mpixel_values\u001b[49m\u001b[43m)\u001b[49m\n\u001b[0;32m     10\u001b[0m     cls_token_output \u001b[38;5;241m=\u001b[39m outputs\u001b[38;5;241m.\u001b[39mlast_hidden_state[:, \u001b[38;5;241m0\u001b[39m, :]  \u001b[38;5;66;03m# Extract the CLS token\u001b[39;00m\n\u001b[0;32m     11\u001b[0m     logits \u001b[38;5;241m=\u001b[39m \u001b[38;5;28mself\u001b[39m\u001b[38;5;241m.\u001b[39mclassification_head(cls_token_output)\n",
      "File \u001b[1;32md:\\burtm\\Visual_studio_code\\conda_environments\\GeneralPurposeML\\lib\\site-packages\\torch\\nn\\modules\\module.py:1739\u001b[0m, in \u001b[0;36mModule._wrapped_call_impl\u001b[1;34m(self, *args, **kwargs)\u001b[0m\n\u001b[0;32m   1737\u001b[0m     \u001b[38;5;28;01mreturn\u001b[39;00m \u001b[38;5;28mself\u001b[39m\u001b[38;5;241m.\u001b[39m_compiled_call_impl(\u001b[38;5;241m*\u001b[39margs, \u001b[38;5;241m*\u001b[39m\u001b[38;5;241m*\u001b[39mkwargs)  \u001b[38;5;66;03m# type: ignore[misc]\u001b[39;00m\n\u001b[0;32m   1738\u001b[0m \u001b[38;5;28;01melse\u001b[39;00m:\n\u001b[1;32m-> 1739\u001b[0m     \u001b[38;5;28;01mreturn\u001b[39;00m \u001b[38;5;28mself\u001b[39m\u001b[38;5;241m.\u001b[39m_call_impl(\u001b[38;5;241m*\u001b[39margs, \u001b[38;5;241m*\u001b[39m\u001b[38;5;241m*\u001b[39mkwargs)\n",
      "File \u001b[1;32md:\\burtm\\Visual_studio_code\\conda_environments\\GeneralPurposeML\\lib\\site-packages\\torch\\nn\\modules\\module.py:1750\u001b[0m, in \u001b[0;36mModule._call_impl\u001b[1;34m(self, *args, **kwargs)\u001b[0m\n\u001b[0;32m   1745\u001b[0m \u001b[38;5;66;03m# If we don't have any hooks, we want to skip the rest of the logic in\u001b[39;00m\n\u001b[0;32m   1746\u001b[0m \u001b[38;5;66;03m# this function, and just call forward.\u001b[39;00m\n\u001b[0;32m   1747\u001b[0m \u001b[38;5;28;01mif\u001b[39;00m \u001b[38;5;129;01mnot\u001b[39;00m (\u001b[38;5;28mself\u001b[39m\u001b[38;5;241m.\u001b[39m_backward_hooks \u001b[38;5;129;01mor\u001b[39;00m \u001b[38;5;28mself\u001b[39m\u001b[38;5;241m.\u001b[39m_backward_pre_hooks \u001b[38;5;129;01mor\u001b[39;00m \u001b[38;5;28mself\u001b[39m\u001b[38;5;241m.\u001b[39m_forward_hooks \u001b[38;5;129;01mor\u001b[39;00m \u001b[38;5;28mself\u001b[39m\u001b[38;5;241m.\u001b[39m_forward_pre_hooks\n\u001b[0;32m   1748\u001b[0m         \u001b[38;5;129;01mor\u001b[39;00m _global_backward_pre_hooks \u001b[38;5;129;01mor\u001b[39;00m _global_backward_hooks\n\u001b[0;32m   1749\u001b[0m         \u001b[38;5;129;01mor\u001b[39;00m _global_forward_hooks \u001b[38;5;129;01mor\u001b[39;00m _global_forward_pre_hooks):\n\u001b[1;32m-> 1750\u001b[0m     \u001b[38;5;28;01mreturn\u001b[39;00m forward_call(\u001b[38;5;241m*\u001b[39margs, \u001b[38;5;241m*\u001b[39m\u001b[38;5;241m*\u001b[39mkwargs)\n\u001b[0;32m   1752\u001b[0m result \u001b[38;5;241m=\u001b[39m \u001b[38;5;28;01mNone\u001b[39;00m\n\u001b[0;32m   1753\u001b[0m called_always_called_hooks \u001b[38;5;241m=\u001b[39m \u001b[38;5;28mset\u001b[39m()\n",
      "File \u001b[1;32md:\\burtm\\Visual_studio_code\\conda_environments\\GeneralPurposeML\\lib\\site-packages\\transformers\\models\\deit\\modeling_deit.py:628\u001b[0m, in \u001b[0;36mDeiTModel.forward\u001b[1;34m(self, pixel_values, bool_masked_pos, head_mask, output_attentions, output_hidden_states, return_dict, interpolate_pos_encoding)\u001b[0m\n\u001b[0;32m    625\u001b[0m \u001b[38;5;28;01mif\u001b[39;00m pixel_values\u001b[38;5;241m.\u001b[39mdtype \u001b[38;5;241m!=\u001b[39m expected_dtype:\n\u001b[0;32m    626\u001b[0m     pixel_values \u001b[38;5;241m=\u001b[39m pixel_values\u001b[38;5;241m.\u001b[39mto(expected_dtype)\n\u001b[1;32m--> 628\u001b[0m embedding_output \u001b[38;5;241m=\u001b[39m \u001b[38;5;28;43mself\u001b[39;49m\u001b[38;5;241;43m.\u001b[39;49m\u001b[43membeddings\u001b[49m\u001b[43m(\u001b[49m\n\u001b[0;32m    629\u001b[0m \u001b[43m    \u001b[49m\u001b[43mpixel_values\u001b[49m\u001b[43m,\u001b[49m\u001b[43m \u001b[49m\u001b[43mbool_masked_pos\u001b[49m\u001b[38;5;241;43m=\u001b[39;49m\u001b[43mbool_masked_pos\u001b[49m\u001b[43m,\u001b[49m\u001b[43m \u001b[49m\u001b[43minterpolate_pos_encoding\u001b[49m\u001b[38;5;241;43m=\u001b[39;49m\u001b[43minterpolate_pos_encoding\u001b[49m\n\u001b[0;32m    630\u001b[0m \u001b[43m\u001b[49m\u001b[43m)\u001b[49m\n\u001b[0;32m    632\u001b[0m encoder_outputs \u001b[38;5;241m=\u001b[39m \u001b[38;5;28mself\u001b[39m\u001b[38;5;241m.\u001b[39mencoder(\n\u001b[0;32m    633\u001b[0m     embedding_output,\n\u001b[0;32m    634\u001b[0m     head_mask\u001b[38;5;241m=\u001b[39mhead_mask,\n\u001b[1;32m   (...)\u001b[0m\n\u001b[0;32m    637\u001b[0m     return_dict\u001b[38;5;241m=\u001b[39mreturn_dict,\n\u001b[0;32m    638\u001b[0m )\n\u001b[0;32m    639\u001b[0m sequence_output \u001b[38;5;241m=\u001b[39m encoder_outputs[\u001b[38;5;241m0\u001b[39m]\n",
      "File \u001b[1;32md:\\burtm\\Visual_studio_code\\conda_environments\\GeneralPurposeML\\lib\\site-packages\\torch\\nn\\modules\\module.py:1739\u001b[0m, in \u001b[0;36mModule._wrapped_call_impl\u001b[1;34m(self, *args, **kwargs)\u001b[0m\n\u001b[0;32m   1737\u001b[0m     \u001b[38;5;28;01mreturn\u001b[39;00m \u001b[38;5;28mself\u001b[39m\u001b[38;5;241m.\u001b[39m_compiled_call_impl(\u001b[38;5;241m*\u001b[39margs, \u001b[38;5;241m*\u001b[39m\u001b[38;5;241m*\u001b[39mkwargs)  \u001b[38;5;66;03m# type: ignore[misc]\u001b[39;00m\n\u001b[0;32m   1738\u001b[0m \u001b[38;5;28;01melse\u001b[39;00m:\n\u001b[1;32m-> 1739\u001b[0m     \u001b[38;5;28;01mreturn\u001b[39;00m \u001b[38;5;28mself\u001b[39m\u001b[38;5;241m.\u001b[39m_call_impl(\u001b[38;5;241m*\u001b[39margs, \u001b[38;5;241m*\u001b[39m\u001b[38;5;241m*\u001b[39mkwargs)\n",
      "File \u001b[1;32md:\\burtm\\Visual_studio_code\\conda_environments\\GeneralPurposeML\\lib\\site-packages\\torch\\nn\\modules\\module.py:1750\u001b[0m, in \u001b[0;36mModule._call_impl\u001b[1;34m(self, *args, **kwargs)\u001b[0m\n\u001b[0;32m   1745\u001b[0m \u001b[38;5;66;03m# If we don't have any hooks, we want to skip the rest of the logic in\u001b[39;00m\n\u001b[0;32m   1746\u001b[0m \u001b[38;5;66;03m# this function, and just call forward.\u001b[39;00m\n\u001b[0;32m   1747\u001b[0m \u001b[38;5;28;01mif\u001b[39;00m \u001b[38;5;129;01mnot\u001b[39;00m (\u001b[38;5;28mself\u001b[39m\u001b[38;5;241m.\u001b[39m_backward_hooks \u001b[38;5;129;01mor\u001b[39;00m \u001b[38;5;28mself\u001b[39m\u001b[38;5;241m.\u001b[39m_backward_pre_hooks \u001b[38;5;129;01mor\u001b[39;00m \u001b[38;5;28mself\u001b[39m\u001b[38;5;241m.\u001b[39m_forward_hooks \u001b[38;5;129;01mor\u001b[39;00m \u001b[38;5;28mself\u001b[39m\u001b[38;5;241m.\u001b[39m_forward_pre_hooks\n\u001b[0;32m   1748\u001b[0m         \u001b[38;5;129;01mor\u001b[39;00m _global_backward_pre_hooks \u001b[38;5;129;01mor\u001b[39;00m _global_backward_hooks\n\u001b[0;32m   1749\u001b[0m         \u001b[38;5;129;01mor\u001b[39;00m _global_forward_hooks \u001b[38;5;129;01mor\u001b[39;00m _global_forward_pre_hooks):\n\u001b[1;32m-> 1750\u001b[0m     \u001b[38;5;28;01mreturn\u001b[39;00m forward_call(\u001b[38;5;241m*\u001b[39margs, \u001b[38;5;241m*\u001b[39m\u001b[38;5;241m*\u001b[39mkwargs)\n\u001b[0;32m   1752\u001b[0m result \u001b[38;5;241m=\u001b[39m \u001b[38;5;28;01mNone\u001b[39;00m\n\u001b[0;32m   1753\u001b[0m called_always_called_hooks \u001b[38;5;241m=\u001b[39m \u001b[38;5;28mset\u001b[39m()\n",
      "File \u001b[1;32md:\\burtm\\Visual_studio_code\\conda_environments\\GeneralPurposeML\\lib\\site-packages\\transformers\\models\\deit\\modeling_deit.py:146\u001b[0m, in \u001b[0;36mDeiTEmbeddings.forward\u001b[1;34m(self, pixel_values, bool_masked_pos, interpolate_pos_encoding)\u001b[0m\n\u001b[0;32m    143\u001b[0m \u001b[38;5;28;01mif\u001b[39;00m interpolate_pos_encoding:\n\u001b[0;32m    144\u001b[0m     position_embedding \u001b[38;5;241m=\u001b[39m \u001b[38;5;28mself\u001b[39m\u001b[38;5;241m.\u001b[39minterpolate_pos_encoding(embeddings, height, width)\n\u001b[1;32m--> 146\u001b[0m embeddings \u001b[38;5;241m=\u001b[39m \u001b[43membeddings\u001b[49m\u001b[43m \u001b[49m\u001b[38;5;241;43m+\u001b[39;49m\u001b[43m \u001b[49m\u001b[43mposition_embedding\u001b[49m\n\u001b[0;32m    147\u001b[0m embeddings \u001b[38;5;241m=\u001b[39m \u001b[38;5;28mself\u001b[39m\u001b[38;5;241m.\u001b[39mdropout(embeddings)\n\u001b[0;32m    148\u001b[0m \u001b[38;5;28;01mreturn\u001b[39;00m embeddings\n",
      "\u001b[1;31mRuntimeError\u001b[0m: The size of tensor a (198) must match the size of tensor b (578) at non-singleton dimension 1"
     ]
    }
   ],
   "source": [
    "#verify that works\n",
    "out = model(torch.randn(1, 3, 224, 224))  # dummy input\n",
    "loss = out.mean()\n",
    "loss.backward()"
   ]
  },
  {
   "cell_type": "code",
   "execution_count": 22,
   "id": "ba0f888e",
   "metadata": {},
   "outputs": [
    {
     "name": "stdout",
     "output_type": "stream",
     "text": [
      "loaded train_df from: D:\\burtm\\Visual_studio_code\\PD_related_projects\\outputs\\preprocessed_data\\icdar_train_df_patches_cc.csv\n"
     ]
    }
   ],
   "source": [
    "transform=processor\n",
    "train_dataloader,val_dataloader=data_loading.get_dataloaders(transform, \n",
    "                                                             batch_size=batch_size, N_max=N_max, \n",
    "                                                             file_name=input_filename, hugging=True)"
   ]
  },
  {
   "cell_type": "code",
   "execution_count": 32,
   "id": "adfa2dd3",
   "metadata": {},
   "outputs": [],
   "source": [
    "optimizer = training_utils.get_optimizer(model, optimizer_name, lr=learning_rate)\n",
    "scheduler = training_utils.get_scheduler(optimizer, scheduler_name, T_max=num_epochs)"
   ]
  },
  {
   "cell_type": "code",
   "execution_count": 33,
   "id": "1ad0c53d",
   "metadata": {},
   "outputs": [
    {
     "name": "stdout",
     "output_type": "stream",
     "text": [
      "Device is:  cuda\n"
     ]
    }
   ],
   "source": [
    "# Define loss function and optimizer\n",
    "device = torch.device(\"cuda\" if torch.cuda.is_available() else \"cpu\")\n",
    "print(\"Device is: \",device)\n",
    "model = model.to(device)"
   ]
  },
  {
   "cell_type": "code",
   "execution_count": 34,
   "id": "712f83a2",
   "metadata": {},
   "outputs": [
    {
     "name": "stderr",
     "output_type": "stream",
     "text": [
      "Epoch 1/10: 100%|██████████| 80/80 [21:30<00:00, 16.13s/it]\n"
     ]
    },
    {
     "name": "stdout",
     "output_type": "stream",
     "text": [
      "Epoch 1, Train Loss: 0.7447, Train Acc: 0.5087\n",
      "Epoch 1, Val Loss: 0.6947, Val Acc: 0.4655\n",
      "Checkpoint saved: D:\\burtm\\Visual_studio_code\\PD_related_projects\\checkpoints\\best_checkpoint.pth\n"
     ]
    },
    {
     "name": "stderr",
     "output_type": "stream",
     "text": [
      "Epoch 2/10:   0%|          | 0/80 [00:07<?, ?it/s]\n"
     ]
    },
    {
     "ename": "KeyboardInterrupt",
     "evalue": "",
     "output_type": "error",
     "traceback": [
      "\u001b[1;31m---------------------------------------------------------------------------\u001b[0m",
      "\u001b[1;31mKeyboardInterrupt\u001b[0m                         Traceback (most recent call last)",
      "Cell \u001b[1;32mIn[34], line 2\u001b[0m\n\u001b[0;32m      1\u001b[0m start_time\u001b[38;5;241m=\u001b[39mdatetime\u001b[38;5;241m.\u001b[39mnow()\n\u001b[1;32m----> 2\u001b[0m model,train_losses,val_losses \u001b[38;5;241m=\u001b[39m \u001b[43mtraining_utils\u001b[49m\u001b[38;5;241;43m.\u001b[39;49m\u001b[43mtrain_model\u001b[49m\u001b[43m(\u001b[49m\u001b[43mmodel\u001b[49m\u001b[43m,\u001b[49m\u001b[43m \u001b[49m\u001b[43mtrain_dataloader\u001b[49m\u001b[43m,\u001b[49m\u001b[43m \u001b[49m\u001b[43mval_dataloader\u001b[49m\u001b[43m,\u001b[49m\u001b[43m \u001b[49m\u001b[43mcriterion\u001b[49m\u001b[43m,\u001b[49m\u001b[43m \u001b[49m\u001b[43moptimizer\u001b[49m\u001b[43m,\u001b[49m\u001b[43m \u001b[49m\u001b[43mdevice\u001b[49m\u001b[43m,\u001b[49m\u001b[43m \u001b[49m\n\u001b[0;32m      3\u001b[0m \u001b[43m                                            \u001b[49m\u001b[43mnum_epochs\u001b[49m\u001b[38;5;241;43m=\u001b[39;49m\u001b[43mnum_epochs\u001b[49m\u001b[43m,\u001b[49m\u001b[43m \u001b[49m\n\u001b[0;32m      4\u001b[0m \u001b[43m                                            \u001b[49m\u001b[43mcheckpoint_path\u001b[49m\u001b[38;5;241;43m=\u001b[39;49m\u001b[43mcheckpoint_path\u001b[49m\u001b[43m,\u001b[49m\n\u001b[0;32m      5\u001b[0m \u001b[43m                                            \u001b[49m\u001b[43mearly_stopping_patience\u001b[49m\u001b[38;5;241;43m=\u001b[39;49m\u001b[43mearly_stopping\u001b[49m\u001b[43m,\u001b[49m\u001b[43m \u001b[49m\u001b[43mscheduler\u001b[49m\u001b[38;5;241;43m=\u001b[39;49m\u001b[43mscheduler\u001b[49m\u001b[43m)\u001b[49m\n\u001b[0;32m      6\u001b[0m end_time\u001b[38;5;241m=\u001b[39mdatetime\u001b[38;5;241m.\u001b[39mnow()\n",
      "File \u001b[1;32mD:\\burtm\\Visual_studio_code\\PD_related_projects\\utils\\training_utils.py:20\u001b[0m, in \u001b[0;36mtrain_model\u001b[1;34m(model, train_loader, val_loader, criterion, optimizer, device, num_epochs, checkpoint_path, early_stopping_patience, scheduler)\u001b[0m\n\u001b[0;32m     17\u001b[0m train_loss, correct, total \u001b[38;5;241m=\u001b[39m \u001b[38;5;241m0\u001b[39m, \u001b[38;5;241m0\u001b[39m, \u001b[38;5;241m0\u001b[39m\n\u001b[0;32m     19\u001b[0m \u001b[38;5;66;03m# Training Loop\u001b[39;00m\n\u001b[1;32m---> 20\u001b[0m \u001b[38;5;28;01mfor\u001b[39;00m batch \u001b[38;5;129;01min\u001b[39;00m tqdm(train_loader, desc\u001b[38;5;241m=\u001b[39m\u001b[38;5;124mf\u001b[39m\u001b[38;5;124m\"\u001b[39m\u001b[38;5;124mEpoch \u001b[39m\u001b[38;5;132;01m{\u001b[39;00mepoch\u001b[38;5;241m+\u001b[39m\u001b[38;5;241m1\u001b[39m\u001b[38;5;132;01m}\u001b[39;00m\u001b[38;5;124m/\u001b[39m\u001b[38;5;132;01m{\u001b[39;00mnum_epochs\u001b[38;5;132;01m}\u001b[39;00m\u001b[38;5;124m\"\u001b[39m):\n\u001b[0;32m     21\u001b[0m     inputs, labels \u001b[38;5;241m=\u001b[39m batch[\u001b[38;5;124m'\u001b[39m\u001b[38;5;124mimage\u001b[39m\u001b[38;5;124m'\u001b[39m], batch[\u001b[38;5;124m'\u001b[39m\u001b[38;5;124mlabel\u001b[39m\u001b[38;5;124m'\u001b[39m]\n\u001b[0;32m     22\u001b[0m     inputs, labels \u001b[38;5;241m=\u001b[39m inputs\u001b[38;5;241m.\u001b[39mto(device), labels\u001b[38;5;241m.\u001b[39mto(device)\n",
      "File \u001b[1;32md:\\burtm\\Visual_studio_code\\conda_environments\\GeneralPurposeML\\lib\\site-packages\\tqdm\\std.py:1181\u001b[0m, in \u001b[0;36mtqdm.__iter__\u001b[1;34m(self)\u001b[0m\n\u001b[0;32m   1178\u001b[0m time \u001b[38;5;241m=\u001b[39m \u001b[38;5;28mself\u001b[39m\u001b[38;5;241m.\u001b[39m_time\n\u001b[0;32m   1180\u001b[0m \u001b[38;5;28;01mtry\u001b[39;00m:\n\u001b[1;32m-> 1181\u001b[0m     \u001b[38;5;28;01mfor\u001b[39;00m obj \u001b[38;5;129;01min\u001b[39;00m iterable:\n\u001b[0;32m   1182\u001b[0m         \u001b[38;5;28;01myield\u001b[39;00m obj\n\u001b[0;32m   1183\u001b[0m         \u001b[38;5;66;03m# Update and possibly print the progressbar.\u001b[39;00m\n\u001b[0;32m   1184\u001b[0m         \u001b[38;5;66;03m# Note: does not call self.update(1) for speed optimisation.\u001b[39;00m\n",
      "File \u001b[1;32md:\\burtm\\Visual_studio_code\\conda_environments\\GeneralPurposeML\\lib\\site-packages\\torch\\utils\\data\\dataloader.py:708\u001b[0m, in \u001b[0;36m_BaseDataLoaderIter.__next__\u001b[1;34m(self)\u001b[0m\n\u001b[0;32m    705\u001b[0m \u001b[38;5;28;01mif\u001b[39;00m \u001b[38;5;28mself\u001b[39m\u001b[38;5;241m.\u001b[39m_sampler_iter \u001b[38;5;129;01mis\u001b[39;00m \u001b[38;5;28;01mNone\u001b[39;00m:\n\u001b[0;32m    706\u001b[0m     \u001b[38;5;66;03m# TODO(https://github.com/pytorch/pytorch/issues/76750)\u001b[39;00m\n\u001b[0;32m    707\u001b[0m     \u001b[38;5;28mself\u001b[39m\u001b[38;5;241m.\u001b[39m_reset()  \u001b[38;5;66;03m# type: ignore[call-arg]\u001b[39;00m\n\u001b[1;32m--> 708\u001b[0m data \u001b[38;5;241m=\u001b[39m \u001b[38;5;28;43mself\u001b[39;49m\u001b[38;5;241;43m.\u001b[39;49m\u001b[43m_next_data\u001b[49m\u001b[43m(\u001b[49m\u001b[43m)\u001b[49m\n\u001b[0;32m    709\u001b[0m \u001b[38;5;28mself\u001b[39m\u001b[38;5;241m.\u001b[39m_num_yielded \u001b[38;5;241m+\u001b[39m\u001b[38;5;241m=\u001b[39m \u001b[38;5;241m1\u001b[39m\n\u001b[0;32m    710\u001b[0m \u001b[38;5;28;01mif\u001b[39;00m (\n\u001b[0;32m    711\u001b[0m     \u001b[38;5;28mself\u001b[39m\u001b[38;5;241m.\u001b[39m_dataset_kind \u001b[38;5;241m==\u001b[39m _DatasetKind\u001b[38;5;241m.\u001b[39mIterable\n\u001b[0;32m    712\u001b[0m     \u001b[38;5;129;01mand\u001b[39;00m \u001b[38;5;28mself\u001b[39m\u001b[38;5;241m.\u001b[39m_IterableDataset_len_called \u001b[38;5;129;01mis\u001b[39;00m \u001b[38;5;129;01mnot\u001b[39;00m \u001b[38;5;28;01mNone\u001b[39;00m\n\u001b[0;32m    713\u001b[0m     \u001b[38;5;129;01mand\u001b[39;00m \u001b[38;5;28mself\u001b[39m\u001b[38;5;241m.\u001b[39m_num_yielded \u001b[38;5;241m>\u001b[39m \u001b[38;5;28mself\u001b[39m\u001b[38;5;241m.\u001b[39m_IterableDataset_len_called\n\u001b[0;32m    714\u001b[0m ):\n",
      "File \u001b[1;32md:\\burtm\\Visual_studio_code\\conda_environments\\GeneralPurposeML\\lib\\site-packages\\torch\\utils\\data\\dataloader.py:764\u001b[0m, in \u001b[0;36m_SingleProcessDataLoaderIter._next_data\u001b[1;34m(self)\u001b[0m\n\u001b[0;32m    762\u001b[0m \u001b[38;5;28;01mdef\u001b[39;00m\u001b[38;5;250m \u001b[39m\u001b[38;5;21m_next_data\u001b[39m(\u001b[38;5;28mself\u001b[39m):\n\u001b[0;32m    763\u001b[0m     index \u001b[38;5;241m=\u001b[39m \u001b[38;5;28mself\u001b[39m\u001b[38;5;241m.\u001b[39m_next_index()  \u001b[38;5;66;03m# may raise StopIteration\u001b[39;00m\n\u001b[1;32m--> 764\u001b[0m     data \u001b[38;5;241m=\u001b[39m \u001b[38;5;28;43mself\u001b[39;49m\u001b[38;5;241;43m.\u001b[39;49m\u001b[43m_dataset_fetcher\u001b[49m\u001b[38;5;241;43m.\u001b[39;49m\u001b[43mfetch\u001b[49m\u001b[43m(\u001b[49m\u001b[43mindex\u001b[49m\u001b[43m)\u001b[49m  \u001b[38;5;66;03m# may raise StopIteration\u001b[39;00m\n\u001b[0;32m    765\u001b[0m     \u001b[38;5;28;01mif\u001b[39;00m \u001b[38;5;28mself\u001b[39m\u001b[38;5;241m.\u001b[39m_pin_memory:\n\u001b[0;32m    766\u001b[0m         data \u001b[38;5;241m=\u001b[39m _utils\u001b[38;5;241m.\u001b[39mpin_memory\u001b[38;5;241m.\u001b[39mpin_memory(data, \u001b[38;5;28mself\u001b[39m\u001b[38;5;241m.\u001b[39m_pin_memory_device)\n",
      "File \u001b[1;32md:\\burtm\\Visual_studio_code\\conda_environments\\GeneralPurposeML\\lib\\site-packages\\torch\\utils\\data\\_utils\\fetch.py:52\u001b[0m, in \u001b[0;36m_MapDatasetFetcher.fetch\u001b[1;34m(self, possibly_batched_index)\u001b[0m\n\u001b[0;32m     50\u001b[0m         data \u001b[38;5;241m=\u001b[39m \u001b[38;5;28mself\u001b[39m\u001b[38;5;241m.\u001b[39mdataset\u001b[38;5;241m.\u001b[39m__getitems__(possibly_batched_index)\n\u001b[0;32m     51\u001b[0m     \u001b[38;5;28;01melse\u001b[39;00m:\n\u001b[1;32m---> 52\u001b[0m         data \u001b[38;5;241m=\u001b[39m [\u001b[38;5;28mself\u001b[39m\u001b[38;5;241m.\u001b[39mdataset[idx] \u001b[38;5;28;01mfor\u001b[39;00m idx \u001b[38;5;129;01min\u001b[39;00m possibly_batched_index]\n\u001b[0;32m     53\u001b[0m \u001b[38;5;28;01melse\u001b[39;00m:\n\u001b[0;32m     54\u001b[0m     data \u001b[38;5;241m=\u001b[39m \u001b[38;5;28mself\u001b[39m\u001b[38;5;241m.\u001b[39mdataset[possibly_batched_index]\n",
      "File \u001b[1;32md:\\burtm\\Visual_studio_code\\conda_environments\\GeneralPurposeML\\lib\\site-packages\\torch\\utils\\data\\_utils\\fetch.py:52\u001b[0m, in \u001b[0;36m<listcomp>\u001b[1;34m(.0)\u001b[0m\n\u001b[0;32m     50\u001b[0m         data \u001b[38;5;241m=\u001b[39m \u001b[38;5;28mself\u001b[39m\u001b[38;5;241m.\u001b[39mdataset\u001b[38;5;241m.\u001b[39m__getitems__(possibly_batched_index)\n\u001b[0;32m     51\u001b[0m     \u001b[38;5;28;01melse\u001b[39;00m:\n\u001b[1;32m---> 52\u001b[0m         data \u001b[38;5;241m=\u001b[39m [\u001b[38;5;28;43mself\u001b[39;49m\u001b[38;5;241;43m.\u001b[39;49m\u001b[43mdataset\u001b[49m\u001b[43m[\u001b[49m\u001b[43midx\u001b[49m\u001b[43m]\u001b[49m \u001b[38;5;28;01mfor\u001b[39;00m idx \u001b[38;5;129;01min\u001b[39;00m possibly_batched_index]\n\u001b[0;32m     53\u001b[0m \u001b[38;5;28;01melse\u001b[39;00m:\n\u001b[0;32m     54\u001b[0m     data \u001b[38;5;241m=\u001b[39m \u001b[38;5;28mself\u001b[39m\u001b[38;5;241m.\u001b[39mdataset[possibly_batched_index]\n",
      "File \u001b[1;32mD:\\burtm\\Visual_studio_code\\PD_related_projects\\utils\\dataframes.py:100\u001b[0m, in \u001b[0;36mCustomPatchDataset.__getitem__\u001b[1;34m(self, idx)\u001b[0m\n\u001b[0;32m     98\u001b[0m x2\u001b[38;5;241m=\u001b[39m\u001b[38;5;28mself\u001b[39m\u001b[38;5;241m.\u001b[39mx2[idx]\n\u001b[0;32m     99\u001b[0m y2\u001b[38;5;241m=\u001b[39m\u001b[38;5;28mself\u001b[39m\u001b[38;5;241m.\u001b[39my2[idx]\n\u001b[1;32m--> 100\u001b[0m image \u001b[38;5;241m=\u001b[39m \u001b[43mImage\u001b[49m\u001b[38;5;241;43m.\u001b[39;49m\u001b[43mopen\u001b[49m\u001b[43m(\u001b[49m\u001b[43mimg_path\u001b[49m\u001b[43m)\u001b[49m\u001b[38;5;241m.\u001b[39mconvert(\u001b[38;5;124m\"\u001b[39m\u001b[38;5;124mRGB\u001b[39m\u001b[38;5;124m\"\u001b[39m)\n\u001b[0;32m    101\u001b[0m patch \u001b[38;5;241m=\u001b[39m image\u001b[38;5;241m.\u001b[39mcrop((x1, y1, x2, y2))\n\u001b[0;32m    102\u001b[0m writer\u001b[38;5;241m=\u001b[39m\u001b[38;5;28mself\u001b[39m\u001b[38;5;241m.\u001b[39mimg_writers[idx]\n",
      "File \u001b[1;32md:\\burtm\\Visual_studio_code\\conda_environments\\GeneralPurposeML\\lib\\site-packages\\PIL\\Image.py:3466\u001b[0m, in \u001b[0;36mopen\u001b[1;34m(fp, mode, formats)\u001b[0m\n\u001b[0;32m   3464\u001b[0m filename: \u001b[38;5;28mstr\u001b[39m \u001b[38;5;241m|\u001b[39m \u001b[38;5;28mbytes\u001b[39m \u001b[38;5;241m=\u001b[39m \u001b[38;5;124m\"\u001b[39m\u001b[38;5;124m\"\u001b[39m\n\u001b[0;32m   3465\u001b[0m \u001b[38;5;28;01mif\u001b[39;00m is_path(fp):\n\u001b[1;32m-> 3466\u001b[0m     filename \u001b[38;5;241m=\u001b[39m \u001b[43mos\u001b[49m\u001b[38;5;241;43m.\u001b[39;49m\u001b[43mpath\u001b[49m\u001b[38;5;241;43m.\u001b[39;49m\u001b[43mrealpath\u001b[49m\u001b[43m(\u001b[49m\u001b[43mos\u001b[49m\u001b[38;5;241;43m.\u001b[39;49m\u001b[43mfspath\u001b[49m\u001b[43m(\u001b[49m\u001b[43mfp\u001b[49m\u001b[43m)\u001b[49m\u001b[43m)\u001b[49m\n\u001b[0;32m   3468\u001b[0m \u001b[38;5;28;01mif\u001b[39;00m filename:\n\u001b[0;32m   3469\u001b[0m     fp \u001b[38;5;241m=\u001b[39m builtins\u001b[38;5;241m.\u001b[39mopen(filename, \u001b[38;5;124m\"\u001b[39m\u001b[38;5;124mrb\u001b[39m\u001b[38;5;124m\"\u001b[39m)\n",
      "File \u001b[1;32md:\\burtm\\Visual_studio_code\\conda_environments\\GeneralPurposeML\\lib\\ntpath.py:708\u001b[0m, in \u001b[0;36mrealpath\u001b[1;34m(path, strict)\u001b[0m\n\u001b[0;32m    706\u001b[0m \u001b[38;5;66;03m# Ensure that the non-prefixed path resolves to the same path\u001b[39;00m\n\u001b[0;32m    707\u001b[0m \u001b[38;5;28;01mtry\u001b[39;00m:\n\u001b[1;32m--> 708\u001b[0m     \u001b[38;5;28;01mif\u001b[39;00m \u001b[43m_getfinalpathname\u001b[49m\u001b[43m(\u001b[49m\u001b[43mspath\u001b[49m\u001b[43m)\u001b[49m \u001b[38;5;241m==\u001b[39m path:\n\u001b[0;32m    709\u001b[0m         path \u001b[38;5;241m=\u001b[39m spath\n\u001b[0;32m    710\u001b[0m \u001b[38;5;28;01mexcept\u001b[39;00m \u001b[38;5;167;01mOSError\u001b[39;00m \u001b[38;5;28;01mas\u001b[39;00m ex:\n\u001b[0;32m    711\u001b[0m     \u001b[38;5;66;03m# If the path does not exist and originally did not exist, then\u001b[39;00m\n\u001b[0;32m    712\u001b[0m     \u001b[38;5;66;03m# strip the prefix anyway.\u001b[39;00m\n",
      "\u001b[1;31mKeyboardInterrupt\u001b[0m: "
     ]
    }
   ],
   "source": [
    "start_time=datetime.now()\n",
    "model,train_losses,val_losses = training_utils.train_model(model, train_dataloader, val_dataloader, criterion, optimizer, device, \n",
    "                                            num_epochs=num_epochs, \n",
    "                                            checkpoint_path=checkpoint_path,\n",
    "                                            early_stopping_patience=early_stopping, scheduler=scheduler)\n",
    "end_time=datetime.now()"
   ]
  },
  {
   "cell_type": "markdown",
   "id": "9f43944b",
   "metadata": {},
   "source": [
    "# standard"
   ]
  },
  {
   "cell_type": "markdown",
   "id": "ec713cdf",
   "metadata": {},
   "source": [
    "how much time to fine tune the whole model? 60s per iteration -> 1h per epoch"
   ]
  },
  {
   "cell_type": "code",
   "execution_count": 21,
   "id": "cb1e68f5",
   "metadata": {},
   "outputs": [
    {
     "name": "stdout",
     "output_type": "stream",
     "text": [
      "loaded train_df from: D:\\burtm\\Visual_studio_code\\PD_related_projects\\outputs\\preprocessed_data\\icdar_train_df_patches_cc.csv\n"
     ]
    }
   ],
   "source": [
    "transform=processor\n",
    "train_dataloader,val_dataloader=data_loading.get_dataloaders(transform, \n",
    "                                                             batch_size=batch_size, N_max=N_max, \n",
    "                                                             file_name=input_filename, hugging=True)\n"
   ]
  },
  {
   "cell_type": "code",
   "execution_count": null,
   "id": "36d42f97",
   "metadata": {},
   "outputs": [],
   "source": [
    "import random\n",
    "\n",
    "# Take 3 random batches from the train_dataloader\n",
    "random_batches = random.sample(list(train_dataloader), 3)\n",
    "\n",
    "for batch_idx, batch in enumerate(random_batches):\n",
    "    print(f\"Batch {batch_idx + 1}:\")\n",
    "    labels = batch['labels']  # Assuming the batch contains a 'labels' key\n",
    "    writers = batch['writers']  # Assuming the batch contains a 'writers' key\n",
    "    for i, (label, writer) in enumerate(zip(labels, writers)):\n",
    "        print(f\"  Element {i + 1}: Label = {label}, Writer = {writer}\")"
   ]
  },
  {
   "cell_type": "code",
   "execution_count": 14,
   "id": "f87f0592",
   "metadata": {},
   "outputs": [
    {
     "data": {
      "text/plain": [
       "'import pandas as pd\\nfrom PIL import Image\\nimport numpy as np\\n\\n# Load the CSV file\\ndf = pd.read_csv(\"D:\\\\burtm\\\\Visual_studio_code\\\\PD_related_projects\\\\outputs\\\\preprocessed_data\\\\\"+input_filename)\\n\\n# Get the path of the first image\\nfirst_image_path = df.iloc[0][\\'file_name\\']\\n\\n# Load the image\\nimage = Image.open(first_image_path)\\n\\n# Convert the image to a NumPy array\\nimage_array = np.array(image)\\n\\n# Print the max and min values\\nprint(\"Max value:\", image_array.max())\\nprint(\"Min value:\", image_array.min())'"
      ]
     },
     "execution_count": 14,
     "metadata": {},
     "output_type": "execute_result"
    }
   ],
   "source": [
    "'''import pandas as pd\n",
    "from PIL import Image\n",
    "import numpy as np\n",
    "\n",
    "# Load the CSV file\n",
    "df = pd.read_csv(\"D:\\\\burtm\\\\Visual_studio_code\\\\PD_related_projects\\\\outputs\\\\preprocessed_data\\\\\"+input_filename)\n",
    "\n",
    "# Get the path of the first image\n",
    "first_image_path = df.iloc[0]['file_name']\n",
    "\n",
    "# Load the image\n",
    "image = Image.open(first_image_path)\n",
    "\n",
    "# Convert the image to a NumPy array\n",
    "image_array = np.array(image)\n",
    "\n",
    "# Print the max and min values\n",
    "print(\"Max value:\", image_array.max())\n",
    "print(\"Min value:\", image_array.min())'''"
   ]
  },
  {
   "cell_type": "code",
   "execution_count": 38,
   "id": "8c3eada1",
   "metadata": {},
   "outputs": [
    {
     "name": "stderr",
     "output_type": "stream",
     "text": [
      "Clipping input data to the valid range for imshow with RGB data ([0..1] for floats or [0..255] for integers). Got range [-0.40392154..1.0].\n"
     ]
    },
    {
     "data": {
      "image/png": "[encoded data removed]",
      "text/plain": [
       "<Figure size 640x480 with 1 Axes>"
      ]
     },
     "metadata": {},
     "output_type": "display_data"
    }
   ],
   "source": [
    "visualization.show_single_image(train_dataloader,index=12, save_path=None, from_dataloader=True)"
   ]
  },
  {
   "cell_type": "code",
   "execution_count": 11,
   "id": "58001522",
   "metadata": {},
   "outputs": [
    {
     "name": "stdout",
     "output_type": "stream",
     "text": [
      "TrOCRProcessor:\n",
      "- image_processor: DeiTImageProcessor {\n",
      "  \"crop_size\": {\n",
      "    \"height\": 224,\n",
      "    \"width\": 224\n",
      "  },\n",
      "  \"do_center_crop\": false,\n",
      "  \"do_normalize\": true,\n",
      "  \"do_rescale\": true,\n",
      "  \"do_resize\": true,\n",
      "  \"image_mean\": [\n",
      "    0.5,\n",
      "    0.5,\n",
      "    0.5\n",
      "  ],\n",
      "  \"image_processor_type\": \"DeiTImageProcessor\",\n",
      "  \"image_std\": [\n",
      "    0.5,\n",
      "    0.5,\n",
      "    0.5\n",
      "  ],\n",
      "  \"resample\": 3,\n",
      "  \"rescale_factor\": 0.00392156862745098,\n",
      "  \"size\": {\n",
      "    \"height\": 384,\n",
      "    \"width\": 384\n",
      "  }\n",
      "}\n",
      "\n",
      "- tokenizer: XLMRobertaTokenizer(name_or_path='microsoft/trocr-small-handwritten', vocab_size=64002, model_max_length=1000000000000000019884624838656, is_fast=False, padding_side='right', truncation_side='right', special_tokens={'bos_token': '<s>', 'eos_token': '</s>', 'unk_token': '<unk>', 'sep_token': '</s>', 'pad_token': '<pad>', 'cls_token': '<s>', 'mask_token': '<mask>'}, clean_up_tokenization_spaces=False, added_tokens_decoder={\n",
      "\t0: AddedToken(\"<s>\", rstrip=False, lstrip=False, single_word=False, normalized=False, special=True),\n",
      "\t1: AddedToken(\"<pad>\", rstrip=False, lstrip=False, single_word=False, normalized=False, special=True),\n",
      "\t2: AddedToken(\"</s>\", rstrip=False, lstrip=False, single_word=False, normalized=False, special=True),\n",
      "\t3: AddedToken(\"<unk>\", rstrip=False, lstrip=False, single_word=False, normalized=False, special=True),\n",
      "\t64001: AddedToken(\"<mask>\", rstrip=False, lstrip=True, single_word=False, normalized=True, special=True),\n",
      "}\n",
      ")\n",
      "\n",
      "{\n",
      "  \"processor_class\": \"TrOCRProcessor\"\n",
      "}\n",
      "\n"
     ]
    }
   ],
   "source": [
    "print(processor)"
   ]
  },
  {
   "cell_type": "code",
   "execution_count": 39,
   "id": "a3b85963",
   "metadata": {},
   "outputs": [
    {
     "name": "stdout",
     "output_type": "stream",
     "text": [
      "Device is:  cuda\n"
     ]
    }
   ],
   "source": [
    "# Define loss function and optimizer\n",
    "device = torch.device(\"cuda\" if torch.cuda.is_available() else \"cpu\")\n",
    "print(\"Device is: \",device)\n",
    "model = model.to(device)"
   ]
  },
  {
   "cell_type": "code",
   "execution_count": 26,
   "id": "9ae90b9a",
   "metadata": {},
   "outputs": [
    {
     "name": "stdout",
     "output_type": "stream",
     "text": [
      "Classifier(\n",
      "  (encoder): DeiTModel(\n",
      "    (embeddings): DeiTEmbeddings(\n",
      "      (patch_embeddings): DeiTPatchEmbeddings(\n",
      "        (projection): Conv2d(3, 384, kernel_size=(16, 16), stride=(16, 16))\n",
      "      )\n",
      "      (dropout): Dropout(p=0.0, inplace=False)\n",
      "    )\n",
      "    (encoder): DeiTEncoder(\n",
      "      (layer): ModuleList(\n",
      "        (0-11): 12 x DeiTLayer(\n",
      "          (attention): DeiTSdpaAttention(\n",
      "            (attention): DeiTSdpaSelfAttention(\n",
      "              (query): Linear(in_features=384, out_features=384, bias=True)\n",
      "              (key): Linear(in_features=384, out_features=384, bias=True)\n",
      "              (value): Linear(in_features=384, out_features=384, bias=True)\n",
      "              (dropout): Dropout(p=0.0, inplace=False)\n",
      "            )\n",
      "            (output): DeiTSelfOutput(\n",
      "              (dense): Linear(in_features=384, out_features=384, bias=True)\n",
      "              (dropout): Dropout(p=0.0, inplace=False)\n",
      "            )\n",
      "          )\n",
      "          (intermediate): DeiTIntermediate(\n",
      "            (dense): Linear(in_features=384, out_features=1536, bias=True)\n",
      "            (intermediate_act_fn): GELUActivation()\n",
      "          )\n",
      "          (output): DeiTOutput(\n",
      "            (dense): Linear(in_features=1536, out_features=384, bias=True)\n",
      "            (dropout): Dropout(p=0.0, inplace=False)\n",
      "          )\n",
      "          (layernorm_before): LayerNorm((384,), eps=1e-12, elementwise_affine=True)\n",
      "          (layernorm_after): LayerNorm((384,), eps=1e-12, elementwise_affine=True)\n",
      "        )\n",
      "      )\n",
      "    )\n",
      "    (layernorm): LayerNorm((384,), eps=1e-12, elementwise_affine=True)\n",
      "    (pooler): DeiTPooler(\n",
      "      (dense): Linear(in_features=384, out_features=384, bias=True)\n",
      "      (activation): Tanh()\n",
      "    )\n",
      "  )\n",
      "  (classification_head): Linear(in_features=384, out_features=2, bias=True)\n",
      ")\n"
     ]
    }
   ],
   "source": [
    "print(model)"
   ]
  },
  {
   "cell_type": "code",
   "execution_count": 41,
   "id": "3ea776b9",
   "metadata": {},
   "outputs": [
    {
     "name": "stdout",
     "output_type": "stream",
     "text": [
      "150\n",
      "Layer 0: Conv2d(3, 384, kernel_size=(16, 16), stride=(16, 16))\n",
      "Layer 1: Dropout(p=0.0, inplace=False)\n",
      "Layer 2: Linear(in_features=384, out_features=384, bias=True)\n",
      "Layer 3: Linear(in_features=384, out_features=384, bias=True)\n",
      "Layer 4: Linear(in_features=384, out_features=384, bias=True)\n",
      "Layer 5: Dropout(p=0.0, inplace=False)\n",
      "Layer 6: Linear(in_features=384, out_features=384, bias=True)\n",
      "Layer 7: Dropout(p=0.0, inplace=False)\n",
      "Layer 8: Linear(in_features=384, out_features=1536, bias=True)\n",
      "Layer 9: GELUActivation()\n",
      "Layer 10: Linear(in_features=1536, out_features=384, bias=True)\n",
      "Layer 11: Dropout(p=0.0, inplace=False)\n",
      "Layer 12: LayerNorm((384,), eps=1e-12, elementwise_affine=True)\n",
      "Layer 13: LayerNorm((384,), eps=1e-12, elementwise_affine=True)\n",
      "Layer 14: Linear(in_features=384, out_features=384, bias=True)\n",
      "Layer 15: Linear(in_features=384, out_features=384, bias=True)\n",
      "Layer 16: Linear(in_features=384, out_features=384, bias=True)\n",
      "Layer 17: Dropout(p=0.0, inplace=False)\n",
      "Layer 18: Linear(in_features=384, out_features=384, bias=True)\n",
      "Layer 19: Dropout(p=0.0, inplace=False)\n",
      "Layer 20: Linear(in_features=384, out_features=1536, bias=True)\n",
      "Layer 21: GELUActivation()\n",
      "Layer 22: Linear(in_features=1536, out_features=384, bias=True)\n",
      "Layer 23: Dropout(p=0.0, inplace=False)\n",
      "Layer 24: LayerNorm((384,), eps=1e-12, elementwise_affine=True)\n",
      "Layer 25: LayerNorm((384,), eps=1e-12, elementwise_affine=True)\n",
      "Layer 26: Linear(in_features=384, out_features=384, bias=True)\n",
      "Layer 27: Linear(in_features=384, out_features=384, bias=True)\n",
      "Layer 28: Linear(in_features=384, out_features=384, bias=True)\n",
      "Layer 29: Dropout(p=0.0, inplace=False)\n",
      "Layer 30: Linear(in_features=384, out_features=384, bias=True)\n",
      "Layer 31: Dropout(p=0.0, inplace=False)\n",
      "Layer 32: Linear(in_features=384, out_features=1536, bias=True)\n",
      "Layer 33: GELUActivation()\n",
      "Layer 34: Linear(in_features=1536, out_features=384, bias=True)\n",
      "Layer 35: Dropout(p=0.0, inplace=False)\n",
      "Layer 36: LayerNorm((384,), eps=1e-12, elementwise_affine=True)\n",
      "Layer 37: LayerNorm((384,), eps=1e-12, elementwise_affine=True)\n",
      "Layer 38: Linear(in_features=384, out_features=384, bias=True)\n",
      "Layer 39: Linear(in_features=384, out_features=384, bias=True)\n",
      "Layer 40: Linear(in_features=384, out_features=384, bias=True)\n",
      "Layer 41: Dropout(p=0.0, inplace=False)\n",
      "Layer 42: Linear(in_features=384, out_features=384, bias=True)\n",
      "Layer 43: Dropout(p=0.0, inplace=False)\n",
      "Layer 44: Linear(in_features=384, out_features=1536, bias=True)\n",
      "Layer 45: GELUActivation()\n",
      "Layer 46: Linear(in_features=1536, out_features=384, bias=True)\n",
      "Layer 47: Dropout(p=0.0, inplace=False)\n",
      "Layer 48: LayerNorm((384,), eps=1e-12, elementwise_affine=True)\n",
      "Layer 49: LayerNorm((384,), eps=1e-12, elementwise_affine=True)\n",
      "Layer 50: Linear(in_features=384, out_features=384, bias=True)\n",
      "Layer 51: Linear(in_features=384, out_features=384, bias=True)\n",
      "Layer 52: Linear(in_features=384, out_features=384, bias=True)\n",
      "Layer 53: Dropout(p=0.0, inplace=False)\n",
      "Layer 54: Linear(in_features=384, out_features=384, bias=True)\n",
      "Layer 55: Dropout(p=0.0, inplace=False)\n",
      "Layer 56: Linear(in_features=384, out_features=1536, bias=True)\n",
      "Layer 57: GELUActivation()\n",
      "Layer 58: Linear(in_features=1536, out_features=384, bias=True)\n",
      "Layer 59: Dropout(p=0.0, inplace=False)\n",
      "Layer 60: LayerNorm((384,), eps=1e-12, elementwise_affine=True)\n",
      "Layer 61: LayerNorm((384,), eps=1e-12, elementwise_affine=True)\n",
      "Layer 62: Linear(in_features=384, out_features=384, bias=True)\n",
      "Layer 63: Linear(in_features=384, out_features=384, bias=True)\n",
      "Layer 64: Linear(in_features=384, out_features=384, bias=True)\n",
      "Layer 65: Dropout(p=0.0, inplace=False)\n",
      "Layer 66: Linear(in_features=384, out_features=384, bias=True)\n",
      "Layer 67: Dropout(p=0.0, inplace=False)\n",
      "Layer 68: Linear(in_features=384, out_features=1536, bias=True)\n",
      "Layer 69: GELUActivation()\n",
      "Layer 70: Linear(in_features=1536, out_features=384, bias=True)\n",
      "Layer 71: Dropout(p=0.0, inplace=False)\n",
      "Layer 72: LayerNorm((384,), eps=1e-12, elementwise_affine=True)\n",
      "Layer 73: LayerNorm((384,), eps=1e-12, elementwise_affine=True)\n",
      "Layer 74: Linear(in_features=384, out_features=384, bias=True)\n",
      "Layer 75: Linear(in_features=384, out_features=384, bias=True)\n",
      "Layer 76: Linear(in_features=384, out_features=384, bias=True)\n",
      "Layer 77: Dropout(p=0.0, inplace=False)\n",
      "Layer 78: Linear(in_features=384, out_features=384, bias=True)\n",
      "Layer 79: Dropout(p=0.0, inplace=False)\n",
      "Layer 80: Linear(in_features=384, out_features=1536, bias=True)\n",
      "Layer 81: GELUActivation()\n",
      "Layer 82: Linear(in_features=1536, out_features=384, bias=True)\n",
      "Layer 83: Dropout(p=0.0, inplace=False)\n",
      "Layer 84: LayerNorm((384,), eps=1e-12, elementwise_affine=True)\n",
      "Layer 85: LayerNorm((384,), eps=1e-12, elementwise_affine=True)\n",
      "Layer 86: Linear(in_features=384, out_features=384, bias=True)\n",
      "Layer 87: Linear(in_features=384, out_features=384, bias=True)\n",
      "Layer 88: Linear(in_features=384, out_features=384, bias=True)\n",
      "Layer 89: Dropout(p=0.0, inplace=False)\n",
      "Layer 90: Linear(in_features=384, out_features=384, bias=True)\n",
      "Layer 91: Dropout(p=0.0, inplace=False)\n",
      "Layer 92: Linear(in_features=384, out_features=1536, bias=True)\n",
      "Layer 93: GELUActivation()\n",
      "Layer 94: Linear(in_features=1536, out_features=384, bias=True)\n",
      "Layer 95: Dropout(p=0.0, inplace=False)\n",
      "Layer 96: LayerNorm((384,), eps=1e-12, elementwise_affine=True)\n",
      "Layer 97: LayerNorm((384,), eps=1e-12, elementwise_affine=True)\n",
      "Layer 98: Linear(in_features=384, out_features=384, bias=True)\n",
      "Layer 99: Linear(in_features=384, out_features=384, bias=True)\n",
      "Layer 100: Linear(in_features=384, out_features=384, bias=True)\n",
      "Layer 101: Dropout(p=0.0, inplace=False)\n",
      "Layer 102: Linear(in_features=384, out_features=384, bias=True)\n",
      "Layer 103: Dropout(p=0.0, inplace=False)\n",
      "Layer 104: Linear(in_features=384, out_features=1536, bias=True)\n",
      "Layer 105: GELUActivation()\n",
      "Layer 106: Linear(in_features=1536, out_features=384, bias=True)\n",
      "Layer 107: Dropout(p=0.0, inplace=False)\n",
      "Layer 108: LayerNorm((384,), eps=1e-12, elementwise_affine=True)\n",
      "Layer 109: LayerNorm((384,), eps=1e-12, elementwise_affine=True)\n",
      "Layer 110: Linear(in_features=384, out_features=384, bias=True)\n",
      "Layer 111: Linear(in_features=384, out_features=384, bias=True)\n",
      "Layer 112: Linear(in_features=384, out_features=384, bias=True)\n",
      "Layer 113: Dropout(p=0.0, inplace=False)\n",
      "Layer 114: Linear(in_features=384, out_features=384, bias=True)\n",
      "Layer 115: Dropout(p=0.0, inplace=False)\n",
      "Layer 116: Linear(in_features=384, out_features=1536, bias=True)\n",
      "Layer 117: GELUActivation()\n",
      "Layer 118: Linear(in_features=1536, out_features=384, bias=True)\n",
      "Layer 119: Dropout(p=0.0, inplace=False)\n",
      "Layer 120: LayerNorm((384,), eps=1e-12, elementwise_affine=True)\n",
      "Layer 121: LayerNorm((384,), eps=1e-12, elementwise_affine=True)\n",
      "Layer 122: Linear(in_features=384, out_features=384, bias=True)\n",
      "Layer 123: Linear(in_features=384, out_features=384, bias=True)\n",
      "Layer 124: Linear(in_features=384, out_features=384, bias=True)\n",
      "Layer 125: Dropout(p=0.0, inplace=False)\n",
      "Layer 126: Linear(in_features=384, out_features=384, bias=True)\n",
      "Layer 127: Dropout(p=0.0, inplace=False)\n",
      "Layer 128: Linear(in_features=384, out_features=1536, bias=True)\n",
      "Layer 129: GELUActivation()\n",
      "Layer 130: Linear(in_features=1536, out_features=384, bias=True)\n",
      "Layer 131: Dropout(p=0.0, inplace=False)\n",
      "Layer 132: LayerNorm((384,), eps=1e-12, elementwise_affine=True)\n",
      "Layer 133: LayerNorm((384,), eps=1e-12, elementwise_affine=True)\n",
      "Layer 134: Linear(in_features=384, out_features=384, bias=True)\n",
      "Layer 135: Linear(in_features=384, out_features=384, bias=True)\n",
      "Layer 136: Linear(in_features=384, out_features=384, bias=True)\n",
      "Layer 137: Dropout(p=0.0, inplace=False)\n",
      "Layer 138: Linear(in_features=384, out_features=384, bias=True)\n",
      "Layer 139: Dropout(p=0.0, inplace=False)\n",
      "Layer 140: Linear(in_features=384, out_features=1536, bias=True)\n",
      "Layer 141: GELUActivation()\n",
      "Layer 142: Linear(in_features=1536, out_features=384, bias=True)\n",
      "Layer 143: Dropout(p=0.0, inplace=False)\n",
      "Layer 144: LayerNorm((384,), eps=1e-12, elementwise_affine=True)\n",
      "Layer 145: LayerNorm((384,), eps=1e-12, elementwise_affine=True)\n",
      "Layer 146: LayerNorm((384,), eps=1e-12, elementwise_affine=True)\n",
      "Layer 147: Linear(in_features=384, out_features=384, bias=True)\n",
      "Layer 148: Tanh()\n",
      "Layer 149: Linear(in_features=384, out_features=2, bias=True)\n"
     ]
    }
   ],
   "source": [
    "layers=training_utils.get_all_layers(model)\n",
    "print(len(layers))\n",
    "n_layers=len(layers)\n",
    "for i, layer in enumerate(layers):\n",
    "    print(f\"Layer {i}: {layer}\")"
   ]
  },
  {
   "cell_type": "code",
   "execution_count": 44,
   "id": "69466588",
   "metadata": {},
   "outputs": [
    {
     "name": "stdout",
     "output_type": "stream",
     "text": [
      "Total Layers: 203\n",
      "Total Parameters: 21,960,962\n",
      "Trainable Parameters after freezing: 0\n",
      "\n",
      "\n",
      "Unfreezing the following layers:\n",
      "Conv2d(3, 384, kernel_size=(16, 16), stride=(16, 16))\n",
      "Dropout(p=0.0, inplace=False)\n",
      "Linear(in_features=384, out_features=384, bias=True)\n",
      "Linear(in_features=384, out_features=384, bias=True)\n",
      "Linear(in_features=384, out_features=384, bias=True)\n",
      "Dropout(p=0.0, inplace=False)\n",
      "Linear(in_features=384, out_features=384, bias=True)\n",
      "Dropout(p=0.0, inplace=False)\n",
      "Linear(in_features=384, out_features=1536, bias=True)\n",
      "GELUActivation()\n",
      "Linear(in_features=1536, out_features=384, bias=True)\n",
      "Dropout(p=0.0, inplace=False)\n",
      "LayerNorm((384,), eps=1e-12, elementwise_affine=True)\n",
      "LayerNorm((384,), eps=1e-12, elementwise_affine=True)\n",
      "Linear(in_features=384, out_features=384, bias=True)\n",
      "Linear(in_features=384, out_features=384, bias=True)\n",
      "Linear(in_features=384, out_features=384, bias=True)\n",
      "Dropout(p=0.0, inplace=False)\n",
      "Linear(in_features=384, out_features=384, bias=True)\n",
      "Dropout(p=0.0, inplace=False)\n",
      "Linear(in_features=384, out_features=1536, bias=True)\n",
      "GELUActivation()\n",
      "Linear(in_features=1536, out_features=384, bias=True)\n",
      "Dropout(p=0.0, inplace=False)\n",
      "LayerNorm((384,), eps=1e-12, elementwise_affine=True)\n",
      "LayerNorm((384,), eps=1e-12, elementwise_affine=True)\n",
      "Linear(in_features=384, out_features=384, bias=True)\n",
      "Linear(in_features=384, out_features=384, bias=True)\n",
      "Linear(in_features=384, out_features=384, bias=True)\n",
      "Dropout(p=0.0, inplace=False)\n",
      "Linear(in_features=384, out_features=384, bias=True)\n",
      "Dropout(p=0.0, inplace=False)\n",
      "Linear(in_features=384, out_features=1536, bias=True)\n",
      "GELUActivation()\n",
      "Linear(in_features=1536, out_features=384, bias=True)\n",
      "Dropout(p=0.0, inplace=False)\n",
      "LayerNorm((384,), eps=1e-12, elementwise_affine=True)\n",
      "LayerNorm((384,), eps=1e-12, elementwise_affine=True)\n",
      "Linear(in_features=384, out_features=384, bias=True)\n",
      "Linear(in_features=384, out_features=384, bias=True)\n",
      "Linear(in_features=384, out_features=384, bias=True)\n",
      "Dropout(p=0.0, inplace=False)\n",
      "Linear(in_features=384, out_features=384, bias=True)\n",
      "Dropout(p=0.0, inplace=False)\n",
      "Linear(in_features=384, out_features=1536, bias=True)\n",
      "GELUActivation()\n",
      "Linear(in_features=1536, out_features=384, bias=True)\n",
      "Dropout(p=0.0, inplace=False)\n",
      "LayerNorm((384,), eps=1e-12, elementwise_affine=True)\n",
      "LayerNorm((384,), eps=1e-12, elementwise_affine=True)\n",
      "Linear(in_features=384, out_features=384, bias=True)\n",
      "Linear(in_features=384, out_features=384, bias=True)\n",
      "Linear(in_features=384, out_features=384, bias=True)\n",
      "Dropout(p=0.0, inplace=False)\n",
      "Linear(in_features=384, out_features=384, bias=True)\n",
      "Dropout(p=0.0, inplace=False)\n",
      "Linear(in_features=384, out_features=1536, bias=True)\n",
      "GELUActivation()\n",
      "Linear(in_features=1536, out_features=384, bias=True)\n",
      "Dropout(p=0.0, inplace=False)\n",
      "LayerNorm((384,), eps=1e-12, elementwise_affine=True)\n",
      "LayerNorm((384,), eps=1e-12, elementwise_affine=True)\n",
      "Linear(in_features=384, out_features=384, bias=True)\n",
      "Linear(in_features=384, out_features=384, bias=True)\n",
      "Linear(in_features=384, out_features=384, bias=True)\n",
      "Dropout(p=0.0, inplace=False)\n",
      "Linear(in_features=384, out_features=384, bias=True)\n",
      "Dropout(p=0.0, inplace=False)\n",
      "Linear(in_features=384, out_features=1536, bias=True)\n",
      "GELUActivation()\n",
      "Linear(in_features=1536, out_features=384, bias=True)\n",
      "Dropout(p=0.0, inplace=False)\n",
      "LayerNorm((384,), eps=1e-12, elementwise_affine=True)\n",
      "LayerNorm((384,), eps=1e-12, elementwise_affine=True)\n",
      "Linear(in_features=384, out_features=384, bias=True)\n",
      "Linear(in_features=384, out_features=384, bias=True)\n",
      "Linear(in_features=384, out_features=384, bias=True)\n",
      "Dropout(p=0.0, inplace=False)\n",
      "Linear(in_features=384, out_features=384, bias=True)\n",
      "Dropout(p=0.0, inplace=False)\n",
      "Linear(in_features=384, out_features=1536, bias=True)\n",
      "GELUActivation()\n",
      "Linear(in_features=1536, out_features=384, bias=True)\n",
      "Dropout(p=0.0, inplace=False)\n",
      "LayerNorm((384,), eps=1e-12, elementwise_affine=True)\n",
      "LayerNorm((384,), eps=1e-12, elementwise_affine=True)\n",
      "Linear(in_features=384, out_features=384, bias=True)\n",
      "Linear(in_features=384, out_features=384, bias=True)\n",
      "Linear(in_features=384, out_features=384, bias=True)\n",
      "Dropout(p=0.0, inplace=False)\n",
      "Linear(in_features=384, out_features=384, bias=True)\n",
      "Dropout(p=0.0, inplace=False)\n",
      "Linear(in_features=384, out_features=1536, bias=True)\n",
      "GELUActivation()\n",
      "Linear(in_features=1536, out_features=384, bias=True)\n",
      "Dropout(p=0.0, inplace=False)\n",
      "LayerNorm((384,), eps=1e-12, elementwise_affine=True)\n",
      "LayerNorm((384,), eps=1e-12, elementwise_affine=True)\n",
      "Linear(in_features=384, out_features=384, bias=True)\n",
      "Linear(in_features=384, out_features=384, bias=True)\n",
      "Linear(in_features=384, out_features=384, bias=True)\n",
      "Dropout(p=0.0, inplace=False)\n",
      "Linear(in_features=384, out_features=384, bias=True)\n",
      "Dropout(p=0.0, inplace=False)\n",
      "Linear(in_features=384, out_features=1536, bias=True)\n",
      "GELUActivation()\n",
      "Linear(in_features=1536, out_features=384, bias=True)\n",
      "Dropout(p=0.0, inplace=False)\n",
      "LayerNorm((384,), eps=1e-12, elementwise_affine=True)\n",
      "LayerNorm((384,), eps=1e-12, elementwise_affine=True)\n",
      "Linear(in_features=384, out_features=384, bias=True)\n",
      "Linear(in_features=384, out_features=384, bias=True)\n",
      "Linear(in_features=384, out_features=384, bias=True)\n",
      "Dropout(p=0.0, inplace=False)\n",
      "Linear(in_features=384, out_features=384, bias=True)\n",
      "Dropout(p=0.0, inplace=False)\n",
      "Linear(in_features=384, out_features=1536, bias=True)\n",
      "GELUActivation()\n",
      "Linear(in_features=1536, out_features=384, bias=True)\n",
      "Dropout(p=0.0, inplace=False)\n",
      "LayerNorm((384,), eps=1e-12, elementwise_affine=True)\n",
      "LayerNorm((384,), eps=1e-12, elementwise_affine=True)\n",
      "Linear(in_features=384, out_features=384, bias=True)\n",
      "Linear(in_features=384, out_features=384, bias=True)\n",
      "Linear(in_features=384, out_features=384, bias=True)\n",
      "Dropout(p=0.0, inplace=False)\n",
      "Linear(in_features=384, out_features=384, bias=True)\n",
      "Dropout(p=0.0, inplace=False)\n",
      "Linear(in_features=384, out_features=1536, bias=True)\n",
      "GELUActivation()\n",
      "Linear(in_features=1536, out_features=384, bias=True)\n",
      "Dropout(p=0.0, inplace=False)\n",
      "LayerNorm((384,), eps=1e-12, elementwise_affine=True)\n",
      "LayerNorm((384,), eps=1e-12, elementwise_affine=True)\n",
      "Linear(in_features=384, out_features=384, bias=True)\n",
      "Linear(in_features=384, out_features=384, bias=True)\n",
      "Linear(in_features=384, out_features=384, bias=True)\n",
      "Dropout(p=0.0, inplace=False)\n",
      "Linear(in_features=384, out_features=384, bias=True)\n",
      "Dropout(p=0.0, inplace=False)\n",
      "Linear(in_features=384, out_features=1536, bias=True)\n",
      "GELUActivation()\n",
      "Linear(in_features=1536, out_features=384, bias=True)\n",
      "Dropout(p=0.0, inplace=False)\n",
      "LayerNorm((384,), eps=1e-12, elementwise_affine=True)\n",
      "LayerNorm((384,), eps=1e-12, elementwise_affine=True)\n",
      "LayerNorm((384,), eps=1e-12, elementwise_affine=True)\n",
      "Linear(in_features=384, out_features=384, bias=True)\n",
      "Tanh()\n",
      "Linear(in_features=384, out_features=2, bias=True)\n",
      "\n",
      "\n",
      "Trainable Parameters after UN-freezing last n layers: 21,738,242\n"
     ]
    }
   ],
   "source": [
    "# Freeze all layers but the last n\n",
    "num_trainable_layers = model_utils.get_trainable_layers(selected_model,depth=depth) \n",
    "#model = training_utils.fine_tune_last_n_layers(model, num_trainable_layers)\n",
    "model = training_utils.fine_tune_last_n_layers(model, n_layers) #fine tune all parameters\n",
    "#print(model)\n",
    "optimizer = training_utils.get_optimizer(model, optimizer_name, lr=learning_rate)\n",
    "scheduler = training_utils.get_scheduler(optimizer, scheduler_name, T_max=num_epochs)"
   ]
  },
  {
   "cell_type": "code",
   "execution_count": 45,
   "id": "41626a73",
   "metadata": {},
   "outputs": [
    {
     "name": "stderr",
     "output_type": "stream",
     "text": [
      "Epoch 1/10:   1%|▏         | 1/80 [01:57<2:34:09, 117.08s/it]\n"
     ]
    },
    {
     "ename": "KeyboardInterrupt",
     "evalue": "",
     "output_type": "error",
     "traceback": [
      "\u001b[1;31m---------------------------------------------------------------------------\u001b[0m",
      "\u001b[1;31mKeyboardInterrupt\u001b[0m                         Traceback (most recent call last)",
      "Cell \u001b[1;32mIn[45], line 2\u001b[0m\n\u001b[0;32m      1\u001b[0m start_time\u001b[38;5;241m=\u001b[39mdatetime\u001b[38;5;241m.\u001b[39mnow()\n\u001b[1;32m----> 2\u001b[0m model,train_losses,val_losses \u001b[38;5;241m=\u001b[39m \u001b[43mtraining_utils\u001b[49m\u001b[38;5;241;43m.\u001b[39;49m\u001b[43mtrain_model\u001b[49m\u001b[43m(\u001b[49m\u001b[43mmodel\u001b[49m\u001b[43m,\u001b[49m\u001b[43m \u001b[49m\u001b[43mtrain_dataloader\u001b[49m\u001b[43m,\u001b[49m\u001b[43m \u001b[49m\u001b[43mval_dataloader\u001b[49m\u001b[43m,\u001b[49m\u001b[43m \u001b[49m\u001b[43mcriterion\u001b[49m\u001b[43m,\u001b[49m\u001b[43m \u001b[49m\u001b[43moptimizer\u001b[49m\u001b[43m,\u001b[49m\u001b[43m \u001b[49m\u001b[43mdevice\u001b[49m\u001b[43m,\u001b[49m\u001b[43m \u001b[49m\n\u001b[0;32m      3\u001b[0m \u001b[43m                                            \u001b[49m\u001b[43mnum_epochs\u001b[49m\u001b[38;5;241;43m=\u001b[39;49m\u001b[43mnum_epochs\u001b[49m\u001b[43m,\u001b[49m\u001b[43m \u001b[49m\n\u001b[0;32m      4\u001b[0m \u001b[43m                                            \u001b[49m\u001b[43mcheckpoint_path\u001b[49m\u001b[38;5;241;43m=\u001b[39;49m\u001b[43mcheckpoint_path\u001b[49m\u001b[43m,\u001b[49m\n\u001b[0;32m      5\u001b[0m \u001b[43m                                            \u001b[49m\u001b[43mearly_stopping_patience\u001b[49m\u001b[38;5;241;43m=\u001b[39;49m\u001b[43mearly_stopping\u001b[49m\u001b[43m,\u001b[49m\u001b[43m \u001b[49m\u001b[43mscheduler\u001b[49m\u001b[38;5;241;43m=\u001b[39;49m\u001b[43mscheduler\u001b[49m\u001b[43m)\u001b[49m\n\u001b[0;32m      6\u001b[0m end_time\u001b[38;5;241m=\u001b[39mdatetime\u001b[38;5;241m.\u001b[39mnow()\n",
      "File \u001b[1;32mD:\\burtm\\Visual_studio_code\\PD_related_projects\\utils\\training_utils.py:28\u001b[0m, in \u001b[0;36mtrain_model\u001b[1;34m(model, train_loader, val_loader, criterion, optimizer, device, num_epochs, checkpoint_path, early_stopping_patience, scheduler)\u001b[0m\n\u001b[0;32m     26\u001b[0m loss \u001b[38;5;241m=\u001b[39m criterion(outputs, labels)\n\u001b[0;32m     27\u001b[0m loss\u001b[38;5;241m.\u001b[39mbackward()\n\u001b[1;32m---> 28\u001b[0m \u001b[43moptimizer\u001b[49m\u001b[38;5;241;43m.\u001b[39;49m\u001b[43mstep\u001b[49m\u001b[43m(\u001b[49m\u001b[43m)\u001b[49m\n\u001b[0;32m     30\u001b[0m train_loss \u001b[38;5;241m+\u001b[39m\u001b[38;5;241m=\u001b[39m loss\u001b[38;5;241m.\u001b[39mitem()\n\u001b[0;32m     31\u001b[0m _, preds \u001b[38;5;241m=\u001b[39m outputs\u001b[38;5;241m.\u001b[39mmax(\u001b[38;5;241m1\u001b[39m)\n",
      "File \u001b[1;32md:\\burtm\\Visual_studio_code\\conda_environments\\GeneralPurposeML\\lib\\site-packages\\torch\\optim\\optimizer.py:493\u001b[0m, in \u001b[0;36mOptimizer.profile_hook_step.<locals>.wrapper\u001b[1;34m(*args, **kwargs)\u001b[0m\n\u001b[0;32m    488\u001b[0m         \u001b[38;5;28;01melse\u001b[39;00m:\n\u001b[0;32m    489\u001b[0m             \u001b[38;5;28;01mraise\u001b[39;00m \u001b[38;5;167;01mRuntimeError\u001b[39;00m(\n\u001b[0;32m    490\u001b[0m                 \u001b[38;5;124mf\u001b[39m\u001b[38;5;124m\"\u001b[39m\u001b[38;5;132;01m{\u001b[39;00mfunc\u001b[38;5;132;01m}\u001b[39;00m\u001b[38;5;124m must return None or a tuple of (new_args, new_kwargs), but got \u001b[39m\u001b[38;5;132;01m{\u001b[39;00mresult\u001b[38;5;132;01m}\u001b[39;00m\u001b[38;5;124m.\u001b[39m\u001b[38;5;124m\"\u001b[39m\n\u001b[0;32m    491\u001b[0m             )\n\u001b[1;32m--> 493\u001b[0m out \u001b[38;5;241m=\u001b[39m func(\u001b[38;5;241m*\u001b[39margs, \u001b[38;5;241m*\u001b[39m\u001b[38;5;241m*\u001b[39mkwargs)\n\u001b[0;32m    494\u001b[0m \u001b[38;5;28mself\u001b[39m\u001b[38;5;241m.\u001b[39m_optimizer_step_code()\n\u001b[0;32m    496\u001b[0m \u001b[38;5;66;03m# call optimizer step post hooks\u001b[39;00m\n",
      "File \u001b[1;32md:\\burtm\\Visual_studio_code\\conda_environments\\GeneralPurposeML\\lib\\site-packages\\torch\\optim\\optimizer.py:91\u001b[0m, in \u001b[0;36m_use_grad_for_differentiable.<locals>._use_grad\u001b[1;34m(self, *args, **kwargs)\u001b[0m\n\u001b[0;32m     89\u001b[0m     torch\u001b[38;5;241m.\u001b[39mset_grad_enabled(\u001b[38;5;28mself\u001b[39m\u001b[38;5;241m.\u001b[39mdefaults[\u001b[38;5;124m\"\u001b[39m\u001b[38;5;124mdifferentiable\u001b[39m\u001b[38;5;124m\"\u001b[39m])\n\u001b[0;32m     90\u001b[0m     torch\u001b[38;5;241m.\u001b[39m_dynamo\u001b[38;5;241m.\u001b[39mgraph_break()\n\u001b[1;32m---> 91\u001b[0m     ret \u001b[38;5;241m=\u001b[39m func(\u001b[38;5;28mself\u001b[39m, \u001b[38;5;241m*\u001b[39margs, \u001b[38;5;241m*\u001b[39m\u001b[38;5;241m*\u001b[39mkwargs)\n\u001b[0;32m     92\u001b[0m \u001b[38;5;28;01mfinally\u001b[39;00m:\n\u001b[0;32m     93\u001b[0m     torch\u001b[38;5;241m.\u001b[39m_dynamo\u001b[38;5;241m.\u001b[39mgraph_break()\n",
      "File \u001b[1;32md:\\burtm\\Visual_studio_code\\conda_environments\\GeneralPurposeML\\lib\\site-packages\\torch\\optim\\adam.py:244\u001b[0m, in \u001b[0;36mAdam.step\u001b[1;34m(self, closure)\u001b[0m\n\u001b[0;32m    232\u001b[0m     beta1, beta2 \u001b[38;5;241m=\u001b[39m group[\u001b[38;5;124m\"\u001b[39m\u001b[38;5;124mbetas\u001b[39m\u001b[38;5;124m\"\u001b[39m]\n\u001b[0;32m    234\u001b[0m     has_complex \u001b[38;5;241m=\u001b[39m \u001b[38;5;28mself\u001b[39m\u001b[38;5;241m.\u001b[39m_init_group(\n\u001b[0;32m    235\u001b[0m         group,\n\u001b[0;32m    236\u001b[0m         params_with_grad,\n\u001b[1;32m   (...)\u001b[0m\n\u001b[0;32m    241\u001b[0m         state_steps,\n\u001b[0;32m    242\u001b[0m     )\n\u001b[1;32m--> 244\u001b[0m     \u001b[43madam\u001b[49m\u001b[43m(\u001b[49m\n\u001b[0;32m    245\u001b[0m \u001b[43m        \u001b[49m\u001b[43mparams_with_grad\u001b[49m\u001b[43m,\u001b[49m\n\u001b[0;32m    246\u001b[0m \u001b[43m        \u001b[49m\u001b[43mgrads\u001b[49m\u001b[43m,\u001b[49m\n\u001b[0;32m    247\u001b[0m \u001b[43m        \u001b[49m\u001b[43mexp_avgs\u001b[49m\u001b[43m,\u001b[49m\n\u001b[0;32m    248\u001b[0m \u001b[43m        \u001b[49m\u001b[43mexp_avg_sqs\u001b[49m\u001b[43m,\u001b[49m\n\u001b[0;32m    249\u001b[0m \u001b[43m        \u001b[49m\u001b[43mmax_exp_avg_sqs\u001b[49m\u001b[43m,\u001b[49m\n\u001b[0;32m    250\u001b[0m \u001b[43m        \u001b[49m\u001b[43mstate_steps\u001b[49m\u001b[43m,\u001b[49m\n\u001b[0;32m    251\u001b[0m \u001b[43m        \u001b[49m\u001b[43mamsgrad\u001b[49m\u001b[38;5;241;43m=\u001b[39;49m\u001b[43mgroup\u001b[49m\u001b[43m[\u001b[49m\u001b[38;5;124;43m\"\u001b[39;49m\u001b[38;5;124;43mamsgrad\u001b[39;49m\u001b[38;5;124;43m\"\u001b[39;49m\u001b[43m]\u001b[49m\u001b[43m,\u001b[49m\n\u001b[0;32m    252\u001b[0m \u001b[43m        \u001b[49m\u001b[43mhas_complex\u001b[49m\u001b[38;5;241;43m=\u001b[39;49m\u001b[43mhas_complex\u001b[49m\u001b[43m,\u001b[49m\n\u001b[0;32m    253\u001b[0m \u001b[43m        \u001b[49m\u001b[43mbeta1\u001b[49m\u001b[38;5;241;43m=\u001b[39;49m\u001b[43mbeta1\u001b[49m\u001b[43m,\u001b[49m\n\u001b[0;32m    254\u001b[0m \u001b[43m        \u001b[49m\u001b[43mbeta2\u001b[49m\u001b[38;5;241;43m=\u001b[39;49m\u001b[43mbeta2\u001b[49m\u001b[43m,\u001b[49m\n\u001b[0;32m    255\u001b[0m \u001b[43m        \u001b[49m\u001b[43mlr\u001b[49m\u001b[38;5;241;43m=\u001b[39;49m\u001b[43mgroup\u001b[49m\u001b[43m[\u001b[49m\u001b[38;5;124;43m\"\u001b[39;49m\u001b[38;5;124;43mlr\u001b[39;49m\u001b[38;5;124;43m\"\u001b[39;49m\u001b[43m]\u001b[49m\u001b[43m,\u001b[49m\n\u001b[0;32m    256\u001b[0m \u001b[43m        \u001b[49m\u001b[43mweight_decay\u001b[49m\u001b[38;5;241;43m=\u001b[39;49m\u001b[43mgroup\u001b[49m\u001b[43m[\u001b[49m\u001b[38;5;124;43m\"\u001b[39;49m\u001b[38;5;124;43mweight_decay\u001b[39;49m\u001b[38;5;124;43m\"\u001b[39;49m\u001b[43m]\u001b[49m\u001b[43m,\u001b[49m\n\u001b[0;32m    257\u001b[0m \u001b[43m        \u001b[49m\u001b[43meps\u001b[49m\u001b[38;5;241;43m=\u001b[39;49m\u001b[43mgroup\u001b[49m\u001b[43m[\u001b[49m\u001b[38;5;124;43m\"\u001b[39;49m\u001b[38;5;124;43meps\u001b[39;49m\u001b[38;5;124;43m\"\u001b[39;49m\u001b[43m]\u001b[49m\u001b[43m,\u001b[49m\n\u001b[0;32m    258\u001b[0m \u001b[43m        \u001b[49m\u001b[43mmaximize\u001b[49m\u001b[38;5;241;43m=\u001b[39;49m\u001b[43mgroup\u001b[49m\u001b[43m[\u001b[49m\u001b[38;5;124;43m\"\u001b[39;49m\u001b[38;5;124;43mmaximize\u001b[39;49m\u001b[38;5;124;43m\"\u001b[39;49m\u001b[43m]\u001b[49m\u001b[43m,\u001b[49m\n\u001b[0;32m    259\u001b[0m \u001b[43m        \u001b[49m\u001b[43mforeach\u001b[49m\u001b[38;5;241;43m=\u001b[39;49m\u001b[43mgroup\u001b[49m\u001b[43m[\u001b[49m\u001b[38;5;124;43m\"\u001b[39;49m\u001b[38;5;124;43mforeach\u001b[39;49m\u001b[38;5;124;43m\"\u001b[39;49m\u001b[43m]\u001b[49m\u001b[43m,\u001b[49m\n\u001b[0;32m    260\u001b[0m \u001b[43m        \u001b[49m\u001b[43mcapturable\u001b[49m\u001b[38;5;241;43m=\u001b[39;49m\u001b[43mgroup\u001b[49m\u001b[43m[\u001b[49m\u001b[38;5;124;43m\"\u001b[39;49m\u001b[38;5;124;43mcapturable\u001b[39;49m\u001b[38;5;124;43m\"\u001b[39;49m\u001b[43m]\u001b[49m\u001b[43m,\u001b[49m\n\u001b[0;32m    261\u001b[0m \u001b[43m        \u001b[49m\u001b[43mdifferentiable\u001b[49m\u001b[38;5;241;43m=\u001b[39;49m\u001b[43mgroup\u001b[49m\u001b[43m[\u001b[49m\u001b[38;5;124;43m\"\u001b[39;49m\u001b[38;5;124;43mdifferentiable\u001b[39;49m\u001b[38;5;124;43m\"\u001b[39;49m\u001b[43m]\u001b[49m\u001b[43m,\u001b[49m\n\u001b[0;32m    262\u001b[0m \u001b[43m        \u001b[49m\u001b[43mfused\u001b[49m\u001b[38;5;241;43m=\u001b[39;49m\u001b[43mgroup\u001b[49m\u001b[43m[\u001b[49m\u001b[38;5;124;43m\"\u001b[39;49m\u001b[38;5;124;43mfused\u001b[39;49m\u001b[38;5;124;43m\"\u001b[39;49m\u001b[43m]\u001b[49m\u001b[43m,\u001b[49m\n\u001b[0;32m    263\u001b[0m \u001b[43m        \u001b[49m\u001b[43mgrad_scale\u001b[49m\u001b[38;5;241;43m=\u001b[39;49m\u001b[38;5;28;43mgetattr\u001b[39;49m\u001b[43m(\u001b[49m\u001b[38;5;28;43mself\u001b[39;49m\u001b[43m,\u001b[49m\u001b[43m \u001b[49m\u001b[38;5;124;43m\"\u001b[39;49m\u001b[38;5;124;43mgrad_scale\u001b[39;49m\u001b[38;5;124;43m\"\u001b[39;49m\u001b[43m,\u001b[49m\u001b[43m \u001b[49m\u001b[38;5;28;43;01mNone\u001b[39;49;00m\u001b[43m)\u001b[49m\u001b[43m,\u001b[49m\n\u001b[0;32m    264\u001b[0m \u001b[43m        \u001b[49m\u001b[43mfound_inf\u001b[49m\u001b[38;5;241;43m=\u001b[39;49m\u001b[38;5;28;43mgetattr\u001b[39;49m\u001b[43m(\u001b[49m\u001b[38;5;28;43mself\u001b[39;49m\u001b[43m,\u001b[49m\u001b[43m \u001b[49m\u001b[38;5;124;43m\"\u001b[39;49m\u001b[38;5;124;43mfound_inf\u001b[39;49m\u001b[38;5;124;43m\"\u001b[39;49m\u001b[43m,\u001b[49m\u001b[43m \u001b[49m\u001b[38;5;28;43;01mNone\u001b[39;49;00m\u001b[43m)\u001b[49m\u001b[43m,\u001b[49m\n\u001b[0;32m    265\u001b[0m \u001b[43m    \u001b[49m\u001b[43m)\u001b[49m\n\u001b[0;32m    267\u001b[0m \u001b[38;5;28;01mreturn\u001b[39;00m loss\n",
      "File \u001b[1;32md:\\burtm\\Visual_studio_code\\conda_environments\\GeneralPurposeML\\lib\\site-packages\\torch\\optim\\optimizer.py:154\u001b[0m, in \u001b[0;36m_disable_dynamo_if_unsupported.<locals>.wrapper.<locals>.maybe_fallback\u001b[1;34m(*args, **kwargs)\u001b[0m\n\u001b[0;32m    152\u001b[0m     \u001b[38;5;28;01mreturn\u001b[39;00m disabled_func(\u001b[38;5;241m*\u001b[39margs, \u001b[38;5;241m*\u001b[39m\u001b[38;5;241m*\u001b[39mkwargs)\n\u001b[0;32m    153\u001b[0m \u001b[38;5;28;01melse\u001b[39;00m:\n\u001b[1;32m--> 154\u001b[0m     \u001b[38;5;28;01mreturn\u001b[39;00m func(\u001b[38;5;241m*\u001b[39margs, \u001b[38;5;241m*\u001b[39m\u001b[38;5;241m*\u001b[39mkwargs)\n",
      "File \u001b[1;32md:\\burtm\\Visual_studio_code\\conda_environments\\GeneralPurposeML\\lib\\site-packages\\torch\\optim\\adam.py:876\u001b[0m, in \u001b[0;36madam\u001b[1;34m(params, grads, exp_avgs, exp_avg_sqs, max_exp_avg_sqs, state_steps, foreach, capturable, differentiable, fused, grad_scale, found_inf, has_complex, amsgrad, beta1, beta2, lr, weight_decay, eps, maximize)\u001b[0m\n\u001b[0;32m    873\u001b[0m \u001b[38;5;28;01melse\u001b[39;00m:\n\u001b[0;32m    874\u001b[0m     func \u001b[38;5;241m=\u001b[39m _single_tensor_adam\n\u001b[1;32m--> 876\u001b[0m \u001b[43mfunc\u001b[49m\u001b[43m(\u001b[49m\n\u001b[0;32m    877\u001b[0m \u001b[43m    \u001b[49m\u001b[43mparams\u001b[49m\u001b[43m,\u001b[49m\n\u001b[0;32m    878\u001b[0m \u001b[43m    \u001b[49m\u001b[43mgrads\u001b[49m\u001b[43m,\u001b[49m\n\u001b[0;32m    879\u001b[0m \u001b[43m    \u001b[49m\u001b[43mexp_avgs\u001b[49m\u001b[43m,\u001b[49m\n\u001b[0;32m    880\u001b[0m \u001b[43m    \u001b[49m\u001b[43mexp_avg_sqs\u001b[49m\u001b[43m,\u001b[49m\n\u001b[0;32m    881\u001b[0m \u001b[43m    \u001b[49m\u001b[43mmax_exp_avg_sqs\u001b[49m\u001b[43m,\u001b[49m\n\u001b[0;32m    882\u001b[0m \u001b[43m    \u001b[49m\u001b[43mstate_steps\u001b[49m\u001b[43m,\u001b[49m\n\u001b[0;32m    883\u001b[0m \u001b[43m    \u001b[49m\u001b[43mamsgrad\u001b[49m\u001b[38;5;241;43m=\u001b[39;49m\u001b[43mamsgrad\u001b[49m\u001b[43m,\u001b[49m\n\u001b[0;32m    884\u001b[0m \u001b[43m    \u001b[49m\u001b[43mhas_complex\u001b[49m\u001b[38;5;241;43m=\u001b[39;49m\u001b[43mhas_complex\u001b[49m\u001b[43m,\u001b[49m\n\u001b[0;32m    885\u001b[0m \u001b[43m    \u001b[49m\u001b[43mbeta1\u001b[49m\u001b[38;5;241;43m=\u001b[39;49m\u001b[43mbeta1\u001b[49m\u001b[43m,\u001b[49m\n\u001b[0;32m    886\u001b[0m \u001b[43m    \u001b[49m\u001b[43mbeta2\u001b[49m\u001b[38;5;241;43m=\u001b[39;49m\u001b[43mbeta2\u001b[49m\u001b[43m,\u001b[49m\n\u001b[0;32m    887\u001b[0m \u001b[43m    \u001b[49m\u001b[43mlr\u001b[49m\u001b[38;5;241;43m=\u001b[39;49m\u001b[43mlr\u001b[49m\u001b[43m,\u001b[49m\n\u001b[0;32m    888\u001b[0m \u001b[43m    \u001b[49m\u001b[43mweight_decay\u001b[49m\u001b[38;5;241;43m=\u001b[39;49m\u001b[43mweight_decay\u001b[49m\u001b[43m,\u001b[49m\n\u001b[0;32m    889\u001b[0m \u001b[43m    \u001b[49m\u001b[43meps\u001b[49m\u001b[38;5;241;43m=\u001b[39;49m\u001b[43meps\u001b[49m\u001b[43m,\u001b[49m\n\u001b[0;32m    890\u001b[0m \u001b[43m    \u001b[49m\u001b[43mmaximize\u001b[49m\u001b[38;5;241;43m=\u001b[39;49m\u001b[43mmaximize\u001b[49m\u001b[43m,\u001b[49m\n\u001b[0;32m    891\u001b[0m \u001b[43m    \u001b[49m\u001b[43mcapturable\u001b[49m\u001b[38;5;241;43m=\u001b[39;49m\u001b[43mcapturable\u001b[49m\u001b[43m,\u001b[49m\n\u001b[0;32m    892\u001b[0m \u001b[43m    \u001b[49m\u001b[43mdifferentiable\u001b[49m\u001b[38;5;241;43m=\u001b[39;49m\u001b[43mdifferentiable\u001b[49m\u001b[43m,\u001b[49m\n\u001b[0;32m    893\u001b[0m \u001b[43m    \u001b[49m\u001b[43mgrad_scale\u001b[49m\u001b[38;5;241;43m=\u001b[39;49m\u001b[43mgrad_scale\u001b[49m\u001b[43m,\u001b[49m\n\u001b[0;32m    894\u001b[0m \u001b[43m    \u001b[49m\u001b[43mfound_inf\u001b[49m\u001b[38;5;241;43m=\u001b[39;49m\u001b[43mfound_inf\u001b[49m\u001b[43m,\u001b[49m\n\u001b[0;32m    895\u001b[0m \u001b[43m\u001b[49m\u001b[43m)\u001b[49m\n",
      "File \u001b[1;32md:\\burtm\\Visual_studio_code\\conda_environments\\GeneralPurposeML\\lib\\site-packages\\torch\\optim\\adam.py:619\u001b[0m, in \u001b[0;36m_multi_tensor_adam\u001b[1;34m(params, grads, exp_avgs, exp_avg_sqs, max_exp_avg_sqs, state_steps, grad_scale, found_inf, amsgrad, has_complex, beta1, beta2, lr, weight_decay, eps, maximize, capturable, differentiable)\u001b[0m\n\u001b[0;32m    612\u001b[0m         device_grads \u001b[38;5;241m=\u001b[39m torch\u001b[38;5;241m.\u001b[39m_foreach_add(  \u001b[38;5;66;03m# type: ignore[assignment]\u001b[39;00m\n\u001b[0;32m    613\u001b[0m             device_grads, device_params, alpha\u001b[38;5;241m=\u001b[39mweight_decay\n\u001b[0;32m    614\u001b[0m         )\n\u001b[0;32m    616\u001b[0m \u001b[38;5;66;03m# Decay the first and second moment running average coefficient\u001b[39;00m\n\u001b[0;32m    617\u001b[0m \u001b[38;5;66;03m# Use device beta1 if beta1 is a tensor to ensure all\u001b[39;00m\n\u001b[0;32m    618\u001b[0m \u001b[38;5;66;03m# tensors are on the same device\u001b[39;00m\n\u001b[1;32m--> 619\u001b[0m \u001b[43mtorch\u001b[49m\u001b[38;5;241;43m.\u001b[39;49m\u001b[43m_foreach_lerp_\u001b[49m\u001b[43m(\u001b[49m\u001b[43mdevice_exp_avgs\u001b[49m\u001b[43m,\u001b[49m\u001b[43m \u001b[49m\u001b[43mdevice_grads\u001b[49m\u001b[43m,\u001b[49m\u001b[43m \u001b[49m\u001b[38;5;241;43m1\u001b[39;49m\u001b[43m \u001b[49m\u001b[38;5;241;43m-\u001b[39;49m\u001b[43m \u001b[49m\u001b[43mdevice_beta1\u001b[49m\u001b[43m)\u001b[49m\n\u001b[0;32m    621\u001b[0m torch\u001b[38;5;241m.\u001b[39m_foreach_mul_(device_exp_avg_sqs, beta2)\n\u001b[0;32m    623\u001b[0m \u001b[38;5;66;03m# Due to the strictness of the _foreach_addcmul API, we can't have a single\u001b[39;00m\n\u001b[0;32m    624\u001b[0m \u001b[38;5;66;03m# tensor scalar as the scalar arg (only python number is supported there)\u001b[39;00m\n\u001b[0;32m    625\u001b[0m \u001b[38;5;66;03m# as a result, separate out the value mul\u001b[39;00m\n\u001b[0;32m    626\u001b[0m \u001b[38;5;66;03m# Filed https://github.com/pytorch/pytorch/issues/139795\u001b[39;00m\n",
      "\u001b[1;31mKeyboardInterrupt\u001b[0m: "
     ]
    }
   ],
   "source": [
    "start_time=datetime.now()\n",
    "model,train_losses,val_losses = training_utils.train_model(model, train_dataloader, val_dataloader, criterion, optimizer, device, \n",
    "                                            num_epochs=num_epochs, \n",
    "                                            checkpoint_path=checkpoint_path,\n",
    "                                            early_stopping_patience=early_stopping, scheduler=scheduler)\n",
    "end_time=datetime.now()"
   ]
  },
  {
   "cell_type": "code",
   "execution_count": 49,
   "id": "da48fe32",
   "metadata": {},
   "outputs": [],
   "source": [
    "#get the best_checkpoint.pth and add the training metadata to it\n",
    "checkpoint = torch.load(checkpoint_path+'best_checkpoint.pth',weights_only=False)\n",
    "checkpoint['training_metadata'] = training_metadata\n",
    "val_accuracy= checkpoint['val_acc']\n",
    "# Save the updated checkpoint with metadata\n",
    "torch.save(checkpoint, checkpoint_path+'best_checkpoint.pth')\n",
    "\n",
    "timestamp = datetime.now().strftime(\"%Y%m%d_%H%M%S\")\n",
    "torch.save(checkpoint, f\"{models_path}\\{training_metadata['type_of_approach_sigla']}_ValAcc{val_accuracy}_{timestamp}.pth\")\n"
   ]
  },
  {
   "cell_type": "code",
   "execution_count": null,
   "id": "c1a82a09",
   "metadata": {},
   "outputs": [],
   "source": [
    "#do the same for the last checkpoint\n",
    "checkpoint = torch.load(checkpoint_path+'last_checkpoint.pth',weights_only=False)\n",
    "checkpoint['training_metadata'] = training_metadata\n",
    "# Save the updated checkpoint with metadata\n",
    "torch.save(checkpoint, checkpoint_path+'last_checkpoint.pth')"
   ]
  },
  {
   "cell_type": "markdown",
   "id": "7b2dfb57",
   "metadata": {},
   "source": [
    "# easy access"
   ]
  },
  {
   "cell_type": "code",
   "execution_count": 21,
   "id": "82e39392",
   "metadata": {},
   "outputs": [],
   "source": [
    "def reload_modules():\n",
    "    import importlib\n",
    "    import utils.data_loading as data_loading\n",
    "    import utils.visualization as visualization\n",
    "    import utils.dataframes as dataframes\n",
    "    import utils.utils_transforms as u_transforms\n",
    "    import utils.training_utils as training_utils\n",
    "    import utils.model_utils as model_utils\n",
    "    \n",
    "\n",
    "    importlib.reload(data_loading)\n",
    "    importlib.reload(visualization)\n",
    "    importlib.reload(dataframes)\n",
    "    importlib.reload(u_transforms)\n",
    "    importlib.reload(model_utils)\n",
    "    importlib.reload(training_utils)\n",
    "\n",
    "    return data_loading, visualization, dataframes, u_transforms, training_utils, model_utils\n",
    "data_loading, visualization, dataframes, u_transforms, training_utils, model_utils = reload_modules()"
   ]
  }
 ],
 "metadata": {
  "kernelspec": {
   "display_name": "GeneralPurposeML",
   "language": "python",
   "name": "python3"
  },
  "language_info": {
   "codemirror_mode": {
    "name": "ipython",
    "version": 3
   },
   "file_extension": ".py",
   "mimetype": "text/x-python",
   "name": "python",
   "nbconvert_exporter": "python",
   "pygments_lexer": "ipython3",
   "version": "3.10.16"
  }
 },
 "nbformat": 4,
 "nbformat_minor": 5
}
