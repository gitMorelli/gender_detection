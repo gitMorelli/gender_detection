{
 "cells": [
  {
   "cell_type": "code",
   "execution_count": 1,
   "id": "1123c1b3",
   "metadata": {},
   "outputs": [
    {
     "ename": "KeyboardInterrupt",
     "evalue": "",
     "output_type": "error",
     "traceback": [
      "\u001b[1;31m---------------------------------------------------------------------------\u001b[0m",
      "\u001b[1;31mKeyboardInterrupt\u001b[0m                         Traceback (most recent call last)",
      "Cell \u001b[1;32mIn[1], line 3\u001b[0m\n\u001b[0;32m      1\u001b[0m \u001b[38;5;28;01mimport\u001b[39;00m\u001b[38;5;250m \u001b[39m\u001b[38;5;21;01msys\u001b[39;00m\n\u001b[0;32m      2\u001b[0m \u001b[38;5;28;01mimport\u001b[39;00m\u001b[38;5;250m \u001b[39m\u001b[38;5;21;01mos\u001b[39;00m\n\u001b[1;32m----> 3\u001b[0m \u001b[38;5;28;01mimport\u001b[39;00m\u001b[38;5;250m \u001b[39m\u001b[38;5;21;01mtorch\u001b[39;00m\n\u001b[0;32m      4\u001b[0m \u001b[38;5;28;01mimport\u001b[39;00m\u001b[38;5;250m \u001b[39m\u001b[38;5;21;01mtorch\u001b[39;00m\u001b[38;5;21;01m.\u001b[39;00m\u001b[38;5;21;01mnn\u001b[39;00m\u001b[38;5;250m \u001b[39m\u001b[38;5;28;01mas\u001b[39;00m\u001b[38;5;250m \u001b[39m\u001b[38;5;21;01mnn\u001b[39;00m\n\u001b[0;32m      5\u001b[0m \u001b[38;5;28;01mimport\u001b[39;00m\u001b[38;5;250m \u001b[39m\u001b[38;5;21;01mtorch\u001b[39;00m\u001b[38;5;21;01m.\u001b[39;00m\u001b[38;5;21;01moptim\u001b[39;00m\u001b[38;5;250m \u001b[39m\u001b[38;5;28;01mas\u001b[39;00m\u001b[38;5;250m \u001b[39m\u001b[38;5;21;01moptim\u001b[39;00m\n",
      "File \u001b[1;32md:\\burtm\\Visual_studio_code\\conda_environments\\GeneralPurposeML\\lib\\site-packages\\torch\\__init__.py:274\u001b[0m\n\u001b[0;32m    270\u001b[0m                     \u001b[38;5;28;01mraise\u001b[39;00m err\n\u001b[0;32m    272\u001b[0m         kernel32\u001b[38;5;241m.\u001b[39mSetErrorMode(prev_error_mode)\n\u001b[1;32m--> 274\u001b[0m     \u001b[43m_load_dll_libraries\u001b[49m\u001b[43m(\u001b[49m\u001b[43m)\u001b[49m\n\u001b[0;32m    275\u001b[0m     \u001b[38;5;28;01mdel\u001b[39;00m _load_dll_libraries\n\u001b[0;32m    278\u001b[0m \u001b[38;5;28;01mdef\u001b[39;00m\u001b[38;5;250m \u001b[39m\u001b[38;5;21m_preload_cuda_deps\u001b[39m(lib_folder: \u001b[38;5;28mstr\u001b[39m, lib_name: \u001b[38;5;28mstr\u001b[39m) \u001b[38;5;241m-\u001b[39m\u001b[38;5;241m>\u001b[39m \u001b[38;5;28;01mNone\u001b[39;00m:\n",
      "File \u001b[1;32md:\\burtm\\Visual_studio_code\\conda_environments\\GeneralPurposeML\\lib\\site-packages\\torch\\__init__.py:250\u001b[0m, in \u001b[0;36m_load_dll_libraries\u001b[1;34m()\u001b[0m\n\u001b[0;32m    248\u001b[0m is_loaded \u001b[38;5;241m=\u001b[39m \u001b[38;5;28;01mFalse\u001b[39;00m\n\u001b[0;32m    249\u001b[0m \u001b[38;5;28;01mif\u001b[39;00m with_load_library_flags:\n\u001b[1;32m--> 250\u001b[0m     res \u001b[38;5;241m=\u001b[39m \u001b[43mkernel32\u001b[49m\u001b[38;5;241;43m.\u001b[39;49m\u001b[43mLoadLibraryExW\u001b[49m\u001b[43m(\u001b[49m\u001b[43mdll\u001b[49m\u001b[43m,\u001b[49m\u001b[43m \u001b[49m\u001b[38;5;28;43;01mNone\u001b[39;49;00m\u001b[43m,\u001b[49m\u001b[43m \u001b[49m\u001b[38;5;241;43m0x00001100\u001b[39;49m\u001b[43m)\u001b[49m\n\u001b[0;32m    251\u001b[0m     last_error \u001b[38;5;241m=\u001b[39m ctypes\u001b[38;5;241m.\u001b[39mget_last_error()\n\u001b[0;32m    252\u001b[0m     \u001b[38;5;28;01mif\u001b[39;00m res \u001b[38;5;129;01mis\u001b[39;00m \u001b[38;5;28;01mNone\u001b[39;00m \u001b[38;5;129;01mand\u001b[39;00m last_error \u001b[38;5;241m!=\u001b[39m \u001b[38;5;241m126\u001b[39m:\n",
      "\u001b[1;31mKeyboardInterrupt\u001b[0m: "
     ]
    }
   ],
   "source": [
    "import sys\n",
    "import os\n",
    "import torch\n",
    "import torch.nn as nn\n",
    "import torch.optim as optim\n",
    "from datetime import datetime\n",
    "import pandas as pd\n",
    "\n",
    "sys.path.append(os.path.abspath(\"D:\\\\burtm\\\\Visual_studio_code\\\\PD_related_projects\"))"
   ]
  },
  {
   "cell_type": "code",
   "execution_count": 3,
   "id": "b5af7607",
   "metadata": {},
   "outputs": [],
   "source": [
    "selected_model = \"MLP\"\n",
    "selected_transform = \"trocr-small-stage1\"\n",
    "N_max=282\n",
    "use_patches=True\n",
    "pretrained=True\n",
    "depth=2\n",
    "hugging=True\n",
    "num_epochs=100\n",
    "batch_size=32\n",
    "learning_rate=0.001\n",
    "input_filename=\"icdar_train_df_patches_cc.csv\"\n",
    "criterion_name=\"CrossEntropyLoss\"\n",
    "criterion = training_utils.get_criterion(criterion_name)\n",
    "optimizer_name = \"Adam\"\n",
    "num_classes = 2  # Change this to match your dataset\n",
    "early_stopping=10\n",
    "scheduler_name = 'no_scheduling'#CosineAnnealingLR'\n",
    "checkpoint_path = \"D:\\\\burtm\\Visual_studio_code\\PD_related_projects\\checkpoints\\\\\"\n",
    "models_path = \"D:\\\\burtm\\Visual_studio_code\\PD_related_projects\\outputs\\models\\\\\""
   ]
  },
  {
   "cell_type": "code",
   "execution_count": 4,
   "id": "a097da02",
   "metadata": {},
   "outputs": [],
   "source": [
    "# Example training metadata\n",
    "training_metadata = {\n",
    "    \"type_of_approach\": \"training mlp on top of trocr extracted features (from block 10 and last block)\",\n",
    "    \"type_of_approach_sigla\": \"mlp_trocr\",\n",
    "    \"model_name\": selected_model,\n",
    "    \"transform_name\": selected_transform,\n",
    "    \"epochs\": num_epochs,\n",
    "    \"batch_size\": batch_size,\n",
    "    \"learning_rate\": learning_rate,\n",
    "    \"optimizer\": optimizer_name,\n",
    "    \"pretrained\": pretrained,\n",
    "    \"depth\": depth,\n",
    "    \"use_patches\": use_patches,\n",
    "    \"input_filename\": input_filename,\n",
    "    \"num_classes\": num_classes,\n",
    "    \"criterion_name\": criterion_name,\n",
    "    \"early_stopping\": early_stopping,\n",
    "    \"N_max\": N_max,\n",
    "    \"scheduler_name\": scheduler_name,\n",
    "}"
   ]
  },
  {
   "cell_type": "code",
   "execution_count": 19,
   "id": "521f4414",
   "metadata": {},
   "outputs": [],
   "source": [
    "\n",
    "data_path=\"D:\\\\burtm\\\\Visual_studio_code\\\\PD_related_projects\\\\outputs\\\\preprocessed_data\\\\\"\n",
    "file_path_1='icdar_EXTRACTED_trocr_stage_1.csv'\n",
    "file_path_2='icdar_EXTRACTED_trocr_stage_1_10blocks_20250509_153553.csv'\n",
    "train_df_1 = pd.read_csv(data_path+file_path_1)\n",
    "train_df_2 = pd.read_csv(data_path+file_path_2)\n"
   ]
  },
  {
   "cell_type": "code",
   "execution_count": 6,
   "id": "d9a8bd69",
   "metadata": {},
   "outputs": [
    {
     "data": {
      "text/html": [
       "<div>\n",
       "<style scoped>\n",
       "    .dataframe tbody tr th:only-of-type {\n",
       "        vertical-align: middle;\n",
       "    }\n",
       "\n",
       "    .dataframe tbody tr th {\n",
       "        vertical-align: top;\n",
       "    }\n",
       "\n",
       "    .dataframe thead th {\n",
       "        text-align: right;\n",
       "    }\n",
       "</style>\n",
       "<table border=\"1\" class=\"dataframe\">\n",
       "  <thead>\n",
       "    <tr style=\"text-align: right;\">\n",
       "      <th></th>\n",
       "      <th>writer</th>\n",
       "      <th>same_text</th>\n",
       "      <th>isEng</th>\n",
       "      <th>train</th>\n",
       "      <th>file_name</th>\n",
       "      <th>male</th>\n",
       "      <th>x</th>\n",
       "      <th>y</th>\n",
       "      <th>x2</th>\n",
       "      <th>y2</th>\n",
       "      <th>...</th>\n",
       "      <th>f375</th>\n",
       "      <th>f376</th>\n",
       "      <th>f377</th>\n",
       "      <th>f378</th>\n",
       "      <th>f379</th>\n",
       "      <th>f380</th>\n",
       "      <th>f381</th>\n",
       "      <th>f382</th>\n",
       "      <th>f383</th>\n",
       "      <th>f384</th>\n",
       "    </tr>\n",
       "  </thead>\n",
       "  <tbody>\n",
       "    <tr>\n",
       "      <th>0</th>\n",
       "      <td>190</td>\n",
       "      <td>0</td>\n",
       "      <td>0</td>\n",
       "      <td>1</td>\n",
       "      <td>D:\\download\\PD project\\datasets\\ICDAR 2013 - G...</td>\n",
       "      <td>1</td>\n",
       "      <td>988</td>\n",
       "      <td>494</td>\n",
       "      <td>1482</td>\n",
       "      <td>988</td>\n",
       "      <td>...</td>\n",
       "      <td>0.621636</td>\n",
       "      <td>0.495279</td>\n",
       "      <td>-0.389701</td>\n",
       "      <td>-0.058870</td>\n",
       "      <td>0.580941</td>\n",
       "      <td>-0.161189</td>\n",
       "      <td>0.491237</td>\n",
       "      <td>-0.745575</td>\n",
       "      <td>0.791981</td>\n",
       "      <td>-0.915822</td>\n",
       "    </tr>\n",
       "    <tr>\n",
       "      <th>1</th>\n",
       "      <td>24</td>\n",
       "      <td>0</td>\n",
       "      <td>1</td>\n",
       "      <td>1</td>\n",
       "      <td>D:\\download\\PD project\\datasets\\ICDAR 2013 - G...</td>\n",
       "      <td>0</td>\n",
       "      <td>990</td>\n",
       "      <td>495</td>\n",
       "      <td>1485</td>\n",
       "      <td>990</td>\n",
       "      <td>...</td>\n",
       "      <td>0.654779</td>\n",
       "      <td>0.962829</td>\n",
       "      <td>-0.261563</td>\n",
       "      <td>-0.149086</td>\n",
       "      <td>1.290398</td>\n",
       "      <td>-0.493723</td>\n",
       "      <td>0.332634</td>\n",
       "      <td>-0.845838</td>\n",
       "      <td>0.701031</td>\n",
       "      <td>-0.516267</td>\n",
       "    </tr>\n",
       "    <tr>\n",
       "      <th>2</th>\n",
       "      <td>26</td>\n",
       "      <td>1</td>\n",
       "      <td>1</td>\n",
       "      <td>1</td>\n",
       "      <td>D:\\download\\PD project\\datasets\\ICDAR 2013 - G...</td>\n",
       "      <td>1</td>\n",
       "      <td>494</td>\n",
       "      <td>1976</td>\n",
       "      <td>988</td>\n",
       "      <td>2470</td>\n",
       "      <td>...</td>\n",
       "      <td>0.538509</td>\n",
       "      <td>0.735932</td>\n",
       "      <td>-0.625200</td>\n",
       "      <td>-0.053809</td>\n",
       "      <td>1.258883</td>\n",
       "      <td>-0.857080</td>\n",
       "      <td>0.097662</td>\n",
       "      <td>-0.151117</td>\n",
       "      <td>0.769877</td>\n",
       "      <td>-1.263413</td>\n",
       "    </tr>\n",
       "    <tr>\n",
       "      <th>3</th>\n",
       "      <td>190</td>\n",
       "      <td>0</td>\n",
       "      <td>0</td>\n",
       "      <td>1</td>\n",
       "      <td>D:\\download\\PD project\\datasets\\ICDAR 2013 - G...</td>\n",
       "      <td>1</td>\n",
       "      <td>494</td>\n",
       "      <td>494</td>\n",
       "      <td>988</td>\n",
       "      <td>988</td>\n",
       "      <td>...</td>\n",
       "      <td>0.491024</td>\n",
       "      <td>0.589948</td>\n",
       "      <td>-0.307026</td>\n",
       "      <td>0.154349</td>\n",
       "      <td>0.862040</td>\n",
       "      <td>-0.343460</td>\n",
       "      <td>0.478519</td>\n",
       "      <td>-0.866911</td>\n",
       "      <td>0.734231</td>\n",
       "      <td>-0.810595</td>\n",
       "    </tr>\n",
       "    <tr>\n",
       "      <th>4</th>\n",
       "      <td>160</td>\n",
       "      <td>0</td>\n",
       "      <td>1</td>\n",
       "      <td>1</td>\n",
       "      <td>D:\\download\\PD project\\datasets\\ICDAR 2013 - G...</td>\n",
       "      <td>0</td>\n",
       "      <td>1482</td>\n",
       "      <td>494</td>\n",
       "      <td>1976</td>\n",
       "      <td>988</td>\n",
       "      <td>...</td>\n",
       "      <td>0.903548</td>\n",
       "      <td>0.373364</td>\n",
       "      <td>-0.691305</td>\n",
       "      <td>0.246522</td>\n",
       "      <td>0.851829</td>\n",
       "      <td>0.060120</td>\n",
       "      <td>0.342756</td>\n",
       "      <td>-0.464967</td>\n",
       "      <td>0.335915</td>\n",
       "      <td>-0.447760</td>\n",
       "    </tr>\n",
       "  </tbody>\n",
       "</table>\n",
       "<p>5 rows × 395 columns</p>\n",
       "</div>"
      ],
      "text/plain": [
       "   writer  same_text  isEng  train  \\\n",
       "0     190          0      0      1   \n",
       "1      24          0      1      1   \n",
       "2      26          1      1      1   \n",
       "3     190          0      0      1   \n",
       "4     160          0      1      1   \n",
       "\n",
       "                                           file_name  male     x     y    x2  \\\n",
       "0  D:\\download\\PD project\\datasets\\ICDAR 2013 - G...     1   988   494  1482   \n",
       "1  D:\\download\\PD project\\datasets\\ICDAR 2013 - G...     0   990   495  1485   \n",
       "2  D:\\download\\PD project\\datasets\\ICDAR 2013 - G...     1   494  1976   988   \n",
       "3  D:\\download\\PD project\\datasets\\ICDAR 2013 - G...     1   494   494   988   \n",
       "4  D:\\download\\PD project\\datasets\\ICDAR 2013 - G...     0  1482   494  1976   \n",
       "\n",
       "     y2  ...      f375      f376      f377      f378      f379      f380  \\\n",
       "0   988  ...  0.621636  0.495279 -0.389701 -0.058870  0.580941 -0.161189   \n",
       "1   990  ...  0.654779  0.962829 -0.261563 -0.149086  1.290398 -0.493723   \n",
       "2  2470  ...  0.538509  0.735932 -0.625200 -0.053809  1.258883 -0.857080   \n",
       "3   988  ...  0.491024  0.589948 -0.307026  0.154349  0.862040 -0.343460   \n",
       "4   988  ...  0.903548  0.373364 -0.691305  0.246522  0.851829  0.060120   \n",
       "\n",
       "       f381      f382      f383      f384  \n",
       "0  0.491237 -0.745575  0.791981 -0.915822  \n",
       "1  0.332634 -0.845838  0.701031 -0.516267  \n",
       "2  0.097662 -0.151117  0.769877 -1.263413  \n",
       "3  0.478519 -0.866911  0.734231 -0.810595  \n",
       "4  0.342756 -0.464967  0.335915 -0.447760  \n",
       "\n",
       "[5 rows x 395 columns]"
      ]
     },
     "execution_count": 6,
     "metadata": {},
     "output_type": "execute_result"
    }
   ],
   "source": [
    "train_df_1.head()"
   ]
  },
  {
   "cell_type": "code",
   "execution_count": 7,
   "id": "9bbe42d0",
   "metadata": {},
   "outputs": [
    {
     "data": {
      "text/html": [
       "<div>\n",
       "<style scoped>\n",
       "    .dataframe tbody tr th:only-of-type {\n",
       "        vertical-align: middle;\n",
       "    }\n",
       "\n",
       "    .dataframe tbody tr th {\n",
       "        vertical-align: top;\n",
       "    }\n",
       "\n",
       "    .dataframe thead th {\n",
       "        text-align: right;\n",
       "    }\n",
       "</style>\n",
       "<table border=\"1\" class=\"dataframe\">\n",
       "  <thead>\n",
       "    <tr style=\"text-align: right;\">\n",
       "      <th></th>\n",
       "      <th>writer</th>\n",
       "      <th>same_text</th>\n",
       "      <th>isEng</th>\n",
       "      <th>train</th>\n",
       "      <th>file_name</th>\n",
       "      <th>male</th>\n",
       "      <th>x</th>\n",
       "      <th>y</th>\n",
       "      <th>x2</th>\n",
       "      <th>y2</th>\n",
       "      <th>...</th>\n",
       "      <th>f375</th>\n",
       "      <th>f376</th>\n",
       "      <th>f377</th>\n",
       "      <th>f378</th>\n",
       "      <th>f379</th>\n",
       "      <th>f380</th>\n",
       "      <th>f381</th>\n",
       "      <th>f382</th>\n",
       "      <th>f383</th>\n",
       "      <th>f384</th>\n",
       "    </tr>\n",
       "  </thead>\n",
       "  <tbody>\n",
       "    <tr>\n",
       "      <th>0</th>\n",
       "      <td>190</td>\n",
       "      <td>0</td>\n",
       "      <td>0</td>\n",
       "      <td>1</td>\n",
       "      <td>D:\\download\\PD project\\datasets\\ICDAR 2013 - G...</td>\n",
       "      <td>1</td>\n",
       "      <td>988</td>\n",
       "      <td>494</td>\n",
       "      <td>1482</td>\n",
       "      <td>988</td>\n",
       "      <td>...</td>\n",
       "      <td>-0.922357</td>\n",
       "      <td>2.522360</td>\n",
       "      <td>4.304227</td>\n",
       "      <td>-3.425128</td>\n",
       "      <td>3.495620</td>\n",
       "      <td>-4.153519</td>\n",
       "      <td>-0.852054</td>\n",
       "      <td>-1.164748</td>\n",
       "      <td>-2.234782</td>\n",
       "      <td>-2.404248</td>\n",
       "    </tr>\n",
       "    <tr>\n",
       "      <th>1</th>\n",
       "      <td>24</td>\n",
       "      <td>0</td>\n",
       "      <td>1</td>\n",
       "      <td>1</td>\n",
       "      <td>D:\\download\\PD project\\datasets\\ICDAR 2013 - G...</td>\n",
       "      <td>0</td>\n",
       "      <td>990</td>\n",
       "      <td>495</td>\n",
       "      <td>1485</td>\n",
       "      <td>990</td>\n",
       "      <td>...</td>\n",
       "      <td>-0.485612</td>\n",
       "      <td>1.888572</td>\n",
       "      <td>4.129086</td>\n",
       "      <td>-3.297427</td>\n",
       "      <td>4.332079</td>\n",
       "      <td>-4.687369</td>\n",
       "      <td>-2.287635</td>\n",
       "      <td>-1.905988</td>\n",
       "      <td>-4.285491</td>\n",
       "      <td>-1.362528</td>\n",
       "    </tr>\n",
       "    <tr>\n",
       "      <th>2</th>\n",
       "      <td>26</td>\n",
       "      <td>1</td>\n",
       "      <td>1</td>\n",
       "      <td>1</td>\n",
       "      <td>D:\\download\\PD project\\datasets\\ICDAR 2013 - G...</td>\n",
       "      <td>1</td>\n",
       "      <td>494</td>\n",
       "      <td>1976</td>\n",
       "      <td>988</td>\n",
       "      <td>2470</td>\n",
       "      <td>...</td>\n",
       "      <td>-1.275970</td>\n",
       "      <td>1.497854</td>\n",
       "      <td>3.086382</td>\n",
       "      <td>-2.358793</td>\n",
       "      <td>4.704427</td>\n",
       "      <td>-5.747137</td>\n",
       "      <td>-3.386876</td>\n",
       "      <td>1.461058</td>\n",
       "      <td>-3.862585</td>\n",
       "      <td>-1.632300</td>\n",
       "    </tr>\n",
       "    <tr>\n",
       "      <th>3</th>\n",
       "      <td>190</td>\n",
       "      <td>0</td>\n",
       "      <td>0</td>\n",
       "      <td>1</td>\n",
       "      <td>D:\\download\\PD project\\datasets\\ICDAR 2013 - G...</td>\n",
       "      <td>1</td>\n",
       "      <td>494</td>\n",
       "      <td>494</td>\n",
       "      <td>988</td>\n",
       "      <td>988</td>\n",
       "      <td>...</td>\n",
       "      <td>-1.605459</td>\n",
       "      <td>2.483239</td>\n",
       "      <td>4.245601</td>\n",
       "      <td>-3.242137</td>\n",
       "      <td>3.766826</td>\n",
       "      <td>-4.104949</td>\n",
       "      <td>-1.693988</td>\n",
       "      <td>-1.805966</td>\n",
       "      <td>-2.415438</td>\n",
       "      <td>-1.441694</td>\n",
       "    </tr>\n",
       "    <tr>\n",
       "      <th>4</th>\n",
       "      <td>160</td>\n",
       "      <td>0</td>\n",
       "      <td>1</td>\n",
       "      <td>1</td>\n",
       "      <td>D:\\download\\PD project\\datasets\\ICDAR 2013 - G...</td>\n",
       "      <td>0</td>\n",
       "      <td>1482</td>\n",
       "      <td>494</td>\n",
       "      <td>1976</td>\n",
       "      <td>988</td>\n",
       "      <td>...</td>\n",
       "      <td>-0.307438</td>\n",
       "      <td>1.057468</td>\n",
       "      <td>2.697207</td>\n",
       "      <td>-1.516698</td>\n",
       "      <td>3.344037</td>\n",
       "      <td>-4.181660</td>\n",
       "      <td>-2.132452</td>\n",
       "      <td>-1.470941</td>\n",
       "      <td>-4.696310</td>\n",
       "      <td>-0.665148</td>\n",
       "    </tr>\n",
       "  </tbody>\n",
       "</table>\n",
       "<p>5 rows × 395 columns</p>\n",
       "</div>"
      ],
      "text/plain": [
       "   writer  same_text  isEng  train  \\\n",
       "0     190          0      0      1   \n",
       "1      24          0      1      1   \n",
       "2      26          1      1      1   \n",
       "3     190          0      0      1   \n",
       "4     160          0      1      1   \n",
       "\n",
       "                                           file_name  male     x     y    x2  \\\n",
       "0  D:\\download\\PD project\\datasets\\ICDAR 2013 - G...     1   988   494  1482   \n",
       "1  D:\\download\\PD project\\datasets\\ICDAR 2013 - G...     0   990   495  1485   \n",
       "2  D:\\download\\PD project\\datasets\\ICDAR 2013 - G...     1   494  1976   988   \n",
       "3  D:\\download\\PD project\\datasets\\ICDAR 2013 - G...     1   494   494   988   \n",
       "4  D:\\download\\PD project\\datasets\\ICDAR 2013 - G...     0  1482   494  1976   \n",
       "\n",
       "     y2  ...      f375      f376      f377      f378      f379      f380  \\\n",
       "0   988  ... -0.922357  2.522360  4.304227 -3.425128  3.495620 -4.153519   \n",
       "1   990  ... -0.485612  1.888572  4.129086 -3.297427  4.332079 -4.687369   \n",
       "2  2470  ... -1.275970  1.497854  3.086382 -2.358793  4.704427 -5.747137   \n",
       "3   988  ... -1.605459  2.483239  4.245601 -3.242137  3.766826 -4.104949   \n",
       "4   988  ... -0.307438  1.057468  2.697207 -1.516698  3.344037 -4.181660   \n",
       "\n",
       "       f381      f382      f383      f384  \n",
       "0 -0.852054 -1.164748 -2.234782 -2.404248  \n",
       "1 -2.287635 -1.905988 -4.285491 -1.362528  \n",
       "2 -3.386876  1.461058 -3.862585 -1.632300  \n",
       "3 -1.693988 -1.805966 -2.415438 -1.441694  \n",
       "4 -2.132452 -1.470941 -4.696310 -0.665148  \n",
       "\n",
       "[5 rows x 395 columns]"
      ]
     },
     "execution_count": 7,
     "metadata": {},
     "output_type": "execute_result"
    }
   ],
   "source": [
    "train_df_2.head()"
   ]
  },
  {
   "cell_type": "code",
   "execution_count": 20,
   "id": "149b5661",
   "metadata": {},
   "outputs": [],
   "source": [
    "# Filter columns in train_df_2 that match the pattern \"f(some_number)\"\n",
    "columns_to_append = [col for col in train_df_2.columns if col.startswith('f') and col[1:].isdigit()]\n",
    "\n",
    "# Append these columns to train_df_1 with modified column names to avoid conflicts\n",
    "train_df_2_modified = train_df_2[columns_to_append].rename(columns=lambda x: f\"{x}_from_df2\")\n",
    "train_df_1 = pd.concat([train_df_1, train_df_2_modified], axis=1)"
   ]
  },
  {
   "cell_type": "code",
   "execution_count": 21,
   "id": "62ad8570",
   "metadata": {},
   "outputs": [
    {
     "data": {
      "text/html": [
       "<div>\n",
       "<style scoped>\n",
       "    .dataframe tbody tr th:only-of-type {\n",
       "        vertical-align: middle;\n",
       "    }\n",
       "\n",
       "    .dataframe tbody tr th {\n",
       "        vertical-align: top;\n",
       "    }\n",
       "\n",
       "    .dataframe thead th {\n",
       "        text-align: right;\n",
       "    }\n",
       "</style>\n",
       "<table border=\"1\" class=\"dataframe\">\n",
       "  <thead>\n",
       "    <tr style=\"text-align: right;\">\n",
       "      <th></th>\n",
       "      <th>writer</th>\n",
       "      <th>same_text</th>\n",
       "      <th>isEng</th>\n",
       "      <th>train</th>\n",
       "      <th>file_name</th>\n",
       "      <th>male</th>\n",
       "      <th>x</th>\n",
       "      <th>y</th>\n",
       "      <th>x2</th>\n",
       "      <th>y2</th>\n",
       "      <th>...</th>\n",
       "      <th>f375_from_df2</th>\n",
       "      <th>f376_from_df2</th>\n",
       "      <th>f377_from_df2</th>\n",
       "      <th>f378_from_df2</th>\n",
       "      <th>f379_from_df2</th>\n",
       "      <th>f380_from_df2</th>\n",
       "      <th>f381_from_df2</th>\n",
       "      <th>f382_from_df2</th>\n",
       "      <th>f383_from_df2</th>\n",
       "      <th>f384_from_df2</th>\n",
       "    </tr>\n",
       "  </thead>\n",
       "  <tbody>\n",
       "    <tr>\n",
       "      <th>0</th>\n",
       "      <td>190</td>\n",
       "      <td>0</td>\n",
       "      <td>0</td>\n",
       "      <td>1</td>\n",
       "      <td>D:\\download\\PD project\\datasets\\ICDAR 2013 - G...</td>\n",
       "      <td>1</td>\n",
       "      <td>988</td>\n",
       "      <td>494</td>\n",
       "      <td>1482</td>\n",
       "      <td>988</td>\n",
       "      <td>...</td>\n",
       "      <td>-0.922357</td>\n",
       "      <td>2.522360</td>\n",
       "      <td>4.304227</td>\n",
       "      <td>-3.425128</td>\n",
       "      <td>3.495620</td>\n",
       "      <td>-4.153519</td>\n",
       "      <td>-0.852054</td>\n",
       "      <td>-1.164748</td>\n",
       "      <td>-2.234782</td>\n",
       "      <td>-2.404248</td>\n",
       "    </tr>\n",
       "    <tr>\n",
       "      <th>1</th>\n",
       "      <td>24</td>\n",
       "      <td>0</td>\n",
       "      <td>1</td>\n",
       "      <td>1</td>\n",
       "      <td>D:\\download\\PD project\\datasets\\ICDAR 2013 - G...</td>\n",
       "      <td>0</td>\n",
       "      <td>990</td>\n",
       "      <td>495</td>\n",
       "      <td>1485</td>\n",
       "      <td>990</td>\n",
       "      <td>...</td>\n",
       "      <td>-0.485612</td>\n",
       "      <td>1.888572</td>\n",
       "      <td>4.129086</td>\n",
       "      <td>-3.297427</td>\n",
       "      <td>4.332079</td>\n",
       "      <td>-4.687369</td>\n",
       "      <td>-2.287635</td>\n",
       "      <td>-1.905988</td>\n",
       "      <td>-4.285491</td>\n",
       "      <td>-1.362528</td>\n",
       "    </tr>\n",
       "    <tr>\n",
       "      <th>2</th>\n",
       "      <td>26</td>\n",
       "      <td>1</td>\n",
       "      <td>1</td>\n",
       "      <td>1</td>\n",
       "      <td>D:\\download\\PD project\\datasets\\ICDAR 2013 - G...</td>\n",
       "      <td>1</td>\n",
       "      <td>494</td>\n",
       "      <td>1976</td>\n",
       "      <td>988</td>\n",
       "      <td>2470</td>\n",
       "      <td>...</td>\n",
       "      <td>-1.275970</td>\n",
       "      <td>1.497854</td>\n",
       "      <td>3.086382</td>\n",
       "      <td>-2.358793</td>\n",
       "      <td>4.704427</td>\n",
       "      <td>-5.747137</td>\n",
       "      <td>-3.386876</td>\n",
       "      <td>1.461058</td>\n",
       "      <td>-3.862585</td>\n",
       "      <td>-1.632300</td>\n",
       "    </tr>\n",
       "    <tr>\n",
       "      <th>3</th>\n",
       "      <td>190</td>\n",
       "      <td>0</td>\n",
       "      <td>0</td>\n",
       "      <td>1</td>\n",
       "      <td>D:\\download\\PD project\\datasets\\ICDAR 2013 - G...</td>\n",
       "      <td>1</td>\n",
       "      <td>494</td>\n",
       "      <td>494</td>\n",
       "      <td>988</td>\n",
       "      <td>988</td>\n",
       "      <td>...</td>\n",
       "      <td>-1.605459</td>\n",
       "      <td>2.483239</td>\n",
       "      <td>4.245601</td>\n",
       "      <td>-3.242137</td>\n",
       "      <td>3.766826</td>\n",
       "      <td>-4.104949</td>\n",
       "      <td>-1.693988</td>\n",
       "      <td>-1.805966</td>\n",
       "      <td>-2.415438</td>\n",
       "      <td>-1.441694</td>\n",
       "    </tr>\n",
       "    <tr>\n",
       "      <th>4</th>\n",
       "      <td>160</td>\n",
       "      <td>0</td>\n",
       "      <td>1</td>\n",
       "      <td>1</td>\n",
       "      <td>D:\\download\\PD project\\datasets\\ICDAR 2013 - G...</td>\n",
       "      <td>0</td>\n",
       "      <td>1482</td>\n",
       "      <td>494</td>\n",
       "      <td>1976</td>\n",
       "      <td>988</td>\n",
       "      <td>...</td>\n",
       "      <td>-0.307438</td>\n",
       "      <td>1.057468</td>\n",
       "      <td>2.697207</td>\n",
       "      <td>-1.516698</td>\n",
       "      <td>3.344037</td>\n",
       "      <td>-4.181660</td>\n",
       "      <td>-2.132452</td>\n",
       "      <td>-1.470941</td>\n",
       "      <td>-4.696310</td>\n",
       "      <td>-0.665148</td>\n",
       "    </tr>\n",
       "  </tbody>\n",
       "</table>\n",
       "<p>5 rows × 779 columns</p>\n",
       "</div>"
      ],
      "text/plain": [
       "   writer  same_text  isEng  train  \\\n",
       "0     190          0      0      1   \n",
       "1      24          0      1      1   \n",
       "2      26          1      1      1   \n",
       "3     190          0      0      1   \n",
       "4     160          0      1      1   \n",
       "\n",
       "                                           file_name  male     x     y    x2  \\\n",
       "0  D:\\download\\PD project\\datasets\\ICDAR 2013 - G...     1   988   494  1482   \n",
       "1  D:\\download\\PD project\\datasets\\ICDAR 2013 - G...     0   990   495  1485   \n",
       "2  D:\\download\\PD project\\datasets\\ICDAR 2013 - G...     1   494  1976   988   \n",
       "3  D:\\download\\PD project\\datasets\\ICDAR 2013 - G...     1   494   494   988   \n",
       "4  D:\\download\\PD project\\datasets\\ICDAR 2013 - G...     0  1482   494  1976   \n",
       "\n",
       "     y2  ...  f375_from_df2  f376_from_df2  f377_from_df2  f378_from_df2  \\\n",
       "0   988  ...      -0.922357       2.522360       4.304227      -3.425128   \n",
       "1   990  ...      -0.485612       1.888572       4.129086      -3.297427   \n",
       "2  2470  ...      -1.275970       1.497854       3.086382      -2.358793   \n",
       "3   988  ...      -1.605459       2.483239       4.245601      -3.242137   \n",
       "4   988  ...      -0.307438       1.057468       2.697207      -1.516698   \n",
       "\n",
       "   f379_from_df2  f380_from_df2  f381_from_df2  f382_from_df2  f383_from_df2  \\\n",
       "0       3.495620      -4.153519      -0.852054      -1.164748      -2.234782   \n",
       "1       4.332079      -4.687369      -2.287635      -1.905988      -4.285491   \n",
       "2       4.704427      -5.747137      -3.386876       1.461058      -3.862585   \n",
       "3       3.766826      -4.104949      -1.693988      -1.805966      -2.415438   \n",
       "4       3.344037      -4.181660      -2.132452      -1.470941      -4.696310   \n",
       "\n",
       "   f384_from_df2  \n",
       "0      -2.404248  \n",
       "1      -1.362528  \n",
       "2      -1.632300  \n",
       "3      -1.441694  \n",
       "4      -0.665148  \n",
       "\n",
       "[5 rows x 779 columns]"
      ]
     },
     "execution_count": 21,
     "metadata": {},
     "output_type": "execute_result"
    }
   ],
   "source": [
    "train_df_1.head()"
   ]
  },
  {
   "cell_type": "code",
   "execution_count": 10,
   "id": "cff0e0ec",
   "metadata": {},
   "outputs": [
    {
     "name": "stdout",
     "output_type": "stream",
     "text": [
      "['writer', 'same_text', 'isEng', 'train', 'file_name', 'male', 'x', 'y', 'x2', 'y2', 'n_cc', 'f1', 'f2', 'f3', 'f4', 'f5', 'f6', 'f7', 'f8', 'f9', 'f10', 'f11', 'f12', 'f13', 'f14', 'f15', 'f16', 'f17', 'f18', 'f19', 'f20', 'f21', 'f22', 'f23', 'f24', 'f25', 'f26', 'f27', 'f28', 'f29', 'f30', 'f31', 'f32', 'f33', 'f34', 'f35', 'f36', 'f37', 'f38', 'f39', 'f40', 'f41', 'f42', 'f43', 'f44', 'f45', 'f46', 'f47', 'f48', 'f49', 'f50', 'f51', 'f52', 'f53', 'f54', 'f55', 'f56', 'f57', 'f58', 'f59', 'f60', 'f61', 'f62', 'f63', 'f64', 'f65', 'f66', 'f67', 'f68', 'f69', 'f70', 'f71', 'f72', 'f73', 'f74', 'f75', 'f76', 'f77', 'f78', 'f79', 'f80', 'f81', 'f82', 'f83', 'f84', 'f85', 'f86', 'f87', 'f88', 'f89', 'f90', 'f91', 'f92', 'f93', 'f94', 'f95', 'f96', 'f97', 'f98', 'f99', 'f100', 'f101', 'f102', 'f103', 'f104', 'f105', 'f106', 'f107', 'f108', 'f109', 'f110', 'f111', 'f112', 'f113', 'f114', 'f115', 'f116', 'f117', 'f118', 'f119', 'f120', 'f121', 'f122', 'f123', 'f124', 'f125', 'f126', 'f127', 'f128', 'f129', 'f130', 'f131', 'f132', 'f133', 'f134', 'f135', 'f136', 'f137', 'f138', 'f139', 'f140', 'f141', 'f142', 'f143', 'f144', 'f145', 'f146', 'f147', 'f148', 'f149', 'f150', 'f151', 'f152', 'f153', 'f154', 'f155', 'f156', 'f157', 'f158', 'f159', 'f160', 'f161', 'f162', 'f163', 'f164', 'f165', 'f166', 'f167', 'f168', 'f169', 'f170', 'f171', 'f172', 'f173', 'f174', 'f175', 'f176', 'f177', 'f178', 'f179', 'f180', 'f181', 'f182', 'f183', 'f184', 'f185', 'f186', 'f187', 'f188', 'f189', 'f190', 'f191', 'f192', 'f193', 'f194', 'f195', 'f196', 'f197', 'f198', 'f199', 'f200', 'f201', 'f202', 'f203', 'f204', 'f205', 'f206', 'f207', 'f208', 'f209', 'f210', 'f211', 'f212', 'f213', 'f214', 'f215', 'f216', 'f217', 'f218', 'f219', 'f220', 'f221', 'f222', 'f223', 'f224', 'f225', 'f226', 'f227', 'f228', 'f229', 'f230', 'f231', 'f232', 'f233', 'f234', 'f235', 'f236', 'f237', 'f238', 'f239', 'f240', 'f241', 'f242', 'f243', 'f244', 'f245', 'f246', 'f247', 'f248', 'f249', 'f250', 'f251', 'f252', 'f253', 'f254', 'f255', 'f256', 'f257', 'f258', 'f259', 'f260', 'f261', 'f262', 'f263', 'f264', 'f265', 'f266', 'f267', 'f268', 'f269', 'f270', 'f271', 'f272', 'f273', 'f274', 'f275', 'f276', 'f277', 'f278', 'f279', 'f280', 'f281', 'f282', 'f283', 'f284', 'f285', 'f286', 'f287', 'f288', 'f289', 'f290', 'f291', 'f292', 'f293', 'f294', 'f295', 'f296', 'f297', 'f298', 'f299', 'f300', 'f301', 'f302', 'f303', 'f304', 'f305', 'f306', 'f307', 'f308', 'f309', 'f310', 'f311', 'f312', 'f313', 'f314', 'f315', 'f316', 'f317', 'f318', 'f319', 'f320', 'f321', 'f322', 'f323', 'f324', 'f325', 'f326', 'f327', 'f328', 'f329', 'f330', 'f331', 'f332', 'f333', 'f334', 'f335', 'f336', 'f337', 'f338', 'f339', 'f340', 'f341', 'f342', 'f343', 'f344', 'f345', 'f346', 'f347', 'f348', 'f349', 'f350', 'f351', 'f352', 'f353', 'f354', 'f355', 'f356', 'f357', 'f358', 'f359', 'f360', 'f361', 'f362', 'f363', 'f364', 'f365', 'f366', 'f367', 'f368', 'f369', 'f370', 'f371', 'f372', 'f373', 'f374', 'f375', 'f376', 'f377', 'f378', 'f379', 'f380', 'f381', 'f382', 'f383', 'f384', 'f1', 'f2', 'f3', 'f4', 'f5', 'f6', 'f7', 'f8', 'f9', 'f10', 'f11', 'f12', 'f13', 'f14', 'f15', 'f16', 'f17', 'f18', 'f19', 'f20', 'f21', 'f22', 'f23', 'f24', 'f25', 'f26', 'f27', 'f28', 'f29', 'f30', 'f31', 'f32', 'f33', 'f34', 'f35', 'f36', 'f37', 'f38', 'f39', 'f40', 'f41', 'f42', 'f43', 'f44', 'f45', 'f46', 'f47', 'f48', 'f49', 'f50', 'f51', 'f52', 'f53', 'f54', 'f55', 'f56', 'f57', 'f58', 'f59', 'f60', 'f61', 'f62', 'f63', 'f64', 'f65', 'f66', 'f67', 'f68', 'f69', 'f70', 'f71', 'f72', 'f73', 'f74', 'f75', 'f76', 'f77', 'f78', 'f79', 'f80', 'f81', 'f82', 'f83', 'f84', 'f85', 'f86', 'f87', 'f88', 'f89', 'f90', 'f91', 'f92', 'f93', 'f94', 'f95', 'f96', 'f97', 'f98', 'f99', 'f100', 'f101', 'f102', 'f103', 'f104', 'f105', 'f106', 'f107', 'f108', 'f109', 'f110', 'f111', 'f112', 'f113', 'f114', 'f115', 'f116', 'f117', 'f118', 'f119', 'f120', 'f121', 'f122', 'f123', 'f124', 'f125', 'f126', 'f127', 'f128', 'f129', 'f130', 'f131', 'f132', 'f133', 'f134', 'f135', 'f136', 'f137', 'f138', 'f139', 'f140', 'f141', 'f142', 'f143', 'f144', 'f145', 'f146', 'f147', 'f148', 'f149', 'f150', 'f151', 'f152', 'f153', 'f154', 'f155', 'f156', 'f157', 'f158', 'f159', 'f160', 'f161', 'f162', 'f163', 'f164', 'f165', 'f166', 'f167', 'f168', 'f169', 'f170', 'f171', 'f172', 'f173', 'f174', 'f175', 'f176', 'f177', 'f178', 'f179', 'f180', 'f181', 'f182', 'f183', 'f184', 'f185', 'f186', 'f187', 'f188', 'f189', 'f190', 'f191', 'f192', 'f193', 'f194', 'f195', 'f196', 'f197', 'f198', 'f199', 'f200', 'f201', 'f202', 'f203', 'f204', 'f205', 'f206', 'f207', 'f208', 'f209', 'f210', 'f211', 'f212', 'f213', 'f214', 'f215', 'f216', 'f217', 'f218', 'f219', 'f220', 'f221', 'f222', 'f223', 'f224', 'f225', 'f226', 'f227', 'f228', 'f229', 'f230', 'f231', 'f232', 'f233', 'f234', 'f235', 'f236', 'f237', 'f238', 'f239', 'f240', 'f241', 'f242', 'f243', 'f244', 'f245', 'f246', 'f247', 'f248', 'f249', 'f250', 'f251', 'f252', 'f253', 'f254', 'f255', 'f256', 'f257', 'f258', 'f259', 'f260', 'f261', 'f262', 'f263', 'f264', 'f265', 'f266', 'f267', 'f268', 'f269', 'f270', 'f271', 'f272', 'f273', 'f274', 'f275', 'f276', 'f277', 'f278', 'f279', 'f280', 'f281', 'f282', 'f283', 'f284', 'f285', 'f286', 'f287', 'f288', 'f289', 'f290', 'f291', 'f292', 'f293', 'f294', 'f295', 'f296', 'f297', 'f298', 'f299', 'f300', 'f301', 'f302', 'f303', 'f304', 'f305', 'f306', 'f307', 'f308', 'f309', 'f310', 'f311', 'f312', 'f313', 'f314', 'f315', 'f316', 'f317', 'f318', 'f319', 'f320', 'f321', 'f322', 'f323', 'f324', 'f325', 'f326', 'f327', 'f328', 'f329', 'f330', 'f331', 'f332', 'f333', 'f334', 'f335', 'f336', 'f337', 'f338', 'f339', 'f340', 'f341', 'f342', 'f343', 'f344', 'f345', 'f346', 'f347', 'f348', 'f349', 'f350', 'f351', 'f352', 'f353', 'f354', 'f355', 'f356', 'f357', 'f358', 'f359', 'f360', 'f361', 'f362', 'f363', 'f364', 'f365', 'f366', 'f367', 'f368', 'f369', 'f370', 'f371', 'f372', 'f373', 'f374', 'f375', 'f376', 'f377', 'f378', 'f379', 'f380', 'f381', 'f382', 'f383', 'f384']\n"
     ]
    }
   ],
   "source": [
    "print(train_df_1.columns.tolist())"
   ]
  },
  {
   "cell_type": "code",
   "execution_count": 24,
   "id": "cb1e68f5",
   "metadata": {},
   "outputs": [
    {
     "name": "stdout",
     "output_type": "stream",
     "text": [
      "Extracted 768 feature columns:\n",
      "Extracted 768 feature columns:\n"
     ]
    }
   ],
   "source": [
    "transform=u_transforms.get_transform(selected_transform,use_patches=use_patches)\n",
    "train_dataloader,val_dataloader=data_loading.get_dataloaders(transform, batch_size=16, N_max=282, \n",
    "                                                file_name='icdar_EXTRACTED_trocr_stage_1.csv',hugging=hugging,from_df=True, df=train_df_1)\n",
    "\n"
   ]
  },
  {
   "cell_type": "code",
   "execution_count": 32,
   "id": "0220ebc5",
   "metadata": {},
   "outputs": [
    {
     "name": "stdout",
     "output_type": "stream",
     "text": [
      "Device is:  cuda\n"
     ]
    }
   ],
   "source": [
    "# Modify the final classification layer (assuming you have 10 classes)\n",
    "\n",
    "model=model_utils.get_model(selected_model, pretrained=pretrained, num_classes=num_classes,\n",
    "                            input_size=768, hidden_sizes=[356])\n",
    "\n",
    "# Define loss function and optimizer\n",
    "device = torch.device(\"cuda\" if torch.cuda.is_available() else \"cpu\")\n",
    "print(\"Device is: \",device)\n",
    "model = model.to(device)"
   ]
  },
  {
   "cell_type": "code",
   "execution_count": 33,
   "id": "c2cf10c8",
   "metadata": {},
   "outputs": [
    {
     "name": "stdout",
     "output_type": "stream",
     "text": [
      "Total Layers: 4\n",
      "Total Parameters: 274,478\n",
      "Trainable Parameters after freezing: 0\n",
      "\n",
      "\n",
      "Unfreezing the following layers:\n",
      "Linear(in_features=768, out_features=356, bias=True)\n",
      "ReLU()\n",
      "Linear(in_features=356, out_features=2, bias=True)\n",
      "\n",
      "\n",
      "Trainable Parameters after UN-freezing last n layers: 274,478\n"
     ]
    }
   ],
   "source": [
    "# Freeze all layers but the last n\n",
    "num_trainable_layers = model_utils.get_trainable_layers(selected_model,depth=depth) \n",
    "model = training_utils.fine_tune_last_n_layers(model, num_trainable_layers)\n",
    "optimizer = training_utils.get_optimizer(model, optimizer_name, lr=learning_rate)\n",
    "scheduler = training_utils.get_scheduler(optimizer, scheduler_name, T_max=num_epochs)"
   ]
  },
  {
   "cell_type": "code",
   "execution_count": 34,
   "id": "e0754a59",
   "metadata": {},
   "outputs": [
    {
     "name": "stdout",
     "output_type": "stream",
     "text": [
      "tensor([ 5.9424e-01, -1.2593e-01,  2.8136e-01, -7.3375e-01, -6.8624e-01,\n",
      "         3.5883e-01, -4.7188e-01,  3.9482e-02,  2.1203e-01,  3.6315e-01,\n",
      "         5.8049e-01,  7.5142e-01, -1.3977e+00, -1.0891e+00,  3.3787e-01,\n",
      "         3.3210e-01,  6.7004e-01, -1.1549e+00, -1.2098e+00, -6.6230e-01,\n",
      "        -5.0766e-01,  5.9605e-02,  1.1360e+00, -7.3845e-02,  1.1692e+00,\n",
      "         2.8420e-01,  1.4410e-01,  1.5071e+00,  9.5370e-01, -1.0332e-01,\n",
      "         3.8128e-01,  5.7853e-01,  1.1704e+00,  3.6451e-01,  1.0471e+00,\n",
      "         5.7476e-01,  9.7171e-01, -6.2705e-01,  9.5172e-01,  1.6908e-01,\n",
      "        -8.2673e-01,  2.0599e-01, -2.6940e-01,  1.3058e+00,  1.0860e+00,\n",
      "         6.9523e-01, -1.8471e+00, -1.7599e+00, -1.2569e-01,  8.8964e-02,\n",
      "         9.1124e-01, -7.8841e-01,  9.3201e-01,  2.4149e-01,  1.5965e+00,\n",
      "        -2.3184e-02,  9.5842e-01,  3.2058e-01, -5.9840e-01,  1.2297e+00,\n",
      "        -2.2436e-01,  9.9887e-01,  1.4438e+00,  9.6021e-02,  6.3800e-01,\n",
      "        -1.6521e+00,  3.2268e-01,  1.0563e+00, -3.2450e-02, -5.5889e-01,\n",
      "        -9.4523e-01,  1.7492e+00, -1.4599e+00,  2.7506e-01,  7.1732e-01,\n",
      "        -4.2457e-01,  7.6775e-01, -6.2757e-01,  1.3783e-01,  1.7085e-01,\n",
      "        -3.1162e-01,  1.2243e+00, -8.3068e-01,  7.1154e-01,  2.2017e-01,\n",
      "         1.2237e-01,  1.4226e-01,  1.1765e+00,  8.8247e-01,  1.1470e+00,\n",
      "        -6.3100e-01,  2.2234e-01, -8.0049e-01,  4.6678e-01,  1.0977e+00,\n",
      "         6.1180e-01, -1.1919e+00,  9.3787e-02, -1.8876e-01, -1.0038e+00,\n",
      "        -2.5281e-01,  1.5829e+00, -1.8250e-01, -9.5378e-01, -1.4495e+00,\n",
      "         1.2209e+00,  7.2766e-01, -3.4503e-02, -1.6977e-01,  5.6478e-01,\n",
      "        -7.1340e-01, -6.7684e-01,  3.0942e-01,  5.2087e-01,  2.8695e-02,\n",
      "        -6.4431e-01,  6.4855e-01, -1.3041e+00,  1.1251e+00, -1.4201e+00,\n",
      "         9.3518e-02, -1.0876e+00, -1.1252e-01,  3.4568e-01,  4.2333e-01,\n",
      "         3.6143e-01,  1.0698e+00, -6.8895e-01, -3.5223e-03,  4.5872e-01,\n",
      "        -8.7947e-01,  7.8879e-02,  3.4767e-01, -3.6039e-01, -7.7495e-01,\n",
      "         1.9790e-01,  5.2819e-01,  1.3125e+00, -1.3383e+00, -1.4416e+00,\n",
      "         6.8400e-01, -1.2795e-01, -9.6139e-02,  1.1612e+00, -7.5975e-01,\n",
      "        -3.2550e-01,  1.2565e+00,  8.0985e-01,  6.2449e-01,  2.6267e-01,\n",
      "         8.5910e-01, -1.0901e+00,  8.5853e-01,  1.8057e-01, -1.5854e-01,\n",
      "        -7.8938e-01, -3.3513e-01, -8.8418e-01, -1.5856e+00, -1.9214e-01,\n",
      "        -1.9340e+00,  4.8615e-01,  2.5268e-01, -2.9668e-01, -1.1769e+00,\n",
      "         2.5550e-01,  6.8645e-01,  6.9615e-01, -4.7742e-01,  6.3235e-01,\n",
      "        -9.8443e-01,  1.2619e+00,  1.6310e+00,  8.0688e-01, -4.9718e-01,\n",
      "         6.4025e-01,  1.7502e+00, -4.5139e-01,  1.8522e+00,  1.5040e+00,\n",
      "        -9.5828e-01, -7.0766e-03,  4.9976e-01,  5.3219e-01,  7.8418e-01,\n",
      "         7.2009e-01,  4.2303e-01, -2.8876e-01,  2.3657e-02, -2.8826e-01,\n",
      "        -2.0089e-01,  1.5107e+00, -1.1426e+00,  4.3648e-02,  1.1767e+00,\n",
      "         8.5148e-01,  6.5488e-01,  1.9648e-01, -5.4725e-01, -1.3136e-01,\n",
      "        -9.8883e-01, -5.8776e-01, -1.6535e+00,  1.4902e+00,  9.8228e-01,\n",
      "         6.9407e-01, -8.7243e-01, -4.5773e-02,  2.1101e+00,  1.3144e+00,\n",
      "         6.4489e-01,  1.0298e+00,  8.8952e-01,  3.1909e-01,  9.1844e-01,\n",
      "         1.0697e+00, -9.8733e-01,  2.6122e-01,  3.0484e-01,  1.5984e+00,\n",
      "         6.4798e-01,  7.0927e-01, -2.9312e-01,  3.0557e-01, -4.0280e-02,\n",
      "        -6.1596e-01,  2.7021e-01,  7.0375e-01, -4.5515e-02, -2.5494e-01,\n",
      "        -1.5020e-02,  2.0165e+00, -6.5744e-02, -1.0741e+00,  7.0169e-01,\n",
      "        -2.2886e+00, -5.2047e-01,  9.3288e-01,  7.3119e-01,  7.3598e-01,\n",
      "         4.9736e-01,  3.7474e-01,  2.0184e+00,  7.8379e-02,  1.3647e+00,\n",
      "        -1.0316e+00,  6.9207e-01, -7.2617e-01, -9.3627e-02, -1.4576e+00,\n",
      "         3.3791e-01,  2.6390e-02, -6.4221e-01,  9.4518e-01, -1.4248e+00,\n",
      "        -8.4957e-01,  8.5947e-01, -6.2460e-02,  4.0291e-01, -9.3048e-01,\n",
      "         2.3516e+00, -2.1922e-01, -3.2723e-02,  7.6074e-01, -6.3375e-01,\n",
      "         3.3274e-01,  6.2474e-01,  9.3169e-01, -6.3752e-01, -6.9182e-01,\n",
      "        -9.3693e-01,  2.1831e-01,  3.9727e-01, -1.3274e+00,  7.8462e-01,\n",
      "         1.8746e-01, -2.5535e-01, -7.7099e-01, -1.3491e+00,  2.0881e-01,\n",
      "         1.3587e-01, -6.0687e-01, -4.7127e-01, -6.8617e-01,  4.4741e-01,\n",
      "         4.9820e-01,  3.1241e-01, -1.2647e+00, -3.5785e-01, -1.0392e-01,\n",
      "         1.6374e+00, -1.0226e+00, -8.1022e-01,  1.3886e-02, -6.4578e-01,\n",
      "         3.4828e-02,  8.4774e-01, -2.0999e-01,  1.9462e+00,  1.1326e+00,\n",
      "         1.0084e+00,  1.9135e+00, -2.8912e-01,  7.7230e-01,  1.0973e+00,\n",
      "         5.0628e-01,  6.9479e-01,  7.6904e-01, -2.3865e-01, -2.8522e-01,\n",
      "         1.1381e+00, -3.8792e-01, -9.8194e-01,  2.1875e-01, -3.5831e-01,\n",
      "         8.5918e-01, -1.5993e-01,  6.9603e-01,  1.7816e-01, -1.4698e-01,\n",
      "        -4.0478e-01,  2.4010e-01, -4.2251e-01,  6.9712e-01, -6.0041e-01,\n",
      "         8.8710e-01,  5.7800e-01, -1.1704e+00, -2.5109e-01, -2.6541e-01,\n",
      "        -7.3771e-01,  2.2312e+00, -1.1068e-01,  4.4685e-01,  9.4317e-02,\n",
      "         2.0334e-01, -1.5816e+00,  4.1948e-01,  1.3931e+00, -9.3360e-01,\n",
      "        -9.5953e-01,  5.4328e-01, -1.8014e+00,  3.6072e-02, -6.9676e-01,\n",
      "        -6.7097e-01, -2.2109e-01, -8.8608e-01,  1.2332e+00,  4.1868e-01,\n",
      "         7.9397e-02, -1.1879e+00, -8.0440e-01,  1.4200e+00,  1.9191e+00,\n",
      "        -1.5681e+00, -5.2223e-01,  6.2405e-01,  1.3020e+00, -6.9167e-01,\n",
      "         1.4086e+00,  2.0115e-01, -3.8438e-01, -2.6025e-01,  3.2434e-01,\n",
      "        -1.2265e+00, -9.7378e-01, -1.3821e+00, -1.8953e-02,  8.5633e-01,\n",
      "        -1.0842e+00,  2.2874e-01, -3.2527e-01,  2.0691e+00,  3.6998e-01,\n",
      "        -1.9184e-02, -1.0367e+00,  7.5238e-02,  8.4940e-01, -2.6321e-01,\n",
      "         4.5609e-01, -6.8893e-01,  5.4445e-01, -1.1786e+00,  1.2204e+00,\n",
      "         1.2457e+00, -4.8241e+00, -2.4656e+00,  1.4628e+00, -4.3963e+00,\n",
      "        -2.0937e+00, -2.6330e+00, -3.0887e-01, -1.0766e+00, -2.0599e+00,\n",
      "        -8.7621e-01, -3.3020e+00, -1.7934e+00,  2.3740e-01,  2.0659e+00,\n",
      "        -1.0604e+00, -2.8072e+00, -3.0759e+00, -1.5906e+00, -4.7910e+00,\n",
      "        -1.2470e+00,  4.3381e+00,  3.9799e-01, -1.8224e+00,  2.8954e-01,\n",
      "        -8.6938e-01,  3.0377e+00,  4.6133e+00, -8.9262e-01, -6.3199e-01,\n",
      "        -1.6598e+00,  1.9046e+00, -7.5934e-01, -1.0507e+00, -1.4482e+00,\n",
      "         4.4593e+00,  3.7777e+00,  2.5408e+00,  3.0746e+00, -2.4695e+00,\n",
      "         1.5828e+00, -2.7327e-01,  3.9023e+00, -1.8255e-01,  1.6508e+00,\n",
      "        -2.7262e+00, -5.3697e+00,  3.9725e+00, -2.4772e+00, -1.5052e-01,\n",
      "        -3.1307e+00,  2.9888e+00,  2.0971e+00,  4.3444e+00, -1.0315e+00,\n",
      "         5.1255e+00,  1.6443e+00, -7.9881e+00,  9.3006e-01,  1.2716e+00,\n",
      "         1.0558e+00, -4.1564e-01, -1.7087e+00,  4.5209e+00, -1.8699e+00,\n",
      "         9.9560e-01,  2.2699e-01, -1.4119e+00,  3.0337e+00, -3.6646e+00,\n",
      "         5.3473e+00, -2.9133e+00, -1.3889e+00,  2.7994e+00, -8.6218e-01,\n",
      "         3.1119e+00, -4.2322e+00, -1.0471e+00,  1.7123e+00, -1.2825e+00,\n",
      "         4.7789e+00,  1.7890e+00,  1.9873e+00,  3.0118e+00, -1.4073e+00,\n",
      "        -1.1084e+00,  3.9036e+00,  4.0444e+00,  1.6294e+00, -1.3754e+00,\n",
      "         9.7283e-01, -4.4516e+00,  1.4450e+00,  1.0949e+00,  1.5230e+00,\n",
      "        -9.3271e-01, -1.2420e+00, -1.0370e+00, -2.2283e-01, -1.4953e+00,\n",
      "         1.0358e+00, -1.0765e+00, -1.2821e+00, -7.1224e+00,  2.3104e+00,\n",
      "         2.6534e+00, -1.0403e+00, -2.0693e+00, -2.2561e-01, -2.2368e+00,\n",
      "        -1.5145e+00, -5.1090e-01, -3.3278e-01,  4.7156e-01, -6.5373e+00,\n",
      "         1.0792e-01, -7.0360e+00, -4.6333e-01, -4.9023e+00,  2.2669e+00,\n",
      "        -2.1486e+00, -4.7679e+00,  7.9247e-01, -6.4832e-01,  4.2494e+00,\n",
      "         3.5324e+00,  5.3991e-02, -1.9488e+00,  4.5582e+00,  1.0870e-01,\n",
      "         4.1351e+00,  2.8142e+00, -5.4582e-01, -2.1108e-01,  3.5118e-01,\n",
      "         1.3399e-01,  1.8093e+00, -8.5517e+00,  1.3967e-01,  2.6114e+00,\n",
      "        -4.1798e-01, -1.9633e+00,  3.0872e+00, -4.6128e+00, -3.4810e+00,\n",
      "         1.4868e+00,  1.3942e+00,  1.5720e+00,  1.2745e+00,  1.3373e+00,\n",
      "        -1.9798e+00,  2.2438e+00,  3.7097e+00,  4.4037e+00, -2.6594e+00,\n",
      "        -4.5226e+00, -4.5021e+00, -4.5256e+00, -1.0610e+00, -6.2771e+00,\n",
      "         3.0768e+00,  6.1861e-01, -2.0951e+00, -5.6313e+00,  3.4146e+00,\n",
      "         3.2824e+00,  7.2007e+00, -3.6680e-02,  6.9069e-01, -3.5682e+00,\n",
      "         2.2544e+00, -4.2002e-02,  6.1721e-01, -1.6762e+00,  9.2018e-01,\n",
      "         4.3266e+00, -9.8597e-01,  6.1027e+00,  1.6094e+00, -2.1020e+00,\n",
      "        -7.6743e-01,  1.3554e+00,  8.6130e-01, -2.1065e+00,  2.3503e+00,\n",
      "        -1.2969e-01,  3.1581e-01, -3.8407e+00,  1.0277e+00, -7.6727e-01,\n",
      "         3.3801e+00, -3.6454e-01,  2.6850e+00,  1.9981e+00,  4.8634e+00,\n",
      "         1.6436e+00,  1.1732e+00, -2.5834e+00, -4.6194e+00, -3.8656e+00,\n",
      "        -2.6640e+00, -5.6051e+00,  5.4291e+00,  1.1746e+00,  5.4919e+00,\n",
      "         1.7122e-01, -9.8130e-01,  1.3589e+00,  4.0849e+00, -2.3292e-01,\n",
      "         1.0295e+00,  7.4838e-01,  3.0668e+00,  1.9943e+00, -2.5230e-01,\n",
      "        -8.1064e+00, -1.0165e+00,  1.3327e+00,  3.3542e+00,  1.7323e+00,\n",
      "        -3.1466e+00,  3.5604e+00, -3.5088e+00, -1.6947e+00, -2.2291e+00,\n",
      "         2.0515e+00, -1.6632e+00, -1.0933e-01, -2.7603e+00, -8.7731e-01,\n",
      "         5.8096e+00, -1.8962e+00,  6.1156e-01, -7.9216e-01, -7.8959e+00,\n",
      "        -2.5140e+00,  6.7517e-01,  1.9179e+00, -1.9115e+00, -6.7440e-01,\n",
      "         2.3825e-01,  4.5667e+00, -9.6662e-01,  3.8570e+00, -6.8698e+00,\n",
      "         6.6393e-01, -3.1396e-01, -2.9756e-02, -5.9827e+00,  3.7393e+00,\n",
      "        -1.4153e-01,  1.3563e+00,  7.2268e-01, -3.7517e+00, -5.9558e+00,\n",
      "         4.7638e+00, -5.4066e-01,  4.3369e+00, -4.4736e-01,  3.8776e+00,\n",
      "         2.8243e+00,  2.8625e-01,  3.9728e+00, -8.1602e-01, -1.2881e+00,\n",
      "         1.1068e+00,  2.7307e+00, -2.8323e+00, -3.2134e+00, -6.5823e-01,\n",
      "         3.0051e+00,  8.1128e-01, -6.1430e+00, -2.6353e-02, -1.9379e+00,\n",
      "         1.7222e-01, -4.8094e+00, -2.7750e+00, -7.8420e-01,  6.0097e-01,\n",
      "        -5.0161e-01, -2.2437e+00, -6.0102e+00,  2.7879e-01,  5.1301e+00,\n",
      "        -2.6149e-01,  2.0855e+00, -1.4702e+00, -5.3296e+00,  5.7915e+00,\n",
      "        -2.0805e+00, -2.1003e+00, -1.6143e+00, -1.0759e-02,  1.7900e+00,\n",
      "         1.8129e+00, -3.9373e+00,  3.8315e+00,  3.4210e+00,  1.8550e+00,\n",
      "         8.1583e+00, -9.5275e-01,  5.3462e+00, -3.2964e+00, -2.2452e+00,\n",
      "         4.6986e+00,  8.9788e-01, -1.9622e+00, -2.9653e+00,  1.7903e+00,\n",
      "        -4.0869e+00, -3.3702e-01, -3.0117e-01, -2.6003e+00,  3.7414e+00,\n",
      "         5.5633e-01, -7.7535e-01, -1.4023e-02,  1.0118e+00, -4.2871e+00,\n",
      "        -7.2579e-01, -2.0314e+00,  4.0420e+00,  1.7086e+00, -6.1338e-01,\n",
      "         1.8533e+00, -6.5879e+00, -1.7562e+00,  1.2528e+00,  2.0534e-01,\n",
      "         4.0410e+00,  2.0748e+00, -5.9646e-01,  1.1928e+00, -6.9280e-01,\n",
      "        -3.6289e+00,  5.2561e-01,  4.0969e-02, -2.3419e+00,  3.3977e+00,\n",
      "        -1.6810e+00, -5.2524e+00, -2.9794e-01, -3.4352e+00, -1.5239e+00,\n",
      "        -1.4270e+00, -1.4332e+00,  6.1295e+00,  5.5308e-01,  8.9328e-01,\n",
      "        -1.7107e+00,  6.4888e-01,  3.8338e+00,  4.7304e+00, -8.3511e+00,\n",
      "         2.9491e+00,  2.5273e+00,  3.6701e+00, -6.1371e-01,  3.5673e+00,\n",
      "         5.1890e+00, -1.2830e+00, -1.8531e+00,  3.7152e+00,  1.0049e+01,\n",
      "        -2.6313e+00, -3.8621e+00,  1.6871e-01,  2.1478e+00,  2.5842e+00,\n",
      "        -3.2070e+00, -1.1384e+00,  3.2600e+00, -1.8110e+00,  3.5888e-01,\n",
      "         2.3683e+00, -3.2796e+00,  4.0725e+00, -4.6023e+00, -2.8030e+00,\n",
      "        -2.2179e+00, -3.5514e+00, -3.3644e+00])\n",
      "768\n"
     ]
    }
   ],
   "source": [
    "# Get one batch from the dataloader\n",
    "batch = next(iter(train_dataloader))\n",
    "\n",
    "print(batch['features'][0])\n",
    "print(len(batch['features'][0]))"
   ]
  },
  {
   "cell_type": "code",
   "execution_count": 35,
   "id": "643abf85",
   "metadata": {},
   "outputs": [
    {
     "name": "stderr",
     "output_type": "stream",
     "text": [
      "Epoch 1/100: 100%|██████████| 317/317 [00:01<00:00, 166.33it/s]\n"
     ]
    },
    {
     "name": "stdout",
     "output_type": "stream",
     "text": [
      "Epoch 1, Train Loss: 0.6965, Train Acc: 0.5777\n",
      "Epoch 1, Val Loss: 0.6708, Val Acc: 0.5707\n",
      "Checkpoint saved: D:\\burtm\\Visual_studio_code\\PD_related_projects\\checkpoints\\best_checkpoint.pth\n"
     ]
    },
    {
     "name": "stderr",
     "output_type": "stream",
     "text": [
      "Epoch 2/100: 100%|██████████| 317/317 [00:01<00:00, 181.70it/s]\n"
     ]
    },
    {
     "name": "stdout",
     "output_type": "stream",
     "text": [
      "Epoch 2, Train Loss: 0.6593, Train Acc: 0.6028\n",
      "Epoch 2, Val Loss: 0.6690, Val Acc: 0.6000\n",
      "Checkpoint saved: D:\\burtm\\Visual_studio_code\\PD_related_projects\\checkpoints\\best_checkpoint.pth\n"
     ]
    },
    {
     "name": "stderr",
     "output_type": "stream",
     "text": [
      "Epoch 3/100: 100%|██████████| 317/317 [00:01<00:00, 194.30it/s]\n"
     ]
    },
    {
     "name": "stdout",
     "output_type": "stream",
     "text": [
      "Epoch 3, Train Loss: 0.6475, Train Acc: 0.6198\n",
      "Epoch 3, Val Loss: 0.6891, Val Acc: 0.5517\n",
      "Checkpoint saved: D:\\burtm\\Visual_studio_code\\PD_related_projects\\checkpoints\\last_checkpoint.pth\n"
     ]
    },
    {
     "name": "stderr",
     "output_type": "stream",
     "text": [
      "Epoch 4/100: 100%|██████████| 317/317 [00:01<00:00, 190.88it/s]\n"
     ]
    },
    {
     "name": "stdout",
     "output_type": "stream",
     "text": [
      "Epoch 4, Train Loss: 0.6382, Train Acc: 0.6322\n",
      "Epoch 4, Val Loss: 0.6584, Val Acc: 0.5845\n",
      "Checkpoint saved: D:\\burtm\\Visual_studio_code\\PD_related_projects\\checkpoints\\best_checkpoint.pth\n"
     ]
    },
    {
     "name": "stderr",
     "output_type": "stream",
     "text": [
      "Epoch 5/100: 100%|██████████| 317/317 [00:01<00:00, 181.39it/s]\n"
     ]
    },
    {
     "name": "stdout",
     "output_type": "stream",
     "text": [
      "Epoch 5, Train Loss: 0.6301, Train Acc: 0.6377\n",
      "Epoch 5, Val Loss: 0.7054, Val Acc: 0.5707\n",
      "Checkpoint saved: D:\\burtm\\Visual_studio_code\\PD_related_projects\\checkpoints\\last_checkpoint.pth\n"
     ]
    },
    {
     "name": "stderr",
     "output_type": "stream",
     "text": [
      "Epoch 6/100: 100%|██████████| 317/317 [00:01<00:00, 192.29it/s]\n"
     ]
    },
    {
     "name": "stdout",
     "output_type": "stream",
     "text": [
      "Epoch 6, Train Loss: 0.6255, Train Acc: 0.6433\n",
      "Epoch 6, Val Loss: 0.6541, Val Acc: 0.6121\n",
      "Checkpoint saved: D:\\burtm\\Visual_studio_code\\PD_related_projects\\checkpoints\\best_checkpoint.pth\n"
     ]
    },
    {
     "name": "stderr",
     "output_type": "stream",
     "text": [
      "Epoch 7/100: 100%|██████████| 317/317 [00:04<00:00, 67.00it/s] \n"
     ]
    },
    {
     "name": "stdout",
     "output_type": "stream",
     "text": [
      "Epoch 7, Train Loss: 0.6217, Train Acc: 0.6482\n",
      "Epoch 7, Val Loss: 0.6800, Val Acc: 0.6000\n",
      "Checkpoint saved: D:\\burtm\\Visual_studio_code\\PD_related_projects\\checkpoints\\last_checkpoint.pth\n"
     ]
    },
    {
     "name": "stderr",
     "output_type": "stream",
     "text": [
      "Epoch 8/100: 100%|██████████| 317/317 [00:07<00:00, 42.97it/s] \n"
     ]
    },
    {
     "name": "stdout",
     "output_type": "stream",
     "text": [
      "Epoch 8, Train Loss: 0.6196, Train Acc: 0.6524\n",
      "Epoch 8, Val Loss: 0.6545, Val Acc: 0.5983\n",
      "Checkpoint saved: D:\\burtm\\Visual_studio_code\\PD_related_projects\\checkpoints\\last_checkpoint.pth\n"
     ]
    },
    {
     "name": "stderr",
     "output_type": "stream",
     "text": [
      "Epoch 9/100: 100%|██████████| 317/317 [00:02<00:00, 126.40it/s]\n"
     ]
    },
    {
     "name": "stdout",
     "output_type": "stream",
     "text": [
      "Epoch 9, Train Loss: 0.6153, Train Acc: 0.6506\n",
      "Epoch 9, Val Loss: 0.6730, Val Acc: 0.6103\n",
      "Checkpoint saved: D:\\burtm\\Visual_studio_code\\PD_related_projects\\checkpoints\\last_checkpoint.pth\n"
     ]
    },
    {
     "name": "stderr",
     "output_type": "stream",
     "text": [
      "Epoch 10/100: 100%|██████████| 317/317 [00:01<00:00, 172.02it/s]\n"
     ]
    },
    {
     "name": "stdout",
     "output_type": "stream",
     "text": [
      "Epoch 10, Train Loss: 0.6078, Train Acc: 0.6603\n",
      "Epoch 10, Val Loss: 0.6804, Val Acc: 0.6155\n",
      "Checkpoint saved: D:\\burtm\\Visual_studio_code\\PD_related_projects\\checkpoints\\last_checkpoint.pth\n"
     ]
    },
    {
     "name": "stderr",
     "output_type": "stream",
     "text": [
      "Epoch 11/100: 100%|██████████| 317/317 [00:01<00:00, 187.27it/s]\n"
     ]
    },
    {
     "name": "stdout",
     "output_type": "stream",
     "text": [
      "Epoch 11, Train Loss: 0.6022, Train Acc: 0.6634\n",
      "Epoch 11, Val Loss: 0.6466, Val Acc: 0.6224\n",
      "Checkpoint saved: D:\\burtm\\Visual_studio_code\\PD_related_projects\\checkpoints\\best_checkpoint.pth\n"
     ]
    },
    {
     "name": "stderr",
     "output_type": "stream",
     "text": [
      "Epoch 12/100: 100%|██████████| 317/317 [00:01<00:00, 192.71it/s]\n"
     ]
    },
    {
     "name": "stdout",
     "output_type": "stream",
     "text": [
      "Epoch 12, Train Loss: 0.6034, Train Acc: 0.6644\n",
      "Epoch 12, Val Loss: 0.6398, Val Acc: 0.6155\n",
      "Checkpoint saved: D:\\burtm\\Visual_studio_code\\PD_related_projects\\checkpoints\\best_checkpoint.pth\n"
     ]
    },
    {
     "name": "stderr",
     "output_type": "stream",
     "text": [
      "Epoch 13/100: 100%|██████████| 317/317 [00:01<00:00, 182.58it/s]\n"
     ]
    },
    {
     "name": "stdout",
     "output_type": "stream",
     "text": [
      "Epoch 13, Train Loss: 0.5975, Train Acc: 0.6729\n",
      "Epoch 13, Val Loss: 0.6686, Val Acc: 0.5948\n",
      "Checkpoint saved: D:\\burtm\\Visual_studio_code\\PD_related_projects\\checkpoints\\last_checkpoint.pth\n"
     ]
    },
    {
     "name": "stderr",
     "output_type": "stream",
     "text": [
      "Epoch 14/100: 100%|██████████| 317/317 [00:01<00:00, 183.69it/s]\n"
     ]
    },
    {
     "name": "stdout",
     "output_type": "stream",
     "text": [
      "Epoch 14, Train Loss: 0.5904, Train Acc: 0.6791\n",
      "Epoch 14, Val Loss: 0.6553, Val Acc: 0.6121\n",
      "Checkpoint saved: D:\\burtm\\Visual_studio_code\\PD_related_projects\\checkpoints\\last_checkpoint.pth\n"
     ]
    },
    {
     "name": "stderr",
     "output_type": "stream",
     "text": [
      "Epoch 15/100: 100%|██████████| 317/317 [00:10<00:00, 29.51it/s] \n"
     ]
    },
    {
     "name": "stdout",
     "output_type": "stream",
     "text": [
      "Epoch 15, Train Loss: 0.5871, Train Acc: 0.6800\n",
      "Epoch 15, Val Loss: 0.7203, Val Acc: 0.5828\n",
      "Checkpoint saved: D:\\burtm\\Visual_studio_code\\PD_related_projects\\checkpoints\\last_checkpoint.pth\n"
     ]
    },
    {
     "name": "stderr",
     "output_type": "stream",
     "text": [
      "Epoch 16/100: 100%|██████████| 317/317 [00:01<00:00, 182.60it/s]\n"
     ]
    },
    {
     "name": "stdout",
     "output_type": "stream",
     "text": [
      "Epoch 16, Train Loss: 0.5852, Train Acc: 0.6763\n",
      "Epoch 16, Val Loss: 0.7012, Val Acc: 0.6207\n",
      "Checkpoint saved: D:\\burtm\\Visual_studio_code\\PD_related_projects\\checkpoints\\last_checkpoint.pth\n"
     ]
    },
    {
     "name": "stderr",
     "output_type": "stream",
     "text": [
      "Epoch 17/100: 100%|██████████| 317/317 [00:01<00:00, 184.21it/s]\n"
     ]
    },
    {
     "name": "stdout",
     "output_type": "stream",
     "text": [
      "Epoch 17, Train Loss: 0.5844, Train Acc: 0.6824\n",
      "Epoch 17, Val Loss: 0.7029, Val Acc: 0.6034\n",
      "Checkpoint saved: D:\\burtm\\Visual_studio_code\\PD_related_projects\\checkpoints\\last_checkpoint.pth\n"
     ]
    },
    {
     "name": "stderr",
     "output_type": "stream",
     "text": [
      "Epoch 18/100: 100%|██████████| 317/317 [00:01<00:00, 176.86it/s]\n"
     ]
    },
    {
     "name": "stdout",
     "output_type": "stream",
     "text": [
      "Epoch 18, Train Loss: 0.5804, Train Acc: 0.6763\n",
      "Epoch 18, Val Loss: 0.7029, Val Acc: 0.5759\n",
      "Checkpoint saved: D:\\burtm\\Visual_studio_code\\PD_related_projects\\checkpoints\\last_checkpoint.pth\n"
     ]
    },
    {
     "name": "stderr",
     "output_type": "stream",
     "text": [
      "Epoch 19/100: 100%|██████████| 317/317 [00:02<00:00, 107.83it/s]\n"
     ]
    },
    {
     "name": "stdout",
     "output_type": "stream",
     "text": [
      "Epoch 19, Train Loss: 0.5752, Train Acc: 0.6891\n",
      "Epoch 19, Val Loss: 0.6718, Val Acc: 0.6190\n",
      "Checkpoint saved: D:\\burtm\\Visual_studio_code\\PD_related_projects\\checkpoints\\last_checkpoint.pth\n"
     ]
    },
    {
     "name": "stderr",
     "output_type": "stream",
     "text": [
      "Epoch 20/100: 100%|██████████| 317/317 [00:02<00:00, 107.52it/s]\n"
     ]
    },
    {
     "name": "stdout",
     "output_type": "stream",
     "text": [
      "Epoch 20, Train Loss: 0.5711, Train Acc: 0.6949\n",
      "Epoch 20, Val Loss: 0.7640, Val Acc: 0.5793\n",
      "Checkpoint saved: D:\\burtm\\Visual_studio_code\\PD_related_projects\\checkpoints\\last_checkpoint.pth\n"
     ]
    },
    {
     "name": "stderr",
     "output_type": "stream",
     "text": [
      "Epoch 21/100: 100%|██████████| 317/317 [00:03<00:00, 96.38it/s] \n"
     ]
    },
    {
     "name": "stdout",
     "output_type": "stream",
     "text": [
      "Epoch 21, Train Loss: 0.5687, Train Acc: 0.6891\n",
      "Epoch 21, Val Loss: 0.7181, Val Acc: 0.6052\n",
      "Checkpoint saved: D:\\burtm\\Visual_studio_code\\PD_related_projects\\checkpoints\\last_checkpoint.pth\n"
     ]
    },
    {
     "name": "stderr",
     "output_type": "stream",
     "text": [
      "Epoch 22/100: 100%|██████████| 317/317 [00:01<00:00, 195.18it/s]\n"
     ]
    },
    {
     "name": "stdout",
     "output_type": "stream",
     "text": [
      "Epoch 22, Train Loss: 0.5674, Train Acc: 0.6937\n",
      "Epoch 22, Val Loss: 0.7098, Val Acc: 0.6069\n",
      "Checkpoint saved: D:\\burtm\\Visual_studio_code\\PD_related_projects\\checkpoints\\last_checkpoint.pth\n",
      "Early stopping triggered.\n"
     ]
    }
   ],
   "source": [
    "start_time=datetime.now()\n",
    "model,train_losses,val_losses = training_utils.train_model(model, train_dataloader, val_dataloader, criterion, optimizer, device, \n",
    "                                            num_epochs=num_epochs, \n",
    "                                            checkpoint_path=checkpoint_path,\n",
    "                                            early_stopping_patience=early_stopping, scheduler=scheduler, data_type='features')\n",
    "end_time=datetime.now()"
   ]
  },
  {
   "cell_type": "code",
   "execution_count": null,
   "id": "9c826f36",
   "metadata": {},
   "outputs": [],
   "source": [
    "#get the best_checkpoint.pth and add the training metadata to it\n",
    "checkpoint = torch.load(checkpoint_path+'best_checkpoint.pth')\n",
    "checkpoint['training_metadata'] = training_metadata\n",
    "val_accuracy= checkpoint['val_acc']\n",
    "# Save the updated checkpoint with metadata\n",
    "torch.save(checkpoint, checkpoint_path)\n",
    "\n",
    "#do the same for the last checkpoint\n",
    "checkpoint = torch.load(checkpoint_path+'last_checkpoint.pth')\n",
    "checkpoint['training_metadata'] = training_metadata\n",
    "# Save the updated checkpoint with metadata\n",
    "torch.save(checkpoint, checkpoint_path)\n",
    "\n",
    "timestamp = datetime.now().strftime(\"%Y%m%d_%H%M%S\")\n",
    "torch.save(checkpoint, f\"{models_path}\\{training_metadata['type_of_approach_sigla']}_ValAcc{val_accuracy}_{timestamp}.pth\")"
   ]
  },
  {
   "cell_type": "markdown",
   "id": "dce76e4d",
   "metadata": {},
   "source": [
    "# easy access"
   ]
  },
  {
   "cell_type": "code",
   "execution_count": 23,
   "id": "674645d0",
   "metadata": {},
   "outputs": [],
   "source": [
    "def reload_modules():\n",
    "    import importlib\n",
    "    import utils.data_loading as data_loading\n",
    "    import utils.visualization as visualization\n",
    "    import utils.dataframes as dataframes\n",
    "    import utils.utils_transforms as u_transforms\n",
    "    import utils.training_utils as training_utils\n",
    "    import utils.model_utils as model_utils\n",
    "    \n",
    "\n",
    "    importlib.reload(data_loading)\n",
    "    importlib.reload(visualization)\n",
    "    importlib.reload(dataframes)\n",
    "    importlib.reload(u_transforms)\n",
    "    importlib.reload(model_utils)\n",
    "    importlib.reload(training_utils)\n",
    "\n",
    "    return data_loading, visualization, dataframes, u_transforms, training_utils, model_utils\n",
    "data_loading, visualization, dataframes, u_transforms, training_utils, model_utils = reload_modules()"
   ]
  }
 ],
 "metadata": {
  "kernelspec": {
   "display_name": "GeneralPurposeML",
   "language": "python",
   "name": "python3"
  },
  "language_info": {
   "codemirror_mode": {
    "name": "ipython",
    "version": 3
   },
   "file_extension": ".py",
   "mimetype": "text/x-python",
   "name": "python",
   "nbconvert_exporter": "python",
   "pygments_lexer": "ipython3",
   "version": "3.10.16"
  }
 },
 "nbformat": 4,
 "nbformat_minor": 5
}
