{
 "cells": [
  {
   "cell_type": "code",
   "execution_count": 1,
   "id": "0d553eac",
   "metadata": {},
   "outputs": [],
   "source": [
    "import sys\n",
    "import os\n",
    "source_path = os.path.abspath(os.path.join(os.getcwd(), '..', '..'))\n",
    "sys.path.append(source_path)"
   ]
  },
  {
   "cell_type": "code",
   "execution_count": 3,
   "id": "b250729e",
   "metadata": {},
   "outputs": [],
   "source": [
    "output_dir = source_path + \"\\\\outputs\\\\preprocessed_data\\\\\"\n",
    "LOG_FILE = output_dir+\"file_metadata_log.json\"\n",
    "output_file = output_dir + \"icdar_train_df_20250514_175905.csv\""
   ]
  },
  {
   "cell_type": "code",
   "execution_count": 6,
   "id": "15150df5",
   "metadata": {},
   "outputs": [
    {
     "name": "stdout",
     "output_type": "stream",
     "text": [
      "Metadata for icdar_train_df_20250514_175905.csv:\n",
      "full_path: D:\\burtm\\Visual_studio_code\\PD_related_projects\\outputs\\preprocessed_data\\icdar_train_df_20250514_175905.csv\n",
      "size_bytes: 147733\n",
      "created: 2025-05-14T17:59:05.299873\n",
      "modified: 2025-05-14T17:59:05.604248\n",
      "accessed: 2025-05-14T17:59:05.604248\n",
      "seed: 42\n",
      "description: dataframe with the following columns: writer, language, same_text, isEng, train, filename, index; \n",
      "        Each row is one of the original dataset image files. I have simplified the code, previously it was unnecessarily complicated\n"
     ]
    }
   ],
   "source": [
    "file_IO.read_metadata(\n",
    "    output_file,\n",
    "    log_path=LOG_FILE\n",
    ")"
   ]
  },
  {
   "cell_type": "code",
   "execution_count": null,
   "id": "0bd3863c",
   "metadata": {},
   "outputs": [],
   "source": [
    "file_IO.get_model_instances([model_name=, custom_transform= .., ],source_file, sort=True)"
   ]
  },
  {
   "cell_type": "code",
   "execution_count": 5,
   "id": "e2843d25",
   "metadata": {},
   "outputs": [],
   "source": [
    "def reload_modules():\n",
    "    import importlib\n",
    "    import utils.file_IO as file_IO\n",
    "    \n",
    "    importlib.reload(file_IO)\n",
    "\n",
    "    return file_IO\n",
    "file_IO = reload_modules()"
   ]
  }
 ],
 "metadata": {
  "kernelspec": {
   "display_name": "GeneralPurposeML",
   "language": "python",
   "name": "python3"
  },
  "language_info": {
   "codemirror_mode": {
    "name": "ipython",
    "version": 3
   },
   "file_extension": ".py",
   "mimetype": "text/x-python",
   "name": "python",
   "nbconvert_exporter": "python",
   "pygments_lexer": "ipython3",
   "version": "3.10.16"
  }
 },
 "nbformat": 4,
 "nbformat_minor": 5
}
