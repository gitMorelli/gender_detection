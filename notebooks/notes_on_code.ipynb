{
 "cells": [
  {
   "cell_type": "markdown",
   "id": "8338319d",
   "metadata": {},
   "source": [
    "# train_df_icdar"
   ]
  },
  {
   "cell_type": "code",
   "execution_count": null,
   "id": "af0711da",
   "metadata": {
    "vscode": {
     "languageId": "plaintext"
    }
   },
   "outputs": [],
   "source": [
    "Setto un seed -> i risultati dovrebbero essere sempre gli stessi quando seleziono train e val ->\n",
    "ho verificato che se lancio due volte in momenti diversi ottengo la stessa lista di writers in validation"
   ]
  },
  {
   "cell_type": "markdown",
   "id": "9fb60689",
   "metadata": {},
   "source": [
    "X\n",
    "sto prendendo writer, isEng etc dal nome del file e sto associando con le labels\n",
    "prendo le labels da train_answers.csv\n",
    "\n",
    "Problema: potrebbe essere che train_answers e train abbiano gli stessi scrittori  (handcrafted features da train è associato correttamente alle labels) \n",
    "ma che train_answers e i filenames delle immagini non seguano lo stesso ordinamento degli scrittori?\n",
    "Come posso verificare che sto associando le immagini corrette?\n",
    "Posso addestrare un modello che usi cnn. Se efficace non ci dovrebbero essere errori\n",
    "posso fare un modello che matcha immagini e features\n",
    "controllo da dove sono scaricati i dati\n",
    "posso riestrarre le features e compararle con quelle già estratte\n",
    "\n",
    "problema: potrebeb essere che train answers e train abbiano scrittori ordinati diversamente? Improbabile perchè sono tutti e due dataset di kaggle e FE funziona bene (80% val accuracy)\n",
    "\n"
   ]
  },
  {
   "cell_type": "markdown",
   "id": "e32f5309",
   "metadata": {},
   "source": [
    "train_answers contiene 282 scrittori.\n",
    "Number of times 'male' is 0: 143\n",
    "Number of times 'male' is 1: 139"
   ]
  },
  {
   "cell_type": "markdown",
   "id": "84fab613",
   "metadata": {},
   "source": [
    "X\n",
    "Controllare che l'associazione con isEng sia corretta:\n",
    "0 -> arabo\n",
    "1 -> inglese\n",
    "Posso verificarlo visivamente su alcuni esempi"
   ]
  },
  {
   "cell_type": "code",
   "execution_count": null,
   "id": "8baa49a7",
   "metadata": {
    "vscode": {
     "languageId": "plaintext"
    }
   },
   "outputs": [],
   "source": [
    "I checked that there are no missing values:\n",
    "All writers have both same_text=1 and same_text=0.\n",
    "All writers have both isEng=1 and isEng=0.\n",
    "\n",
    "ho verificato di avere 4 esempi per ogni scrittore"
   ]
  },
  {
   "cell_type": "markdown",
   "id": "537309de",
   "metadata": {},
   "source": [
    "I need to check that 90% of writers is with train=1 -> the fractionof row with train=1 is exactly 90%\n",
    "I need to check that a writer is only in one group -> i counted the unique values for each group of rows that share a writer. I have always one unique value "
   ]
  },
  {
   "cell_type": "code",
   "execution_count": null,
   "id": "72549006",
   "metadata": {
    "vscode": {
     "languageId": "plaintext"
    }
   },
   "outputs": [],
   "source": [
    "I load the images from the following folders: ['1_50', '51_100', '101_150', '151_200', '201_250', '251_300']"
   ]
  },
  {
   "cell_type": "markdown",
   "id": "1c879519",
   "metadata": {},
   "source": [
    "Sto prendendo writer,isEng e same dal nome del file.\n",
    "\n",
    "Come verificare se sto prendendo il valore giusto? Posso guardare degli esempi: \n",
    "-per writer=1 i primi due sono arabi isEng=0 e i secondi due sono inglesi isEng=1. Per writer 1 e writer 2 v=4 ha lo stesso testo mentre v=3 ha testo diverso. Per l'arabo v=2 hanno testo uguale (mi sembra) mentre v=1 ha testo diverso\n",
    "-lo stesso vale per writer 253 e 254\n",
    "-> sono ragionevolmente sicuro che sia tutto a posto\n",
    "\n",
    "ho verificato che non ci siano missing values. Tutto a posto.\n",
    "ho verificato di avere 4 esempi per ogni scrittore\n"
   ]
  },
  {
   "cell_type": "code",
   "execution_count": null,
   "id": "31ae9fce",
   "metadata": {
    "vscode": {
     "languageId": "plaintext"
    }
   },
   "outputs": [],
   "source": [
    "Associating the train_file_df with the train_df dataframe.\n",
    "- Devo verificare che sto associando i percorsi giusti -> guardo il nome dei file e vedo se le colonne corrispondenti (writer, isEng etc ..) hanno il valore corretto. \n",
    "Ho controllato per 10 righe prese a caso e l'associazione è corretta\n"
   ]
  },
  {
   "cell_type": "markdown",
   "id": "7399d557",
   "metadata": {},
   "source": [
    "Associating with the sex_df (adding the sex column)\n",
    "- to confirm that the merging is working i randomly sample rows from sex_df and train_df and check that the writer and sex columns are shared -> confirmed\n",
    "- ripeti tutti i test sul nuovo dataset ->\n",
    "Number of times 'male' is 0: 572\n",
    "Number of times 'male' is 1: 556\n",
    "Number of times 'male' is something else: 0\n",
    "All writers have both same_text=1 and same_text=0.\n",
    "All writers have both isEng=1 and isEng=0.\n",
    "Number of rows where train == 1: 1012\n",
    "Fraction of rows where train == 1: 0.90\n",
    "The train column is constant for all writers.\n",
    "Each unique writer value occurs on exactly 4 rows."
   ]
  },
  {
   "cell_type": "markdown",
   "id": "0c7f0f76",
   "metadata": {},
   "source": [
    "Prima di lanciare il codice ho fatto push su github\n",
    "Salvo con seed e descrizione del dataset in un log file di tipo json "
   ]
  }
 ],
 "metadata": {
  "language_info": {
   "name": "python"
  }
 },
 "nbformat": 4,
 "nbformat_minor": 5
}
