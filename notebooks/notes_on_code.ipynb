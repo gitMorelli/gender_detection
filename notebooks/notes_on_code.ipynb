{
 "cells": [
  {
   "cell_type": "markdown",
   "id": "8338319d",
   "metadata": {},
   "source": [
    "# train_df_icdar"
   ]
  },
  {
   "cell_type": "code",
   "execution_count": null,
   "id": "b61e3e80",
   "metadata": {
    "vscode": {
     "languageId": "plaintext"
    }
   },
   "outputs": [],
   "source": [
    "OFFICIAL RELEASE: icdar_train_df_20250514_175905.csv"
   ]
  },
  {
   "cell_type": "markdown",
   "id": "2a5bdac5",
   "metadata": {},
   "source": [
    "Code explanation: prendo i filenames ed estraggo same_text, writer e isEng. Creo un dataframe da questi che contiene anche il percorso del file.\n",
    "Faccio il merge su writer con il dataframe da train_answers che ha writer e male come colonne."
   ]
  },
  {
   "cell_type": "code",
   "execution_count": null,
   "id": "af0711da",
   "metadata": {
    "vscode": {
     "languageId": "plaintext"
    }
   },
   "outputs": [],
   "source": [
    "Setto un seed -> i risultati dovrebbero essere sempre gli stessi quando seleziono train e val ->\n",
    "ho verificato che se lancio due volte in momenti diversi ottengo la stessa lista di writers in validation"
   ]
  },
  {
   "cell_type": "markdown",
   "id": "9fb60689",
   "metadata": {},
   "source": [
    "X\n",
    "sto prendendo writer, isEng etc dal nome del file e sto associando con le labels\n",
    "prendo le labels da train_answers.csv\n",
    "\n",
    "Problema: potrebbe essere che train_answers e train abbiano gli stessi scrittori  (handcrafted features da train è associato correttamente alle labels) \n",
    "ma che train_answers e i filenames delle immagini non seguano lo stesso ordinamento degli scrittori?\n",
    "Come posso verificare che sto associando le immagini corrette?\n",
    "Posso addestrare un modello che usi cnn. Se efficace non ci dovrebbero essere errori\n",
    "posso fare un modello che matcha immagini e features\n",
    "controllo da dove sono scaricati i dati\n",
    "posso riestrarre le features e compararle con quelle già estratte\n",
    "\n",
    "problema: potrebeb essere che train answers e train abbiano scrittori ordinati diversamente? Improbabile perchè sono tutti e due dataset di kaggle e FE funziona bene (80% val accuracy)\n",
    "\n"
   ]
  },
  {
   "cell_type": "markdown",
   "id": "e32f5309",
   "metadata": {},
   "source": [
    "train_answers \n",
    "\n",
    "contiene 282 scrittori.\n",
    "Number of times 'male' is 0: 143\n",
    "Number of times 'male' is 1: 139"
   ]
  },
  {
   "cell_type": "markdown",
   "id": "68ac1003",
   "metadata": {},
   "source": [
    "Dati estratti dai filenames"
   ]
  },
  {
   "cell_type": "markdown",
   "id": "84fab613",
   "metadata": {},
   "source": [
    "I load the images from the following folders: ['1_50', '51_100', '101_150', '151_200', '201_250', '251_300']"
   ]
  },
  {
   "cell_type": "markdown",
   "id": "ebaa9313",
   "metadata": {},
   "source": [
    "Costruzione del df da file:\n",
    "Ho controllato che l'associazione con isEng sia corretta: pg 1 e 2 per uno scrittore sono in arabo, pg 3 e 4 in inglese\n",
    "\n",
    "Come verificare se sto prendendo il valore giusto? Posso guardare degli esempi: \n",
    "-per writer=1 i primi due sono arabi isEng=0 e i secondi due sono inglesi isEng=1. Per writer 1 e writer 2 v=4 ha lo stesso testo mentre v=3 ha testo diverso. Per l'arabo v=2 hanno testo uguale (mi sembra) mentre v=1 ha testo diverso\n",
    "-lo stesso vale per writer 253 e 254\n",
    "-> sono ragionevolmente sicuro che sia tutto a posto\n",
    "\n",
    "- Devo verificare che sto associando i percorsi giusti (che effettivamente nel df che creo writer e same_page siano costruiti nel modo giusto dal filename)\n",
    "-> guardo il nome dei file e vedo se le colonne corrispondenti (writer, isEng etc ..) hanno il valore corretto. \n",
    "Ho controllato per 10 righe prese a caso e l'associazione è corretta"
   ]
  },
  {
   "cell_type": "markdown",
   "id": "537309de",
   "metadata": {},
   "source": [
    "Ho aggiunto la colonna train\n",
    "I need to check that 90% of writers is with train=1 -> the fractionof row with train=1 is exactly 90%\n",
    "I need to check that a writer is only in one group -> i counted the unique values for each group of rows that share a writer. I have always one unique value "
   ]
  },
  {
   "cell_type": "markdown",
   "id": "7399d557",
   "metadata": {},
   "source": [
    "Associating with the sex_df (adding the sex column)\n",
    "- to confirm that the merging is working i randomly sample rows from sex_df and train_df and check that the writer and sex columns are shared -> confirmed"
   ]
  },
  {
   "cell_type": "markdown",
   "id": "153512ec",
   "metadata": {},
   "source": [
    "Test di verifica sul dataset finale ->\n",
    "Number of times 'male' is 0: 572\n",
    "Number of times 'male' is 1: 556\n",
    "Number of times 'male' is something else: 0\n",
    "All writers have both same_text=1 and same_text=0.\n",
    "All writers have both isEng=1 and isEng=0.\n",
    "Number of rows where train == 1: 1012\n",
    "Fraction of rows where train == 1: 0.90\n",
    "The train column is constant for all writers.\n",
    "Each unique writer value occurs on exactly 4 rows.\n",
    "\n",
    "I checked that there are no missing values:\n",
    "All writers have both same_text=1 and same_text=0.\n",
    "All writers have both isEng=1 and isEng=0.\n",
    "\n",
    "ho verificato di avere 4 esempi per ogni scrittore"
   ]
  },
  {
   "cell_type": "markdown",
   "id": "0c7f0f76",
   "metadata": {},
   "source": [
    "Prima di lanciare il codice ho fatto push su github\n",
    "Salvo con seed e descrizione del dataset in un log file di tipo json "
   ]
  },
  {
   "cell_type": "markdown",
   "id": "9d210aa3",
   "metadata": {},
   "source": [
    "# train_df_icdar_FE"
   ]
  },
  {
   "cell_type": "markdown",
   "id": "077fd1b4",
   "metadata": {},
   "source": [
    "OFFICIAL RELEASE: icdar_train_df_KAGGLE_20250514_181737.csv"
   ]
  },
  {
   "cell_type": "markdown",
   "id": "47cb330a",
   "metadata": {},
   "source": [
    "Costruisce il df che posso usare per addestrare i modelli che usano le features di kaggle"
   ]
  },
  {
   "cell_type": "markdown",
   "id": "5c548097",
   "metadata": {},
   "source": [
    "Semplicemente fa il merging tra il train e il train_answer_df"
   ]
  },
  {
   "cell_type": "markdown",
   "id": "bba9d5a2",
   "metadata": {},
   "source": [
    "# feature_extraction"
   ]
  },
  {
   "cell_type": "markdown",
   "id": "807a9b72",
   "metadata": {},
   "source": [
    "RESULTS:\n",
    "the validation accuracy I obtain by simply applying gbm to the kaggle features is 75% (100% on training). \n",
    "the validation on isEng is 98% -> task is much easier\n"
   ]
  },
  {
   "cell_type": "code",
   "execution_count": null,
   "id": "87b5a544",
   "metadata": {
    "vscode": {
     "languageId": "plaintext"
    }
   },
   "outputs": [],
   "source": [
    "In this code I load the dataset generated by train_df_icdar_FE and apply without preprocessing some models like xgb etc .."
   ]
  },
  {
   "cell_type": "markdown",
   "id": "fdddddfa",
   "metadata": {},
   "source": [
    "I simply need to check that the dataset has non nans, missing values etc .. -> checked and is allright"
   ]
  },
  {
   "cell_type": "markdown",
   "id": "8b82ffba",
   "metadata": {},
   "source": [
    "# patches_cc"
   ]
  },
  {
   "cell_type": "code",
   "execution_count": null,
   "id": "7366ded7",
   "metadata": {
    "vscode": {
     "languageId": "plaintext"
    }
   },
   "outputs": [],
   "source": [
    "OFFICIAL RELEASE: icdar_train_df_patches_20250514_221029.csv"
   ]
  },
  {
   "cell_type": "markdown",
   "id": "f5ff5f26",
   "metadata": {},
   "source": [
    "Carico il file generato da train_df_icdar. Per ogni documento singolo genero delle patches. Genero un nuovo dataframe identico a quello di partenza ma con \n",
    "le colonne x,y,x2,y2 per identificare le patches, assegno un valore univoco alle patches per further reference"
   ]
  },
  {
   "cell_type": "markdown",
   "id": "a9467bbc",
   "metadata": {},
   "source": [
    "NOT OPTIMAL\n",
    "Devo verificare che le patches estratte abbiano senso -> tutte contengono testo ma alcune hanno il campo di vista mezzo vuoto"
   ]
  },
  {
   "cell_type": "markdown",
   "id": "b17a6567",
   "metadata": {},
   "source": [
    "Devo verificare che ho 5 patch per ogni coppia isEng, same_page fissato lo scrittore\n",
    "Dato che ogni coppia è associata a un indice unico controllo che per ogni indice ho 5 patches -> ok!"
   ]
  },
  {
   "cell_type": "markdown",
   "id": "f6daebd3",
   "metadata": {},
   "source": [
    "Devo verificare che le nuove patches create mantengano l'associazione con la label e gli altri parametri del df di input\n",
    "-> estraggo delle righe a caso dal df esteso e vado a confrontare con le righe del writer corrispondente nel df originale\n",
    "\n",
    "vedo che la riga i-esima che corrisponde ad una patch ha writer=n, male=m e train=t.\n",
    "Le righe in train_df per writer=n hanno lo stesso m e t -> ragionevolmente sicuro che l'assoicazione è stata \n",
    "fatta correttamente"
   ]
  },
  {
   "cell_type": "markdown",
   "id": "ca8dc7a8",
   "metadata": {},
   "source": [
    "Devo verificare di avere 5 patches per ogni immagine di partenza -> verifico che ogni writer appaia 5*4 volte, che abbia sempre lo stesso valore di male ->ok"
   ]
  }
 ],
 "metadata": {
  "language_info": {
   "name": "python"
  }
 },
 "nbformat": 4,
 "nbformat_minor": 5
}
